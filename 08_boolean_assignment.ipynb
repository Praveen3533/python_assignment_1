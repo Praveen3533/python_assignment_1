{
 "cells": [
  {
   "cell_type": "code",
   "execution_count": 4,
   "id": "f01d2209",
   "metadata": {},
   "outputs": [
    {
     "name": "stdout",
     "output_type": "stream",
     "text": [
      "25 is greater than 20 and less than 30\n"
     ]
    }
   ],
   "source": [
    "# Question 1: Check if 25 is greater than 20 and less than 30\n",
    "num = 20<25<30\n",
    "if num:\n",
    "    print(\"25 is greater than 20 and less than 30\")\n",
    "else:\n",
    "    print(\"25 is not graeter than 20 and less than 30\")\n",
    "\n"
   ]
  },
  {
   "cell_type": "code",
   "execution_count": 6,
   "id": "9e0a6014",
   "metadata": {},
   "outputs": [
    {
     "name": "stdout",
     "output_type": "stream",
     "text": [
      "The strings are not equal (case sensitive)\n"
     ]
    }
   ],
   "source": [
    "# Question 2: Check if string \"python\" is equal to \"Python\" (case sensitive)\n",
    "\n",
    "string1= \"python\"\n",
    "string2 = \"Python\"\n",
    "is_equal = string1 == string2\n",
    "if is_equal:\n",
    "    print(\"The strings are equal (case sensitive)\")\n",
    "else:\n",
    "    print(\"The strings are not equal (case sensitive)\")\n"
   ]
  },
  {
   "cell_type": "code",
   "execution_count": 7,
   "id": "c9da4fc8",
   "metadata": {},
   "outputs": [
    {
     "name": "stdout",
     "output_type": "stream",
     "text": [
      "15 is divisible by both 3 and 5\n"
     ]
    }
   ],
   "source": [
    "# Question 3: Check if 15 is divisible by both 3 and 5\n",
    "num1 = 15\n",
    "divisible = (num1 % 3 == 0) and (num1 % 5 == 0)\n",
    "if divisible:\n",
    "    print(\"15 is divisible by both 3 and 5\")\n",
    "else:\n",
    "    print(\"15 is not divisible by both 3 and 5\")\n",
    "\n",
    "\n"
   ]
  },
  {
   "cell_type": "code",
   "execution_count": 8,
   "id": "0a1e5c8e",
   "metadata": {},
   "outputs": [
    {
     "name": "stdout",
     "output_type": "stream",
     "text": [
      "7 is not equal to 8\n"
     ]
    }
   ],
   "source": [
    "# Question 4: Check if 7 is not equal to 8\n",
    "if 7 != 8:\n",
    "    print(\"7 is not equal to 8\")\n",
    "else:\n",
    "    print(\"7 is equal to 8\")"
   ]
  },
  {
   "cell_type": "code",
   "execution_count": 9,
   "id": "45d3dbd3",
   "metadata": {},
   "outputs": [
    {
     "name": "stdout",
     "output_type": "stream",
     "text": [
      "100 is greater than 50 or less than 25\n"
     ]
    }
   ],
   "source": [
    "# Question 5: Check if 100 is greater than 50 or less than 25\n",
    "num2 = 100\n",
    "if num2 > 50 or num2 < 25:\n",
    "    print(\"100 is greater than 50 or less than 25\") \n",
    "else:\n",
    "    print(\"100 is neither greater than 50 nor less than 25\")    "
   ]
  },
  {
   "cell_type": "code",
   "execution_count": 10,
   "id": "20636493",
   "metadata": {},
   "outputs": [
    {
     "name": "stdout",
     "output_type": "stream",
     "text": [
      "0 is falsy in Python\n"
     ]
    }
   ],
   "source": [
    "# Question 6: Check if 0 is falsy in Python\n",
    "if not 0:\n",
    "    print(\"0 is falsy in Python\")\n",
    "else:\n",
    "    print(\"0 is not falsy in Python\")"
   ]
  },
  {
   "cell_type": "code",
   "execution_count": 11,
   "id": "4a3a7eb8",
   "metadata": {},
   "outputs": [
    {
     "name": "stdout",
     "output_type": "stream",
     "text": [
      "\"\" is falsy in Python\n"
     ]
    }
   ],
   "source": [
    "\n",
    "# Question 7: Check if empty string \"\" is falsy in Python\n",
    "if not \"\":\n",
    "    print('\"\" is falsy in Python')  \n",
    "else:\n",
    "    print('\"\" is not falsy in Python')\n"
   ]
  },
  {
   "cell_type": "code",
   "execution_count": 12,
   "id": "7181c9c0",
   "metadata": {},
   "outputs": [
    {
     "name": "stdout",
     "output_type": "stream",
     "text": [
      "42 is truthy in Python\n"
     ]
    }
   ],
   "source": [
    "# Question 8: Check if 42 is truthy in Python\n",
    "if 42:\n",
    "    print(\"42 is truthy in Python\") \n",
    "else:\n",
    "    print(\"42 is not truthy in Python\")"
   ]
  },
  {
   "cell_type": "code",
   "execution_count": 13,
   "id": "7a2bd5ca",
   "metadata": {},
   "outputs": [
    {
     "name": "stdout",
     "output_type": "stream",
     "text": [
      "10 is between 5 and 15 (inclusive)\n"
     ]
    }
   ],
   "source": [
    "# Question 9: Check if 10 is between 5 and 15 (inclusive)\n",
    "for i in range(5, 16):\n",
    "    if i == 10:\n",
    "        print(\"10 is between 5 and 15 (inclusive)\")\n",
    "        break   \n",
    "else:\n",
    "    print(\"10 is not between 5 and 15 (inclusive)\")"
   ]
  },
  {
   "cell_type": "code",
   "execution_count": 14,
   "id": "b4211cbc",
   "metadata": {},
   "outputs": [
    {
     "name": "stdout",
     "output_type": "stream",
     "text": [
      "3.14 is greater than 3 and less than 4\n"
     ]
    }
   ],
   "source": [
    "# Question 10: Check if 3.14 is greater than 3 and less than 4\n",
    "num3 = 3.14\n",
    "if 3 < num3 < 4:\n",
    "    print(\"3.14 is greater than 3 and less than 4\")\n",
    "else:\n",
    "    print(\"3.14 is not greater than 3 and less than 4\")\n",
    "        "
   ]
  }
 ],
 "metadata": {
  "kernelspec": {
   "display_name": "Python 3",
   "language": "python",
   "name": "python3"
  },
  "language_info": {
   "codemirror_mode": {
    "name": "ipython",
    "version": 3
   },
   "file_extension": ".py",
   "mimetype": "text/x-python",
   "name": "python",
   "nbconvert_exporter": "python",
   "pygments_lexer": "ipython3",
   "version": "3.13.0"
  }
 },
 "nbformat": 4,
 "nbformat_minor": 5
}
