{
 "cells": [
  {
   "cell_type": "code",
   "execution_count": 2,
   "id": "192322cd",
   "metadata": {},
   "outputs": [
    {
     "name": "stdout",
     "output_type": "stream",
     "text": [
      "[[    1 25000   300  1200    10]\n",
      " [    2 32000   450  1500    15]\n",
      " [    3 28000   380  1100     8]\n",
      " [    4 41000   500  1600    20]\n",
      " [    5 35000   420  1400    12]\n",
      " [    6 27000   360  1300     9]\n",
      " [    7 39000   480  1700    18]\n",
      " [    8 30000   400  1250    14]\n",
      " [    9 45000   550  1800    25]\n",
      " [   10 33000   410  1450    11]]\n"
     ]
    }
   ],
   "source": [
    "import numpy as np\n",
    "\n",
    "# Manually created array: [Store ID, Sales, Customers, Inventory, Returns]\n",
    "retail_data = np.array([\n",
    "    [1, 25000, 300, 1200, 10],\n",
    "    [2, 32000, 450, 1500, 15],\n",
    "    [3, 28000, 380, 1100, 8],\n",
    "    [4, 41000, 500, 1600, 20],\n",
    "    [5, 35000, 420, 1400, 12],\n",
    "    [6, 27000, 360, 1300, 9],\n",
    "    [7, 39000, 480, 1700, 18],\n",
    "    [8, 30000, 400, 1250, 14],\n",
    "    [9, 45000, 550, 1800, 25],\n",
    "    [10, 33000, 410, 1450, 11]\n",
    "])\n",
    "print(retail_data)\n"
   ]
  },
  {
   "cell_type": "markdown",
   "id": "bd2fab8c",
   "metadata": {},
   "source": [
    "# Retail Data – Business Questions (for `retail_data`)\n",
    "\n",
    "**Assumed columns:** `[StoreID, Sales, Customers, Inventory, Returns]`\n",
    "\n",
    "## Basic Performance Analysis\n",
    "1. What is the **total revenue** generated across all stores?\n",
    "2. Which store recorded the **highest sales**?\n",
    "3. Which store recorded the **lowest sales**?\n",
    "4. What is the **average daily sales** per store?\n",
    "5. How many stores achieved sales **above ₹35,000**?\n",
    "\n",
    "## Customer Insights\n",
    "6. Which store had the **highest customer footfall**?\n",
    "7. What is the **average number of customers** per store?\n",
    "8. How many stores have **more than 450 customers**?\n",
    "9. Which store has the **lowest customer count**?\n",
    "10. Is there any store where **high sales do not correspond to high customers**?\n",
    "\n",
    "## Inventory & Returns Analysis\n",
    "11. What is the **total inventory** across all stores?\n",
    "12. Which store has the **highest inventory stock**?\n",
    "13. How many stores have **inventory less than 1300 units**?\n",
    "14. Which store has the **highest return rate** (returns ÷ inventory)?\n",
    "15. Which stores have **returns greater than 15 units**?\n",
    "\n",
    "## Sales & Customer Correlation\n",
    "16. Is there a **positive correlation** between sales and customers?\n",
    "17. Which store has **high customer visits but low sales**?\n",
    "18. Which store has **low customers but high sales**?\n",
    "19. How many stores have **sales per customer above ₹90**?\n",
    "20. Which stores could **benefit from customer acquisition campaigns** (low customers, high inventory)?\n",
    "\n",
    "## Profitability & Growth\n",
    "21. If profit margin is **20% of sales**, what is the **profit per store**?\n",
    "22. Which store has the **highest profit**?\n",
    "23. Which store has the **lowest profit**?\n",
    "24. If sales increase by **10% next month**, what are the **new sales figures**?\n",
    "25. How will **total profit** change with the 10% sales increase?\n",
    "\n",
    "## Operational Strategy\n",
    "26. Which stores need **inventory restocking** based on sales and current stock?\n",
    "27. Which stores show **high returns percentage** and might require **quality checks**?\n",
    "28. Which store is the **best performer overall** (sales, customers, inventory turnover)?\n",
    "29. Which store is the **worst performer overall**?\n",
    "30. Which stores can be considered for **expansion** based on strong sales and customer metrics?\n"
   ]
  },
  {
   "cell_type": "code",
   "execution_count": 3,
   "id": "65bf4fe0",
   "metadata": {},
   "outputs": [
    {
     "name": "stdout",
     "output_type": "stream",
     "text": [
      "[[    1 25000   300  1200    10]\n",
      " [    2 32000   450  1500    15]\n",
      " [    3 28000   380  1100     8]\n",
      " [    4 41000   500  1600    20]\n",
      " [    5 35000   420  1400    12]\n",
      " [    6 27000   360  1300     9]\n",
      " [    7 39000   480  1700    18]\n",
      " [    8 30000   400  1250    14]\n",
      " [    9 45000   550  1800    25]\n",
      " [   10 33000   410  1450    11]]\n"
     ]
    }
   ],
   "source": [
    "print(retail_data)\n"
   ]
  },
  {
   "cell_type": "code",
   "execution_count": 12,
   "id": "5ad0181c",
   "metadata": {},
   "outputs": [
    {
     "name": "stdout",
     "output_type": "stream",
     "text": [
      "4790500000\n"
     ]
    }
   ],
   "source": [
    "\n",
    "#1.What is the total revenue generated across all stores?\n",
    "\n",
    "total_revenue = retail_data[:,1].sum()* retail_data[:,3].sum()\n",
    "print(total_revenue)"
   ]
  },
  {
   "cell_type": "code",
   "execution_count": 119,
   "id": "8d32eafd",
   "metadata": {},
   "outputs": [
    {
     "data": {
      "text/plain": [
       "np.int64(9)"
      ]
     },
     "execution_count": 119,
     "metadata": {},
     "output_type": "execute_result"
    }
   ],
   "source": [
    "#2.Which store recorded the highest sales?\n",
    "\n",
    "retail_data[:,1].argmax()+1"
   ]
  },
  {
   "cell_type": "code",
   "execution_count": 120,
   "id": "a8f8353a",
   "metadata": {},
   "outputs": [
    {
     "data": {
      "text/plain": [
       "np.int64(1)"
      ]
     },
     "execution_count": 120,
     "metadata": {},
     "output_type": "execute_result"
    }
   ],
   "source": [
    "#3.Which store recorded the lowest sales?\n",
    "\n",
    "retail_data[:,1].argmin()+1\n"
   ]
  },
  {
   "cell_type": "code",
   "execution_count": 121,
   "id": "21837987",
   "metadata": {},
   "outputs": [
    {
     "data": {
      "text/plain": [
       "np.float64(33500.0)"
      ]
     },
     "execution_count": 121,
     "metadata": {},
     "output_type": "execute_result"
    }
   ],
   "source": [
    "#4.What is the average daily sales per store?\n",
    "\n",
    "retail_data[:,1].mean()"
   ]
  },
  {
   "cell_type": "code",
   "execution_count": 122,
   "id": "e145c73c",
   "metadata": {},
   "outputs": [
    {
     "name": "stdout",
     "output_type": "stream",
     "text": [
      "The total stores are: 3\n"
     ]
    }
   ],
   "source": [
    "#5.How many stores achieved sales above ₹35,000?\n",
    "\n",
    "count = np.sum(retail_data[:,1]>35000)\n",
    "print(\"The total stores are:\",count)\n"
   ]
  },
  {
   "cell_type": "code",
   "execution_count": 123,
   "id": "09dfbad5",
   "metadata": {},
   "outputs": [
    {
     "data": {
      "text/plain": [
       "np.int64(9)"
      ]
     },
     "execution_count": 123,
     "metadata": {},
     "output_type": "execute_result"
    }
   ],
   "source": [
    "# 6.Which store had the highest customer footfall?\n",
    "\n",
    "retail_data[:,2].argmax()+1"
   ]
  },
  {
   "cell_type": "code",
   "execution_count": 124,
   "id": "3e5bcdfa",
   "metadata": {},
   "outputs": [
    {
     "data": {
      "text/plain": [
       "np.float64(425.0)"
      ]
     },
     "execution_count": 124,
     "metadata": {},
     "output_type": "execute_result"
    }
   ],
   "source": [
    "#7.What is the average number of customers per store?\n",
    "\n",
    "retail_data[:,2].mean()"
   ]
  },
  {
   "cell_type": "code",
   "execution_count": 125,
   "id": "c1f83d12",
   "metadata": {},
   "outputs": [
    {
     "name": "stdout",
     "output_type": "stream",
     "text": [
      "The total stores are: 3\n"
     ]
    }
   ],
   "source": [
    "#8.How many stores have more than 450 customers ?\n",
    "\n",
    "count1 = np.sum(retail_data[:,2]>450)\n",
    "print(\"The total stores are:\",count1)"
   ]
  },
  {
   "cell_type": "code",
   "execution_count": 126,
   "id": "93254262",
   "metadata": {},
   "outputs": [
    {
     "data": {
      "text/plain": [
       "np.int64(1)"
      ]
     },
     "execution_count": 126,
     "metadata": {},
     "output_type": "execute_result"
    }
   ],
   "source": [
    "#9.Which store has the lowest customer count ?\n",
    "\n",
    "retail_data[:,2].argmin()+1"
   ]
  },
  {
   "cell_type": "code",
   "execution_count": 127,
   "id": "a94ccbd3",
   "metadata": {},
   "outputs": [
    {
     "name": "stdout",
     "output_type": "stream",
     "text": [
      "avg sales: 33500.0\n",
      "avg customers: 425.0\n",
      "stores: [    5 35000   420]\n"
     ]
    }
   ],
   "source": [
    "#10.Is there any store where high sales do not correspond to high customers \n",
    "\n",
    "avg_sales = np.mean(retail_data[:, 1])\n",
    "avg_customers = np.mean(retail_data[:,2])\n",
    "\n",
    "condition = (retail_data[:,1]>avg_sales) & (retail_data[:,2]<avg_customers)\n",
    "\n",
    "result = retail_data[condition, [0,1,2]]\n",
    "\n",
    "print(\"avg sales:\", avg_sales)\n",
    "print(\"avg customers:\", avg_customers)\n",
    "print(\"stores:\", result)\n"
   ]
  },
  {
   "cell_type": "code",
   "execution_count": 128,
   "id": "25630500",
   "metadata": {},
   "outputs": [
    {
     "data": {
      "text/plain": [
       "np.int64(14300)"
      ]
     },
     "execution_count": 128,
     "metadata": {},
     "output_type": "execute_result"
    }
   ],
   "source": [
    "\n",
    "# 11. What is the total inventory across all stores?\n",
    "\n",
    "retail_data[:,3].sum()"
   ]
  },
  {
   "cell_type": "code",
   "execution_count": 129,
   "id": "0b385916",
   "metadata": {},
   "outputs": [
    {
     "data": {
      "text/plain": [
       "np.int64(9)"
      ]
     },
     "execution_count": 129,
     "metadata": {},
     "output_type": "execute_result"
    }
   ],
   "source": [
    "# 12. Which store has the highest inventory stock ?\n",
    "\n",
    "retail_data[:,3].argmax()+1"
   ]
  },
  {
   "cell_type": "code",
   "execution_count": 130,
   "id": "8c695c7b",
   "metadata": {},
   "outputs": [
    {
     "name": "stdout",
     "output_type": "stream",
     "text": [
      "The total stores are: 3\n"
     ]
    }
   ],
   "source": [
    "# 13. How many stores have inventory less than 1300 units ?\n",
    "\n",
    "count2 = np.sum(retail_data[:,3]<1300)\n",
    "print(\"The total stores are:\",count2)\n"
   ]
  },
  {
   "cell_type": "code",
   "execution_count": 131,
   "id": "8d1878e8",
   "metadata": {},
   "outputs": [
    {
     "name": "stdout",
     "output_type": "stream",
     "text": [
      "[0.00833333 0.01       0.00727273 0.0125     0.00857143 0.00692308\n",
      " 0.01058824 0.0112     0.01388889 0.00758621]\n"
     ]
    },
    {
     "data": {
      "text/plain": [
       "np.int64(9)"
      ]
     },
     "execution_count": 131,
     "metadata": {},
     "output_type": "execute_result"
    }
   ],
   "source": [
    "\n",
    "# 14. Which store has the highest return rate (returns ÷ inventory)?\n",
    "\n",
    "return_rates = retail_data[:,4] / retail_data[:,3]\n",
    "print(return_rates)\n",
    "\n",
    "retail_data[:,4].argmax()+1\n"
   ]
  },
  {
   "cell_type": "code",
   "execution_count": 132,
   "id": "96a961f0",
   "metadata": {},
   "outputs": [
    {
     "name": "stdout",
     "output_type": "stream",
     "text": [
      "[4 7 9]\n"
     ]
    }
   ],
   "source": [
    "# 15. Which stores have returns greater than 15 units ?\n",
    "\n",
    "count3 = retail_data[retail_data[:,4]>15, 0]\n",
    "print(count3)"
   ]
  },
  {
   "cell_type": "code",
   "execution_count": 21,
   "id": "b8f6d428",
   "metadata": {},
   "outputs": [
    {
     "name": "stdout",
     "output_type": "stream",
     "text": [
      "0.9593636912502479\n"
     ]
    }
   ],
   "source": [
    "# 16. Is there a positive correlation between sales and customers?\n",
    "\n",
    "sales1 = retail_data[:, 1]\n",
    "customers1 = retail_data[:, 2]\n",
    "\n",
    "correlation = np.corrcoef(sales1,customers1)[0,1]\n",
    "print(correlation)"
   ]
  },
  {
   "cell_type": "code",
   "execution_count": 134,
   "id": "f5f82a01",
   "metadata": {},
   "outputs": [
    {
     "name": "stdout",
     "output_type": "stream",
     "text": [
      "The store is: [5]\n"
     ]
    }
   ],
   "source": [
    "# 17. Which store has high customer visits but low sales ?\n",
    "\n",
    "customers = retail_data[:,2].mean()\n",
    "sales = retail_data[:,1].mean()\n",
    "\n",
    "stores = retail_data[(retail_data[:,2]<customers) & (retail_data[:,1]>sales),0]\n",
    "print(\"The store is:\",stores)\n"
   ]
  },
  {
   "cell_type": "code",
   "execution_count": 135,
   "id": "dbbf2e7f",
   "metadata": {},
   "outputs": [
    {
     "name": "stdout",
     "output_type": "stream",
     "text": [
      "[2]\n"
     ]
    }
   ],
   "source": [
    "# 18. Which store has low customers but high sales ?\n",
    "customers = retail_data[:,2].mean()\n",
    "sales = retail_data[:,1].mean()\n",
    "\n",
    "store1 = retail_data[(retail_data[:,2]>customers) & (retail_data[:,1]<sales),0]\n",
    "print(store1)"
   ]
  },
  {
   "cell_type": "code",
   "execution_count": 136,
   "id": "7d3f3871",
   "metadata": {},
   "outputs": [
    {
     "name": "stdout",
     "output_type": "stream",
     "text": [
      "0\n"
     ]
    }
   ],
   "source": [
    "# 19. How many stores have sales per customer above ₹90 ?\n",
    "\n",
    "div = retail_data[:,1]/ retail_data[:,2]\n",
    "store2 = (div>90).sum()\n",
    "print(store2)"
   ]
  },
  {
   "cell_type": "code",
   "execution_count": 138,
   "id": "04334d96",
   "metadata": {},
   "outputs": [
    {
     "name": "stdout",
     "output_type": "stream",
     "text": [
      "Avg Customers: 425.0\n",
      "Avg Inventory: 1430.0\n",
      "Stores to target: [  10  410 1450]\n"
     ]
    }
   ],
   "source": [
    "# 20. Which stores could benefit from customer acquisition campaigns (low customers, high inventory)?\n",
    "\n",
    "avg_customers = np.mean(retail_data[:, 2])\n",
    "avg_inventory = np.mean(retail_data[:, 3])\n",
    "\n",
    "conditions= (retail_data[:, 2] < avg_customers) & (retail_data[:, 3] > avg_inventory)\n",
    "\n",
    "stores_campaign = retail_data[conditions, [0, 2, 3]]  \n",
    "\n",
    "print(\"Avg Customers:\", avg_customers)\n",
    "print(\"Avg Inventory:\", avg_inventory)\n",
    "print(\"Stores to target:\", stores_campaign)\n"
   ]
  },
  {
   "cell_type": "code",
   "execution_count": 139,
   "id": "6f0064b8",
   "metadata": {},
   "outputs": [
    {
     "name": "stdout",
     "output_type": "stream",
     "text": [
      "profit for sales:\n",
      " [[   1 5000]\n",
      " [   2 6400]\n",
      " [   3 5600]\n",
      " [   4 8200]\n",
      " [   5 7000]\n",
      " [   6 5400]\n",
      " [   7 7800]\n",
      " [   8 6000]\n",
      " [   9 9000]\n",
      " [  10 6600]]\n"
     ]
    }
   ],
   "source": [
    "# 21. If profit margin is 20% of sales , what is the **profit per store**?\n",
    "\n",
    "profit = 0.2 * retail_data[:,1]\n",
    "\n",
    "profit_for_store = np.column_stack((retail_data[:, 0], profit)).astype(int)\n",
    "\n",
    "print(\"profit for sales:\\n\", profit_for_store)\n",
    "\n"
   ]
  },
  {
   "cell_type": "code",
   "execution_count": 140,
   "id": "42e313f5",
   "metadata": {},
   "outputs": [
    {
     "name": "stdout",
     "output_type": "stream",
     "text": [
      "Store ID: 9\n"
     ]
    }
   ],
   "source": [
    "\n",
    "# 22. Which store has the highest profit? \n",
    "\n",
    "profit = 0.2 * retail_data[:,1]\n",
    "highest_profit = profit.argmax()+1\n",
    "\n",
    "print(\"Store ID:\",highest_profit)\n",
    "\n",
    "\n",
    "\n"
   ]
  },
  {
   "cell_type": "code",
   "execution_count": 141,
   "id": "305a6039",
   "metadata": {},
   "outputs": [
    {
     "name": "stdout",
     "output_type": "stream",
     "text": [
      "Store ID: 1\n"
     ]
    }
   ],
   "source": [
    "# 23. Which store has the lowest profit?\n",
    "\n",
    "profit = 0.2 * retail_data[:,1]\n",
    "lowest_profit = profit.argmin()+1\n",
    "\n",
    "print(\"Store ID:\",lowest_profit)"
   ]
  },
  {
   "cell_type": "code",
   "execution_count": 142,
   "id": "6eb638bc",
   "metadata": {},
   "outputs": [
    {
     "name": "stdout",
     "output_type": "stream",
     "text": [
      "[[    1 27500]\n",
      " [    2 35200]\n",
      " [    3 30800]\n",
      " [    4 45100]\n",
      " [    5 38500]\n",
      " [    6 29700]\n",
      " [    7 42900]\n",
      " [    8 33000]\n",
      " [    9 49500]\n",
      " [   10 36300]]\n"
     ]
    }
   ],
   "source": [
    "# 24. If sales increase by 10% next month, what are the **new sales figures**?\n",
    "\n",
    "\n",
    "sales = retail_data[:, 1]\n",
    "new_sales = sales * 1.1\n",
    "\n",
    "new_sales_per_store = np.column_stack((retail_data[:, 0].astype(int), new_sales.astype(int) ))\n",
    "\n",
    "print(new_sales_per_store)\n",
    "\n"
   ]
  },
  {
   "cell_type": "code",
   "execution_count": 143,
   "id": "20fabaaf",
   "metadata": {},
   "outputs": [
    {
     "name": "stdout",
     "output_type": "stream",
     "text": [
      "6700\n"
     ]
    }
   ],
   "source": [
    "# 25. How will total profit change with the 10% sales increase?\n",
    "\n",
    "profit_change = 0.2*0.1*retail_data[:,1].sum()\n",
    "print(int(profit_change))"
   ]
  },
  {
   "cell_type": "code",
   "execution_count": 145,
   "id": "bfda4a0b",
   "metadata": {},
   "outputs": [
    {
     "name": "stdout",
     "output_type": "stream",
     "text": [
      "Store needing restocking:\n",
      " [    5 35000  1400]\n"
     ]
    }
   ],
   "source": [
    "# 26. Which stores need inventory restocking based on sales and current stock?\n",
    "\n",
    "avg_sales = retail_data[:,1].mean()\n",
    "avg_inventory = retail_data[:,3].mean()\n",
    "\n",
    "condition1 = (retail_data[:,1]> avg_sales) & (retail_data[:,3] < avg_inventory)\n",
    "\n",
    "restocking = retail_data[condition,[0,1,3]]\n",
    "\n",
    "print(\"Store needing restocking:\\n\", restocking)\n",
    "\n",
    " "
   ]
  },
  {
   "cell_type": "code",
   "execution_count": 146,
   "id": "d75f6f76",
   "metadata": {},
   "outputs": [
    {
     "name": "stdout",
     "output_type": "stream",
     "text": [
      "Average Return %: 0.9686389718012436\n",
      "Stores needing quality checks:\n",
      " [[2.         1.        ]\n",
      " [4.         1.25      ]\n",
      " [7.         1.05882353]\n",
      " [8.         1.12      ]\n",
      " [9.         1.38888889]]\n"
     ]
    }
   ],
   "source": [
    "# 27. Which stores show high returns percentage and might require **quality checks**?\n",
    "\n",
    "returns = retail_data[:, 4]\n",
    "inventory = retail_data[:, 3]\n",
    "\n",
    "return_percent = (returns / inventory) * 100\n",
    "avg_return_percent = np.mean(return_percent)\n",
    "\n",
    "condition = return_percent > avg_return_percent\n",
    "quality_check_stores = np.column_stack((retail_data[condition, 0], return_percent[condition]))\n",
    "\n",
    "print(\"Average Return %:\", avg_return_percent)\n",
    "print(\"Stores needing quality checks:\\n\", quality_check_stores)\n"
   ]
  },
  {
   "cell_type": "code",
   "execution_count": null,
   "id": "ff90fa62",
   "metadata": {},
   "outputs": [
    {
     "name": "stdout",
     "output_type": "stream",
     "text": [
      "Best performer overall: Store ID 9\n",
      "Sales: 45000, Customers: 550, Inventory: 25\n"
     ]
    }
   ],
   "source": [
    "\n",
    "# 28. Which store is the best performer overall (sales, customers, inventory turnover)?\n",
    "\n",
    "inventory_turnover = retail_data[:, 1] / retail_data[:, 4]\n",
    "\n",
    "# Normalize metrics (min-max scaling)\n",
    "sales_norm = (retail_data[:, 1] - retail_data[:, 1].min()) / (retail_data[:, 1].max() - retail_data[:, 1].min())\n",
    "customers_norm = (retail_data[:, 2] - retail_data[:, 2].min()) / (retail_data[:, 2].max() - retail_data[:, 2].min())\n",
    "turnover_norm = (inventory_turnover - inventory_turnover.min()) / (inventory_turnover.max() - inventory_turnover.min())\n",
    "\n",
    "# Composite score (equal weights)\n",
    "overall_score = sales_norm + customers_norm + turnover_norm\n",
    "\n",
    "# Find best performer\n",
    "best_index = np.argmax(overall_score)\n",
    "best_store = retail_data[best_index]\n",
    "\n",
    "print(f\"Best performer overall: Store ID {int(best_store[0])}\")\n",
    "print(f\"Sales: {best_store[1]}, Customers: {best_store[2]}, Inventory: {best_store[4]}\")"
   ]
  },
  {
   "cell_type": "code",
   "execution_count": 24,
   "id": "fb0bfeb9",
   "metadata": {},
   "outputs": [
    {
     "name": "stdout",
     "output_type": "stream",
     "text": [
      "Worst performer overall: Store ID 1\n",
      "Sales: 25000, Customers: 300, Inventory: 10\n"
     ]
    }
   ],
   "source": [
    "\n",
    "# 29. Which store is the worst performer overall ?\n",
    "\n",
    "inventory_turnover = retail_data[:, 1] / retail_data[:, 4]\n",
    "\n",
    "# Normalize metrics (min-max scaling)\n",
    "sales_norm = (retail_data[:, 1] - retail_data[:, 1].min()) / (retail_data[:, 1].max() - retail_data[:, 1].min())\n",
    "customers_norm = (retail_data[:, 2] - retail_data[:, 2].min()) / (retail_data[:, 2].max() - retail_data[:, 2].min())\n",
    "turnover_norm = (inventory_turnover - inventory_turnover.min()) / (inventory_turnover.max() - inventory_turnover.min())\n",
    "\n",
    "# Composite score (equal weights)\n",
    "overall_score = sales_norm + customers_norm + turnover_norm\n",
    "\n",
    "# Find worst performer\n",
    "worst_index = np.argmin(overall_score)\n",
    "worst_store = retail_data[worst_index]\n",
    "\n",
    "print(f\"Worst performer overall: Store ID {int(worst_store[0])}\")\n",
    "print(f\"Sales: {worst_store[1]}, Customers: {worst_store[2]}, Inventory: {worst_store[4]}\")"
   ]
  },
  {
   "cell_type": "code",
   "execution_count": 27,
   "id": "866bde4c",
   "metadata": {},
   "outputs": [
    {
     "name": "stdout",
     "output_type": "stream",
     "text": [
      "[[    4 41000   500  1600    20]\n",
      " [    7 39000   480  1700    18]\n",
      " [    9 45000   550  1800    25]]\n"
     ]
    }
   ],
   "source": [
    "\n",
    "# 30. Which stores can be considered for expansion based on strong sales and customer metrics?\n",
    "\n",
    "avg_sales = retail_data[:,1].mean()\n",
    "avg_customers = retail_data[:,2].mean()\n",
    "condition2 = retail_data[(retail_data[:,1]>avg_sales) & (retail_data[:,2]>avg_customers)]\n",
    "print(condition2)"
   ]
  }
 ],
 "metadata": {
  "kernelspec": {
   "display_name": "Python 3",
   "language": "python",
   "name": "python3"
  },
  "language_info": {
   "codemirror_mode": {
    "name": "ipython",
    "version": 3
   },
   "file_extension": ".py",
   "mimetype": "text/x-python",
   "name": "python",
   "nbconvert_exporter": "python",
   "pygments_lexer": "ipython3",
   "version": "3.13.0"
  }
 },
 "nbformat": 4,
 "nbformat_minor": 5
}
