{
 "cells": [
  {
   "cell_type": "code",
   "execution_count": 73,
   "id": "fe26b90d",
   "metadata": {},
   "outputs": [
    {
     "name": "stdout",
     "output_type": "stream",
     "text": [
      "\n",
      "ORIGINAL BANKING DATA:\n",
      "[[  101  5000   720    45     3]\n",
      " [  102 12000   680    52     5]\n",
      " [  103  2500   610    12     1]\n",
      " [  104  7800   790    67     4]\n",
      " [  105  3000   550     8     2]\n",
      " [  106 16000   845    89     6]\n",
      " [  107  4000   700    35     2]\n",
      " [  108   980   600    22     1]\n",
      " [  109 22000   890   103     8]\n",
      " [  110   500   430     5     3]]\n",
      "\n",
      "Data shape: (10, 5)\n",
      "Data type: int64\n"
     ]
    }
   ],
   "source": [
    "import numpy as np\n",
    "import pandas as pd\n",
    "# Banking data: Customer_ID, Account_Balance, Credit_Score, Transaction_Count, Years_Active\n",
    "banking_data = np.array([\n",
    "    [101, 5000, 720, 45, 3],\n",
    "    [102, 12000, 680, 52, 5],\n",
    "    [103, 2500, 610, 12, 1],\n",
    "    [104, 7800, 790, 67, 4],\n",
    "    [105, 3000, 550, 8, 2],\n",
    "    [106, 16000, 845, 89, 6],\n",
    "    [107, 4000, 700, 35, 2],\n",
    "    [108, 980, 600, 22, 1],\n",
    "    [109, 22000, 890, 103, 8],\n",
    "    [110, 500, 430, 5, 3]\n",
    "])\n",
    "\n",
    "print(\"\\nORIGINAL BANKING DATA:\")\n",
    "print(banking_data)\n",
    "print(f\"\\nData shape: {banking_data.shape}\")\n",
    "print(f\"Data type: {banking_data.dtype}\")"
   ]
  },
  {
   "cell_type": "markdown",
   "id": "3bfa1877",
   "metadata": {},
   "source": [
    "\n",
    "### Question 1: Array Creation and Manipulation"
   ]
  },
  {
   "cell_type": "code",
   "execution_count": null,
   "id": "b90e3567",
   "metadata": {},
   "outputs": [
    {
     "name": "stdout",
     "output_type": "stream",
     "text": [
      "[[1. 0. 0. 0.]\n",
      " [0. 1. 0. 0.]\n",
      " [0. 0. 1. 0.]\n",
      " [0. 0. 0. 1.]]\n"
     ]
    }
   ],
   "source": [
    "# Q1.1:Create a 4x4 identity matrix using np.eye()\n",
    "\n",
    "matrix = np.eye(4)\n",
    "print(matrix)"
   ]
  },
  {
   "cell_type": "code",
   "execution_count": 3,
   "id": "33c1127d",
   "metadata": {},
   "outputs": [
    {
     "name": "stdout",
     "output_type": "stream",
     "text": [
      "[0. 0. 0. 0. 0. 0. 0. 0.]\n"
     ]
    }
   ],
   "source": [
    "# Q1.2:Create an array of 8 zeros using np.zeros()\n",
    "\n",
    "zeros = np.zeros(8)\n",
    "print(zeros)"
   ]
  },
  {
   "cell_type": "code",
   "execution_count": 5,
   "id": "d9178e46",
   "metadata": {},
   "outputs": [
    {
     "name": "stdout",
     "output_type": "stream",
     "text": [
      "[1. 1. 1. 1. 1. 1.]\n"
     ]
    }
   ],
   "source": [
    "# Q1.3:Create an array of 6 ones using np.ones()\n",
    "\n",
    "ones = np.ones(6)\n",
    "print(ones)"
   ]
  },
  {
   "cell_type": "code",
   "execution_count": 6,
   "id": "8862bec3",
   "metadata": {},
   "outputs": [
    {
     "name": "stdout",
     "output_type": "stream",
     "text": [
      "[ 0  1  2  3  4  5  6  7  8  9 10 11 12 13 14 15]\n"
     ]
    }
   ],
   "source": [
    "\n",
    "# Q1.4: Create an array with values from 0 to 15 using np.arange()\n",
    "\n",
    "range = np.arange(0,16)\n",
    "print(range)\n"
   ]
  },
  {
   "cell_type": "code",
   "execution_count": 7,
   "id": "1e7a715c",
   "metadata": {},
   "outputs": [
    {
     "name": "stdout",
     "output_type": "stream",
     "text": [
      "[  0.          14.28571429  28.57142857  42.85714286  57.14285714\n",
      "  71.42857143  85.71428571 100.        ]\n"
     ]
    }
   ],
   "source": [
    "# Q1.5: Create an array with 8 evenly spaced values from 0 to 100 using np.linspace()\n",
    "\n",
    "evenly_space = np.linspace(0,100,8)\n",
    "print(evenly_space)"
   ]
  },
  {
   "cell_type": "markdown",
   "id": "bca50eed",
   "metadata": {},
   "source": [
    "### Question 2: Array Attributes and Information"
   ]
  },
  {
   "cell_type": "code",
   "execution_count": 10,
   "id": "24b7a81e",
   "metadata": {},
   "outputs": [
    {
     "name": "stdout",
     "output_type": "stream",
     "text": [
      "shape:(10, 5)\n"
     ]
    }
   ],
   "source": [
    "# Q2.1: What is the shape of the banking_data array?\n",
    "\n",
    "print(f\"shape:{banking_data.shape}\")"
   ]
  },
  {
   "cell_type": "code",
   "execution_count": 11,
   "id": "f6535b7e",
   "metadata": {},
   "outputs": [
    {
     "name": "stdout",
     "output_type": "stream",
     "text": [
      "Data type: int64\n"
     ]
    }
   ],
   "source": [
    "\n",
    "# Q2.2: What is the data type of the banking_data array?\n",
    "\n",
    "print(f\"Data type: {banking_data.dtype}\")"
   ]
  },
  {
   "cell_type": "code",
   "execution_count": 12,
   "id": "91d6c208",
   "metadata": {},
   "outputs": [
    {
     "name": "stdout",
     "output_type": "stream",
     "text": [
      "Size: 50\n"
     ]
    }
   ],
   "source": [
    "\n",
    "# Q2.3: What is the size (total number of elements) of the banking_data array?\n",
    "\n",
    "print(f\"Size: {banking_data.size}\")"
   ]
  },
  {
   "cell_type": "code",
   "execution_count": 13,
   "id": "827ecb8f",
   "metadata": {},
   "outputs": [
    {
     "name": "stdout",
     "output_type": "stream",
     "text": [
      "dimension:2\n"
     ]
    }
   ],
   "source": [
    "\n",
    "# Q2.4: What is the number of dimensions of the banking_data array?\n",
    "\n",
    "print(f\"dimension:{banking_data.ndim}\")"
   ]
  },
  {
   "cell_type": "code",
   "execution_count": 14,
   "id": "44ccd59b",
   "metadata": {},
   "outputs": [
    {
     "name": "stdout",
     "output_type": "stream",
     "text": [
      "size:400\n"
     ]
    }
   ],
   "source": [
    "# Q2.5: What is the memory size of the banking_data array in bytes?\n",
    "\n",
    "print(f\"size:{banking_data.nbytes}\")"
   ]
  },
  {
   "cell_type": "code",
   "execution_count": 3,
   "id": "28ed0f11",
   "metadata": {},
   "outputs": [
    {
     "name": "stdout",
     "output_type": "stream",
     "text": [
      "[ 101 5000  720   45    3]\n"
     ]
    }
   ],
   "source": [
    "# Q3.1: Extract the first row of banking_data\n",
    "print(banking_data[0])"
   ]
  },
  {
   "cell_type": "code",
   "execution_count": 4,
   "id": "31815848",
   "metadata": {},
   "outputs": [
    {
     "name": "stdout",
     "output_type": "stream",
     "text": [
      "[110 500 430   5   3]\n"
     ]
    }
   ],
   "source": [
    "# Q3.2: Extract the last row of banking_data\n",
    "print(banking_data[-1])\n",
    "     "
   ]
  },
  {
   "cell_type": "code",
   "execution_count": 5,
   "id": "040ea74d",
   "metadata": {},
   "outputs": [
    {
     "name": "stdout",
     "output_type": "stream",
     "text": [
      "[ 5000 12000  2500  7800  3000 16000  4000   980 22000   500]\n"
     ]
    }
   ],
   "source": [
    "# Q3.3: Extract the Account_Balance column (column index 1)\n",
    "print(banking_data[:,1])"
   ]
  },
  {
   "cell_type": "code",
   "execution_count": 6,
   "id": "df4a195d",
   "metadata": {},
   "outputs": [
    {
     "name": "stdout",
     "output_type": "stream",
     "text": [
      "[[  101  5000   720]\n",
      " [  102 12000   680]\n",
      " [  103  2500   610]\n",
      " [  104  7800   790]]\n"
     ]
    }
   ],
   "source": [
    "# Q3.4: Extract the first 4 rows and first 3 columns\n",
    "print(banking_data[:4,:3])"
   ]
  },
  {
   "cell_type": "code",
   "execution_count": 7,
   "id": "74593af9",
   "metadata": {},
   "outputs": [
    {
     "name": "stdout",
     "output_type": "stream",
     "text": [
      "[[  104  7800   790    67     4]\n",
      " [  105  3000   550     8     2]\n",
      " [  106 16000   845    89     6]\n",
      " [  107  4000   700    35     2]\n",
      " [  108   980   600    22     1]]\n"
     ]
    }
   ],
   "source": [
    "# Q3.5: Extract rows 3 to 7 (inclusive)\n",
    "print(banking_data[3:8,:])"
   ]
  },
  {
   "cell_type": "code",
   "execution_count": 10,
   "id": "be0afcbe",
   "metadata": {},
   "outputs": [
    {
     "name": "stdout",
     "output_type": "stream",
     "text": [
      "73780\n"
     ]
    }
   ],
   "source": [
    "# Q4.1: Calculate the sum of all account balances\n",
    "sum_account = np.sum(banking_data[:,1])\n",
    "print(sum_account)"
   ]
  },
  {
   "cell_type": "code",
   "execution_count": 11,
   "id": "133bae86",
   "metadata": {},
   "outputs": [
    {
     "name": "stdout",
     "output_type": "stream",
     "text": [
      "7378.0\n"
     ]
    }
   ],
   "source": [
    "# Q4.2: Calculate the mean account balance\n",
    "mean_account = np.mean(banking_data[:,1])\n",
    "print(mean_account)"
   ]
  },
  {
   "cell_type": "code",
   "execution_count": 12,
   "id": "ba607e05",
   "metadata": {},
   "outputs": [
    {
     "name": "stdout",
     "output_type": "stream",
     "text": [
      "6767.211833539719\n"
     ]
    }
   ],
   "source": [
    "# Q4.3: Calculate the standard deviation of account balances\n",
    "std_account = np.std(banking_data[:,1])\n",
    "print(std_account)"
   ]
  },
  {
   "cell_type": "code",
   "execution_count": 13,
   "id": "631a8058",
   "metadata": {},
   "outputs": [
    {
     "name": "stdout",
     "output_type": "stream",
     "text": [
      "45795156.0\n"
     ]
    }
   ],
   "source": [
    "# Q4.4: Calculate the variance of account balances\n",
    "var_account = np.var(banking_data[:,1])\n",
    "print(var_account)"
   ]
  },
  {
   "cell_type": "code",
   "execution_count": 14,
   "id": "07884b84",
   "metadata": {},
   "outputs": [
    {
     "name": "stdout",
     "output_type": "stream",
     "text": [
      "4500.0\n"
     ]
    }
   ],
   "source": [
    "# Q4.5: Calculate the median account balance\n",
    "median_account = np.median(banking_data[:,1])\n",
    "print(median_account)"
   ]
  },
  {
   "cell_type": "code",
   "execution_count": 15,
   "id": "2cd4bc20",
   "metadata": {},
   "outputs": [
    {
     "name": "stdout",
     "output_type": "stream",
     "text": [
      "min_account:500,max_account:22000\n"
     ]
    }
   ],
   "source": [
    "# Q5.1: Find the minimum and maximum account balances\n",
    "min_account = np.min(banking_data[:,1])\n",
    "max_account = np.max(banking_data[:,1])\n",
    "print(f\"min_account:{min_account},max_account:{max_account}\")"
   ]
  },
  {
   "cell_type": "code",
   "execution_count": 16,
   "id": "afdfaca4",
   "metadata": {},
   "outputs": [
    {
     "name": "stdout",
     "output_type": "stream",
     "text": [
      "min_Credit:430,max_Credit:890\n"
     ]
    }
   ],
   "source": [
    "# Q5.2: Find the minimum and maximum credit scores\n",
    "min_Credit = np.min(banking_data[:,2])\n",
    "max_Credit = np.max(banking_data[:,2])\n",
    "print(f\"min_Credit:{min_Credit},max_Credit:{max_Credit}\")"
   ]
  },
  {
   "cell_type": "code",
   "execution_count": 17,
   "id": "b7e7c53b",
   "metadata": {},
   "outputs": [
    {
     "name": "stdout",
     "output_type": "stream",
     "text": [
      "2625.0 4500.0 10950.0\n"
     ]
    }
   ],
   "source": [
    "# Q5.3: Calculate the percentile values for account balances (25th, 50th, 75th)\n",
    "per_values = np.percentile(banking_data[:,1],[25,50,75])\n",
    "print(per_values[0],per_values[1],per_values[2])"
   ]
  },
  {
   "cell_type": "code",
   "execution_count": 18,
   "id": "af812bc9",
   "metadata": {},
   "outputs": [
    {
     "name": "stdout",
     "output_type": "stream",
     "text": [
      "0.8372661040710151\n"
     ]
    }
   ],
   "source": [
    "# Q5.4: Calculate the correlation between account balance and credit score\n",
    "cor_relation = np.corrcoef(banking_data[:,1],banking_data[:,2])[0,1]\n",
    "print(cor_relation)\n",
    "     "
   ]
  },
  {
   "cell_type": "code",
   "execution_count": 19,
   "id": "51bab922",
   "metadata": {},
   "outputs": [
    {
     "name": "stdout",
     "output_type": "stream",
     "text": [
      "835436.6666666666\n"
     ]
    }
   ],
   "source": [
    "# Q5.5: Calculate the covariance between account balance and credit score\n",
    "covar = np.cov(banking_data[:,1],banking_data[:,2])[0,1]\n",
    "print(covar)"
   ]
  },
  {
   "cell_type": "code",
   "execution_count": 20,
   "id": "34ac02b4",
   "metadata": {},
   "outputs": [
    {
     "name": "stdout",
     "output_type": "stream",
     "text": [
      "[[  101  5000   720    45     3   102 12000   680    52     5]\n",
      " [  103  2500   610    12     1   104  7800   790    67     4]\n",
      " [  105  3000   550     8     2   106 16000   845    89     6]\n",
      " [  107  4000   700    35     2   108   980   600    22     1]\n",
      " [  109 22000   890   103     8   110   500   430     5     3]]\n"
     ]
    }
   ],
   "source": [
    "# Q6.1: Reshape the banking_data to 5 rows × 10 columns\n",
    "reshaping_bdata = np.reshape(banking_data,(5,10))\n",
    "print(reshaping_bdata)"
   ]
  },
  {
   "cell_type": "code",
   "execution_count": 21,
   "id": "8c6b295f",
   "metadata": {},
   "outputs": [
    {
     "name": "stdout",
     "output_type": "stream",
     "text": [
      "[  101  5000   720    45     3   102 12000   680    52     5   103  2500\n",
      "   610    12     1   104  7800   790    67     4   105  3000   550     8\n",
      "     2   106 16000   845    89     6   107  4000   700    35     2   108\n",
      "   980   600    22     1   109 22000   890   103     8   110   500   430\n",
      "     5     3]\n"
     ]
    }
   ],
   "source": [
    "# Q6.2: Flatten the banking_data to a 1D array\n",
    "flattening_bdata = banking_data.flatten()\n",
    "print(flattening_bdata)"
   ]
  },
  {
   "cell_type": "code",
   "execution_count": 22,
   "id": "b1e67d37",
   "metadata": {},
   "outputs": [
    {
     "name": "stdout",
     "output_type": "stream",
     "text": [
      "[[  101   102   103   104   105   106   107   108   109   110]\n",
      " [ 5000 12000  2500  7800  3000 16000  4000   980 22000   500]\n",
      " [  720   680   610   790   550   845   700   600   890   430]\n",
      " [   45    52    12    67     8    89    35    22   103     5]\n",
      " [    3     5     1     4     2     6     2     1     8     3]]\n"
     ]
    }
   ],
   "source": [
    "# Q6.3: Transpose the banking_data\n",
    "trans = banking_data.T\n",
    "print(trans)"
   ]
  },
  {
   "cell_type": "code",
   "execution_count": 23,
   "id": "8f724299",
   "metadata": {},
   "outputs": [
    {
     "name": "stdout",
     "output_type": "stream",
     "text": [
      "[[  101  5000   720    45     3]\n",
      " [  102 12000   680    52     5]\n",
      " [  103  2500   610    12     1]\n",
      " [  104  7800   790    67     4]\n",
      " [  105  3000   550     8     2]]\n",
      "[[  106 16000   845    89     6]\n",
      " [  107  4000   700    35     2]\n",
      " [  108   980   600    22     1]\n",
      " [  109 22000   890   103     8]\n",
      " [  110   500   430     5     3]]\n"
     ]
    }
   ],
   "source": [
    "# Q6.4: Split the banking_data into 2 equal parts vertically\n",
    "split_bd = np.vsplit(banking_data,2)\n",
    "print(split_bd[0])\n",
    "print(split_bd[1])"
   ]
  },
  {
   "cell_type": "code",
   "execution_count": 38,
   "id": "575db616",
   "metadata": {},
   "outputs": [
    {
     "name": "stdout",
     "output_type": "stream",
     "text": [
      "[[  101  5000   720]\n",
      " [  102 12000   680]\n",
      " [  103  2500   610]\n",
      " [  104  7800   790]\n",
      " [  105  3000   550]\n",
      " [  106 16000   845]\n",
      " [  107  4000   700]\n",
      " [  108   980   600]\n",
      " [  109 22000   890]\n",
      " [  110   500   430]]\n",
      "[[ 45   3]\n",
      " [ 52   5]\n",
      " [ 12   1]\n",
      " [ 67   4]\n",
      " [  8   2]\n",
      " [ 89   6]\n",
      " [ 35   2]\n",
      " [ 22   1]\n",
      " [103   8]\n",
      " [  5   3]]\n"
     ]
    }
   ],
   "source": [
    "# Q6.5: Split the banking_data into 2 equal parts horizontally\n",
    "\n",
    "split_hs = np.array_split(banking_data, 2, axis=1)\n",
    "print(split_hs[0])\n",
    "print(split_hs[1])"
   ]
  },
  {
   "cell_type": "code",
   "execution_count": 39,
   "id": "dca8d5fc",
   "metadata": {},
   "outputs": [
    {
     "name": "stdout",
     "output_type": "stream",
     "text": [
      "[]\n"
     ]
    }
   ],
   "source": [
    "# Q7.1: Find customers with account balance greater than $100,000\n",
    "data = banking_data[banking_data[:,1]> 100000]\n",
    "print(data)"
   ]
  },
  {
   "cell_type": "code",
   "execution_count": 40,
   "id": "ee98847f",
   "metadata": {},
   "outputs": [
    {
     "name": "stdout",
     "output_type": "stream",
     "text": [
      "[[  106 16000   845    89     6]\n",
      " [  109 22000   890   103     8]]\n"
     ]
    }
   ],
   "source": [
    "# Q7.2: Find customers with credit score greater than 800\n",
    "data = banking_data[banking_data[:,2]> 800]\n",
    "print(data)"
   ]
  },
  {
   "cell_type": "code",
   "execution_count": 41,
   "id": "777f1a18",
   "metadata": {},
   "outputs": [
    {
     "name": "stdout",
     "output_type": "stream",
     "text": [
      "[[  102 12000   680    52     5]]\n"
     ]
    }
   ],
   "source": [
    "# # Q7.3: Find customers with transaction count greater than 50 AND credit score less than 750\n",
    "data = banking_data[(banking_data[:,3] > 50) & (banking_data[:,2] < 750)]\n",
    "print(data)"
   ]
  },
  {
   "cell_type": "code",
   "execution_count": 42,
   "id": "b4e3663a",
   "metadata": {},
   "outputs": [
    {
     "name": "stdout",
     "output_type": "stream",
     "text": [
      "3\n"
     ]
    }
   ],
   "source": [
    "# Q7.4: Count how many customers have account balance between \n",
    "100,000\n",
    "data = np.sum((banking_data[:,1]>=10000) & (banking_data[:,1] <=100000))\n",
    "print(data)"
   ]
  },
  {
   "cell_type": "code",
   "execution_count": 43,
   "id": "a0bf2be8",
   "metadata": {},
   "outputs": [
    {
     "name": "stdout",
     "output_type": "stream",
     "text": [
      "9\n"
     ]
    }
   ],
   "source": [
    "# Q7.5: Find the index of the customer with the highest credit score\n",
    "data = np.argmax(banking_data[:,2])+1\n",
    "print(data)"
   ]
  },
  {
   "cell_type": "code",
   "execution_count": 44,
   "id": "2ad653f3",
   "metadata": {},
   "outputs": [
    {
     "data": {
      "text/plain": [
       "array([[  110,   500,   430,     5,     3],\n",
       "       [  108,   980,   600,    22,     1],\n",
       "       [  103,  2500,   610,    12,     1],\n",
       "       [  105,  3000,   550,     8,     2],\n",
       "       [  107,  4000,   700,    35,     2],\n",
       "       [  101,  5000,   720,    45,     3],\n",
       "       [  104,  7800,   790,    67,     4],\n",
       "       [  102, 12000,   680,    52,     5],\n",
       "       [  106, 16000,   845,    89,     6],\n",
       "       [  109, 22000,   890,   103,     8]])"
      ]
     },
     "execution_count": 44,
     "metadata": {},
     "output_type": "execute_result"
    }
   ],
   "source": [
    "# Q8.1: Sort the banking_data by account balance (ascending)\n",
    "data = banking_data[banking_data[:,1].argsort()]\n",
    "data"
   ]
  },
  {
   "cell_type": "code",
   "execution_count": 45,
   "id": "5cd98049",
   "metadata": {},
   "outputs": [
    {
     "name": "stdout",
     "output_type": "stream",
     "text": [
      "[[  109 22000   890   103     8]\n",
      " [  106 16000   845    89     6]\n",
      " [  104  7800   790    67     4]\n",
      " [  101  5000   720    45     3]\n",
      " [  107  4000   700    35     2]\n",
      " [  102 12000   680    52     5]\n",
      " [  103  2500   610    12     1]\n",
      " [  108   980   600    22     1]\n",
      " [  105  3000   550     8     2]\n",
      " [  110   500   430     5     3]]\n"
     ]
    }
   ],
   "source": [
    "# Q8.2: Sort the banking_data by credit score (descending)\n",
    "data = banking_data[(-banking_data[:,2]).argsort()]\n",
    "print(data)\n"
   ]
  },
  {
   "cell_type": "code",
   "execution_count": 46,
   "id": "4b264494",
   "metadata": {},
   "outputs": [
    {
     "name": "stdout",
     "output_type": "stream",
     "text": [
      "[2 7 4 6 0 9 3 1 5 8]\n"
     ]
    }
   ],
   "source": [
    "# Q8.3: Find the indices that would sort the array by years active\n",
    "data = np.argsort(banking_data[:,4])\n",
    "print(data)"
   ]
  },
  {
   "cell_type": "code",
   "execution_count": 47,
   "id": "32d2b45e",
   "metadata": {},
   "outputs": [
    {
     "name": "stdout",
     "output_type": "stream",
     "text": [
      "106\n"
     ]
    }
   ],
   "source": [
    "# Q8.4: Find the customer with the second highest account balance\n",
    "data1 = np.argsort(banking_data[:,1])[-2]\n",
    "data = banking_data[data1]\n",
    "print(data[0])"
   ]
  },
  {
   "cell_type": "code",
   "execution_count": 48,
   "id": "26d9c53c",
   "metadata": {},
   "outputs": [
    {
     "name": "stdout",
     "output_type": "stream",
     "text": [
      "106\n"
     ]
    }
   ],
   "source": [
    "# Q8.5: Find the customer with the lowest transaction count\n",
    "data1 = np.argmin(banking_data[:,3])\n",
    "print(data[0])"
   ]
  },
  {
   "cell_type": "code",
   "execution_count": 49,
   "id": "967e1e00",
   "metadata": {},
   "outputs": [
    {
     "name": "stdout",
     "output_type": "stream",
     "text": [
      "[[  101  5000   720    45     3]\n",
      " [  102 12000   680    52     5]\n",
      " [  103  2500   610    12     1]\n",
      " [  104  7800   790    67     4]\n",
      " [  105  3000   550     8     2]\n",
      " [  106 16000   845    89     6]\n",
      " [  107  4000   700    35     2]\n",
      " [  108   980   600    22     1]\n",
      " [  109 22000   890   103     8]\n",
      " [  110   500   430     5     3]]\n"
     ]
    }
   ],
   "source": [
    "# Q9.1: Calculate the absolute values of all elements\n",
    "data = np.abs(banking_data)\n",
    "print(data)"
   ]
  },
  {
   "cell_type": "code",
   "execution_count": 50,
   "id": "e5a42ccc",
   "metadata": {},
   "outputs": [
    {
     "name": "stdout",
     "output_type": "stream",
     "text": [
      "[ 70.71067812 109.5445115   50.          88.31760866  54.77225575\n",
      " 126.49110641  63.2455532   31.30495168 148.32396974  22.36067977]\n"
     ]
    }
   ],
   "source": [
    "# Q9.2: Calculate the square root of all account balances\n",
    "data = np.sqrt(banking_data[:,1])\n",
    "print(data)"
   ]
  },
  {
   "cell_type": "code",
   "execution_count": 51,
   "id": "1dbad576",
   "metadata": {},
   "outputs": [
    {
     "name": "stdout",
     "output_type": "stream",
     "text": [
      "[518400 462400 372100 624100 302500 714025 490000 360000 792100 184900]\n"
     ]
    }
   ],
   "source": [
    "# Q9.3: Calculate the square of all credit scores\n",
    "data = np.square(banking_data[:,2])\n",
    "print(data)"
   ]
  },
  {
   "cell_type": "code",
   "execution_count": 52,
   "id": "8ecf1ab4",
   "metadata": {},
   "outputs": [
    {
     "name": "stdout",
     "output_type": "stream",
     "text": [
      "[3.49342711e+19 3.83100800e+22 1.62754791e+05 1.25236317e+29\n",
      " 2.98095799e+03 4.48961282e+38 1.58601345e+15 3.58491285e+09\n",
      " 5.39922761e+44 1.48413159e+02]\n"
     ]
    }
   ],
   "source": [
    "# Q9.4: Calculate the exponential of all transaction counts\n",
    "data = np.exp(banking_data[:,3])\n",
    "print(data)"
   ]
  },
  {
   "cell_type": "code",
   "execution_count": 53,
   "id": "0e3d92cb",
   "metadata": {},
   "outputs": [
    {
     "name": "stdout",
     "output_type": "stream",
     "text": [
      "[8.51719319 9.39266193 7.82404601 8.96187901 8.00636757 9.680344\n",
      " 8.29404964 6.88755257 9.99879773 6.2146081 ]\n"
     ]
    }
   ],
   "source": [
    "# Q9.5: Calculate the natural logarithm of all account balances\n",
    "data = np.log(banking_data[:,1])\n",
    "print(data)"
   ]
  },
  {
   "cell_type": "code",
   "execution_count": 54,
   "id": "084eccd8",
   "metadata": {},
   "outputs": [
    {
     "name": "stdout",
     "output_type": "stream",
     "text": [
      "[ 5000 17000 19500 27300 30300 46300 50300 51280 73280 73780]\n"
     ]
    }
   ],
   "source": [
    "# Q10.1: Calculate the cumulative sum of account balances\n",
    "data = np.cumsum(banking_data[:,1])\n",
    "print(data)"
   ]
  },
  {
   "cell_type": "code",
   "execution_count": 55,
   "id": "499f8cf7",
   "metadata": {},
   "outputs": [
    {
     "name": "stdout",
     "output_type": "stream",
     "text": [
      "[             45            2340           28080         1881360\n",
      "        15050880      1339528320     46883491200   1031436806400\n",
      " 106237991059200 531189955296000]\n"
     ]
    }
   ],
   "source": [
    "# Q10.2: Calculate the cumulative product of transaction counts\n",
    "data = np.cumprod(banking_data[:,3])\n",
    "print(data)"
   ]
  },
  {
   "cell_type": "code",
   "execution_count": 56,
   "id": "f6bf4b1b",
   "metadata": {},
   "outputs": [
    {
     "name": "stdout",
     "output_type": "stream",
     "text": [
      "[  7000  -9500   5300  -4800  13000 -12000  -3020  21020 -21500]\n"
     ]
    }
   ],
   "source": [
    "# Q10.3: Calculate the difference between consecutive account balances\n",
    "data = np.diff(banking_data[:,1])\n",
    "print(data)"
   ]
  },
  {
   "cell_type": "code",
   "execution_count": 57,
   "id": "93a32356",
   "metadata": {},
   "outputs": [
    {
     "name": "stdout",
     "output_type": "stream",
     "text": [
      "[  7000.  -1250.  -2100.    250.   4100.    500.  -7510.   9000.   -240.\n",
      " -21500.]\n"
     ]
    }
   ],
   "source": [
    "# Q10.4: Calculate the gradient of account balances\n",
    "data = np.gradient(banking_data[:,1])\n",
    "print(data)"
   ]
  },
  {
   "cell_type": "code",
   "execution_count": 58,
   "id": "e3a0e069",
   "metadata": {},
   "outputs": [
    {
     "name": "stdout",
     "output_type": "stream",
     "text": [
      "[5 2 1 1 1]\n",
      "[  500.  4800.  9100. 13400. 17700. 22000.]\n"
     ]
    }
   ],
   "source": [
    "# Q10.5: Calculate the histogram of account balances with 5 bins\n",
    "hist,hist_bins = np.histogram(banking_data[:,1], bins = 5)\n",
    "print(hist)\n",
    "print(hist_bins)"
   ]
  },
  {
   "cell_type": "code",
   "execution_count": 59,
   "id": "407b5a76",
   "metadata": {},
   "outputs": [
    {
     "name": "stdout",
     "output_type": "stream",
     "text": [
      "[599 667 333 112 306 524]\n"
     ]
    }
   ],
   "source": [
    "# Q11.1: Generate 6 random integers between 1 and 1000\n",
    "import numpy as np\n",
    "data = np.random.randint(1,1001,6)\n",
    "print(data)"
   ]
  },
  {
   "cell_type": "code",
   "execution_count": 60,
   "id": "8e89e1d1",
   "metadata": {},
   "outputs": [
    {
     "name": "stdout",
     "output_type": "stream",
     "text": [
      "[0.3808307  0.56001499 0.50240221 0.97857286 0.93868822 0.34870077]\n"
     ]
    }
   ],
   "source": [
    "# Q11.2: Generate 6 random floats between 0 and 1\n",
    "data = np.random.random(6)\n",
    "print(data)"
   ]
  },
  {
   "cell_type": "code",
   "execution_count": 61,
   "id": "8714758d",
   "metadata": {},
   "outputs": [
    {
     "name": "stdout",
     "output_type": "stream",
     "text": [
      "[508.48905258 821.23115522 760.907544   694.2265457  596.65512282\n",
      " 692.15483226]\n"
     ]
    }
   ],
   "source": [
    "# Q11.3: Generate 6 random numbers from normal distribution (mean=700, std=100)\n",
    "data = np.random.normal(700,100,6)\n",
    "print(data)"
   ]
  },
  {
   "cell_type": "code",
   "execution_count": 62,
   "id": "1c142efb",
   "metadata": {},
   "outputs": [
    {
     "name": "stdout",
     "output_type": "stream",
     "text": [
      "[[  108   980   600    22     1]\n",
      " [  110   500   430     5     3]\n",
      " [  103  2500   610    12     1]\n",
      " [  101  5000   720    45     3]\n",
      " [  105  3000   550     8     2]\n",
      " [  106 16000   845    89     6]\n",
      " [  104  7800   790    67     4]\n",
      " [  107  4000   700    35     2]\n",
      " [  102 12000   680    52     5]\n",
      " [  109 22000   890   103     8]]\n"
     ]
    }
   ],
   "source": [
    "# Q11.4: Shuffle the banking_data rows randomly\n",
    "shuffled_data = banking_data.copy()\n",
    "np.random.shuffle(shuffled_data)\n",
    "print(shuffled_data)"
   ]
  },
  {
   "cell_type": "code",
   "execution_count": 63,
   "id": "08029429",
   "metadata": {},
   "outputs": [
    {
     "name": "stdout",
     "output_type": "stream",
     "text": [
      "[0.69646919 0.28613933 0.22685145 0.55131477]\n"
     ]
    }
   ],
   "source": [
    "# Q11.5: Set random seed to 123 and generate 4 random numbersdata\n",
    "np.random.seed(123)\n",
    "seeded_random = np.random.random(4)\n",
    "print(seeded_random)"
   ]
  },
  {
   "cell_type": "code",
   "execution_count": 64,
   "id": "4eb4cfb3",
   "metadata": {},
   "outputs": [
    {
     "name": "stdout",
     "output_type": "stream",
     "text": [
      "57800000\n"
     ]
    }
   ],
   "source": [
    "# Q12.1: Calculate the dot product of account balance and credit score columns\n",
    "dot_product = np.dot(banking_data[:, 1], banking_data[:, 2])\n",
    "print(dot_product)"
   ]
  },
  {
   "cell_type": "code",
   "execution_count": 65,
   "id": "c69751a8",
   "metadata": {},
   "outputs": [
    {
     "name": "stdout",
     "output_type": "stream",
     "text": [
      "[-5240000     4760   702000]\n"
     ]
    }
   ],
   "source": [
    "# Q12.2: Calculate the cross product of first two rows\n",
    "cross_product = np.cross(banking_data[0, :3], banking_data[1, :3])\n",
    "print(cross_product)"
   ]
  },
  {
   "cell_type": "code",
   "execution_count": 66,
   "id": "f0db70b2",
   "metadata": {},
   "outputs": [
    {
     "name": "stdout",
     "output_type": "stream",
     "text": [
      "[508.48905258 821.23115522 760.907544   694.2265457  596.65512282\n",
      " 692.15483226]\n"
     ]
    }
   ],
   "source": [
    "# Q12.3: Calculate the norm (magnitude) of the account balance column\n",
    "banking_data = np.linalg.norm(banking_data[:, 1])\n",
    "print(data)"
   ]
  },
  {
   "cell_type": "code",
   "execution_count": 67,
   "id": "458ced91",
   "metadata": {},
   "outputs": [
    {
     "name": "stdout",
     "output_type": "stream",
     "text": [
      "[[2 3 4]\n",
      " [1 4 8]\n",
      " [6 7 3]]\n",
      "-20.99999999999999\n"
     ]
    }
   ],
   "source": [
    "# Q12.4: Create a 3x3 matrix and calculate its determinant\n",
    "matrix_3x3 = np.array([[2, 3, 4], [1, 4, 8], [6, 7, 3]])\n",
    "determinant = np.linalg.det(matrix_3x3)\n",
    "print(matrix_3x3)\n",
    "print(determinant)"
   ]
  },
  {
   "cell_type": "code",
   "execution_count": 68,
   "id": "4ceecf38",
   "metadata": {},
   "outputs": [
    {
     "name": "stdout",
     "output_type": "stream",
     "text": [
      "[[ 2.0952381  -0.9047619  -0.38095238]\n",
      " [-2.14285714  0.85714286  0.57142857]\n",
      " [ 0.80952381 -0.19047619 -0.23809524]]\n"
     ]
    }
   ],
   "source": [
    "# Q12.5: Calculate the inverse of the 3x3 matrix\n",
    "data = np.linalg.inv(matrix_3x3)\n",
    "print(data)"
   ]
  },
  {
   "cell_type": "code",
   "execution_count": 75,
   "id": "b21cea2e",
   "metadata": {},
   "outputs": [
    {
     "name": "stdout",
     "output_type": "stream",
     "text": [
      "['101' '102' '103' '104' '105' '106' '107' '108' '109' '110']\n"
     ]
    }
   ],
   "source": [
    "# Q13.1: Convert all customer IDs to strings\n",
    "customer_ids_str = banking_data[:, 0].astype(str)\n",
    "print(customer_ids_str)"
   ]
  },
  {
   "cell_type": "code",
   "execution_count": 76,
   "id": "ab946a01",
   "metadata": {},
   "outputs": [
    {
     "name": "stdout",
     "output_type": "stream",
     "text": [
      "[]\n"
     ]
    }
   ],
   "source": [
    "# Q13.2: Check if any customer ID contains '100'\n",
    "data = np.char.find(customer_ids_str, '100') >= 0\n",
    "print(banking_data[data])"
   ]
  },
  {
   "cell_type": "code",
   "execution_count": 77,
   "id": "af7da568",
   "metadata": {},
   "outputs": [
    {
     "name": "stdout",
     "output_type": "stream",
     "text": [
      "['101' '102' '103' '104' '105' '106' '107' '108' '109' '110']\n"
     ]
    }
   ],
   "source": [
    "# Q13.3: Convert all customer IDs to uppercase (if they were strings)\n",
    "data = np.char.upper(customer_ids_str)\n",
    "print(data)\n",
    "     "
   ]
  },
  {
   "cell_type": "code",
   "execution_count": 78,
   "id": "c097fa9c",
   "metadata": {},
   "outputs": [
    {
     "name": "stdout",
     "output_type": "stream",
     "text": [
      "[3 3 3 3 3 3 3 3 3 3]\n"
     ]
    }
   ],
   "source": [
    "# Q13.4: Count the length of each customer ID string\n",
    "data = np.char.str_len(customer_ids_str)\n",
    "print(data)"
   ]
  },
  {
   "cell_type": "code",
   "execution_count": 79,
   "id": "15396b14",
   "metadata": {},
   "outputs": [
    {
     "name": "stdout",
     "output_type": "stream",
     "text": [
      "['CUST1' 'CUST2' 'CUST3' 'CUST4' 'CUST5' 'CUST6' 'CUST7' 'CUST8' 'CUST9'\n",
      " '1CUST']\n"
     ]
    }
   ],
   "source": [
    "# Q13.5: Replace '10' with 'CUST' in customer IDs\n",
    "data = np.char.replace(customer_ids_str, '10', 'CUST')\n",
    "print(data)"
   ]
  },
  {
   "cell_type": "code",
   "execution_count": 80,
   "id": "7ab09514",
   "metadata": {},
   "outputs": [
    {
     "name": "stdout",
     "output_type": "stream",
     "text": [
      "[36 60 12 48 24 72 24 12 96 36]\n"
     ]
    }
   ],
   "source": [
    "# Q14.1: Convert years active to months\n",
    "yrs_to_months = banking_data[:, 4] * 12\n",
    "print(yrs_to_months)"
   ]
  },
  {
   "cell_type": "code",
   "execution_count": 81,
   "id": "4e43e74a",
   "metadata": {},
   "outputs": [
    {
     "name": "stdout",
     "output_type": "stream",
     "text": [
      "3.5\n"
     ]
    }
   ],
   "source": [
    "# Q14.2: Calculate the average years active\n",
    "avg_yrs = np.mean(banking_data[:, 4])\n",
    "print(avg_yrs)"
   ]
  },
  {
   "cell_type": "code",
   "execution_count": 82,
   "id": "32570621",
   "metadata": {},
   "outputs": [
    {
     "name": "stdout",
     "output_type": "stream",
     "text": [
      "[]\n"
     ]
    }
   ],
   "source": [
    "# Q14.3: Find customers who have been active for more than 15 years\n",
    "yrs_active = banking_data[banking_data[:, 4] > 15]\n",
    "print(yrs_active)"
   ]
  },
  {
   "cell_type": "code",
   "execution_count": 83,
   "id": "47d5b20a",
   "metadata": {},
   "outputs": [
    {
     "name": "stdout",
     "output_type": "stream",
     "text": [
      "35\n"
     ]
    }
   ],
   "source": [
    "# Q14.4: Calculate the total time all customers have been active (in years)\n",
    "total_active_time = np.sum(banking_data[:, 4])\n",
    "print(total_active_time)"
   ]
  },
  {
   "cell_type": "code",
   "execution_count": 84,
   "id": "2e5c25f0",
   "metadata": {},
   "outputs": [
    {
     "name": "stdout",
     "output_type": "stream",
     "text": [
      "customer ID: 2, Days: [ 103 2500  610   12    1]\n"
     ]
    }
   ],
   "source": [
    "# Q14.5: Find the customer with the shortest time active\n",
    "customer_short_active= np.argmin(banking_data[:, 4])\n",
    "shortest_customer_active = banking_data[customer_short_active]\n",
    "print(f\"customer ID: {customer_short_active}, Days: {shortest_customer_active}\")"
   ]
  },
  {
   "cell_type": "code",
   "execution_count": 85,
   "id": "14f3de65",
   "metadata": {},
   "outputs": [
    {
     "name": "stdout",
     "output_type": "stream",
     "text": [
      "[ 5250. 12600.  2625.  8190.  3150. 16800.  4200.  1029. 23100.   525.]\n"
     ]
    }
   ],
   "source": [
    "# Q15.1: Apply a function to calculate 5% interest on all account balances\n",
    "import numpy as np\n",
    "\n",
    "def add_interest(balance):\n",
    "    return balance * 1.05  \n",
    "\n",
    "interest_applied = np.vectorize(add_interest)(banking_data[:, 1])\n",
    "print(interest_applied)"
   ]
  },
  {
   "cell_type": "code",
   "execution_count": 87,
   "id": "367d687b",
   "metadata": {},
   "outputs": [
    {
     "name": "stdout",
     "output_type": "stream",
     "text": [
      "['Low' 'Low' 'Low' 'Low' 'Low' 'Medium' 'Low' 'Low' 'Medium' 'Low']\n"
     ]
    }
   ],
   "source": [
    "# Q15.2: Use np.where to categorize customers by balance ranges\n",
    "balances = banking_data[:,1]\n",
    "customers_balance =  np.where(balances < 15000, \"Low\",\n",
    "              np.where(balances < 45000, \"Medium\", \"High\"))\n",
    "print(customers_balance)"
   ]
  },
  {
   "cell_type": "code",
   "execution_count": 88,
   "id": "85a885bd",
   "metadata": {},
   "outputs": [
    {
     "name": "stdout",
     "output_type": "stream",
     "text": [
      "['poor' 'poor' 'poor' 'poor' 'poor' 'poor' 'poor' 'poor' 'poor' 'poor']\n"
     ]
    }
   ],
   "source": [
    "# Q15.3: Use np.select to categorize customers by credit score ranges\n",
    "conditions = [\n",
    "    banking_data[:, 4] < 9,\n",
    "    (banking_data[:, 4] >= 15) & (banking_data[:, 4] < 20),\n",
    "    banking_data[:, 4] >= 20\n",
    "]\n",
    "choices = ['poor', 'Mid-range', 'good']\n",
    "cus_credit_score = np.select(conditions, choices, default='Unknown')\n",
    "print(cus_credit_score)"
   ]
  },
  {
   "cell_type": "code",
   "execution_count": 89,
   "id": "d699c836",
   "metadata": {},
   "outputs": [
    {
     "name": "stdout",
     "output_type": "stream",
     "text": [
      "[ 5250 12600  2625  8190  3150 16800  4200  1029 24200   525]\n"
     ]
    }
   ],
   "source": [
    "# Q15.4: Use np.piecewise to apply different interest rates based on balance\n",
    "def low_interest(x): return x * 1.05\n",
    "def mid_interest(x): return x * 1.10\n",
    "def high_interest(x): return x * 1.20\n",
    "\n",
    "interest_prices = np.piecewise(\n",
    "    banking_data[:, 1],\n",
    "    [banking_data[:, 1] < 20000, (banking_data[:, 1] >= 20000) & (banking_data[:, 1] < 25000), banking_data[:, 1] >= 25000],\n",
    "    [low_interest, mid_interest, high_interest]\n",
    ")\n",
    "print(interest_prices)"
   ]
  },
  {
   "cell_type": "code",
   "execution_count": 90,
   "id": "04569146",
   "metadata": {},
   "outputs": [
    {
     "name": "stdout",
     "output_type": "stream",
     "text": [
      "[ 5869 12839  3226  8765  3665 17046  4844  1711 23110  1048]\n"
     ]
    }
   ],
   "source": [
    "# Q15.5: Use np.apply_along_axis to calculate the sum of each row\n",
    "row_sums = np.apply_along_axis(np.sum, 1, banking_data)\n",
    "print(row_sums)"
   ]
  },
  {
   "cell_type": "code",
   "execution_count": 91,
   "id": "38f8e256",
   "metadata": {},
   "outputs": [
    {
     "name": "stdout",
     "output_type": "stream",
     "text": [
      "[1 2 3 4 5 6]\n"
     ]
    }
   ],
   "source": [
    "# Q16.1: Concatenate two arrays horizontally using np.hstack()\n",
    "array1 = np.array([1,2,3])\n",
    "array2 = np.array([4,5,6])\n",
    "con_array = np.hstack([array1,array2])\n",
    "print(con_array)"
   ]
  },
  {
   "cell_type": "code",
   "execution_count": 92,
   "id": "c804c315",
   "metadata": {},
   "outputs": [
    {
     "name": "stdout",
     "output_type": "stream",
     "text": [
      "[[1 2 3]\n",
      " [4 5 6]]\n"
     ]
    }
   ],
   "source": [
    "# Q16.2: Concatenate two arrays vertically using np.vstack()\n",
    "vcon_array = np.vstack([array1,array2])\n",
    "print(vcon_array)"
   ]
  },
  {
   "cell_type": "code",
   "execution_count": 93,
   "id": "45e8c6c6",
   "metadata": {},
   "outputs": [
    {
     "name": "stdout",
     "output_type": "stream",
     "text": [
      "[1 2 3 4 5 6]\n"
     ]
    }
   ],
   "source": [
    "# Q16.3: Concatenate arrays along a specific axis using np.concatenate()\n",
    "import numpy as np\n",
    "data = np.concatenate([array1,array2],axis = 0)\n",
    "print(data)"
   ]
  },
  {
   "cell_type": "code",
   "execution_count": 94,
   "id": "5ff15c34",
   "metadata": {},
   "outputs": [
    {
     "name": "stdout",
     "output_type": "stream",
     "text": [
      "[[[1 4]\n",
      "  [2 5]\n",
      "  [3 6]]]\n"
     ]
    }
   ],
   "source": [
    "# Q16.4: Stack arrays depth-wise using np.dstack()\n",
    "data = np.dstack([array1,array2])\n",
    "print(data)"
   ]
  },
  {
   "cell_type": "code",
   "execution_count": 95,
   "id": "ef1827ea",
   "metadata": {},
   "outputs": [
    {
     "name": "stdout",
     "output_type": "stream",
     "text": [
      "[[1 4]\n",
      " [2 5]\n",
      " [3 6]]\n"
     ]
    }
   ],
   "source": [
    "# Q16.5: Create a column stack using np.column_stack()\n",
    "data = np.column_stack([array1,array2])\n",
    "print(data)"
   ]
  },
  {
   "cell_type": "code",
   "execution_count": 96,
   "id": "ef5e2903",
   "metadata": {},
   "outputs": [
    {
     "name": "stdout",
     "output_type": "stream",
     "text": [
      "Parts[1] = [1 2] \n",
      "Parts[2] = [3 4] \n",
      "Parts[3] = [5 6] \n"
     ]
    }
   ],
   "source": [
    "# Q17.1: Split an array into 3 equal parts using np.split()\n",
    "array = np.array([1,2,3,4,5,6])\n",
    "split_array = np.split(array,3)\n",
    "for i, part in enumerate(split_array):\n",
    "  print(f\"Parts[{i+1}] = {part} \")"
   ]
  },
  {
   "cell_type": "code",
   "execution_count": 97,
   "id": "2311d0f6",
   "metadata": {},
   "outputs": [
    {
     "name": "stdout",
     "output_type": "stream",
     "text": [
      "[array([1, 2]), array([3, 4, 5, 6]), array([], dtype=int64)]\n"
     ]
    }
   ],
   "source": [
    "# Q17.2: Split an array at specific indices using np.split()\n",
    "array = np.array([1,2,3,4,5,6])\n",
    "split_array = np.split(array,[2,8])\n",
    "print(split_array)"
   ]
  },
  {
   "cell_type": "code",
   "execution_count": 98,
   "id": "906bcb85",
   "metadata": {},
   "outputs": [
    {
     "name": "stdout",
     "output_type": "stream",
     "text": [
      "[array([[1],\n",
      "       [4]]), array([[2],\n",
      "       [5]]), array([[3],\n",
      "       [6]])]\n"
     ]
    }
   ],
   "source": [
    "# Q17.3: Split an array horizontally using np.hsplit()\n",
    "arr_2d = np.array([[1, 2, 3], [4, 5, 6]])\n",
    "hsplit_parts = np.hsplit(arr_2d, 3)\n",
    "print(hsplit_parts)"
   ]
  },
  {
   "cell_type": "code",
   "execution_count": 99,
   "id": "80767753",
   "metadata": {},
   "outputs": [
    {
     "name": "stdout",
     "output_type": "stream",
     "text": [
      "Vertical parts:[array([[1, 2, 3]]), array([[4, 5, 6]])]\n"
     ]
    }
   ],
   "source": [
    "# Q17.4: Split an array vertically using np.vsplit()\n",
    "vsplit_parts = np.vsplit(arr_2d, 2)\n",
    "print(f\"Vertical parts:{vsplit_parts}\")"
   ]
  },
  {
   "cell_type": "code",
   "execution_count": 100,
   "id": "ebe5da3f",
   "metadata": {},
   "outputs": [
    {
     "name": "stdout",
     "output_type": "stream",
     "text": [
      "Split into 4 chunks:[array([1, 2]), array([3, 4]), array([5]), array([6])]\n"
     ]
    }
   ],
   "source": [
    "# Q17.5: Split an array into equal chunks using np.array_split()\n",
    "chunks = np.array_split(array, 4)\n",
    "print(f\"Split into 4 chunks:{chunks}\")"
   ]
  },
  {
   "cell_type": "code",
   "execution_count": 101,
   "id": "d3ca13ee",
   "metadata": {},
   "outputs": [
    {
     "name": "stdout",
     "output_type": "stream",
     "text": [
      "[1 1 1 2 2 2 3 3 3]\n"
     ]
    }
   ],
   "source": [
    "# Q18.1: Repeat each element of an array 3 times using np.repeat()\n",
    "import numpy as np\n",
    "elements = np.repeat(array1,3)\n",
    "print(elements)"
   ]
  },
  {
   "cell_type": "code",
   "execution_count": 102,
   "id": "b0236651",
   "metadata": {},
   "outputs": [
    {
     "name": "stdout",
     "output_type": "stream",
     "text": [
      "[1 2 3 1 2 3]\n"
     ]
    }
   ],
   "source": [
    "# Q18.2: Repeat an entire array 2 times using np.tile()\n",
    "elements = np.tile(array1,2)\n",
    "print(elements)"
   ]
  },
  {
   "cell_type": "code",
   "execution_count": null,
   "id": "b0c7406d",
   "metadata": {},
   "outputs": [
    {
     "name": "stdout",
     "output_type": "stream",
     "text": [
      "Original array:[[5 6]\n",
      " [7 8]]\n",
      "Tile:[[5 6 5 6 5 6 5 6]\n",
      " [7 8 7 8 7 8 7 8]\n",
      " [5 6 5 6 5 6 5 6]\n",
      " [7 8 7 8 7 8 7 8]\n",
      " [5 6 5 6 5 6 5 6]\n",
      " [7 8 7 8 7 8 7 8]\n",
      " [5 6 5 6 5 6 5 6]\n",
      " [7 8 7 8 7 8 7 8]]\n"
     ]
    }
   ],
   "source": [
    "# # Q18.3: Repeat a 2D array using np.tile()\n",
    "# ar = np.array([[5,6],[7,8]])\n",
    "# tile = np.tile(ar,(4,4))\n",
    "# print(f\"Original array:{ar}\")\n",
    "# print(f\"Tile:{tile}\")\n"
   ]
  },
  {
   "cell_type": "code",
   "execution_count": 104,
   "id": "ffbc5c74",
   "metadata": {},
   "outputs": [
    {
     "name": "stdout",
     "output_type": "stream",
     "text": [
      "original array:[1 2 3 4]\n",
      "Tile:[1 2 3 4 1 2 3 4 1 2 3 4 1 2 3 4 1 2 3 4 1 2 3 4]\n"
     ]
    }
   ],
   "source": [
    "# Q18.4:Create a pattern using np.tile()\n",
    "pattern = np.array([1,2,3,4])\n",
    "tile = np.tile(pattern,6)\n",
    "print(f\"original array:{pattern}\")\n",
    "print(f\"Tile:{tile}\")"
   ]
  },
  {
   "cell_type": "code",
   "execution_count": 105,
   "id": "d7bf2e1b",
   "metadata": {},
   "outputs": [
    {
     "name": "stdout",
     "output_type": "stream",
     "text": [
      "original array:[4 5 6]\n",
      "Repeat count:[2, 3, 5]\n",
      "Repeat Var:[4 4 5 5 5 6 6 6 6 6]\n"
     ]
    }
   ],
   "source": [
    "# Q18.5: Repeat elements with different counts using np.repeat()\n",
    "array = np.array([4,5,6])\n",
    "repeat_counts = [2,3,5]\n",
    "repeat_var = np.repeat(array,repeat_counts)\n",
    "print(f\"original array:{array}\")\n",
    "print(f\"Repeat count:{repeat_counts}\")\n",
    "print(f\"Repeat Var:{repeat_var}\")"
   ]
  },
  {
   "cell_type": "code",
   "execution_count": 106,
   "id": "5eec3394",
   "metadata": {},
   "outputs": [
    {
     "name": "stdout",
     "output_type": "stream",
     "text": [
      "arr a:[1 2 3]\n",
      "arr b:[4 5 6]\n",
      "arr c:[7 8 9]\n",
      "Array a equals b:False\n",
      "Array b equals c:False\n"
     ]
    }
   ],
   "source": [
    "# Q19.1: Compare two arrays for equality using np.array_equal()\n",
    "a = np.array([1,2,3])\n",
    "b = np.array([4,5,6])\n",
    "c = np.array([7,8,9])\n",
    "print(f\"arr a:{a}\")\n",
    "print(f\"arr b:{b}\")\n",
    "print(f\"arr c:{c}\")\n",
    "print(f\"Array a equals b:{np.array_equal(a,b)}\")\n",
    "print(f\"Array b equals c:{np.array_equal(b,c)}\")"
   ]
  },
  {
   "cell_type": "code",
   "execution_count": null,
   "id": "f46674fd",
   "metadata": {},
   "outputs": [
    {
     "name": "stdout",
     "output_type": "stream",
     "text": [
      "Are arrays close?: True\n"
     ]
    }
   ],
   "source": [
    "# Q19.2: Check if arrays are close using np.allclose()\n",
    "\n",
    "arr1 = np.array([1.0, 2.0, 3.000001])\n",
    "arr2 = np.array([1.0, 2.0, 3.0])\n",
    "\n",
    "result = np.allclose(arr1, arr2)\n",
    "\n",
    "print(\"Are arrays close?:\", result)\n"
   ]
  },
  {
   "cell_type": "code",
   "execution_count": 108,
   "id": "fb49ebad",
   "metadata": {},
   "outputs": [
    {
     "name": "stdout",
     "output_type": "stream",
     "text": [
      "Array: [4 5 6]\n",
      "Logical AND (1 < x < 3): [False  True False]\n"
     ]
    }
   ],
   "source": [
    "# Q19.3: Apply logical AND operation between arrays\n",
    "logical_and = np.logical_and(a > 1, a < 3)\n",
    "print(f\"Array: {b}\")\n",
    "print(f\"Logical AND (1 < x < 3): {logical_and}\")"
   ]
  },
  {
   "cell_type": "code",
   "execution_count": 109,
   "id": "74782a89",
   "metadata": {},
   "outputs": [
    {
     "name": "stdout",
     "output_type": "stream",
     "text": [
      "Array 1: [ True False  True False]\n",
      "Array 2: [False False  True  True]\n",
      "Logical OR result: [ True False  True  True]\n"
     ]
    }
   ],
   "source": [
    "# Q19.4: Apply logical OR operation between arrays\n",
    "\n",
    "import numpy as np\n",
    "\n",
    "arr1 = np.array([True, False, True, False])\n",
    "arr2 = np.array([False, False, True, True])\n",
    "\n",
    "result = np.logical_or(arr1, arr2)\n",
    "\n",
    "print(\"Array 1:\", arr1)\n",
    "print(\"Array 2:\", arr2)\n",
    "print(\"Logical OR result:\", result)\n"
   ]
  },
  {
   "cell_type": "code",
   "execution_count": 111,
   "id": "3e749a62",
   "metadata": {},
   "outputs": [
    {
     "name": "stdout",
     "output_type": "stream",
     "text": [
      "Original: [0 1 2 0]\n",
      "Logical NOT: [ True False False  True]\n"
     ]
    }
   ],
   "source": [
    "# Q19.5: Apply logical NOT operation to an array\n",
    "arr = np.array([0, 1, 2, 0])\n",
    "result = np.logical_not(arr)\n",
    "\n",
    "print(\"Original:\", arr)\n",
    "print(\"Logical NOT:\", result)\n"
   ]
  },
  {
   "cell_type": "code",
   "execution_count": 112,
   "id": "6b375ecb",
   "metadata": {},
   "outputs": [
    {
     "name": "stdout",
     "output_type": "stream",
     "text": [
      "Duplicate Array:[2 2 3 3 4 5 6 6 6]\n",
      "Unique:[2 3 4 5 6]\n"
     ]
    }
   ],
   "source": [
    "# Q20.1: Find unique elements in an array using np.unique()\n",
    "duplicate_array = np.array([2,2,3,3,4,5,6,6,6,])\n",
    "unique = np.unique(duplicate_array)\n",
    "print(f\"Duplicate Array:{duplicate_array}\")\n",
    "print(f\"Unique:{unique}\")"
   ]
  },
  {
   "cell_type": "code",
   "execution_count": 113,
   "id": "191f73dc",
   "metadata": {},
   "outputs": [
    {
     "name": "stdout",
     "output_type": "stream",
     "text": [
      "A1:[1 2 3 4 5]\n",
      "A2:[4 5 6]\n",
      "Intersection:[4 5]\n"
     ]
    }
   ],
   "source": [
    "# Q20.2: Find the intersection of two arrays using np.intersect1d()\n",
    "a1 = np.array([1,2,3,4,5])\n",
    "a2 = np.array([4,5,6])\n",
    "intersection = np.intersect1d(a1,a2)\n",
    "print(f\"A1:{a1}\")\n",
    "print(f\"A2:{a2}\")\n",
    "print(f\"Intersection:{intersection}\")"
   ]
  },
  {
   "cell_type": "code",
   "execution_count": 115,
   "id": "d744d30b",
   "metadata": {},
   "outputs": [
    {
     "name": "stdout",
     "output_type": "stream",
     "text": [
      "A1:[1 2 3]\n",
      "A2:[4 5 6]\n",
      "Union:[1 2 3 4 5 6]\n"
     ]
    }
   ],
   "source": [
    "# Q20.3: Find the union of two arrays using np.union1d()\n",
    "a1 = np.array([1,2,3])\n",
    "a2 = np.array([4,5,6])\n",
    "union = np.union1d(a1,a2)\n",
    "print(f\"A1:{a1}\")\n",
    "print(f\"A2:{a2}\")\n",
    "print(f\"Union:{union}\")"
   ]
  },
  {
   "cell_type": "code",
   "execution_count": 116,
   "id": "662b1d51",
   "metadata": {},
   "outputs": [
    {
     "name": "stdout",
     "output_type": "stream",
     "text": [
      "A1:[1 2 3 4 5]\n",
      "A2:[4 5 6]\n",
      "Setdiff:[1 2 3]\n"
     ]
    }
   ],
   "source": [
    "# Q20.4: Find elements in first array but not in second using `np.setdiff1d()`\n",
    "a1 = np.array([1,2,3,4,5])\n",
    "a2 = np.array([4,5,6])\n",
    "setdiff = np.setdiff1d(a1,a2)\n",
    "print(f\"A1:{a1}\")\n",
    "print(f\"A2:{a2}\")\n",
    "print(f\"Setdiff:{setdiff}\")"
   ]
  },
  {
   "cell_type": "code",
   "execution_count": 117,
   "id": "a23a0dcd",
   "metadata": {},
   "outputs": [
    {
     "name": "stdout",
     "output_type": "stream",
     "text": [
      "A1:[1 2 3 4 5]\n",
      "A2:[4 5 6]\n",
      "Symmetric Diff:[1 2 3 6]\n"
     ]
    }
   ],
   "source": [
    "# Q20.5: Find the symmetric difference between two arrays using `np.setxor1d()`\n",
    "a1 = np.array([1,2,3,4,5])\n",
    "a2 = np.array([4,5,6])\n",
    "symmetric_diff = np.setxor1d(a1,a2)\n",
    "print(f\"A1:{a1}\")\n",
    "print(f\"A2:{a2}\")\n",
    "print(f\"Symmetric Diff:{symmetric_diff}\")"
   ]
  }
 ],
 "metadata": {
  "kernelspec": {
   "display_name": "Python 3",
   "language": "python",
   "name": "python3"
  },
  "language_info": {
   "codemirror_mode": {
    "name": "ipython",
    "version": 3
   },
   "file_extension": ".py",
   "mimetype": "text/x-python",
   "name": "python",
   "nbconvert_exporter": "python",
   "pygments_lexer": "ipython3",
   "version": "3.13.0"
  }
 },
 "nbformat": 4,
 "nbformat_minor": 5
}
