{
 "cells": [
  {
   "cell_type": "code",
   "execution_count": 9,
   "id": "f0cdd563",
   "metadata": {},
   "outputs": [
    {
     "name": "stdout",
     "output_type": "stream",
     "text": [
      "The student names and their ages are: {'praveen kumar': 24, 'raja': 23, 'kranthi': 27, 'venky': 24}\n"
     ]
    }
   ],
   "source": [
    "# Question 1: Create a dictionary of student names and their ages\n",
    "\n",
    "students = {\n",
    "    \"praveen kumar\": 24,    \n",
    "    \"raja\": 23,\n",
    "    \"kranthi\": 27,\n",
    "    \"venky\": 24\n",
    "}\n",
    "print(\"The student names and their ages are:\", students)"
   ]
  },
  {
   "cell_type": "code",
   "execution_count": 11,
   "id": "f2eaf182",
   "metadata": {},
   "outputs": [
    {
     "name": "stdout",
     "output_type": "stream",
     "text": [
      "Updated dictionary: {'a': 1, 'b': 2, 'c': 3, 'd': 4}\n"
     ]
    }
   ],
   "source": [
    "# Question 2: Add a new key-value pair to dictionary {'a': 1, 'b': 2, 'c': 3}\n",
    "\n",
    "x = {'a': 1, 'b': 2, 'c': 3}\n",
    "x.update({'d':4})\n",
    "print(\"Updated dictionary:\", x)\n"
   ]
  },
  {
   "cell_type": "code",
   "execution_count": 12,
   "id": "cf45fce6",
   "metadata": {},
   "outputs": [
    {
     "data": {
      "text/plain": [
       "dict_keys(['name', 'age', 'city'])"
      ]
     },
     "execution_count": 12,
     "metadata": {},
     "output_type": "execute_result"
    }
   ],
   "source": [
    "# Question 3: Get all keys from dictionary {'name': 'John', 'age': 25, 'city': 'New York'}\n",
    "y = {'name': 'John', 'age': 25, 'city': 'New York'}\n",
    "y.keys()"
   ]
  },
  {
   "cell_type": "code",
   "execution_count": 13,
   "id": "b9b553ee",
   "metadata": {},
   "outputs": [
    {
     "data": {
      "text/plain": [
       "dict_values([3, 2, 1])"
      ]
     },
     "execution_count": 13,
     "metadata": {},
     "output_type": "execute_result"
    }
   ],
   "source": [
    "# Question 4: Get all values from dictionary {'python': 3, 'java': 2, 'c++': 1}\n",
    "z = {'python': 3, 'java': 2, 'c++': 1}\n",
    "z.values()"
   ]
  },
  {
   "cell_type": "code",
   "execution_count": 14,
   "id": "2ac459b1",
   "metadata": {},
   "outputs": [
    {
     "name": "stdout",
     "output_type": "stream",
     "text": [
      "Key 'age' exists in the dictionary.\n"
     ]
    }
   ],
   "source": [
    "# Question 5: Check if key 'age' exists in {'name': 'Alice', 'age': 30, 'city': 'London'}\n",
    "\n",
    "data = {'name': 'Alice', 'age': 30, 'city': 'London'}\n",
    "if 'age' in data:\n",
    "    print(\"Key 'age' exists in the dictionary.\")\n",
    "else:\n",
    "    print(\"Key 'age' does not exist in the dictionary.\")\n",
    "\n",
    "    "
   ]
  },
  {
   "cell_type": "code",
   "execution_count": 17,
   "id": "e99dd1a9",
   "metadata": {},
   "outputs": [
    {
     "data": {
      "text/plain": [
       "3"
      ]
     },
     "execution_count": 17,
     "metadata": {},
     "output_type": "execute_result"
    }
   ],
   "source": [
    "# Question 6: Remove key 'temp' from {'a': 1, 'b': 2, 'temp': 3, 'c': 4}\n",
    "\n",
    "data2 = {'a': 1, 'b': 2, 'temp': 3, 'c': 4}\n",
    "data2.pop('temp')"
   ]
  },
  {
   "cell_type": "code",
   "execution_count": 18,
   "id": "35ceafca",
   "metadata": {},
   "outputs": [
    {
     "name": "stdout",
     "output_type": "stream",
     "text": [
      "The sum of all values is: 255\n"
     ]
    }
   ],
   "source": [
    "# Question 7: Find the sum of all values in {'math': 85, 'science': 92, 'english': 78}\n",
    "\n",
    "data3 = {'math': 85, 'science': 92, 'english': 78}\n",
    "total = sum(data3.values())\n",
    "print(\"The sum of all values is:\", total)"
   ]
  },
  {
   "cell_type": "code",
   "execution_count": 26,
   "id": "c22bc0ba",
   "metadata": {},
   "outputs": [
    {
     "name": "stdout",
     "output_type": "stream",
     "text": [
      "Squares of numbers 1 to 5: {1: 1, 2: 4, 3: 9, 4: 16, 5: 25}\n"
     ]
    }
   ],
   "source": [
    "# Question 8: Create a dictionary with squares of numbers 1 to 5\n",
    "\n",
    "squares = {}\n",
    "for i in range(1,6):\n",
    "    squares[i] = i**2   \n",
    "print(\"Squares of numbers 1 to 5:\", squares)    "
   ]
  },
  {
   "cell_type": "code",
   "execution_count": null,
   "id": "26cc5e55",
   "metadata": {},
   "outputs": [
    {
     "name": "stdout",
     "output_type": "stream",
     "text": [
      "Character frequency in 'hello': {'h': 1, 'e': 1, 'l': 2, 'o': 1}\n"
     ]
    }
   ],
   "source": [
    "# Question 9: Count frequency of each character in string \"hello\"\n",
    "\n",
    "string = \"hello\"\n",
    "frequency = {}\n",
    "for char in string:\n",
    "    if char in frequency:\n",
    "        frequency[char] += 1\n",
    "    else:\n",
    "        frequency[char] = 1\n",
    "print(\"Character frequency in 'hello':\", frequency)"
   ]
  },
  {
   "cell_type": "code",
   "execution_count": 29,
   "id": "c5846ea2",
   "metadata": {},
   "outputs": [
    {
     "name": "stdout",
     "output_type": "stream",
     "text": [
      "Merged dictionary: {'a': 1, 'b': 2, 'c': 3, 'd': 4}\n"
     ]
    }
   ],
   "source": [
    "# Question 10: Merge two dictionaries {'a': 1, 'b': 2} and {'c': 3, 'd': 4}\n",
    "\n",
    "dict1 = {'a': 1, 'b': 2}\n",
    "dict2 = {'c': 3, 'd': 4}\n",
    "merged_dict = {**dict1, **dict2}\n",
    "print(\"Merged dictionary:\", merged_dict)"
   ]
  },
  {
   "cell_type": "code",
   "execution_count": 41,
   "id": "3b5d7d26",
   "metadata": {},
   "outputs": [
    {
     "name": "stdout",
     "output_type": "stream",
     "text": [
      "{'person': {'name': 'Alice', 'age': 25}}\n"
     ]
    }
   ],
   "source": [
    "# Question 11: Create a nested dictionary: {'person': {'name': 'Alice', 'age': 25}}\n",
    "nested = {\n",
    "    'person':\n",
    "    {\n",
    "    'name':'Alice',\n",
    "      'age':25\n",
    "      }\n",
    "      }\n",
    "print(nested)"
   ]
  },
  {
   "cell_type": "code",
   "execution_count": 43,
   "id": "c9798b04",
   "metadata": {},
   "outputs": [
    {
     "name": "stdout",
     "output_type": "stream",
     "text": [
      "Alice\n"
     ]
    }
   ],
   "source": [
    "# Question 12: Access nested value 'name' from {'person': {'name': 'Alice', 'age': 25}}\n",
    "\n",
    "nested = {\n",
    "    'person':\n",
    "    {\n",
    "    'name':'Alice',\n",
    "      'age':25\n",
    "      }\n",
    "      }\n",
    "print(nested['person']['name'])"
   ]
  },
  {
   "cell_type": "code",
   "execution_count": 44,
   "id": "634fbbac",
   "metadata": {},
   "outputs": [
    {
     "name": "stdout",
     "output_type": "stream",
     "text": [
      "{'fruits': ['apple', 'banana'], 'colors': ['red', 'blue']}\n"
     ]
    }
   ],
   "source": [
    "\n",
    "# Question 13: Create a dictionary with list values: {'fruits': ['apple', 'banana'], 'colors': ['red', 'blue']}\n",
    "\n",
    "my_dicts = {\n",
    "    'fruits':['apple','banana'],\n",
    "    'colors':['red','blue']\n",
    "}\n",
    "print(my_dicts)"
   ]
  },
  {
   "cell_type": "code",
   "execution_count": 48,
   "id": "a8434775",
   "metadata": {},
   "outputs": [
    {
     "name": "stdout",
     "output_type": "stream",
     "text": [
      "{'fruits': ['apple', 'banana', 'orange'], 'colors': ['red', 'blue']}\n"
     ]
    }
   ],
   "source": [
    "# Question 14: Add 'orange' to the 'fruits' list in nested dictionary\n",
    "\n",
    "my_dicts = {\n",
    "    'fruits':['apple','banana'],\n",
    "    'colors':['red','blue']\n",
    "}\n",
    "my_dicts['fruits'].append('orange')\n",
    "print(my_dicts)\n"
   ]
  },
  {
   "cell_type": "code",
   "execution_count": 49,
   "id": "6bf9e5da",
   "metadata": {},
   "outputs": [
    {
     "name": "stdout",
     "output_type": "stream",
     "text": [
      "{'coordinates': (10, 20), 'rgb': (255, 0, 0)}\n"
     ]
    }
   ],
   "source": [
    "# Question 15: Create a dictionary with tuple values: {'coordinates': (10, 20), 'rgb': (255, 0, 0)}\n",
    " \n",
    "tuple_dict ={\n",
    "    'coordinates': (10, 20), \n",
    "    'rgb': (255, 0, 0)\n",
    "    }\n",
    "print(tuple_dict)\n",
    " "
   ]
  },
  {
   "cell_type": "code",
   "execution_count": 55,
   "id": "ae479622",
   "metadata": {},
   "outputs": [
    {
     "name": "stdout",
     "output_type": "stream",
     "text": [
      "(10, 20)\n"
     ]
    }
   ],
   "source": [
    "# Question 16: Extract first coordinate from nested tuple\n",
    "\n",
    "tuple_dict ={\n",
    "    'coordinates': (10, 20), \n",
    "    'rgb': (255, 0, 0)\n",
    "    }\n",
    "first_coord = tuple_dict['coordinates']\n",
    "print(first_coord)\n"
   ]
  },
  {
   "cell_type": "code",
   "execution_count": 56,
   "id": "d0881e1c",
   "metadata": {},
   "outputs": [
    {
     "name": "stdout",
     "output_type": "stream",
     "text": [
      "{'vowels': {'a', 'i', 'e'}, 'consonants': {'b', 'd', 'c'}}\n"
     ]
    }
   ],
   "source": [
    "# Question 17: Create a dictionary with set values: {'vowels': {'a', 'e', 'i'}, 'consonants': {'b', 'c', 'd'}}\n",
    "\n",
    "set_dicts = {\n",
    "    'vowels': {'a', 'e', 'i'},\n",
    "      'consonants': {'b', 'c', 'd'}\n",
    "      }\n",
    "print(set_dicts)\n"
   ]
  },
  {
   "cell_type": "code",
   "execution_count": 65,
   "id": "7ed72069",
   "metadata": {},
   "outputs": [
    {
     "name": "stdout",
     "output_type": "stream",
     "text": [
      "{'vowels': {'a', 'i', 'e', 'o'}, 'consonants': {'b', 'd', 'c'}}\n"
     ]
    }
   ],
   "source": [
    "# Question 18: Add 'o' to vowels set in nested dictionary \n",
    "set_dicts = {\n",
    "    'vowels': {'a', 'e', 'i'},\n",
    "    'consonants': {'b', 'c', 'd'}\n",
    "      }\n",
    "set_dicts['vowels'].add('o')\n",
    "print(set_dicts)\n"
   ]
  },
  {
   "cell_type": "code",
   "execution_count": 67,
   "id": "3bae9ed7",
   "metadata": {},
   "outputs": [
    {
     "name": "stdout",
     "output_type": "stream",
     "text": [
      "{'company': {'department': {'employee': {'name': 'John', 'id': 123}}}}\n"
     ]
    }
   ],
   "source": [
    "# Question 19: Create a 3-level nested dictionary: {'company': {'department': {'employee': {'name': 'John', 'id': 123}}}}\n",
    "\n",
    "nested_dicts_3level = {\n",
    "    'company': {\n",
    "        'department':{\n",
    "            'employee':{\n",
    "                'name': 'John',\n",
    "                'id': 123\n",
    "             }\n",
    "        }\n",
    "    }\n",
    "}\n",
    "print(nested_dicts_3level)\n"
   ]
  },
  {
   "cell_type": "code",
   "execution_count": 69,
   "id": "d486a455",
   "metadata": {},
   "outputs": [
    {
     "name": "stdout",
     "output_type": "stream",
     "text": [
      "John\n"
     ]
    }
   ],
   "source": [
    "# Question 20: Access employee name from 3-level nested dictionary\n",
    "\n",
    "nested_dicts_3level = {\n",
    "    'company': {\n",
    "        'department':{\n",
    "            'employee':{\n",
    "                'name': 'John',\n",
    "                'id': 123\n",
    "             }\n",
    "        }\n",
    "    }\n",
    "}\n",
    "\n",
    "access_name = nested_dicts_3level['company']['department']['employee']['name']\n",
    "print(access_name)\n",
    "\n"
   ]
  },
  {
   "cell_type": "code",
   "execution_count": 70,
   "id": "71a0e9cd",
   "metadata": {},
   "outputs": [
    {
     "name": "stdout",
     "output_type": "stream",
     "text": [
      "{'int': 42, 'float': 3.14, 'str': 'hello', 'bool': True}\n"
     ]
    }
   ],
   "source": [
    "# Question 21: Create a dictionary with mixed data types: {'int': 42, 'float': 3.14, 'str': 'hello', 'bool': True}\n",
    "\n",
    "data_types_dicts = {\n",
    "    'int': 42,\n",
    "    'float': 3.14, \n",
    "    'str': 'hello',\n",
    "    'bool': True\n",
    "    }\n",
    "print(data_types_dicts)"
   ]
  },
  {
   "cell_type": "code",
   "execution_count": 80,
   "id": "6cfd0ab6",
   "metadata": {},
   "outputs": [
    {
     "name": "stdout",
     "output_type": "stream",
     "text": [
      "int: <class 'int'>\n",
      "float: <class 'float'>\n",
      "str: <class 'str'>\n",
      "bool: <class 'bool'>\n"
     ]
    }
   ],
   "source": [
    "# Question 22: Check data type of each value in mixed dictionary\n",
    "\n",
    "data_types_dicts = {\n",
    "    'int': 42,\n",
    "    'float': 3.14, \n",
    "    'str': 'hello',\n",
    "    'bool': True\n",
    "    }\n",
    "for key, vaule in data_types_dicts.items():\n",
    "     print(f\"{key}: {type(vaule)}\")\n",
    " "
   ]
  },
  {
   "cell_type": "code",
   "execution_count": 91,
   "id": "eb288482",
   "metadata": {},
   "outputs": [
    {
     "name": "stdout",
     "output_type": "stream",
     "text": [
      "{'len': <built-in function len>, 'str': <class 'str'>, 'int': <class 'int'>}\n"
     ]
    }
   ],
   "source": [
    "# Question 23: Create a dictionary with function values: {'len': len, 'str': str, 'int': int}\n",
    "\n",
    "function_dict = {\n",
    "    'len': len,\n",
    "    'str': str, \n",
    "    'int': int\n",
    "    }\n",
    "print(function_dict)"
   ]
  },
  {
   "cell_type": "code",
   "execution_count": 105,
   "id": "14ae48c0",
   "metadata": {},
   "outputs": [
    {
     "name": "stdout",
     "output_type": "stream",
     "text": [
      "3\n",
      "123\n",
      "123\n"
     ]
    }
   ],
   "source": [
    "# Question 24: Apply each function to \"123\" using dictionary\n",
    "function_dict = {\n",
    "    'len': len,\n",
    "    'str': str, \n",
    "    'int': int\n",
    "    }\n",
    "for name, func in function_dict.items():\n",
    "    result = func(\"123\")\n",
    "    print(result)\n"
   ]
  },
  {
   "cell_type": "code",
   "execution_count": 1,
   "id": "1ef25489",
   "metadata": {},
   "outputs": [
    {
     "name": "stdout",
     "output_type": "stream",
     "text": [
      "{'double': <function <lambda> at 0x0000017CECF7CD60>, 'square': <function <lambda> at 0x0000017CECF7C860>}\n"
     ]
    }
   ],
   "source": [
    "# Question 25: Create a dictionary with lambda functions: {'double': lambda x: x*2, 'square': lambda x: x**2}\n",
    "\n",
    "operations = {\n",
    "    'double': lambda x: x * 2,\n",
    "    'square': lambda x: x ** 2\n",
    "}\n",
    "print(operations)"
   ]
  },
  {
   "cell_type": "code",
   "execution_count": 2,
   "id": "49b216ed",
   "metadata": {},
   "outputs": [
    {
     "name": "stdout",
     "output_type": "stream",
     "text": [
      "Double of 5: 10\n",
      "Square of 5: 25\n"
     ]
    }
   ],
   "source": [
    "# Question 26: Apply each lambda function to 5\n",
    "operations = {\n",
    "    'double': lambda x: x * 2,\n",
    "    'square': lambda x: x ** 2\n",
    "}\n",
    "value = 5\n",
    "print(f\"Double of {value}: {operations['double'](value)}\") \n",
    "print(f\"Square of {value}: {operations['square'](value)}\") "
   ]
  },
  {
   "cell_type": "code",
   "execution_count": 3,
   "id": "004489e2",
   "metadata": {},
   "outputs": [
    {
     "name": "stdout",
     "output_type": "stream",
     "text": [
      "{'list': <class 'list'>, 'dict': <class 'dict'>, 'set': <class 'set'>}\n"
     ]
    }
   ],
   "source": [
    "# Question 27: Create a dictionary with class values: {'list': list, 'dict': dict, 'set': set}\n",
    "\n",
    "class_map = {\n",
    "    'list': list,\n",
    "    'dict': dict,\n",
    "    'set': set\n",
    "}\n",
    "print(class_map)\n"
   ]
  },
  {
   "cell_type": "code",
   "execution_count": 4,
   "id": "edf68318",
   "metadata": {},
   "outputs": [
    {
     "name": "stdout",
     "output_type": "stream",
     "text": [
      "<class 'list'> []\n"
     ]
    }
   ],
   "source": [
    "# Question 28: Create instances using class dictionary\n",
    "\n",
    "class_map = {\n",
    "    'list': list,\n",
    "    'dict': dict,\n",
    "    'set': set\n",
    "}\n",
    "\n",
    "kind = 'list'\n",
    "obj = class_map[kind]() \n",
    "print(type(obj), obj)    "
   ]
  },
  {
   "cell_type": "code",
   "execution_count": 24,
   "id": "28162bbc",
   "metadata": {},
   "outputs": [
    {
     "name": "stdout",
     "output_type": "stream",
     "text": [
      "{'a': None, 'b': None, 'c': None}\n"
     ]
    }
   ],
   "source": [
    "# Question 29: Create a dictionary with None values: {'a': None, 'b': None, 'c': None}\n",
    "\n",
    "d = {'a': None, 'b': None, 'c': None}\n",
    "print(d)\n"
   ]
  },
  {
   "cell_type": "code",
   "execution_count": 25,
   "id": "6fc3c7ac",
   "metadata": {},
   "outputs": [
    {
     "name": "stdout",
     "output_type": "stream",
     "text": [
      "{'a': 0, 'b': 0, 'c': 0}\n"
     ]
    }
   ],
   "source": [
    "# Question 30: Replace all None values with 0\n",
    "\n",
    "d1 =  {k: (v if v is not None else 0) for k, v in d.items()}\n",
    "print(d1)\n",
    " "
   ]
  },
  {
   "cell_type": "code",
   "execution_count": 33,
   "id": "6ae5d324",
   "metadata": {},
   "outputs": [
    {
     "name": "stdout",
     "output_type": "stream",
     "text": [
      "{'is_active': True, 'is_admin': False}\n"
     ]
    }
   ],
   "source": [
    "# Question 31: Create a dictionary with boolean values: {'is_active': True, 'is_admin': False}\n",
    "\n",
    "user = {\n",
    "    'is_active': True,\n",
    "    'is_admin': False\n",
    "}\n",
    "print (user)"
   ]
  },
  {
   "cell_type": "code",
   "execution_count": 35,
   "id": "4f584ed3",
   "metadata": {},
   "outputs": [
    {
     "name": "stdout",
     "output_type": "stream",
     "text": [
      "1\n"
     ]
    }
   ],
   "source": [
    "# Question 32: Count True values in boolean dictionary\n",
    "count_true = sum(user.values())\n",
    "print(count_true)"
   ]
  },
  {
   "cell_type": "code",
   "execution_count": 36,
   "id": "44eac522",
   "metadata": {},
   "outputs": [
    {
     "name": "stdout",
     "output_type": "stream",
     "text": [
      "{'z1': (3+4j), 'z2': (1+2j)}\n"
     ]
    }
   ],
   "source": [
    "# Question 33: Create a dictionary with complex numbers: {'z1': 3+4j, 'z2': 1+2j}\n",
    "\n",
    "complex_dict = {\n",
    "    'z1': 3 + 4j,\n",
    "    'z2': 1 + 2j\n",
    "}\n",
    "print(complex_dict)"
   ]
  },
  {
   "cell_type": "code",
   "execution_count": 37,
   "id": "b02158bf",
   "metadata": {},
   "outputs": [
    {
     "name": "stdout",
     "output_type": "stream",
     "text": [
      "{'z1': 5.0, 'z2': 2.23606797749979}\n"
     ]
    }
   ],
   "source": [
    "# Question 34: Find magnitude of each complex number\n",
    "complex_dict = {'z1': 3 + 4j, 'z2': 1 + 2j}\n",
    "magnitude_dict = {k: abs(v) for k, v in complex_dict.items()}\n",
    "print(magnitude_dict)  # {'z1': 5.0, 'z2': 2.23606797749979}\n"
   ]
  },
  {
   "cell_type": "code",
   "execution_count": 38,
   "id": "92a43fc9",
   "metadata": {},
   "outputs": [],
   "source": [
    "# Question 35: Create a 4-level nested dictionary\n",
    "\n",
    "nested_dict = {\n",
    "    'level1': {\n",
    "        'level2': {\n",
    "            'level3': {\n",
    "                'level4': 'deep_value'\n",
    "            }\n",
    "        }\n",
    "    }\n",
    "}\n"
   ]
  },
  {
   "cell_type": "code",
   "execution_count": 39,
   "id": "b722e34d",
   "metadata": {},
   "outputs": [
    {
     "name": "stdout",
     "output_type": "stream",
     "text": [
      "deep_value\n"
     ]
    }
   ],
   "source": [
    "# Question 36: Access deepest value in 4-level nested dictionary\n",
    "\n",
    "value = nested_dict['level1']['level2']['level3']['level4']\n",
    "print(value)  "
   ]
  },
  {
   "cell_type": "code",
   "execution_count": 42,
   "id": "8244a18c",
   "metadata": {},
   "outputs": [],
   "source": [
    "# Question 37: Create a dictionary with range values: {'r1': range(3), 'r2': range(5)}\n",
    "\n",
    "d = {\n",
    "    'r1': range(3),\n",
    "    'r2': range(5)\n",
    "}\n"
   ]
  },
  {
   "cell_type": "code",
   "execution_count": 44,
   "id": "4561e443",
   "metadata": {},
   "outputs": [
    {
     "name": "stdout",
     "output_type": "stream",
     "text": [
      "{'r1': [0, 1, 2], 'r2': [0, 1, 2, 3, 4]}\n"
     ]
    }
   ],
   "source": [
    "# Question 38: Convert each range to list\n",
    "\n",
    "list_dict = {k: list(v) for k, v in d.items()}\n",
    "print(list_dict)"
   ]
  },
  {
   "cell_type": "code",
   "execution_count": 53,
   "id": "b1fde1e4",
   "metadata": {},
   "outputs": [],
   "source": [
    "# Question 39: Create a dictionary with generator values\n",
    "\n",
    "dict_with_generators = {\n",
    "    'gen1': (x * 2 for x in range(5)),\n",
    "    'gen2': (i**2 for i in range(3))\n",
    "}\n",
    "\n"
   ]
  },
  {
   "cell_type": "code",
   "execution_count": 54,
   "id": "c422d406",
   "metadata": {},
   "outputs": [
    {
     "name": "stdout",
     "output_type": "stream",
     "text": [
      "{'gen1': [0, 2, 4, 6, 8], 'gen2': [0, 1, 4]}\n"
     ]
    }
   ],
   "source": [
    "# Question 40: Convert each generator to list\n",
    "\n",
    "list_dict = {k: list(v) for k, v in dict_with_generators.items()}\n",
    "print(list_dict)"
   ]
  },
  {
   "cell_type": "code",
   "execution_count": 55,
   "id": "b757f707",
   "metadata": {},
   "outputs": [],
   "source": [
    "# Question 41: Create a dictionary with iterator values\n",
    "\n",
    "iterator_dict = {\n",
    "    'it1': iter(range(3)),\n",
    "    'it2': iter(range(5))\n",
    "}\n"
   ]
  },
  {
   "cell_type": "code",
   "execution_count": 56,
   "id": "5b3ceb35",
   "metadata": {},
   "outputs": [
    {
     "name": "stdout",
     "output_type": "stream",
     "text": [
      "{'it1': [0, 1, 2], 'it2': [0, 1, 2, 3, 4]}\n"
     ]
    }
   ],
   "source": [
    "# Question 42: Extract all elements from each iterator\n",
    "\n",
    "list_dict1 = {k: list(v) for k, v in iterator_dict.items()}\n",
    "print(list_dict1)\n",
    "\n"
   ]
  },
  {
   "cell_type": "code",
   "execution_count": 59,
   "id": "771dcf8c",
   "metadata": {},
   "outputs": [],
   "source": [
    "# Question 43: Create a dictionary with nested lists: {'matrix': [[1, 2], [3, 4]], 'vector': [5, 6, 7]}\n",
    "\n",
    "data = {\n",
    "    'matrix': [[1, 2], [3, 4]],\n",
    "    'vector': [5, 6, 7]\n",
    "}\n"
   ]
  },
  {
   "cell_type": "code",
   "execution_count": 61,
   "id": "8e252c22",
   "metadata": {},
   "outputs": [
    {
     "name": "stdout",
     "output_type": "stream",
     "text": [
      "{'matrix': [3, 7], 'vector': 18}\n"
     ]
    }
   ],
   "source": [
    "# Question 44: Find sum of each nested list\n",
    "\n",
    "\n",
    "sum_each_row = {k: [sum(sub) for sub in v] if isinstance(v[0], list) else sum(v)\n",
    "                for k, v in data.items()}\n",
    "print(sum_each_row)\n",
    "\n",
    "\n"
   ]
  },
  {
   "cell_type": "code",
   "execution_count": 62,
   "id": "f598ba06",
   "metadata": {},
   "outputs": [],
   "source": [
    "# Question 45: Create a dictionary with nested dictionaries: {'config': {'db': {'host': 'localhost', 'port': 5432}}}\n",
    "config = {\n",
    "    'config': {\n",
    "        'db': {\n",
    "            'host': 'localhost',\n",
    "            'port': 5432\n",
    "        }\n",
    "    }\n",
    "}\n"
   ]
  },
  {
   "cell_type": "code",
   "execution_count": null,
   "id": "d8a686bd",
   "metadata": {},
   "outputs": [
    {
     "name": "stdout",
     "output_type": "stream",
     "text": [
      "5432\n"
     ]
    }
   ],
   "source": [
    "# Question 46: Access database port from nested configuration\n",
    "\n",
    "port = config['config']['db']['port']\n",
    "print(port)  "
   ]
  },
  {
   "cell_type": "code",
   "execution_count": 65,
   "id": "f76febda",
   "metadata": {},
   "outputs": [],
   "source": [
    "# Question 47: Create a dictionary with nested tuples: {'points': ((1, 2), (3, 4)), 'rgb': ((255, 0, 0), (0, 255, 0))}\n",
    "\n",
    "data = {\n",
    "    'points': ((1, 2), (3, 4)),\n",
    "    'rgb': ((255, 0, 0), (0, 255, 0))\n",
    "}\n"
   ]
  },
  {
   "cell_type": "code",
   "execution_count": 66,
   "id": "4e079ff0",
   "metadata": {},
   "outputs": [
    {
     "name": "stdout",
     "output_type": "stream",
     "text": [
      "(1, 2)\n"
     ]
    }
   ],
   "source": [
    "# Question 48: Extract first point coordinates \n",
    "\n",
    "first_point = data['points'][0]\n",
    "print(first_point)  \n",
    "\n"
   ]
  },
  {
   "cell_type": "code",
   "execution_count": 68,
   "id": "6737bb4d",
   "metadata": {},
   "outputs": [],
   "source": [
    "# Question 49: Create a dictionary with nested sets: {'groups': {{1, 2, 3}, {4, 5, 6}}, 'categories': {{'a', 'b'}, {'c', 'd'}}}\n",
    "data = {\n",
    "    'groups': ({1, 2, 3}, {4, 5, 6}),\n",
    "    'categories': ({'a', 'b'}, {'c', 'd'})\n",
    "}\n"
   ]
  },
  {
   "cell_type": "code",
   "execution_count": 70,
   "id": "83752a4b",
   "metadata": {},
   "outputs": [
    {
     "name": "stdout",
     "output_type": "stream",
     "text": [
      "{1, 2, 3, 4, 5, 6}\n",
      "{'c', 'b', 'd', 'a'}\n"
     ]
    }
   ],
   "source": [
    "# Question 50: Find union of all nested sets\n",
    "\n",
    "union_groups = set().union(*data['groups'])\n",
    "union_categories = set().union(*data['categories'])\n",
    "\n",
    "print(union_groups)\n",
    "print(union_categories)  \n",
    "\n"
   ]
  }
 ],
 "metadata": {
  "kernelspec": {
   "display_name": "Python 3",
   "language": "python",
   "name": "python3"
  },
  "language_info": {
   "codemirror_mode": {
    "name": "ipython",
    "version": 3
   },
   "file_extension": ".py",
   "mimetype": "text/x-python",
   "name": "python",
   "nbconvert_exporter": "python",
   "pygments_lexer": "ipython3",
   "version": "3.13.0"
  }
 },
 "nbformat": 4,
 "nbformat_minor": 5
}
