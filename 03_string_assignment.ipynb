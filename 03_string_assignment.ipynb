{
 "cells": [
  {
   "cell_type": "code",
   "execution_count": 78,
   "id": "5cde8e91",
   "metadata": {},
   "outputs": [
    {
     "data": {
      "text/plain": [
       "'gnimmargorP nohtyP'"
      ]
     },
     "execution_count": 78,
     "metadata": {},
     "output_type": "execute_result"
    }
   ],
   "source": [
    "# Question 1: Reverse the string \"Python Programming\"\n",
    "\n",
    "str = \"Python Programming\"\n",
    "str[::-1]\n"
   ]
  },
  {
   "cell_type": "code",
   "execution_count": 11,
   "id": "ea5532aa",
   "metadata": {},
   "outputs": [
    {
     "name": "stdout",
     "output_type": "stream",
     "text": [
      "\"racecar\" is a palindrome.\n"
     ]
    }
   ],
   "source": [
    "# Question 2: Check if \"racecar\" is a palindrome\n",
    "\n",
    "word = \"racecar\"\n",
    "if word == word[::-1]:\n",
    "    print(f'\"{word}\" is a palindrome.')\n",
    "else:\n",
    "    print(f'\"{word}\" is not a palindrome.')"
   ]
  },
  {
   "cell_type": "code",
   "execution_count": 79,
   "id": "a2403ea8",
   "metadata": {},
   "outputs": [
    {
     "data": {
      "text/plain": [
       "6"
      ]
     },
     "execution_count": 79,
     "metadata": {},
     "output_type": "execute_result"
    }
   ],
   "source": [
    "# Question 3: Count the number of words in \"Python is a great programming language\"\n",
    "\n",
    "sentence = \"Python is a great programming language\"\n",
    "len(sentence.split())\n"
   ]
  },
  {
   "cell_type": "code",
   "execution_count": 18,
   "id": "4154c903",
   "metadata": {},
   "outputs": [
    {
     "data": {
      "text/plain": [
       "'Hello World'"
      ]
     },
     "execution_count": 18,
     "metadata": {},
     "output_type": "execute_result"
    }
   ],
   "source": [
    "# Question 4: Convert \"hello world\" to title case\n",
    "\n",
    "string = \"hello world\"\n",
    "string.title()"
   ]
  },
  {
   "cell_type": "code",
   "execution_count": 28,
   "id": "0cad325b",
   "metadata": {},
   "outputs": [
    {
     "name": "stdout",
     "output_type": "stream",
     "text": [
      "The length of the string \"Data Science\" is: 12\n"
     ]
    }
   ],
   "source": [
    "# Question 5: Find the length of string \"Data Science\"\n",
    "\n",
    "string = \"Data Science\"\n",
    "length = len(string)\n",
    "print(f'The length of the string \"{string}\" is: {length}')\n"
   ]
  },
  {
   "cell_type": "code",
   "execution_count": 30,
   "id": "77f353b4",
   "metadata": {},
   "outputs": [
    {
     "data": {
      "text/plain": [
       "'Machine_Learning'"
      ]
     },
     "execution_count": 30,
     "metadata": {},
     "output_type": "execute_result"
    }
   ],
   "source": [
    "# Question 6: Replace all spaces with underscores in \"Machine Learning\"\n",
    "\n",
    "data = \"Machine Learning\"\n",
    "data.replace(\" \", \"_\")\n",
    "\n"
   ]
  },
  {
   "cell_type": "code",
   "execution_count": 31,
   "id": "d2a00e7b",
   "metadata": {},
   "outputs": [
    {
     "name": "stdout",
     "output_type": "stream",
     "text": [
      "\"python\" is in the string.\n"
     ]
    }
   ],
   "source": [
    "# Question 7: Check if \"python\" is in \"Python Programming Language\"\n",
    "\n",
    "text = \"Python Programming Language\"\n",
    "if \"python\" in text.lower():\n",
    "    print('\"python\" is in the string.')\n",
    "else:\n",
    "    print('\"python\" is not in the string.')"
   ]
  },
  {
   "cell_type": "code",
   "execution_count": 41,
   "id": "5edb8cea",
   "metadata": {},
   "outputs": [
    {
     "name": "stdout",
     "output_type": "stream",
     "text": [
      "The first 5 characters are: Artif\n"
     ]
    }
   ],
   "source": [
    "# Question 8: Extract the first 5 characters from \"Artificial Intelligence\"\n",
    "\n",
    "string =\"Artificial Intelligence\"\n",
    "first_5_char =string[0:5]\n",
    "print(f\"The first 5 characters are: {first_5_char}\")"
   ]
  },
  {
   "cell_type": "code",
   "execution_count": 80,
   "id": "28c7fa8f",
   "metadata": {},
   "outputs": [
    {
     "data": {
      "text/plain": [
       "'uppercase'"
      ]
     },
     "execution_count": 80,
     "metadata": {},
     "output_type": "execute_result"
    }
   ],
   "source": [
    "# Question 9: Convert \"UPPERCASE\" to lowercase\n",
    "\n",
    "word = \"UPPERCASE\"\n",
    "word.lower()\n"
   ]
  },
  {
   "cell_type": "code",
   "execution_count": 52,
   "id": "ad299540",
   "metadata": {},
   "outputs": [
    {
     "name": "stdout",
     "output_type": "stream",
     "text": [
      "Cmptr Scnc\n"
     ]
    }
   ],
   "source": [
    "# Question 10: Remove all vowels from \"Computer Science\"\n",
    "\n",
    "string = \"Computer Science\"\n",
    "vowels = \"aeiouAEIOU\"\n",
    "result =\"\".join([char for char in string if char not in vowels])\n",
    "print(result)"
   ]
  },
  {
   "cell_type": "code",
   "execution_count": 54,
   "id": "7acbc652",
   "metadata": {},
   "outputs": [
    {
     "name": "stdout",
     "output_type": "stream",
     "text": [
      "The most frequent character is: 's'\n"
     ]
    }
   ],
   "source": [
    "# Question 11: Find the most frequent character in \"mississippi\"\n",
    "\n",
    "string = \"mississippi\"\n",
    "most_frequent = max(set(string), key=string.count)\n",
    "print(f\"The most frequent character is: '{most_frequent}'\")"
   ]
  },
  {
   "cell_type": "code",
   "execution_count": 55,
   "id": "14609b8f",
   "metadata": {},
   "outputs": [
    {
     "name": "stdout",
     "output_type": "stream",
     "text": [
      "\"listen\" and \"silent\" are anagrams.\n"
     ]
    }
   ],
   "source": [
    "# Question 12: Check if two strings are anagrams: \"listen\" and \"silent\"\n",
    "\n",
    "str1 = \"listen\"\n",
    "str2 = \"silent\" \n",
    "if sorted(str1) == sorted(str2):\n",
    "    print(f'\"{str1}\" and \"{str2}\" are anagrams.')\n",
    "else:\n",
    "    print(f'\"{str1}\" and \"{str2}\" are not anagrams.')"
   ]
  },
  {
   "cell_type": "code",
   "execution_count": 56,
   "id": "37222443",
   "metadata": {},
   "outputs": [
    {
     "data": {
      "text/plain": [
       "'Python Programming Language'"
      ]
     },
     "execution_count": 56,
     "metadata": {},
     "output_type": "execute_result"
    }
   ],
   "source": [
    "# Question 13: Capitalize first letter of each word in \"python programming language\"\n",
    "\n",
    "string = \"python programming language\"\n",
    "string.title()"
   ]
  },
  {
   "cell_type": "code",
   "execution_count": 57,
   "id": "4fd0eda3",
   "metadata": {},
   "outputs": [
    {
     "name": "stdout",
     "output_type": "stream",
     "text": [
      "The number of consonants in \"Hello World\" is: 7\n"
     ]
    }
   ],
   "source": [
    "# Question 14: Count consonants in \"Hello World\"\n",
    "\n",
    "string = \"Hello World\"\n",
    "consonants = \"bcdfghjklmnpqrstvwxyzBCDFGHJKLMNPQRSTVWXYZ\"\n",
    "count = sum(1 for char in string if char in consonants) \n",
    "print(f'The number of consonants in \"{string}\" is: {count}')"
   ]
  },
  {
   "cell_type": "code",
   "execution_count": 81,
   "id": "08f8e5ae",
   "metadata": {},
   "outputs": [
    {
     "name": "stdout",
     "output_type": "stream",
     "text": [
      "The longest word is: \"programming\"\n"
     ]
    }
   ],
   "source": [
    "# Question 15: Find the longest word in \"Python is a programming language\"\n",
    "\n",
    "sentence = \"Python is a programming language\"\n",
    "longest_word = max(sentence.split(), key=len)\n",
    "print(f'The longest word is: \"{longest_word}\"')"
   ]
  },
  {
   "cell_type": "code",
   "execution_count": 59,
   "id": "3165fffe",
   "metadata": {},
   "outputs": [
    {
     "name": "stdout",
     "output_type": "stream",
     "text": [
      "The string without punctuation is: \"Hello World How are you\"\n"
     ]
    }
   ],
   "source": [
    "# Question 16: Remove all punctuation from \"Hello, World! How are you?\"\n",
    "\n",
    "import string\n",
    "text = \"Hello, World! How are you?\"\n",
    "result = text.translate(str.maketrans('', '', string.punctuation))\n",
    "print(f'The string without punctuation is: \"{result}\"')\n"
   ]
  },
  {
   "cell_type": "code",
   "execution_count": 64,
   "id": "0892628f",
   "metadata": {},
   "outputs": [
    {
     "data": {
      "text/plain": [
       "True"
      ]
     },
     "execution_count": 64,
     "metadata": {},
     "output_type": "execute_result"
    }
   ],
   "source": [
    "# Question 17: Check if string starts with \"Python\"\n",
    "\n",
    "string = \"Python\"\n",
    "string.startswith(\"\")\n",
    "\n"
   ]
  },
  {
   "cell_type": "code",
   "execution_count": 69,
   "id": "b0e81746",
   "metadata": {},
   "outputs": [
    {
     "data": {
      "text/plain": [
       "4"
      ]
     },
     "execution_count": 69,
     "metadata": {},
     "output_type": "execute_result"
    }
   ],
   "source": [
    "# Question 18: Find the index of first occurrence of 'o' in \"Hello World\"\n",
    "\n",
    "string = \"Hello World\"\n",
    "string.find('o')\n"
   ]
  },
  {
   "cell_type": "code",
   "execution_count": 68,
   "id": "da0eff9e",
   "metadata": {},
   "outputs": [
    {
     "data": {
      "text/plain": [
       "['apple', 'banana', 'orange']"
      ]
     },
     "execution_count": 68,
     "metadata": {},
     "output_type": "execute_result"
    }
   ],
   "source": [
    "# Question 19: Split string \"apple,banana,orange\" by comma\n",
    "\n",
    "string = \"apple,banana,orange\"\n",
    "string.split(',')    \n"
   ]
  },
  {
   "cell_type": "code",
   "execution_count": 75,
   "id": "58bef7b6",
   "metadata": {},
   "outputs": [
    {
     "name": "stdout",
     "output_type": "stream",
     "text": [
      "The joined string is: \"Python is awesome\"\n"
     ]
    }
   ],
   "source": [
    "# Question 20: Join list ['Python', 'is', 'awesome'] with spaces\n",
    "\n",
    "words = ['Python', 'is', 'awesome']\n",
    "word = ' '.join(words)\n",
    "print(f'The joined string is: \"{word}\"')\n",
    "\n"
   ]
  },
  {
   "cell_type": "code",
   "execution_count": 76,
   "id": "2d495495",
   "metadata": {},
   "outputs": [
    {
     "data": {
      "text/plain": [
       "True"
      ]
     },
     "execution_count": 76,
     "metadata": {},
     "output_type": "execute_result"
    }
   ],
   "source": [
    "# Question 21: Check if string contains only digits: \"12345\"\n",
    "\n",
    "string = \"12345\"\n",
    "string.isdigit()"
   ]
  },
  {
   "cell_type": "code",
   "execution_count": 77,
   "id": "7ef08f4c",
   "metadata": {},
   "outputs": [
    {
     "data": {
      "text/plain": [
       "True"
      ]
     },
     "execution_count": 77,
     "metadata": {},
     "output_type": "execute_result"
    }
   ],
   "source": [
    "# Question 22: Check if string contains only letters: \"HelloWorld\"\n",
    "\n",
    "string = \"HelloWorld\"\n",
    "string.isalpha()"
   ]
  },
  {
   "cell_type": "code",
   "execution_count": 86,
   "id": "1fc992ff",
   "metadata": {},
   "outputs": [
    {
     "name": "stdout",
     "output_type": "stream",
     "text": [
      "The alternating case string is: \"hElLo wOrLd\"\n"
     ]
    }
   ],
   "source": [
    "# Question 23: Convert \"hello world\" to \"hElLo WoRlD\" (alternating case)\n",
    "\n",
    "string = \"hello world\"\n",
    "result = \"\"\n",
    "i=0\n",
    "for char in string:\n",
    "    if i % 2 == 0:\n",
    "        result += char.lower()\n",
    "    else:\n",
    "        result += char.upper()\n",
    "    i += 1\n",
    "print(f'The alternating case string is: \"{result}\"')"
   ]
  },
  {
   "cell_type": "code",
   "execution_count": 88,
   "id": "6dbd9f61",
   "metadata": {},
   "outputs": [
    {
     "name": "stdout",
     "output_type": "stream",
     "text": [
      "The positions of \"a\" in \"banana\" are: [1, 3, 5]\n"
     ]
    }
   ],
   "source": [
    "# Question 24: Find all positions of 'a' in \"banana\"\n",
    "word = \"banana\"\n",
    "positions = [i for i, char in enumerate(word) if char == 'a']\n",
    "print(f'The positions of \"a\" in \"{word}\" are: {positions}')"
   ]
  },
  {
   "cell_type": "code",
   "execution_count": 89,
   "id": "e681d293",
   "metadata": {},
   "outputs": [
    {
     "data": {
      "text/plain": [
       "'Hello World'"
      ]
     },
     "execution_count": 89,
     "metadata": {},
     "output_type": "execute_result"
    }
   ],
   "source": [
    "# Question 25: Remove leading and trailing whitespace from \"  Hello World  \"\n",
    "\n",
    "char = \"  Hello World  \"\n",
    "char.strip()"
   ]
  },
  {
   "cell_type": "code",
   "execution_count": 90,
   "id": "a580c9f3",
   "metadata": {},
   "outputs": [
    {
     "data": {
      "text/plain": [
       "True"
      ]
     },
     "execution_count": 90,
     "metadata": {},
     "output_type": "execute_result"
    }
   ],
   "source": [
    "# Question 26: Check if string ends with \"ing\": \"programming\"\n",
    "\n",
    "string = \"programming\"\n",
    "string.endswith('ing')"
   ]
  },
  {
   "cell_type": "code",
   "execution_count": 91,
   "id": "c322ea07",
   "metadata": {},
   "outputs": [
    {
     "data": {
      "text/plain": [
       "'Hell0 World'"
      ]
     },
     "execution_count": 91,
     "metadata": {},
     "output_type": "execute_result"
    }
   ],
   "source": [
    "# Question 27: Replace first occurrence of 'o' with '0' in \"Hello World\"\n",
    "\n",
    "word = \"Hello World\"\n",
    "word.replace('o', '0', 1)"
   ]
  },
  {
   "cell_type": "code",
   "execution_count": 92,
   "id": "70c3f819",
   "metadata": {},
   "outputs": [
    {
     "data": {
      "text/plain": [
       "2"
      ]
     },
     "execution_count": 92,
     "metadata": {},
     "output_type": "execute_result"
    }
   ],
   "source": [
    "# Question 29: Count words that start with 'p' in \"Python programming is powerful\"\n",
    "\n",
    "words = \"Python programming is powerful\"\n",
    "words.count('p')"
   ]
  },
  {
   "cell_type": "code",
   "execution_count": 95,
   "id": "fadab0a3",
   "metadata": {},
   "outputs": [
    {
     "data": {
      "text/plain": [
       "'nohtyP dlroW olleH'"
      ]
     },
     "execution_count": 95,
     "metadata": {},
     "output_type": "execute_result"
    }
   ],
   "source": [
    "# Question 30: Reverse words in \"Hello World Python\"\n",
    "\n",
    "words = \"Hello World Python\"\n",
    "words[::-1]"
   ]
  },
  {
   "cell_type": "code",
   "execution_count": 97,
   "id": "f67eb7c4",
   "metadata": {},
   "outputs": [
    {
     "data": {
      "text/plain": [
       "True"
      ]
     },
     "execution_count": 97,
     "metadata": {},
     "output_type": "execute_result"
    }
   ],
   "source": [
    "# Question 31: Check if string is a valid email format: \"user@example.com\"\n",
    "\n",
    "email = \"user@example.com\"\n",
    "email.endswith(\"@example.com\")"
   ]
  },
  {
   "cell_type": "code",
   "execution_count": null,
   "id": "0932fbc5",
   "metadata": {},
   "outputs": [
    {
     "data": {
      "text/plain": [
       "'www.example.com'"
      ]
     },
     "execution_count": 99,
     "metadata": {},
     "output_type": "execute_result"
    }
   ],
   "source": [
    "# Question 32: Extract domain from \"https://www.example.com/path\"\n",
    "\n",
    "url = \"https://www.example.com/path\"\n",
    "url.split(\"//\")[-1].split(\"/\")[0]\n"
   ]
  },
  {
   "cell_type": "code",
   "execution_count": 119,
   "id": "9f124e98",
   "metadata": {},
   "outputs": [
    {
     "data": {
      "text/plain": [
       "5"
      ]
     },
     "execution_count": 119,
     "metadata": {},
     "output_type": "execute_result"
    }
   ],
   "source": [
    "\n",
    "# Question 33: Count lines in multi-line string\n",
    "text = \"\"\"My name is ch.praveen kumar yadav\\n.\n",
    "I am a student of Data Sciences.\n",
    "I am learning string manipulation.\n",
    "I am excited to learn more.\n",
    "I am looking forward to applying my skills.\"\"\"\n",
    "\n",
    "text.count('\\n')"
   ]
  },
  {
   "cell_type": "code",
   "execution_count": 120,
   "id": "ed8c1a5b",
   "metadata": {},
   "outputs": [
    {
     "name": "stdout",
     "output_type": "stream",
     "text": [
      "The common characters are: {'l', 'o'}\n"
     ]
    }
   ],
   "source": [
    "# Question 34: Find common characters between \"hello\" and \"world\"\n",
    "\n",
    "str1 = \"hello\"\n",
    "str2 = \"world\"\n",
    "common_chars = set(str1) & set(str2)\n",
    "print(f'The common characters are: {common_chars}')"
   ]
  },
  {
   "cell_type": "code",
   "execution_count": 4,
   "id": "0312928d",
   "metadata": {},
   "outputs": [
    {
     "name": "stdout",
     "output_type": "stream",
     "text": [
      "\"+1-555-123-4567\" is a valid phone number.\n"
     ]
    }
   ],
   "source": [
    "# Question 35: Check if string is a valid phone number: \"+1-555-123-4567\"\n",
    "\n",
    "phone_number = \"+1-555-123-4567\"\n",
    "if phone_number.startswith(\"+\") and phone_number[1:].replace(\"-\", \"\").isdigit():\n",
    "    print(f'\"{phone_number}\" is a valid phone number.')\n",
    "\n",
    "\n",
    "\n",
    "\n"
   ]
  },
  {
   "cell_type": "code",
   "execution_count": null,
   "id": "95158208",
   "metadata": {},
   "outputs": [
    {
     "name": "stdout",
     "output_type": "stream",
     "text": [
      "The extracted numbers are: 123456789\n"
     ]
    }
   ],
   "source": [
    "\n",
    "# Question 36: Extract numbers from \"abc123def456ghi789\"\n",
    "\n",
    "\n",
    "text = \"abc123def456ghi789\"\n",
    "numbers = ''.join(filter(str.isdigit, text))\n",
    "print(f'The extracted numbers are: {numbers}')\n",
    "\n"
   ]
  },
  {
   "cell_type": "code",
   "execution_count": 19,
   "id": "3168d3ee",
   "metadata": {},
   "outputs": [
    {
     "name": "stdout",
     "output_type": "stream",
     "text": [
      "snakeCase\n"
     ]
    }
   ],
   "source": [
    "# Question 37: Convert \"snake_case\" to \"camelCase\"\n",
    "\n",
    "snake = \"snake_case\"\n",
    "parts = snake.split('_')\n",
    "camel = parts[0] + ''.join(word.capitalize() for word in parts[1:])\n",
    "print(camel)  \n",
    "\n",
    "\n"
   ]
  },
  {
   "cell_type": "code",
   "execution_count": 26,
   "id": "ba643ffd",
   "metadata": {},
   "outputs": [
    {
     "name": "stdout",
     "output_type": "stream",
     "text": [
      "\"A man a plan a canal Panama\" is a palindrome.\n"
     ]
    }
   ],
   "source": [
    "# Question 38: Check if string is a valid palindrome ignoring case: \"A man a plan a canal Panama\"\n",
    "\n",
    "string = \"A man a plan a canal Panama\"\n",
    "normalized = string.replace(\" \", \"\").lower()\n",
    "if normalized == normalized[::-1]:\n",
    "    print(f'\"{string}\" is a palindrome.')\n",
    "else:\n",
    "    print(f'\"{string}\" is not a palindrome.')"
   ]
  },
  {
   "cell_type": "code",
   "execution_count": 27,
   "id": "561c5480",
   "metadata": {},
   "outputs": [
    {
     "name": "stdout",
     "output_type": "stream",
     "text": [
      "The most common word is: \"the\"\n"
     ]
    }
   ],
   "source": [
    "# Question 39: Find the most common word in \"the quick brown fox jumps over the lazy dog\"\n",
    "\n",
    "text = \"the quick brown fox jumps over the lazy dog\"\n",
    "words = text.split()\n",
    "word_count = {}\n",
    "for word in words:\n",
    "    word_count[word] = word_count.get(word, 0) + 1\n",
    "most_common_word = max(word_count, key=word_count.get)\n",
    "print(f'The most common word is: \"{most_common_word}\"')\n",
    "\n"
   ]
  },
  {
   "cell_type": "code",
   "execution_count": 31,
   "id": "68b4cb19",
   "metadata": {},
   "outputs": [
    {
     "name": "stdout",
     "output_type": "stream",
     "text": [
      "The acronym is: \"NASA\"\n"
     ]
    }
   ],
   "source": [
    "# Question 40: Generate acronym from \"National Aeronautics and Space Administration\"\n",
    "\n",
    "phrase = \"National Aeronautics and Space Administration\"\n",
    "phrase = phrase.replace(\" and \", \" \")  \n",
    "acronym = ''.join(word[0].upper() for word in phrase.split())\n",
    "print(f'The acronym is: \"{acronym}\"')\n"
   ]
  },
  {
   "cell_type": "code",
   "execution_count": 32,
   "id": "4e419320",
   "metadata": {},
   "outputs": [
    {
     "name": "stdout",
     "output_type": "stream",
     "text": [
      "\"((()))\" has balanced parentheses.\n"
     ]
    }
   ],
   "source": [
    "# Question 41: Check if string contains balanced parentheses: \"((()))\"\n",
    "\n",
    "string = \"((()))\"\n",
    "open_count = string.count('(')\n",
    "close_count = string.count(')')\n",
    "if open_count == close_count:\n",
    "    print(f'\"{string}\" has balanced parentheses.')"
   ]
  },
  {
   "cell_type": "code",
   "execution_count": 33,
   "id": "3a7ce26f",
   "metadata": {},
   "outputs": [
    {
     "name": "stdout",
     "output_type": "stream",
     "text": [
      "The Morse code for \"hello world\" is: \".... . .-.. .-.. --- / .-- --- .-. .-.. -..\"\n"
     ]
    }
   ],
   "source": [
    "# Question 42: Convert \"hello world\" to Morse code\n",
    "\n",
    "morse_code_dict = {\n",
    "    'a': '.-', 'b': '-...', 'c': '-.-.', 'd': '-..', 'e': '.', \n",
    "    'f': '..-.', 'g': '--.', 'h': '....', 'i': '..', 'j': '.---', \n",
    "    'k': '-.-', 'l': '.-..', 'm': '--', 'n': '-.', 'o': '---', \n",
    "    'p': '.--.', 'q': '--.-', 'r': '.-.', 's': '...', 't': '-', \n",
    "    'u': '..-', 'v': '...-', 'w': '.--', 'x': '-..-', 'y': '-.--', \n",
    "    'z': '--..', \n",
    "    '0': '-----', '1': '.----', '2': '..---', '3': '...--', \n",
    "    '4': '....-', '5': '.....', '6': '-....', '7': '--...', \n",
    "    '8': \"---..\", 9: \"----.\", ' ': '/'\n",
    "}  \n",
    "string = \"hello world\"\n",
    "morse_code = ' '.join(morse_code_dict[char] for char in string.lower() if char in morse_code_dict)\n",
    "print(f'The Morse code for \"{string}\" is: \"{morse_code}\"')   "
   ]
  },
  {
   "cell_type": "code",
   "execution_count": 34,
   "id": "c3b629ee",
   "metadata": {},
   "outputs": [
    {
     "name": "stdout",
     "output_type": "stream",
     "text": [
      "The longest common substring is: \"gramm\"\n"
     ]
    }
   ],
   "source": [
    "# Question 43: Find the longest common substring between \"programming\" and \"grammar\"\n",
    "str1 = \"programming\"\n",
    "str2 = \"grammar\"\n",
    "\n",
    "def longest_common_substring(s1, s2):\n",
    "    max_length = 0\n",
    "    end_index = 0       \n",
    "    for i in range(len(s1)):\n",
    "        for j in range(len(s2)):\n",
    "            length = 0\n",
    "            while (i + length < len(s1) and j + length < len(s2) and \n",
    "                   s1[i + length] == s2[j + length]):\n",
    "                length += 1\n",
    "            if length > max_length:\n",
    "                max_length = length\n",
    "                end_index = i + length  \n",
    "    return s1[end_index - max_length:end_index]\n",
    "longest_substring = longest_common_substring(str1, str2)\n",
    "print(f'The longest common substring is: \"{longest_substring}\"')\n"
   ]
  },
  {
   "cell_type": "code",
   "execution_count": 62,
   "id": "da67470e",
   "metadata": {},
   "outputs": [
    {
     "name": "stdout",
     "output_type": "stream",
     "text": [
      "Is the URL valid? True\n"
     ]
    }
   ],
   "source": [
    "# Question 44: Check if string is a valid URL: \"https://www.google.com\"\n",
    "\n",
    "url = \"https://www.google.com\"\n",
    "is_valid = url.startswith(\"http://\") or url.startswith(\"https://\")\n",
    "if is_valid:\n",
    " print(f'Is the URL valid? {is_valid}')\n",
    "else:\n",
    "    print(f'Is the URL valid? : {is_valid}')  \n"
   ]
  },
  {
   "cell_type": "code",
   "execution_count": 40,
   "id": "b980ef1e",
   "metadata": {},
   "outputs": [
    {
     "name": "stdout",
     "output_type": "stream",
     "text": [
      "Words with length > 5: ['Python', 'programming', 'amazing', 'powerful']\n"
     ]
    }
   ],
   "source": [
    "# Question 45: Extract all words with length > 5 from \"Python programming is amazing and powerful\"\n",
    "\n",
    "text = \"Python programming is amazing and powerful\"\n",
    "words = text.split()\n",
    "long_words = [word for word in words if len(word) > 5]\n",
    "print(f'Words with length > 5: {long_words}')"
   ]
  },
  {
   "cell_type": "code",
   "execution_count": 42,
   "id": "21b49096",
   "metadata": {},
   "outputs": [
    {
     "name": "stdout",
     "output_type": "stream",
     "text": [
      "The Pig Latin conversion is: ellohay orldway\n"
     ]
    }
   ],
   "source": [
    "# Question 46: Convert \"hello world\" to Pig Latin\n",
    "\n",
    "def pig_latin(word):\n",
    "    vowels = \"aeiou\"\n",
    "    if word[0].lower() in vowels:\n",
    "        return word + \"way\"\n",
    "    else:\n",
    "        return word[1:] + word[0] + \"ay\"\n",
    "pig_latin_words = [pig_latin(word) for word in \"hello world\".split()]\n",
    "print(f'The Pig Latin conversion is: {\" \".join(pig_latin_words)}')"
   ]
  },
  {
   "cell_type": "code",
   "execution_count": 53,
   "id": "30c3f4b3",
   "metadata": {},
   "outputs": [
    {
     "name": "stdout",
     "output_type": "stream",
     "text": [
      "Is the IP address valid? : True\n"
     ]
    }
   ],
   "source": [
    "# Question 47: Check if string is a valid IPv4 address: \"192.168.1.1\"\n",
    "\n",
    "ip_address = \"192.168.1.1\"\n",
    "\n",
    "def is_valid_ipv4(ip):\n",
    "    parts = ip.split('.')\n",
    "    if len(parts) != 4:\n",
    "        return False\n",
    "    for part in parts:\n",
    "        if not part.isdigit() or not 0 <= int(part) <= 255:\n",
    "            return False\n",
    "    return True\n",
    "\n",
    "print(f'Is the IP address valid? : {is_valid_ipv4(ip_address)}')\n",
    "\n",
    "\n"
   ]
  },
  {
   "cell_type": "code",
   "execution_count": 45,
   "id": "48599d24",
   "metadata": {},
   "outputs": [
    {
     "name": "stdout",
     "output_type": "stream",
     "text": [
      "The substrings of \"abc\" are: ['a', 'ab', 'abc', 'b', 'bc', 'c']\n"
     ]
    }
   ],
   "source": [
    "# Question 48: Find all substrings of \"abc\"\n",
    "\n",
    "str = \"abc\"\n",
    "length = len(str)\n",
    "substrings = [str[i:j] for i in range(length) for j in range(i + 1, length + 1)]\n",
    "print(f'The substrings of \"{str}\" are: {substrings}')"
   ]
  },
  {
   "cell_type": "code",
   "execution_count": 48,
   "id": "2229e448",
   "metadata": {},
   "outputs": [
    {
     "name": "stdout",
     "output_type": "stream",
     "text": [
      "ROT13 encoding: uryyb jbeyq\n"
     ]
    }
   ],
   "source": [
    "# Question 49: Convert \"hello world\" to ROT13 encoding\n",
    "\n",
    "text = \"hello world\"\n",
    "import codecs\n",
    "rot13_text = codecs.encode(text, 'rot_13')\n",
    "print(f'ROT13 encoding: {rot13_text}')"
   ]
  },
  {
   "cell_type": "code",
   "execution_count": 51,
   "id": "284c76ec",
   "metadata": {},
   "outputs": [
    {
     "name": "stdout",
     "output_type": "stream",
     "text": [
      "Is the credit card number valid? : True\n"
     ]
    }
   ],
   "source": [
    "# Question 50: Check if string is a valid credit card number: \"4532015112830366\"\n",
    "\n",
    "card = \"4532015112830366\"\n",
    "import re\n",
    "def is_valid_credit_card(card_number):\n",
    "    pattern = r\"^(?:4[0-9]{12}(?:[0-9]{3})?|5[1-5][0-9]{14}|6(?:011|5[0-9]{2})[0-9]{12}|3[47][0-9]{13}|3(?:0[0-5]|[68][0-9])[0-9]{11}|(?:2131|1800|35\\d{3})\\d{11})$\"\n",
    "    return bool(re.match(pattern, card_number)) \n",
    "print(f'Is the credit card number valid? : {is_valid_credit_card(card)}')\n"
   ]
  }
 ],
 "metadata": {
  "kernelspec": {
   "display_name": "Python 3",
   "language": "python",
   "name": "python3"
  },
  "language_info": {
   "codemirror_mode": {
    "name": "ipython",
    "version": 3
   },
   "file_extension": ".py",
   "mimetype": "text/x-python",
   "name": "python",
   "nbconvert_exporter": "python",
   "pygments_lexer": "ipython3",
   "version": "3.13.0"
  }
 },
 "nbformat": 4,
 "nbformat_minor": 5
}
