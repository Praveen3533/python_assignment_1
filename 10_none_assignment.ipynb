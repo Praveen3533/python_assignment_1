{
 "cells": [
  {
   "cell_type": "code",
   "execution_count": 1,
   "id": "77886186",
   "metadata": {},
   "outputs": [
    {
     "name": "stdout",
     "output_type": "stream",
     "text": [
      "Variable with None: None\n"
     ]
    }
   ],
   "source": [
    "# Question 1: Create a variable and assign None to it\n",
    "\n",
    "variable = None\n",
    "print(\"Variable with None:\", variable)"
   ]
  },
  {
   "cell_type": "code",
   "execution_count": 2,
   "id": "7b323bfa",
   "metadata": {},
   "outputs": [
    {
     "name": "stdout",
     "output_type": "stream",
     "text": [
      "Is None equal to None? True\n"
     ]
    }
   ],
   "source": [
    "# Question 2: Check if None equals None\n",
    "\n",
    "var1 = None\n",
    "var2 = None\n",
    "is_equal = var1 == var2\n",
    "print(\"Is None equal to None?\", is_equal)"
   ]
  },
  {
   "cell_type": "code",
   "execution_count": 3,
   "id": "141ebb9c",
   "metadata": {},
   "outputs": [
    {
     "data": {
      "text/plain": [
       "True"
      ]
     },
     "execution_count": 3,
     "metadata": {},
     "output_type": "execute_result"
    }
   ],
   "source": [
    "# Question 3: Check if None is None\n",
    "\n",
    "None == None\n",
    "\n",
    "\n"
   ]
  },
  {
   "cell_type": "code",
   "execution_count": null,
   "id": "b59f6bfd",
   "metadata": {},
   "outputs": [
    {
     "name": "stdout",
     "output_type": "stream",
     "text": [
      "Is 0 None? False\n"
     ]
    }
   ],
   "source": [
    "# Question 4: Check if 0 is None\n",
    "\n",
    "var3 = 0\n",
    "var4 = None\n",
    "is_zero_none = var3 is var4\n",
    "print(\"Is 0 None?\", is_zero_none)"
   ]
  },
  {
   "cell_type": "code",
   "execution_count": null,
   "id": "c9ba5dfe",
   "metadata": {},
   "outputs": [
    {
     "name": "stdout",
     "output_type": "stream",
     "text": [
      "Is empty string None? False\n"
     ]
    }
   ],
   "source": [
    "# Question 5: Check if empty string is None\n",
    "\n",
    "string = \"\"\n",
    "var5 = None\n",
    "string_none = string is var5\n",
    "print(\"Is empty string None?\", string_none)"
   ]
  },
  {
   "cell_type": "code",
   "execution_count": null,
   "id": "f46f03c8",
   "metadata": {},
   "outputs": [
    {
     "name": "stdout",
     "output_type": "stream",
     "text": [
      "Is False None? False\n"
     ]
    }
   ],
   "source": [
    "# Question 6: Check if False is None\n",
    "var6 = False\n",
    "var7 = None\n",
    "false_none = var6 is var7\n",
    "print(\"Is False None?\", false_none)"
   ]
  },
  {
   "cell_type": "code",
   "execution_count": 8,
   "id": "8666676f",
   "metadata": {},
   "outputs": [
    {
     "name": "stdout",
     "output_type": "stream",
     "text": [
      "Is empty list None? False\n"
     ]
    }
   ],
   "source": [
    "# Question 7: Check if empty list is None\n",
    "list = []\n",
    "var8 = None\n",
    "list_none = list is var8\n",
    "print(\"Is empty list None?\", list_none)"
   ]
  },
  {
   "cell_type": "code",
   "execution_count": 9,
   "id": "6cc8ade8",
   "metadata": {},
   "outputs": [
    {
     "name": "stdout",
     "output_type": "stream",
     "text": [
      "Is empty dictionary None? False\n"
     ]
    }
   ],
   "source": [
    "# Question 8: Check if empty dictionary is None\n",
    "\n",
    "dict_var = {}\n",
    "var9 = None\n",
    "dict_none = dict_var is var9\n",
    "print(\"Is empty dictionary None?\", dict_none)"
   ]
  },
  {
   "cell_type": "code",
   "execution_count": 10,
   "id": "756f33c5",
   "metadata": {},
   "outputs": [
    {
     "name": "stdout",
     "output_type": "stream",
     "text": [
      "Is empty tuple None? False\n"
     ]
    }
   ],
   "source": [
    "# Question 9: Check if empty tuple is None\n",
    "tuple = ()\n",
    "var10 = None\n",
    "tuple_none = tuple is var10\n",
    "print(\"Is empty tuple None?\", tuple_none)"
   ]
  },
  {
   "cell_type": "code",
   "execution_count": 11,
   "id": "dec67a93",
   "metadata": {},
   "outputs": [
    {
     "name": "stdout",
     "output_type": "stream",
     "text": [
      "Is empty set None? False\n"
     ]
    }
   ],
   "source": [
    "# Question 10: Check if empty set is None\n",
    "\n",
    "set = {}\n",
    "var11 = None\n",
    "set_none = set is var11\n",
    "print(\"Is empty set None?\", set_none)"
   ]
  }
 ],
 "metadata": {
  "kernelspec": {
   "display_name": "Python 3",
   "language": "python",
   "name": "python3"
  },
  "language_info": {
   "codemirror_mode": {
    "name": "ipython",
    "version": 3
   },
   "file_extension": ".py",
   "mimetype": "text/x-python",
   "name": "python",
   "nbconvert_exporter": "python",
   "pygments_lexer": "ipython3",
   "version": "3.13.0"
  }
 },
 "nbformat": 4,
 "nbformat_minor": 5
}
