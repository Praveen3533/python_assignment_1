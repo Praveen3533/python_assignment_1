{
 "cells": [
  {
   "cell_type": "code",
   "execution_count": 6,
   "id": "75415e51",
   "metadata": {},
   "outputs": [
    {
     "name": "stdout",
     "output_type": "stream",
     "text": [
      "57 is between 50 and 100\n"
     ]
    }
   ],
   "source": [
    "# Question 31: Check if a number is between 50 and 100.\n",
    "\n",
    "num = 57\n",
    "if 50 <= num <= 100:\n",
    "    print(f\"{num} is between 50 and 100\")\n",
    "else:\n",
    "    print(f\"{num} is not between 50 and 100\")\n"
   ]
  },
  {
   "cell_type": "code",
   "execution_count": 12,
   "id": "575e23a5",
   "metadata": {},
   "outputs": [
    {
     "name": "stdout",
     "output_type": "stream",
     "text": [
      "12345 contains only digits\n"
     ]
    }
   ],
   "source": [
    "# Question 32: Check if a string contains only digits.\n",
    "\n",
    "string =\"12345\"\n",
    "\n",
    "if string.isdigit():\n",
    "    print(f\"{string} contains only digits\")\n",
    "else:\n",
    "    print(f\"{string} does not contain only digits\")\n"
   ]
  },
  {
   "cell_type": "code",
   "execution_count": 17,
   "id": "5bff9978",
   "metadata": {},
   "outputs": [
    {
     "name": "stdout",
     "output_type": "stream",
     "text": [
      "List is sorted in ascending order\n"
     ]
    }
   ],
   "source": [
    "# Question 33: Check if a list is sorted in ascending order.\n",
    "\n",
    "list1 = [1,2,3,4,5]\n",
    "\n",
    "if list1 == sorted(list1):\n",
    "   print(\"List is sorted in ascending order\")\n",
    "else:\n",
    "   print(\"List is not sorted in ascending order\")\n",
    "   "
   ]
  },
  {
   "cell_type": "code",
   "execution_count": 45,
   "id": "a6812932",
   "metadata": {},
   "outputs": [
    {
     "name": "stdout",
     "output_type": "stream",
     "text": [
      "34 is prefect square.\n"
     ]
    }
   ],
   "source": [
    "# Question 34: Check if a number is a perfect square.\n",
    "import math\n",
    "num1 = 34\n",
    "if math.sqrt(num1)** 2 == num1:\n",
    "    print(f\"{num1} is prefect square.\")\n",
    "else:\n",
    "    print(f\"{num1} is not prefect square.\")"
   ]
  },
  {
   "cell_type": "code",
   "execution_count": 48,
   "id": "15645d56",
   "metadata": {},
   "outputs": [
    {
     "name": "stdout",
     "output_type": "stream",
     "text": [
      "2100 is a century year.\n"
     ]
    }
   ],
   "source": [
    "# Question 35: Check if a year is a century year.\n",
    "\n",
    "year = 2100\n",
    "\n",
    "if year % 100 == 0:\n",
    "    print(f\"{year} is a century year.\")\n",
    "else:\n",
    "    print(f\"{year} is not a century year.\")\n"
   ]
  },
  {
   "cell_type": "code",
   "execution_count": 49,
   "id": "a928fdae",
   "metadata": {},
   "outputs": [
    {
     "name": "stdout",
     "output_type": "stream",
     "text": [
      "Armstrong number\n"
     ]
    }
   ],
   "source": [
    "# Question 36: Check if a number is Armstrong number.\n",
    "\n",
    "num = 153\n",
    "if sum(int(d)**len(str(num)) for d in str(num)) == num:\n",
    "    print(\"Armstrong number\")\n",
    "else:\n",
    "    print(\"Not Armstrong\")\n"
   ]
  },
  {
   "cell_type": "code",
   "execution_count": 51,
   "id": "51eb318a",
   "metadata": {},
   "outputs": [
    {
     "name": "stdout",
     "output_type": "stream",
     "text": [
      "20 is a Harshad number\n"
     ]
    }
   ],
   "source": [
    "# Question 37: Check if a number is Harshad number.\n",
    "\n",
    "num = 20\n",
    "sum_digits = sum(int(d) for d in str(num))\n",
    "\n",
    "if num % sum_digits == 0:\n",
    "    print(f\"{num} is a Harshad number\")\n",
    "else:\n",
    "    print(f\"{num} is not a Harshad number\")\n"
   ]
  },
  {
   "cell_type": "code",
   "execution_count": 52,
   "id": "5fff1821",
   "metadata": {},
   "outputs": [
    {
     "name": "stdout",
     "output_type": "stream",
     "text": [
      "Grade A\n"
     ]
    }
   ],
   "source": [
    "# Question 38: Check if student score >= 90 (Grade A).\n",
    "\n",
    "score = 92\n",
    "if score >= 90:\n",
    "    print(\"Grade A\")\n",
    "elif score >= 75:\n",
    "    print(\"Grade B\")\n",
    "elif score >= 50:\n",
    "    print(\"Grade C\")\n",
    "elif score >= 35:\n",
    "    print(\"Pass\")\n",
    "else:\n",
    "    print(\"Fail\")"
   ]
  },
  {
   "cell_type": "code",
   "execution_count": 53,
   "id": "2f722588",
   "metadata": {},
   "outputs": [
    {
     "name": "stdout",
     "output_type": "stream",
     "text": [
      "Grade B\n"
     ]
    }
   ],
   "source": [
    "# Question 39: Check if score >= 75 (Grade B).\n",
    "\n",
    "score = 80\n",
    "if score >= 90:\n",
    "    print(\"Grade A\")\n",
    "elif score >= 75:\n",
    "    print(\"Grade B\")\n",
    "elif score >= 50:\n",
    "    print(\"Grade C\")\n",
    "elif score >= 35:\n",
    "    print(\"Pass\")\n",
    "else:\n",
    "    print(\"Fail\")"
   ]
  },
  {
   "cell_type": "code",
   "execution_count": 54,
   "id": "f51acf4d",
   "metadata": {},
   "outputs": [
    {
     "name": "stdout",
     "output_type": "stream",
     "text": [
      "Grade C\n"
     ]
    }
   ],
   "source": [
    "# Question 40: Check if score >= 50 (Grade C).\n",
    "\n",
    "score = 72\n",
    "if score >= 90:\n",
    "    print(\"Grade A\")\n",
    "elif score >= 75:\n",
    "    print(\"Grade B\")\n",
    "elif score >= 50:\n",
    "    print(\"Grade C\")\n",
    "elif score >= 35:\n",
    "    print(\"Pass\")\n",
    "else:\n",
    "    print(\"Fail\")"
   ]
  },
  {
   "cell_type": "code",
   "execution_count": 56,
   "id": "3d56969e",
   "metadata": {},
   "outputs": [
    {
     "name": "stdout",
     "output_type": "stream",
     "text": [
      "Fail\n"
     ]
    }
   ],
   "source": [
    "# Question 41: Print \"Fail\" if score < 35.\n",
    "\n",
    "score = 25\n",
    "if score >= 90:\n",
    "    print(\"Grade A\")\n",
    "elif score >= 75:\n",
    "    print(\"Grade B\")\n",
    "elif score >= 50:\n",
    "    print(\"Grade C\")\n",
    "elif score >= 35:\n",
    "    print(\"Pass\")\n",
    "else:\n",
    "    print(\"Fail\")"
   ]
  },
  {
   "cell_type": "code",
   "execution_count": 58,
   "id": "cbf7be63",
   "metadata": {},
   "outputs": [
    {
     "name": "stdout",
     "output_type": "stream",
     "text": [
      "Pass\n"
     ]
    }
   ],
   "source": [
    "# Question 42: Print \"Pass\" if score >= 35.\n",
    "\n",
    "score = 35\n",
    "if score >= 90:\n",
    "    print(\"Grade A\")\n",
    "elif score >= 75:\n",
    "    print(\"Grade B\")\n",
    "elif score >= 50:\n",
    "    print(\"Grade C\")\n",
    "elif score >= 35:\n",
    "    print(\"Pass\")\n",
    "else:\n",
    "    print(\"Fail\")\n"
   ]
  },
  {
   "cell_type": "code",
   "execution_count": 59,
   "id": "031ef2f6",
   "metadata": {},
   "outputs": [
    {
     "name": "stdout",
     "output_type": "stream",
     "text": [
      "28 is a Perfect number\n"
     ]
    }
   ],
   "source": [
    "# Question 43: Print \"Perfect number\" if sum of divisors = number.\n",
    "\n",
    "num = 28\n",
    "sum_divisors = 0                      \n",
    "\n",
    "for i in range(1, num):       \n",
    "    if num % i == 0:   \n",
    "        sum_divisors += i   \n",
    "\n",
    "if sum_divisors == num:\n",
    "    print(f\"{num} is a Perfect number\")\n",
    "else:\n",
    "    print(f\"{num} is Not a Perfect number\")\n"
   ]
  },
  {
   "cell_type": "code",
   "execution_count": null,
   "id": "930e22eb",
   "metadata": {},
   "outputs": [
    {
     "name": "stdout",
     "output_type": "stream",
     "text": [
      "Invalid username length\n"
     ]
    }
   ],
   "source": [
    "# Question 44: Check if username length between 5 and 15.\n",
    "\n",
    "username = \"praveenkumar123\"\n",
    "length = len(username)\n",
    "\n",
    "if 5 < length < 15:\n",
    "    print(\"Valid username length\")\n",
    "else:\n",
    "    print(\"Invalid username length\")\n"
   ]
  },
  {
   "cell_type": "code",
   "execution_count": 65,
   "id": "7d102db2",
   "metadata": {},
   "outputs": [
    {
     "name": "stdout",
     "output_type": "stream",
     "text": [
      "Strong PIN\n"
     ]
    }
   ],
   "source": [
    "# Question 45: Print \"Strong PIN\" if PIN has exactly 4 digits.\n",
    "\n",
    "pin = \"1234\"\n",
    "if len(pin) == 4:\n",
    "    print(\"Strong PIN\")\n",
    "else:\n",
    "    print(\"Weak PIN\")\n"
   ]
  },
  {
   "cell_type": "code",
   "execution_count": 71,
   "id": "2ca7ae82",
   "metadata": {},
   "outputs": [
    {
     "name": "stdout",
     "output_type": "stream",
     "text": [
      " Weak PIN\n"
     ]
    }
   ],
   "source": [
    "# Question 46: Print \"Weak PIN\" if PIN < 4 digits.\n",
    "\n",
    "pin = \"123\"\n",
    "if len(pin) < 4:\n",
    "    print(\" Weak PIN\")\n",
    "else:\n",
    "    print(\"Strong PIN\")\n"
   ]
  },
  {
   "cell_type": "code",
   "execution_count": null,
   "id": "21ec697e",
   "metadata": {},
   "outputs": [
    {
     "name": "stdout",
     "output_type": "stream",
     "text": [
      "File hidden\n"
     ]
    }
   ],
   "source": [
    "# Question 47: Print \"File hidden\" if filename starts with \".\".\n",
    "\n",
    "filename = \".fileuser\"\n",
    "\n",
    "if filename.startswith(\".\"):\n",
    "    print(\"File hidden\")\n",
    "else:\n",
    "    print(\"File visible\")\n"
   ]
  },
  {
   "cell_type": "code",
   "execution_count": 75,
   "id": "c07652b4",
   "metadata": {},
   "outputs": [
    {
     "name": "stdout",
     "output_type": "stream",
     "text": [
      "Prime length\n"
     ]
    }
   ],
   "source": [
    "# Question 48: Print \"Prime length\" if string length is prime.\n",
    "\n",
    "s = \"praveen\"\n",
    "n = len(s)\n",
    "is_prime = True\n",
    "if n < 2:\n",
    "    is_prime = False\n",
    "else:\n",
    "    for i in range(2, int(n**0.5)+1):\n",
    "        if n % i == 0:\n",
    "            is_prime = False\n",
    "            break\n",
    "if is_prime:\n",
    "    print(\"Prime length\")\n",
    "else:\n",
    "    print(\"Not prime length\")\n"
   ]
  },
  {
   "cell_type": "code",
   "execution_count": null,
   "id": "381d7f96",
   "metadata": {},
   "outputs": [
    {
     "name": "stdout",
     "output_type": "stream",
     "text": [
      "Even length\n"
     ]
    }
   ],
   "source": [
    "# Question 49: Print \"Even length\" if string length % 2 == 0.\n",
    "s = \"praveenkumar\"\n",
    "\n",
    "if len(s) % 2 == 0:\n",
    "    print(\"Even length\")\n",
    "else:\n",
    "    print(\"Odd length\")\n"
   ]
  },
  {
   "cell_type": "code",
   "execution_count": 83,
   "id": "df1c5e77",
   "metadata": {},
   "outputs": [
    {
     "name": "stdout",
     "output_type": "stream",
     "text": [
      "Odd length\n"
     ]
    }
   ],
   "source": [
    "# Question 50: Print \"Odd length\" if string length % 2 == 1.\n",
    "\n",
    "s = \"praveen kumar\"\n",
    "\n",
    "if len(s) % 2 != 0:\n",
    "    print(\"Odd length\")\n",
    "else:\n",
    "    print(\"Even length\")\n"
   ]
  },
  {
   "cell_type": "code",
   "execution_count": 86,
   "id": "e2095de7",
   "metadata": {},
   "outputs": [
    {
     "name": "stdout",
     "output_type": "stream",
     "text": [
      "Only vowels\n"
     ]
    }
   ],
   "source": [
    "# Question 51: Check if word contains only vowels.\n",
    "\n",
    "word = \"aeiou\"\n",
    "if  word in \"aeiouAEIOU\":\n",
    "    print(\"Only vowels\")\n",
    "else:\n",
    "    print(\"Not only vowels\")\n"
   ]
  },
  {
   "cell_type": "code",
   "execution_count": 119,
   "id": "916f336d",
   "metadata": {},
   "outputs": [
    {
     "name": "stdout",
     "output_type": "stream",
     "text": [
      "Contains digits\n"
     ]
    }
   ],
   "source": [
    "# Question 52: Check if string contains digits.\n",
    "\n",
    "s = \"praveen123\"\n",
    "if any(c.isdigit() for c in s):\n",
    "    print(\"Contains digits\")\n",
    "else:\n",
    "    print(\"No digits\")\n"
   ]
  },
  {
   "cell_type": "code",
   "execution_count": 118,
   "id": "8cd7f1bf",
   "metadata": {},
   "outputs": [
    {
     "name": "stdout",
     "output_type": "stream",
     "text": [
      "Contains spaces\n"
     ]
    }
   ],
   "source": [
    "# Question 53: Check if string contains spaces.\n",
    "\n",
    "s = \"praveen kumar\"\n",
    "if \" \" in s:\n",
    "    print(\"Contains spaces\")\n",
    "else:\n",
    "    print(\"No spaces\")\n"
   ]
  },
  {
   "cell_type": "code",
   "execution_count": 117,
   "id": "08163fd2",
   "metadata": {},
   "outputs": [
    {
     "name": "stdout",
     "output_type": "stream",
     "text": [
      "Uppercase only\n"
     ]
    }
   ],
   "source": [
    "# Question 54: Print \"Uppercase only\" if all characters are uppercase.\n",
    "\n",
    "s = \"PRAVEEN KUMAR\"\n",
    "\n",
    "if s.isupper():\n",
    "    print(\"Uppercase only\")\n",
    "else:\n",
    "    print(\"Not uppercase only\")\n"
   ]
  },
  {
   "cell_type": "code",
   "execution_count": 116,
   "id": "17e36e38",
   "metadata": {},
   "outputs": [
    {
     "name": "stdout",
     "output_type": "stream",
     "text": [
      "Lowercase only\n"
     ]
    }
   ],
   "source": [
    "# Question 55: Print \"Lowercase only\" if all characters are lowercase.\n",
    "\n",
    "s = \"praveen\"\n",
    "\n",
    "if s.islower():\n",
    "    print(\"Lowercase only\")\n",
    "else:\n",
    "    print(\"Not lowercase only\")\n"
   ]
  },
  {
   "cell_type": "code",
   "execution_count": 97,
   "id": "c3213543",
   "metadata": {},
   "outputs": [
    {
     "name": "stdout",
     "output_type": "stream",
     "text": [
      "Alphanumeric\n"
     ]
    }
   ],
   "source": [
    "# Question 56: Print \"Alphanumeric\" if string has letters and digits.\n",
    "\n",
    "s = \"praveen123\"\n",
    "\n",
    "if s.isalnum():\n",
    "    print(\"Alphanumeric\")\n",
    "else:\n",
    "    print(\"Not alphanumeric\")\n",
    "\n"
   ]
  },
  {
   "cell_type": "code",
   "execution_count": null,
   "id": "4e7110d8",
   "metadata": {},
   "outputs": [
    {
     "name": "stdout",
     "output_type": "stream",
     "text": [
      "Palindrome word\n"
     ]
    }
   ],
   "source": [
    "# Question 57: Print \"Palindrome word\" if same backward.\n",
    "\n",
    "word = \"level\"\n",
    "\n",
    "if word == word[::-1]:\n",
    "    print(\"Palindrome word\")\n",
    "else:\n",
    "    print(\"Not palindrome\")\n"
   ]
  },
  {
   "cell_type": "code",
   "execution_count": 99,
   "id": "7b48da20",
   "metadata": {},
   "outputs": [
    {
     "name": "stdout",
     "output_type": "stream",
     "text": [
      "Sum even\n"
     ]
    }
   ],
   "source": [
    "# Question 58: Check if sum of list elements is even.\n",
    "\n",
    "lst = [1,2,3,4]\n",
    "\n",
    "if sum(lst) % 2 == 0:\n",
    "    print(\"Sum even\")\n",
    "else:\n",
    "    print(\"Sum odd\")\n"
   ]
  },
  {
   "cell_type": "code",
   "execution_count": 102,
   "id": "2ed3b77a",
   "metadata": {},
   "outputs": [
    {
     "name": "stdout",
     "output_type": "stream",
     "text": [
      "Sum odd\n"
     ]
    }
   ],
   "source": [
    "# Question 59: Print \"Sum odd\" if sum odd.\n",
    "\n",
    "lst = [1,2,3,4,5]\n",
    "\n",
    "if sum(lst) % 2 != 0:\n",
    "    print(\"Sum odd\")\n",
    "else:\n",
    "    print(\"Sum even\")\n"
   ]
  },
  {
   "cell_type": "code",
   "execution_count": 115,
   "id": "48536462",
   "metadata": {},
   "outputs": [
    {
     "name": "stdout",
     "output_type": "stream",
     "text": [
      "Not all positive\n"
     ]
    }
   ],
   "source": [
    "# Question 60: Print \"All positive numbers\" if all > 0.\n",
    "\n",
    "lst = [1, 2, 3, -4]\n",
    "\n",
    "all_positive = True  \n",
    "\n",
    "for x in lst:\n",
    "    if x <= 0:       \n",
    "        all_positive = False\n",
    "        break        \n",
    "\n",
    "if all_positive:\n",
    "    print(\"All positive numbers\")\n",
    "else:\n",
    "    print(\"Not all positive\")\n",
    "\n"
   ]
  }
 ],
 "metadata": {
  "kernelspec": {
   "display_name": "Python 3",
   "language": "python",
   "name": "python3"
  },
  "language_info": {
   "codemirror_mode": {
    "name": "ipython",
    "version": 3
   },
   "file_extension": ".py",
   "mimetype": "text/x-python",
   "name": "python",
   "nbconvert_exporter": "python",
   "pygments_lexer": "ipython3",
   "version": "3.13.0"
  }
 },
 "nbformat": 4,
 "nbformat_minor": 5
}
