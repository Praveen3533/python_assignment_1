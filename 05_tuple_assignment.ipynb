{
 "cells": [
  {
   "cell_type": "code",
   "execution_count": 9,
   "id": "5ead85bd",
   "metadata": {},
   "outputs": [
    {
     "name": "stdout",
     "output_type": "stream",
     "text": [
      "Tuple of first 10 natural numbers: (1, 2, 3, 4, 5, 6, 7, 8, 9, 10)\n"
     ]
    }
   ],
   "source": [
    "# Question 1: Create a tuple of first 10 natural numbers\n",
    "\n",
    "natural_numbers= tuple (range(1, 11))\n",
    "print(\"Tuple of first 10 natural numbers:\", natural_numbers)\n",
    "\n"
   ]
  },
  {
   "cell_type": "code",
   "execution_count": 11,
   "id": "8be87f04",
   "metadata": {},
   "outputs": [
    {
     "name": "stdout",
     "output_type": "stream",
     "text": [
      "Length of the tuple : 10\n"
     ]
    }
   ],
   "source": [
    "# Question 2: Find the length of tuple (1, 2, 3, 4, 5, 6, 7, 8, 9, 10)\n",
    "\n",
    "length_of_tuple = len((1, 2, 3, 4, 5, 6, 7, 8, 9, 10))\n",
    "print(\"Length of the tuple :\", length_of_tuple)  \n"
   ]
  },
  {
   "cell_type": "code",
   "execution_count": 12,
   "id": "3bc1a81f",
   "metadata": {},
   "outputs": [
    {
     "data": {
      "text/plain": [
       "'c'"
      ]
     },
     "execution_count": 12,
     "metadata": {},
     "output_type": "execute_result"
    }
   ],
   "source": [
    "# Question 3: Access the 3rd element from tuple ('a', 'b', 'c', 'd', 'e')\n",
    "\n",
    "tuple_elements = ('a', 'b', 'c', 'd', 'e')\n",
    "tuple_elements[2]"
   ]
  },
  {
   "cell_type": "code",
   "execution_count": 16,
   "id": "8a4642ed",
   "metadata": {},
   "outputs": [
    {
     "name": "stdout",
     "output_type": "stream",
     "text": [
      "maximum value in the tuples: 89\n"
     ]
    }
   ],
   "source": [
    "# Question 4: Find the maximum value in tuple (23, 45, 12, 67, 34, 89, 56)\n",
    "\n",
    "tuple_elements = (23, 45, 12, 67, 34, 89, 56)\n",
    "max_value = max(tuple_elements)\n",
    "print(\"maximum value in the tuples:\", max_value)"
   ]
  },
  {
   "cell_type": "code",
   "execution_count": 44,
   "id": "0dc88167",
   "metadata": {},
   "outputs": [
    {
     "data": {
      "text/plain": [
       "4"
      ]
     },
     "execution_count": 44,
     "metadata": {},
     "output_type": "execute_result"
    }
   ],
   "source": [
    "# Question 5: Count how many times 5 appears in (1, 5, 2, 5, 3, 5, 4, 5, 6)\n",
    "\n",
    "elements= (1, 5, 2, 5, 3, 5, 4, 5, 6)\n",
    "elements.count(5)"
   ]
  },
  {
   "cell_type": "code",
   "execution_count": 45,
   "id": "2bc15380",
   "metadata": {},
   "outputs": [
    {
     "name": "stdout",
     "output_type": "stream",
     "text": [
      "Mixed data type tuple: (1, 3.14, 'Hello', True)\n"
     ]
    }
   ],
   "source": [
    "# Question 6: Create a tuple of mixed data types (integer, float, string, boolean)\n",
    "\n",
    "mixed_tuple = (1, 3.14, \"Hello\", True)\n",
    "print(\"Mixed data type tuple:\", mixed_tuple)"
   ]
  },
  {
   "cell_type": "code",
   "execution_count": 46,
   "id": "b3f1a631",
   "metadata": {},
   "outputs": [
    {
     "name": "stdout",
     "output_type": "stream",
     "text": [
      "Index of 'python' in the tuple: 1\n"
     ]
    }
   ],
   "source": [
    "# Question 7: Find the index of element 'python' in ('java', 'python', 'c++', 'javascript')\n",
    "\n",
    "tuple_languages = ('java', 'python', 'c++', 'javascript')\n",
    "index_of_python = tuple_languages.index('python')\n",
    "print(\"Index of 'python' in the tuple:\", index_of_python)"
   ]
  },
  {
   "cell_type": "code",
   "execution_count": 47,
   "id": "54c23b28",
   "metadata": {},
   "outputs": [
    {
     "name": "stdout",
     "output_type": "stream",
     "text": [
      "Does 25 exist in the tuple? False\n"
     ]
    }
   ],
   "source": [
    "# Question 8: Check if 25 exists in tuple (10, 20, 30, 40, 50)\n",
    "tuple_numbers = (10, 20, 30, 40, 50)\n",
    "exists = 25 in tuple_numbers\n",
    "print(\"Does 25 exist in the tuple?\", exists)"
   ]
  },
  {
   "cell_type": "code",
   "execution_count": 50,
   "id": "097d7412",
   "metadata": {},
   "outputs": [
    {
     "name": "stdout",
     "output_type": "stream",
     "text": [
      "Tuple of first 5 even numbers: (2, 4, 6, 8, 10)\n"
     ]
    }
   ],
   "source": [
    "# Question 9: Create a tuple of first 5 even numbers\n",
    "even_numbers = tuple(range(2, 12, 2))\n",
    "print(\"Tuple of first 5 even numbers:\", even_numbers)\n"
   ]
  },
  {
   "cell_type": "code",
   "execution_count": 34,
   "id": "a5892d89",
   "metadata": {},
   "outputs": [
    {
     "name": "stdout",
     "output_type": "stream",
     "text": [
      "Average of the numbers in the tuple: 40.833333333333336\n"
     ]
    }
   ],
   "source": [
    "\n",
    "# Question 10: Find the average of numbers in tuple (15, 23, 31, 42, 56, 78)\n",
    "\n",
    "numbers = (15, 23, 31, 42, 56, 78)\n",
    "average = sum(numbers) / len(numbers)\n",
    "print(\"Average of the numbers in the tuple:\", average)"
   ]
  },
  {
   "cell_type": "code",
   "execution_count": null,
   "id": "6c378db9",
   "metadata": {},
   "outputs": [],
   "source": []
  },
  {
   "cell_type": "code",
   "execution_count": null,
   "id": "c7be25ca",
   "metadata": {},
   "outputs": [],
   "source": []
  },
  {
   "cell_type": "code",
   "execution_count": null,
   "id": "4f04d3b9",
   "metadata": {},
   "outputs": [],
   "source": []
  }
 ],
 "metadata": {
  "kernelspec": {
   "display_name": "Python 3",
   "language": "python",
   "name": "python3"
  },
  "language_info": {
   "codemirror_mode": {
    "name": "ipython",
    "version": 3
   },
   "file_extension": ".py",
   "mimetype": "text/x-python",
   "name": "python",
   "nbconvert_exporter": "python",
   "pygments_lexer": "ipython3",
   "version": "3.13.0"
  }
 },
 "nbformat": 4,
 "nbformat_minor": 5
}
