{
 "cells": [
  {
   "cell_type": "code",
   "execution_count": 1,
   "id": "1cd7c8e0",
   "metadata": {},
   "outputs": [
    {
     "name": "stdout",
     "output_type": "stream",
     "text": [
      "Set of first 10 natural numbers: {1, 2, 3, 4, 5, 6, 7, 8, 9, 10}\n"
     ]
    }
   ],
   "source": [
    "# Question 1: Create a set of first 10 natural numbers\n",
    "\n",
    "natural_numbers = set(range(1, 11))\n",
    "print(\"Set of first 10 natural numbers:\", natural_numbers)"
   ]
  },
  {
   "cell_type": "code",
   "execution_count": 8,
   "id": "f80e61c6",
   "metadata": {},
   "outputs": [
    {
     "name": "stdout",
     "output_type": "stream",
     "text": [
      "Set after adding 11: {1, 2, 3, 4, 5, 11}\n"
     ]
    }
   ],
   "source": [
    "# Question 2: Add element 11 to set {1, 2, 3, 4, 5}\n",
    "elements = {1, 2, 3, 4, 5}\n",
    "elements.add(11)\n",
    "print(\"Set after adding 11:\", elements)\n"
   ]
  },
  {
   "cell_type": "code",
   "execution_count": 9,
   "id": "daf44c9a",
   "metadata": {},
   "outputs": [
    {
     "name": "stdout",
     "output_type": "stream",
     "text": [
      "Set after removing 3: {1, 2, 4, 5, 6}\n"
     ]
    }
   ],
   "source": [
    "# Question 3: Remove element 3 from set {1, 2, 3, 4, 5, 6}\n",
    "element = {1, 2, 3, 4, 5, 6}\n",
    "element.remove(3)\n",
    "print(\"Set after removing 3:\", element)"
   ]
  },
  {
   "cell_type": "code",
   "execution_count": 11,
   "id": "c0d2c836",
   "metadata": {},
   "outputs": [
    {
     "name": "stdout",
     "output_type": "stream",
     "text": [
      "Intersection of the two sets: {4, 5}\n"
     ]
    }
   ],
   "source": [
    "# Question 4: Find the intersection of {1, 2, 3, 4, 5} and {4, 5, 6, 7, 8}\n",
    "\n",
    "set1 = {1, 2, 3, 4, 5}\n",
    "set2 = {4, 5, 6, 7, 8}\n",
    "intersection = set1.intersection(set2)\n",
    "print(\"Intersection of the two sets:\", intersection)"
   ]
  },
  {
   "cell_type": "code",
   "execution_count": 17,
   "id": "fc33a3e1",
   "metadata": {},
   "outputs": [
    {
     "name": "stdout",
     "output_type": "stream",
     "text": [
      "Difference between the first set and second set: {1, 2, 3}\n",
      "Difference between the second set and first set: {8, 6, 7}\n"
     ]
    }
   ],
   "source": [
    "# Question 5: Find the difference between {1, 2, 3, 4, 5} and {4, 5, 6, 7, 8}\n",
    "num1 = {1, 2, 3, 4, 5}\n",
    "num2 = {4, 5, 6, 7, 8}\n",
    "difference1 = num1.difference(num2)\n",
    "difference2 = num2.difference(num1)\n",
    "print(\"Difference between the first set and second set:\", difference1)\n",
    "print(\"Difference between the second set and first set:\", difference2)\n",
    "\n"
   ]
  },
  {
   "cell_type": "code",
   "execution_count": null,
   "id": "51292c25",
   "metadata": {},
   "outputs": [
    {
     "name": "stdout",
     "output_type": "stream",
     "text": [
      "Is 5 in the set? False\n"
     ]
    }
   ],
   "source": [
    "# Question 6: Check if 5 is in set {1, 2, 3, 4, 6, 7, 8}\n",
    "\n",
    "is_five_in_set = 5 in {1, 2, 3, 4, 6, 7, 8}\n",
    "print(\"Is 5 in the set?\", is_five_in_set)\n"
   ]
  },
  {
   "cell_type": "code",
   "execution_count": 19,
   "id": "1642f149",
   "metadata": {},
   "outputs": [
    {
     "name": "stdout",
     "output_type": "stream",
     "text": [
      "Length of the set: 5\n"
     ]
    }
   ],
   "source": [
    "# Question 7: Find the length of set {'a', 'b', 'c', 'd', 'e'}\n",
    "\n",
    "set_length = len({'a', 'b', 'c', 'd', 'e'})\n",
    "print(\"Length of the set:\", set_length)"
   ]
  },
  {
   "cell_type": "code",
   "execution_count": 20,
   "id": "309aba5c",
   "metadata": {},
   "outputs": [
    {
     "name": "stdout",
     "output_type": "stream",
     "text": [
      "Set of vowels from 'hello world': {'o', 'e'}\n"
     ]
    }
   ],
   "source": [
    "# Question 8: Create a set of vowels from string \"hello world\"\n",
    "vowels = set('hello world') & {'a', 'e', 'i', 'o', 'u'}\n",
    "print(\"Set of vowels from 'hello world':\", vowels)"
   ]
  },
  {
   "cell_type": "code",
   "execution_count": 21,
   "id": "22c192c9",
   "metadata": {},
   "outputs": [
    {
     "name": "stdout",
     "output_type": "stream",
     "text": [
      "List after removing duplicates: {1, 2, 3, 4, 5, 6, 7}\n"
     ]
    }
   ],
   "source": [
    "# Question 9: Remove duplicates from list [1, 2, 2, 3, 4, 4, 5, 6, 6, 7] using set\n",
    "\n",
    "list_with_duplicates = [1, 2, 2, 3, 4, 4, 5, 6, 6, 7]\n",
    "unique_elements = set(list_with_duplicates) \n",
    "print(\"List after removing duplicates:\", unique_elements)"
   ]
  },
  {
   "cell_type": "code",
   "execution_count": 22,
   "id": "1fec4ce6",
   "metadata": {},
   "outputs": [
    {
     "name": "stdout",
     "output_type": "stream",
     "text": [
      "Is {1, 2, 3} a subset of {1, 2, 3, 4, 5, 6}? True\n"
     ]
    }
   ],
   "source": [
    "# Question 10: Check if {1, 2, 3} is a subset of {1, 2, 3, 4, 5, 6}\n",
    "\n",
    "set_a = {1, 2, 3}\n",
    "set_b = {1, 2, 3, 4, 5, 6}\n",
    "is_subset = set_a.issubset(set_b)\n",
    "print(\"Is {1, 2, 3} a subset of {1, 2, 3, 4, 5, 6}?\", is_subset)"
   ]
  }
 ],
 "metadata": {
  "kernelspec": {
   "display_name": "Python 3",
   "language": "python",
   "name": "python3"
  },
  "language_info": {
   "codemirror_mode": {
    "name": "ipython",
    "version": 3
   },
   "file_extension": ".py",
   "mimetype": "text/x-python",
   "name": "python",
   "nbconvert_exporter": "python",
   "pygments_lexer": "ipython3",
   "version": "3.13.0"
  }
 },
 "nbformat": 4,
 "nbformat_minor": 5
}
