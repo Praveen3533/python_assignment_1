{
 "cells": [
  {
   "cell_type": "code",
   "execution_count": 1,
   "id": "54cf46dc",
   "metadata": {},
   "outputs": [
    {
     "name": "stdout",
     "output_type": "stream",
     "text": [
      "Hello World\n"
     ]
    }
   ],
   "source": [
    "# Question 1: Write a function to print \"Hello World\".\n",
    "\n",
    "def print_message():\n",
    "    print(\"Hello World\")\n",
    "\n",
    "print_message()\n"
   ]
  },
  {
   "cell_type": "code",
   "execution_count": 4,
   "id": "937e5ab5",
   "metadata": {},
   "outputs": [
    {
     "name": "stdout",
     "output_type": "stream",
     "text": [
      "sum: 36\n"
     ]
    }
   ],
   "source": [
    "# Question 2: Write a function to return the sum of two numbers.\n",
    "\n",
    "def add_numbers(num1,num2):\n",
    "    return num1 + num2\n",
    "result = add_numbers(6,30)\n",
    "print(\"sum:\",result)"
   ]
  },
  {
   "cell_type": "code",
   "execution_count": null,
   "id": "f4806c32",
   "metadata": {},
   "outputs": [
    {
     "name": "stdout",
     "output_type": "stream",
     "text": [
      "maximum number is : 50\n"
     ]
    }
   ],
   "source": [
    "# Question 3: Write a function to return the maximum of three numbers.  \n",
    "\n",
    "def max_of_three(a,b,c):\n",
    "    return max(a,b,c)\n",
    "result = max_of_three(20,50,30)\n",
    "print(\"maximum number is :\",result)"
   ]
  },
  {
   "cell_type": "code",
   "execution_count": 6,
   "id": "b27b57cc",
   "metadata": {},
   "outputs": [
    {
     "name": "stdout",
     "output_type": "stream",
     "text": [
      "factorial is : 720\n"
     ]
    }
   ],
   "source": [
    "# Question 4: Write a function to calculate factorial of a number.\n",
    "\n",
    "def factorial(n):\n",
    "    result = 1\n",
    "    for i in range(1,n+1):\n",
    "        result *= i\n",
    "    return result\n",
    "\n",
    "print(\"factorial is :\",factorial(6))\n"
   ]
  },
  {
   "cell_type": "code",
   "execution_count": 14,
   "id": "ffff8055",
   "metadata": {},
   "outputs": [
    {
     "name": "stdout",
     "output_type": "stream",
     "text": [
      "square is : 36\n"
     ]
    }
   ],
   "source": [
    "# Question 5: Write a function to return square of a number.\n",
    "\n",
    "def square(num):\n",
    "    return num * num\n",
    "\n",
    "print(\"square is :\",square(6))\n",
    "\n"
   ]
  },
  {
   "cell_type": "code",
   "execution_count": 16,
   "id": "df75ba6f",
   "metadata": {},
   "outputs": [
    {
     "name": "stdout",
     "output_type": "stream",
     "text": [
      "cube : 216\n"
     ]
    }
   ],
   "source": [
    "# Question 6: Write a function to return cube of a number.\n",
    "\n",
    "def cube(num):\n",
    "    return num**3\n",
    "\n",
    "print(\"cube :\",cube(6))\n",
    "\n"
   ]
  },
  {
   "cell_type": "code",
   "execution_count": 57,
   "id": "9e33102f",
   "metadata": {},
   "outputs": [
    {
     "name": "stdout",
     "output_type": "stream",
     "text": [
      "Fibonacci number is : 3\n"
     ]
    }
   ],
   "source": [
    "# Question 7: Write a function to return nth Fibonacci number.\n",
    "\n",
    "def fibonacci(n):\n",
    "\n",
    "    if n <= 0:\n",
    "        return \"Invalid input\"\n",
    "    elif n == 1:\n",
    "        return 0\n",
    "    elif n == 2:\n",
    "        return 1\n",
    "    \n",
    "    a, b = 0, 1\n",
    "    for _ in range(3, n+1):\n",
    "      a, b = b, a + b\n",
    "    return b\n",
    "\n",
    "print(\"Fibonacci number is :\",fibonacci(5))"
   ]
  },
  {
   "cell_type": "code",
   "execution_count": 58,
   "id": "f3f45cc1",
   "metadata": {},
   "outputs": [
    {
     "name": "stdout",
     "output_type": "stream",
     "text": [
      "reversed string is : neevarp\n"
     ]
    }
   ],
   "source": [
    "# Question 8: Write a function to reverse a string.\n",
    "\n",
    "def reverse_string(s):\n",
    "    return s[::-1]\n",
    "\n",
    "print(\"reversed string is :\",reverse_string(\"praveen\"))"
   ]
  },
  {
   "cell_type": "code",
   "execution_count": 67,
   "id": "d28850b5",
   "metadata": {},
   "outputs": [
    {
     "name": "stdout",
     "output_type": "stream",
     "text": [
      "is even: True\n"
     ]
    }
   ],
   "source": [
    "# Question 9: Write a function to check if a number is even.\n",
    "\n",
    "def is_even(number):\n",
    "    return number %2 == 0\n",
    "\n",
    "print(\"is even:\",is_even(6))"
   ]
  },
  {
   "cell_type": "code",
   "execution_count": 66,
   "id": "3678dba6",
   "metadata": {},
   "outputs": [
    {
     "name": "stdout",
     "output_type": "stream",
     "text": [
      "is odd: True\n"
     ]
    }
   ],
   "source": [
    "# Question 10: Write a function to check if a number is odd.\n",
    "\n",
    "def is_odd(number):\n",
    "    return number % 2 != 0\n",
    "\n",
    "print(\"is odd:\",is_odd(9))"
   ]
  },
  {
   "cell_type": "code",
   "execution_count": 77,
   "id": "e81c71ff",
   "metadata": {},
   "outputs": [
    {
     "name": "stdout",
     "output_type": "stream",
     "text": [
      "is prime: True\n"
     ]
    }
   ],
   "source": [
    "# Question 11: Write a function to check if a number is prime.\n",
    "\n",
    "def is_prime(num):\n",
    "    if num <= 1:\n",
    "        return False\n",
    "    for i in range(2, num):\n",
    "        if num % i == 0:\n",
    "            return False\n",
    "    return True\n",
    "print(\"is prime:\",is_prime(11))\n",
    "\n",
    "\n"
   ]
  },
  {
   "cell_type": "code",
   "execution_count": null,
   "id": "3bc913c9",
   "metadata": {},
   "outputs": [
    {
     "name": "stdout",
     "output_type": "stream",
     "text": [
      "Sum of digits: 27\n"
     ]
    }
   ],
   "source": [
    "# Question 12: Write a function to calculate sum of digits of a number.\n",
    "\n",
    "def sum_of_digits(num):\n",
    "    total = 0\n",
    "    while num > 0:\n",
    "        digit = num % 10   \n",
    "        total += digit     \n",
    "        num = num // 10   \n",
    "    return total\n",
    "\n",
    "\n",
    "print(\"Sum of digits:\", sum_of_digits(123894)) \n"
   ]
  },
  {
   "cell_type": "code",
   "execution_count": null,
   "id": "c7d7f101",
   "metadata": {},
   "outputs": [
    {
     "name": "stdout",
     "output_type": "stream",
     "text": [
      "Maximum element: 98\n"
     ]
    }
   ],
   "source": [
    "# Question 13: Write a function to return maximum element in a list.\n",
    "\n",
    "def max_in_list(lst):\n",
    "    return max(lst) \n",
    "\n",
    "numbers = [10, 25, 7, 98, 42]\n",
    "print(\"Maximum element:\", max_in_list(numbers))  "
   ]
  },
  {
   "cell_type": "code",
   "execution_count": 83,
   "id": "fce53d48",
   "metadata": {},
   "outputs": [
    {
     "name": "stdout",
     "output_type": "stream",
     "text": [
      "Minimum element: 10\n"
     ]
    }
   ],
   "source": [
    "# Question 14: Write a function to return minimum element in a list.\n",
    "\n",
    "def min_in_list(lst):\n",
    "    return min(lst)\n",
    "\n",
    "numbers = [10, 25, 79, 89, 42]\n",
    "print(\"Minimum element:\", min_in_list(numbers))  \n"
   ]
  },
  {
   "cell_type": "code",
   "execution_count": 85,
   "id": "4a0f480e",
   "metadata": {},
   "outputs": [
    {
     "name": "stdout",
     "output_type": "stream",
     "text": [
      "Average: 48.4\n"
     ]
    }
   ],
   "source": [
    "# Question 15: Write a function to calculate average of a list.\n",
    "\n",
    "def average(lst):\n",
    "    total = sum(lst)\n",
    "    return total / len(lst)\n",
    "\n",
    "numbers = [10, 25, 76, 89, 42]\n",
    "print(\"Average:\", average(numbers))  \n"
   ]
  },
  {
   "cell_type": "code",
   "execution_count": null,
   "id": "3fe6dd5b",
   "metadata": {},
   "outputs": [
    {
     "name": "stdout",
     "output_type": "stream",
     "text": [
      "Length of list: 5\n"
     ]
    }
   ],
   "source": [
    "# Question 16: Write a function to return length of a list without using len().\n",
    "\n",
    "def list_length(lst):\n",
    "    count = 0\n",
    "    for _ in lst:\n",
    "        count += 1\n",
    "    return count\n",
    "\n",
    "numbers = [10, 25, 57, 89, 42]\n",
    "print(\"Length of list:\", list_length(numbers))  \n"
   ]
  },
  {
   "cell_type": "code",
   "execution_count": 89,
   "id": "d3ac3afc",
   "metadata": {},
   "outputs": [
    {
     "name": "stdout",
     "output_type": "stream",
     "text": [
      "Vowels: 7\n"
     ]
    }
   ],
   "source": [
    "# uestion 17: Write a function to count vowels in a string.\n",
    "\n",
    "def count_vowels(string):\n",
    "    vowels = \"aeiouAEIOU\"\n",
    "    count = 0\n",
    "    for char in string:\n",
    "        if char in vowels:\n",
    "            count += 1\n",
    "    return count\n",
    "\n",
    "text = \"Hello praveen kumar\"\n",
    "print(\"Vowels:\", count_vowels(text))  \n"
   ]
  },
  {
   "cell_type": "code",
   "execution_count": 91,
   "id": "c205114e",
   "metadata": {},
   "outputs": [
    {
     "name": "stdout",
     "output_type": "stream",
     "text": [
      "Consonants: 10\n"
     ]
    }
   ],
   "source": [
    "# Question 18: Write a function to count consonants in a string.\n",
    "\n",
    "def count_consonants(string):\n",
    "    vowels = \"aeiouAEIOU\"\n",
    "    count = 0\n",
    "    for char in string:\n",
    "        if char.isalpha() and char not in vowels:\n",
    "            count += 1\n",
    "    return count\n",
    "\n",
    "text = \"Hello praveen kumar\"\n",
    "print(\"Consonants:\", count_consonants(text))  # Output: 7\n"
   ]
  },
  {
   "cell_type": "code",
   "execution_count": 92,
   "id": "2934ca2c",
   "metadata": {},
   "outputs": [
    {
     "name": "stdout",
     "output_type": "stream",
     "text": [
      "Number of words: 4\n"
     ]
    }
   ],
   "source": [
    "# Question 19: Write a function to count words in a sentence.\n",
    "\n",
    "def count_words(sentence):\n",
    "    words = sentence.split()\n",
    "    return len(words)\n",
    "\n",
    "sentence = \"Python is great language\"\n",
    "print(\"Number of words:\", count_words(sentence))  \n"
   ]
  },
  {
   "cell_type": "code",
   "execution_count": 95,
   "id": "ed1994d1",
   "metadata": {},
   "outputs": [
    {
     "name": "stdout",
     "output_type": "stream",
     "text": [
      "Fahrenheit: 91.4\n"
     ]
    }
   ],
   "source": [
    "# Question 20: Write a function to convert Celsius to Fahrenheit.\n",
    "\n",
    "def celsius_to_fahrenheit(c):\n",
    "    return (c * 9/5) + 32\n",
    "\n",
    "print(\"Fahrenheit:\", celsius_to_fahrenheit(33))  \n"
   ]
  },
  {
   "cell_type": "code",
   "execution_count": null,
   "id": "334ede8a",
   "metadata": {},
   "outputs": [
    {
     "name": "stdout",
     "output_type": "stream",
     "text": [
      "Celsius: 37.0\n"
     ]
    }
   ],
   "source": [
    "# Question 21: Write a function to convert Fahrenheit to Celsius.\n",
    "\n",
    "def fahrenheit_to_celsius(f):\n",
    "    return (f - 32) * 5/9\n",
    "\n",
    "print(\"Celsius:\", fahrenheit_to_celsius(98.6)) \n"
   ]
  },
  {
   "cell_type": "code",
   "execution_count": 97,
   "id": "fa607c58",
   "metadata": {},
   "outputs": [
    {
     "name": "stdout",
     "output_type": "stream",
     "text": [
      "Simple Interest: 100.0\n"
     ]
    }
   ],
   "source": [
    "# Question 22: Write a function to calculate simple interest.\n",
    "\n",
    "def simple_interest(principal, rate, time):\n",
    "    return (principal * rate * time) / 100\n",
    "\n",
    "print(\"Simple Interest:\", simple_interest(1000, 5, 2))  \n"
   ]
  },
  {
   "cell_type": "code",
   "execution_count": null,
   "id": "5d287fcf",
   "metadata": {},
   "outputs": [
    {
     "name": "stdout",
     "output_type": "stream",
     "text": [
      "Compound Interest: 102.5\n"
     ]
    }
   ],
   "source": [
    "# Question 23: Write a function to calculate compound interest.\n",
    "\n",
    "def compound_interest(principal, rate, time):\n",
    "    amount = principal * (1 + rate/100) ** time\n",
    "    return amount - principal\n",
    "\n",
    "print(\"Compound Interest:\", compound_interest(1000, 5, 2)) \n"
   ]
  },
  {
   "cell_type": "code",
   "execution_count": 99,
   "id": "6bb02377",
   "metadata": {},
   "outputs": [
    {
     "name": "stdout",
     "output_type": "stream",
     "text": [
      "Hello praveen\n",
      "Hello Guest\n"
     ]
    }
   ],
   "source": [
    "# Question 24: Write a function with default argument values.\n",
    "\n",
    "def greet(name=\"Guest\"):\n",
    "    print(\"Hello\", name)\n",
    "\n",
    "greet(\"praveen\")  \n",
    "greet()         \n"
   ]
  },
  {
   "cell_type": "code",
   "execution_count": null,
   "id": "ef3403fb",
   "metadata": {},
   "outputs": [
    {
     "name": "stdout",
     "output_type": "stream",
     "text": [
      "Sum: 60 Average: 20.0\n"
     ]
    }
   ],
   "source": [
    "# Question 25: Write a function to return multiple values (sum, average).\n",
    "\n",
    "def sum_and_average(lst):\n",
    "    total = sum(lst)\n",
    "    avg = total / len(lst)\n",
    "    return total, avg\n",
    "\n",
    "numbers = [10, 20, 30]\n",
    "s, a = sum_and_average(numbers)\n",
    "print(\"Sum:\", s, \"Average:\", a) "
   ]
  },
  {
   "cell_type": "code",
   "execution_count": 101,
   "id": "f66b0cd5",
   "metadata": {},
   "outputs": [
    {
     "name": "stdout",
     "output_type": "stream",
     "text": [
      "Inside function: 5\n",
      "Outside function: 33\n"
     ]
    }
   ],
   "source": [
    "# Question 26: Write a function to demonstrate local vs global variables.\n",
    "\n",
    "x = 33  \n",
    "\n",
    "def demo():\n",
    "    x = 5 \n",
    "    print(\"Inside function:\", x)\n",
    "\n",
    "demo()             \n",
    "print(\"Outside function:\", x) \n"
   ]
  },
  {
   "cell_type": "code",
   "execution_count": 103,
   "id": "6987b905",
   "metadata": {},
   "outputs": [
    {
     "name": "stdout",
     "output_type": "stream",
     "text": [
      "False\n"
     ]
    }
   ],
   "source": [
    "# Question 27: Write a function to check if a string is palindrome.\n",
    "\n",
    "def is_palindrome(s):\n",
    "    s = s.lower().replace(\" \", \"\")\n",
    "    return s == s[::-1]\n",
    "\n",
    "text = \"praveen\"\n",
    "print(is_palindrome(text))  \n"
   ]
  },
  {
   "cell_type": "code",
   "execution_count": 106,
   "id": "e1305022",
   "metadata": {},
   "outputs": [
    {
     "name": "stdout",
     "output_type": "stream",
     "text": [
      "Sorted list: [34, 48, 50, 72]\n"
     ]
    }
   ],
   "source": [
    "# Question 28: Write a function to sort a list of numbers.\n",
    "\n",
    "def sort_list(lst):\n",
    "    return sorted(lst)\n",
    "\n",
    "numbers = [50, 72, 48, 34]\n",
    "print(\"Sorted list:\", sort_list(numbers))\n"
   ]
  },
  {
   "cell_type": "code",
   "execution_count": 107,
   "id": "d5ed3328",
   "metadata": {},
   "outputs": [
    {
     "name": "stdout",
     "output_type": "stream",
     "text": [
      "LCM: 36\n"
     ]
    }
   ],
   "source": [
    "# Question 29: Write a function to calculate LCM of two numbers.\n",
    "\n",
    "def lcm(a, b):\n",
    "    greater = max(a, b)\n",
    "    while True:\n",
    "        if greater % a == 0 and greater % b == 0:\n",
    "            return greater\n",
    "        greater += 1\n",
    "\n",
    "print(\"LCM:\", lcm(12, 18))  "
   ]
  },
  {
   "cell_type": "code",
   "execution_count": 108,
   "id": "e76b197d",
   "metadata": {},
   "outputs": [
    {
     "name": "stdout",
     "output_type": "stream",
     "text": [
      "GCD: 2\n"
     ]
    }
   ],
   "source": [
    "# Question 30: Write a function to calculate GCD of two numbers.\n",
    "\n",
    "def gcd(a, b):\n",
    "    while b != 0:\n",
    "        a, b = b, a % b\n",
    "    return a\n",
    "\n",
    "print(\"GCD:\", gcd(42, 38)) \n"
   ]
  }
 ],
 "metadata": {
  "kernelspec": {
   "display_name": "Python 3",
   "language": "python",
   "name": "python3"
  },
  "language_info": {
   "codemirror_mode": {
    "name": "ipython",
    "version": 3
   },
   "file_extension": ".py",
   "mimetype": "text/x-python",
   "name": "python",
   "nbconvert_exporter": "python",
   "pygments_lexer": "ipython3",
   "version": "3.13.0"
  }
 },
 "nbformat": 4,
 "nbformat_minor": 5
}
