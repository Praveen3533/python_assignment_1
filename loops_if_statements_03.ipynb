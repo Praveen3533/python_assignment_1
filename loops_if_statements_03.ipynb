{
 "cells": [
  {
   "cell_type": "code",
   "execution_count": 27,
   "id": "1ec7132e",
   "metadata": {},
   "outputs": [
    {
     "name": "stdout",
     "output_type": "stream",
     "text": [
      "Contains negative numbers\n"
     ]
    }
   ],
   "source": [
    "# Question 61: Print \"Contains negative numbers\" if any < 0.\n",
    "\n",
    "num = -2\n",
    "\n",
    "if num < 0:\n",
    "    print(\"Contains negative numbers\")\n",
    "else:\n",
    "    print(\"Does not contain negative numbers\")\n"
   ]
  },
  {
   "cell_type": "code",
   "execution_count": 30,
   "id": "3858127a",
   "metadata": {},
   "outputs": [
    {
     "name": "stdout",
     "output_type": "stream",
     "text": [
      "Average > 50\n"
     ]
    }
   ],
   "source": [
    "# Question 62: Check if average > 50.\n",
    "\n",
    "num = 58\n",
    "\n",
    "if num > 50:\n",
    "    print(\"Average > 50\")\n",
    "else:\n",
    "    print(\"Average <= 50\")\n"
   ]
  },
  {
   "cell_type": "code",
   "execution_count": 32,
   "id": "ae75fc2e",
   "metadata": {},
   "outputs": [
    {
     "name": "stdout",
     "output_type": "stream",
     "text": [
      "Average < 50\n"
     ]
    }
   ],
   "source": [
    "# Question 63: Print \"Average below 50\"\n",
    "\n",
    "num = 47\n",
    "\n",
    "if num < 50:\n",
    "    print(\"Average < 50\")\n",
    "else:\n",
    "    print(\"Average > 50\")"
   ]
  },
  {
   "cell_type": "code",
   "execution_count": 43,
   "id": "382cd14b",
   "metadata": {},
   "outputs": [
    {
     "name": "stdout",
     "output_type": "stream",
     "text": [
      "28 is multiple of 7\n"
     ]
    }
   ],
   "source": [
    "# Question 64: Check if number is multiple of 7.\n",
    "\n",
    "num = 28\n",
    "\n",
    "if num % 7 == 0:\n",
    "    print(f\"{num} is multiple of 7\")\n",
    "else:\n",
    "    print(f\"{num} is not multiple of 7\")\n"
   ]
  },
  {
   "cell_type": "code",
   "execution_count": 44,
   "id": "56fb9e82",
   "metadata": {},
   "outputs": [
    {
     "name": "stdout",
     "output_type": "stream",
     "text": [
      "55 is multiple of 11\n"
     ]
    }
   ],
   "source": [
    "# Question 65: Check if number is multiple of 11.\n",
    "\n",
    "num = 55\n",
    "\n",
    "if num % 11 == 0:\n",
    "    print(f\"{num} is multiple of 11\")\n",
    "else:\n",
    "    print(f\"{num} is not multiple of 11\")\n"
   ]
  },
  {
   "cell_type": "code",
   "execution_count": 50,
   "id": "e6f9b1c7",
   "metadata": {},
   "outputs": [
    {
     "name": "stdout",
     "output_type": "stream",
     "text": [
      "125 Number ends with 5\n"
     ]
    }
   ],
   "source": [
    "# Question 66: Check if number ends with digit 5.\n",
    "\n",
    "num = 125\n",
    "\n",
    "if num % 10 == 5:\n",
    "    print(f\"{num} Number ends with 5\")\n",
    "else:\n",
    "    print(f\"{num} Number does not end with 5\")"
   ]
  },
  {
   "cell_type": "code",
   "execution_count": 54,
   "id": "b4c694d7",
   "metadata": {},
   "outputs": [
    {
     "name": "stdout",
     "output_type": "stream",
     "text": [
      "Number starts with 9\n"
     ]
    }
   ],
   "source": [
    "# Question 67: Check if number starts with digit 9.\n",
    "\n",
    "num5 = \"987\"\n",
    "\n",
    "if num5[0] == '9' or (num5[0] == '-' and num5[1] == '9'):\n",
    "    print(\"Number starts with 9\")\n",
    "else:\n",
    "    print(\"Number does not start with 9\")\n"
   ]
  },
  {
   "cell_type": "code",
   "execution_count": 37,
   "id": "855a4ddc",
   "metadata": {},
   "outputs": [
    {
     "name": "stdout",
     "output_type": "stream",
     "text": [
      " Exactly 3-digit number\n"
     ]
    }
   ],
   "source": [
    "# Question 68: Check if number has exactly 3 digits.\n",
    "\n",
    "num = 999\n",
    "\n",
    "if (100 <= num <= 999) or (-999 <= num <= -100):\n",
    "    print(\" Exactly 3-digit number\")\n",
    "else:\n",
    "    print(\"Not a 3-digit number\")"
   ]
  },
  {
   "cell_type": "code",
   "execution_count": 63,
   "id": "ac3a1a7b",
   "metadata": {},
   "outputs": [
    {
     "name": "stdout",
     "output_type": "stream",
     "text": [
      "Above boiling point\n"
     ]
    }
   ],
   "source": [
    "# Question 69: Check if temperature is above 100 (boiling).\n",
    "\n",
    "temp = 101\n",
    "\n",
    "if temp > 100:\n",
    "    print(\"Above boiling point\")\n",
    "else:\n",
    "    print(\"Not above boiling point\")"
   ]
  },
  {
   "cell_type": "code",
   "execution_count": 64,
   "id": "961d50b6",
   "metadata": {},
   "outputs": [
    {
     "name": "stdout",
     "output_type": "stream",
     "text": [
      "Password contains both letters and numbers\n"
     ]
    }
   ],
   "source": [
    "# Question 70: Check if password contains both letters and numbers.\n",
    "\n",
    "password = \"praveen3452\"\n",
    "\n",
    "if password.isalnum:\n",
    "    print(\"Password contains both letters and numbers\")\n",
    "else:\n",
    "    print(\"Password does not contain both letters and numbers\")"
   ]
  },
  {
   "cell_type": "code",
   "execution_count": 34,
   "id": "b55c9a46",
   "metadata": {},
   "outputs": [
    {
     "name": "stdout",
     "output_type": "stream",
     "text": [
      "Email contains '@gmail.com'\n"
     ]
    }
   ],
   "source": [
    "# Question 71: Check if email ends with \"@gmail.com\".\n",
    "\n",
    "email = \"praveen@gmail.com\"\n",
    "\n",
    "if \"@gmail.com\" in email:\n",
    "    print(\"Email contains '@gmail.com'\")\n",
    "else:\n",
    "    print(\"Email does not contain '@gmail.com'\")"
   ]
  },
  {
   "cell_type": "code",
   "execution_count": 69,
   "id": "2634ceeb",
   "metadata": {},
   "outputs": [
    {
     "name": "stdout",
     "output_type": "stream",
     "text": [
      "file name is starts with data_\n"
     ]
    }
   ],
   "source": [
    "# Question 72: Check if filename starts with \"data_\".\n",
    "file_name = \"data_praveen.txt\"\n",
    "\n",
    "if file_name.startswith(\"data_\"):\n",
    "    print(\"file name is starts with data_\")\n",
    "else:\n",
    "    print(\"file name does not starts with data_\")"
   ]
  },
  {
   "cell_type": "code",
   "execution_count": 71,
   "id": "29ce1954",
   "metadata": {},
   "outputs": [
    {
     "name": "stdout",
     "output_type": "stream",
     "text": [
      "file name is ends with .json\n"
     ]
    }
   ],
   "source": [
    "# Question 73: Print \"JSON file\" if filename ends with .json.\n",
    "\n",
    "file_name = \"praveen.json\"\n",
    "\n",
    "if file_name.endswith(\".json\"):\n",
    "    print(\"file name is ends with .json\")\n",
    "else:\n",
    "    print(\"file name does not ends with .json\")\n"
   ]
  },
  {
   "cell_type": "code",
   "execution_count": 74,
   "id": "9267323e",
   "metadata": {},
   "outputs": [
    {
     "name": "stdout",
     "output_type": "stream",
     "text": [
      "file name is ends with .csv\n"
     ]
    }
   ],
   "source": [
    "# Question 74: Print \"CSV file\" if filename ends with .csv.\n",
    "\n",
    "file_name = \"praveen.csv\"\n",
    "\n",
    "if file_name.endswith(\".csv\"):\n",
    "    print(\"file name is ends with .csv\")\n",
    "else:\n",
    "    print(\"file name does not ends with .csv\")\n",
    "\n"
   ]
  },
  {
   "cell_type": "code",
   "execution_count": 25,
   "id": "a388b551",
   "metadata": {},
   "outputs": [
    {
     "name": "stdout",
     "output_type": "stream",
     "text": [
      "3-digit number\n"
     ]
    }
   ],
   "source": [
    "# Question 75: Check if a number has 3 digits.\n",
    "\n",
    "num = 999\n",
    "\n",
    "if (100 <= num <= 999) or (-999 <= num <= -100):\n",
    "    print(\"3-digit number\")\n",
    "else:\n",
    "    print(\"Not a 3-digit number\")\n"
   ]
  },
  {
   "cell_type": "code",
   "execution_count": 23,
   "id": "b6c46a16",
   "metadata": {},
   "outputs": [
    {
     "name": "stdout",
     "output_type": "stream",
     "text": [
      "28 is a Perfect number\n"
     ]
    }
   ],
   "source": [
    "# Question 76: Print \"Palindrome number\" if digits reverse same.\n",
    "\n",
    "num = 28\n",
    "sum_divisors = 0                      \n",
    "\n",
    "for i in range(1, num):       \n",
    "    if num % i == 0:   \n",
    "        sum_divisors += i   \n",
    "\n",
    "if sum_divisors == num:\n",
    "    print(f\"{num} is a Perfect number\")\n",
    "else:\n",
    "    print(f\"{num} is Not a Perfect number\")"
   ]
  },
  {
   "cell_type": "code",
   "execution_count": 22,
   "id": "a27b5324",
   "metadata": {},
   "outputs": [
    {
     "name": "stdout",
     "output_type": "stream",
     "text": [
      "2300 Century year\n"
     ]
    }
   ],
   "source": [
    "# Question 77: Check if year is century year.\n",
    "\n",
    "year = 2300\n",
    "\n",
    "if year %  100 == 0:\n",
    "    print(f\"{year} Century year\")\n",
    "else:\n",
    "    print(f\"{year} not Century year\")"
   ]
  },
  {
   "cell_type": "code",
   "execution_count": 20,
   "id": "9a098a3c",
   "metadata": {},
   "outputs": [
    {
     "name": "stdout",
     "output_type": "stream",
     "text": [
      "Armstrong number\n"
     ]
    }
   ],
   "source": [
    "# Question 78: Print \"Armstrong number\" if sum of digits^n = number.\n",
    "\n",
    "num = 153\n",
    "if sum(int(d)**len(str(num)) for d in str(num)) == num:\n",
    "    print(\"Armstrong number\")\n",
    "else:\n",
    "    print(\"Not Armstrong\")"
   ]
  },
  {
   "cell_type": "code",
   "execution_count": 21,
   "id": "4fdd8e05",
   "metadata": {},
   "outputs": [
    {
     "name": "stdout",
     "output_type": "stream",
     "text": [
      "20 is a Harshad number\n"
     ]
    }
   ],
   "source": [
    "# Question 79: Print \"Harshad number\" if divisible by sum of digits.\n",
    "\n",
    "num = 20\n",
    "sum_digits = sum(int(d) for d in str(num))\n",
    "\n",
    "if num % sum_digits == 0:\n",
    "    print(f\"{num} is a Harshad number\")\n",
    "else:\n",
    "    print(f\"{num} is not a Harshad number\")\n"
   ]
  },
  {
   "cell_type": "code",
   "execution_count": 84,
   "id": "1295ce21",
   "metadata": {},
   "outputs": [
    {
     "name": "stdout",
     "output_type": "stream",
     "text": [
      "Working day\n"
     ]
    }
   ],
   "source": [
    "# Question 80: Check if today is Saturday or Sunday.\n",
    "\n",
    "day = \"thursday\"\n",
    "\n",
    "if day in [\"monday\", \"tuesday\", \"wednesday\", \"thursday\", \"friday\"]:\n",
    "    print(\"Working day\")\n",
    "else:\n",
    "    print(\"Weekend\")\n"
   ]
  },
  {
   "cell_type": "code",
   "execution_count": 83,
   "id": "fec0b844",
   "metadata": {},
   "outputs": [
    {
     "name": "stdout",
     "output_type": "stream",
     "text": [
      "Working day\n"
     ]
    }
   ],
   "source": [
    "# Question 81: Print \"Working day\" if today is Monday–Friday.\n",
    "\n",
    "day = \"thursday\"\n",
    "\n",
    "if day in [\"monday\", \"tuesday\", \"wednesday\", \"thursday\", \"friday\"]:\n",
    "    print(\"Working day\")\n",
    "else:\n",
    "    print(\"Weekend\")\n"
   ]
  },
  {
   "cell_type": "code",
   "execution_count": 62,
   "id": "c4030eba",
   "metadata": {},
   "outputs": [
    {
     "name": "stdout",
     "output_type": "stream",
     "text": [
      "It is Morning\n"
     ]
    }
   ],
   "source": [
    "# Question 82: Print \"Morning\" if time < 12.\n",
    "\n",
    "time = 10\n",
    "\n",
    "if time < 12:\n",
    "    print(\"It is Morning\")\n",
    "else:\n",
    "    print(\"It is not Morning\")"
   ]
  },
  {
   "cell_type": "code",
   "execution_count": 55,
   "id": "87e15790",
   "metadata": {},
   "outputs": [
    {
     "name": "stdout",
     "output_type": "stream",
     "text": [
      "It is Afternoon\n"
     ]
    }
   ],
   "source": [
    "# Question 83: Print \"Afternoon\" if time between 12 and 18.\n",
    "\n",
    "time = 14\n",
    "\n",
    "if 12< time <= 18:\n",
    "    print(\"It is Afternoon\")\n",
    "else:\n",
    "    print(\"It is not Afternoon\")"
   ]
  },
  {
   "cell_type": "code",
   "execution_count": 58,
   "id": "1e195661",
   "metadata": {},
   "outputs": [
    {
     "name": "stdout",
     "output_type": "stream",
     "text": [
      "It is Night\n"
     ]
    }
   ],
   "source": [
    "# Question 84: Print \"Night\" if time >= 18.\n",
    "\n",
    "time = 20\n",
    "\n",
    "if time > 18:\n",
    "    print(\"It is Night\")\n",
    "else:\n",
    "    print(\"It is not Night\")"
   ]
  },
  {
   "cell_type": "code",
   "execution_count": 70,
   "id": "1f52841b",
   "metadata": {},
   "outputs": [
    {
     "name": "stdout",
     "output_type": "stream",
     "text": [
      "file name is starts with data_\n"
     ]
    }
   ],
   "source": [
    "# Question 85: Check if filename starts with \"data_\".\n",
    "\n",
    "file_name = \"data_praveen.txt\"\n",
    "\n",
    "if file_name.startswith(\"data_\"):\n",
    "    print(\"file name is starts with data_\")\n",
    "else:\n",
    "    print(\"file name does not starts with data_\")"
   ]
  },
  {
   "cell_type": "code",
   "execution_count": 72,
   "id": "8d59f01c",
   "metadata": {},
   "outputs": [
    {
     "name": "stdout",
     "output_type": "stream",
     "text": [
      "file name is ends with .json\n"
     ]
    }
   ],
   "source": [
    "# Question 86: Print \"JSON file\" if filename ends with .json.\n",
    "\n",
    "file_name = \"praveen.json\"\n",
    "\n",
    "if file_name.endswith(\".json\"):\n",
    "    print(\"file name is ends with .json\")\n",
    "else:\n",
    "    print(\"file name does not ends with .json\")"
   ]
  },
  {
   "cell_type": "code",
   "execution_count": 73,
   "id": "d3a946f9",
   "metadata": {},
   "outputs": [
    {
     "name": "stdout",
     "output_type": "stream",
     "text": [
      "file name is ends with .csv\n"
     ]
    }
   ],
   "source": [
    "# Question 87: Print \"CSV file\" if filename ends with .csv.\n",
    "\n",
    "file_name = \"praveen.csv\"\n",
    "\n",
    "if file_name.endswith(\".csv\"):\n",
    "    print(\"file name is ends with .csv\")\n",
    "else:\n",
    "    print(\"file name does not ends with .csv\")"
   ]
  },
  {
   "cell_type": "code",
   "execution_count": 26,
   "id": "64238d39",
   "metadata": {},
   "outputs": [
    {
     "name": "stdout",
     "output_type": "stream",
     "text": [
      "3-digit number\n"
     ]
    }
   ],
   "source": [
    "# Question 88: Check if a number has 3 digits.\n",
    "\n",
    "num = 998\n",
    "\n",
    "if (100 <= num <= 999) or (-999 <= num <= -100):\n",
    "    print(\"3-digit number\")\n",
    "else:\n",
    "    print(\"Not a 3-digit number\")\n"
   ]
  },
  {
   "cell_type": "code",
   "execution_count": 15,
   "id": "54710c41",
   "metadata": {},
   "outputs": [
    {
     "name": "stdout",
     "output_type": "stream",
     "text": [
      "60 is between 50 and 100\n"
     ]
    }
   ],
   "source": [
    "# Question 89: Check if number is between 50 and 100.\n",
    "\n",
    "num = 60\n",
    "\n",
    "if 50 < num <= 100:\n",
    "    print(f\"{num} is between 50 and 100\")\n",
    "else:\n",
    "    print(f\"{num} is not between 50 and 100\")\n"
   ]
  },
  {
   "cell_type": "code",
   "execution_count": null,
   "id": "c39d4249",
   "metadata": {},
   "outputs": [
    {
     "name": "stdout",
     "output_type": "stream",
     "text": [
      "Palindrome number\n"
     ]
    }
   ],
   "source": [
    "# Question 90: Print \"Palindrome number\" if digits reverse same.\n",
    "\n",
    "num = input()\n",
    "\n",
    "if num == num[::-1]:\n",
    "    print(\"Palindrome number\")\n",
    "else:\n",
    "    print(\"Not a palindrome number\")\n"
   ]
  },
  {
   "cell_type": "code",
   "execution_count": 7,
   "id": "454b96af",
   "metadata": {},
   "outputs": [
    {
     "name": "stdout",
     "output_type": "stream",
     "text": [
      "2200 Century year\n"
     ]
    }
   ],
   "source": [
    "# Question 91: Check if year is century year.\n",
    "\n",
    "year = 2200\n",
    "\n",
    "if year %  100 == 0:\n",
    "    print(f\"{year} Century year\")\n",
    "else:\n",
    "    print(f\"{year} not Century year\")"
   ]
  },
  {
   "cell_type": "code",
   "execution_count": 16,
   "id": "2c173825",
   "metadata": {},
   "outputs": [
    {
     "name": "stdout",
     "output_type": "stream",
     "text": [
      "Armstrong number\n"
     ]
    }
   ],
   "source": [
    "# Question 92: Print \"Armstrong number\" if sum of digits^n = number.\n",
    "\n",
    "num = 153\n",
    "if sum(int(d)**len(str(num)) for d in str(num)) == num:\n",
    "    print(\"Armstrong number\")\n",
    "else:\n",
    "    print(\"Not Armstrong\")"
   ]
  },
  {
   "cell_type": "code",
   "execution_count": 17,
   "id": "96cb60fc",
   "metadata": {},
   "outputs": [
    {
     "name": "stdout",
     "output_type": "stream",
     "text": [
      "20 is a Harshad number\n"
     ]
    }
   ],
   "source": [
    "# Question 93: Print \"Harshad number\" if divisible by sum of digits.\n",
    "\n",
    "num = 20\n",
    "sum_digits = sum(int(d) for d in str(num))\n",
    "\n",
    "if num % sum_digits == 0:\n",
    "    print(f\"{num} is a Harshad number\")\n",
    "else:\n",
    "    print(f\"{num} is not a Harshad number\")\n"
   ]
  },
  {
   "cell_type": "code",
   "execution_count": 8,
   "id": "60346f03",
   "metadata": {},
   "outputs": [
    {
     "name": "stdout",
     "output_type": "stream",
     "text": [
      "Grade A\n"
     ]
    }
   ],
   "source": [
    "# Question 94: Check if student score >= 90 (Grade A).\n",
    "\n",
    "score = 93\n",
    "if score >= 90:\n",
    "    print(\"Grade A\")\n",
    "elif score >= 75:\n",
    "    print(\"Grade B\")\n",
    "elif score >= 50:\n",
    "    print(\"Grade C\")\n",
    "elif score >= 35:\n",
    "    print(\"Pass\")\n",
    "else:\n",
    "    print(\"Fail\")"
   ]
  },
  {
   "cell_type": "code",
   "execution_count": 9,
   "id": "b2b32c6e",
   "metadata": {},
   "outputs": [
    {
     "name": "stdout",
     "output_type": "stream",
     "text": [
      "Grade B\n"
     ]
    }
   ],
   "source": [
    "# Question 95: Check if score >= 75 (Grade B).\n",
    "\n",
    "score = 85\n",
    "if score >= 90:\n",
    "    print(\"Grade A\")\n",
    "elif score >= 75:\n",
    "    print(\"Grade B\")\n",
    "elif score >= 50:\n",
    "    print(\"Grade C\")\n",
    "elif score >= 35:\n",
    "    print(\"Pass\")\n",
    "else:\n",
    "    print(\"Fail\")"
   ]
  },
  {
   "cell_type": "code",
   "execution_count": 10,
   "id": "e26cb99e",
   "metadata": {},
   "outputs": [
    {
     "name": "stdout",
     "output_type": "stream",
     "text": [
      "Grade C\n"
     ]
    }
   ],
   "source": [
    "# Question 96: Check if score >= 50 (Grade C).\n",
    "\n",
    "score = 65\n",
    "if score >= 90:\n",
    "    print(\"Grade A\")\n",
    "elif score >= 75:\n",
    "    print(\"Grade B\")\n",
    "elif score >= 50:\n",
    "    print(\"Grade C\")\n",
    "elif score >= 35:\n",
    "    print(\"Pass\")\n",
    "else:\n",
    "    print(\"Fail\")"
   ]
  },
  {
   "cell_type": "code",
   "execution_count": 11,
   "id": "e84e365c",
   "metadata": {},
   "outputs": [
    {
     "name": "stdout",
     "output_type": "stream",
     "text": [
      "Fail\n"
     ]
    }
   ],
   "source": [
    "# Question 97: Print \"Fail\" if score < 35.\n",
    "\n",
    "score = 30\n",
    "if score >= 90:\n",
    "    print(\"Grade A\")\n",
    "elif score >= 75:\n",
    "    print(\"Grade B\")\n",
    "elif score >= 50:\n",
    "    print(\"Grade C\")\n",
    "elif score >= 35:\n",
    "    print(\"Pass\")\n",
    "else:\n",
    "    print(\"Fail\")"
   ]
  },
  {
   "cell_type": "code",
   "execution_count": 12,
   "id": "665256a6",
   "metadata": {},
   "outputs": [
    {
     "name": "stdout",
     "output_type": "stream",
     "text": [
      "Pass\n"
     ]
    }
   ],
   "source": [
    "# Question 98: Print \"Pass\" if score >= 35.\n",
    "\n",
    "score = 40\n",
    "if score >= 90:\n",
    "    print(\"Grade A\")\n",
    "elif score >= 75:\n",
    "    print(\"Grade B\")\n",
    "elif score >= 50:\n",
    "    print(\"Grade C\")\n",
    "elif score >= 35:\n",
    "    print(\"Pass\")\n",
    "else:\n",
    "    print(\"Fail\")"
   ]
  },
  {
   "cell_type": "code",
   "execution_count": null,
   "id": "30dec322",
   "metadata": {},
   "outputs": [
    {
     "name": "stdout",
     "output_type": "stream",
     "text": [
      "28 is a Perfect number\n"
     ]
    }
   ],
   "source": [
    "# Question 99: Print \"Perfect number\" if sum of divisors = number.\n",
    "\n",
    "num = 28\n",
    "sum_divisors = 0 \n",
    "\n",
    "for i in range(1, num):       \n",
    "    if num % i == 0:   \n",
    "        sum_divisors += i   \n",
    "\n",
    "if sum_divisors == num:\n",
    "    print(f\"{num} is a Perfect number\")\n",
    "else:\n",
    "    print(f\"{num} is Not a Perfect number\")"
   ]
  },
  {
   "cell_type": "code",
   "execution_count": 19,
   "id": "1d16a075",
   "metadata": {},
   "outputs": [
    {
     "name": "stdout",
     "output_type": "stream",
     "text": [
      "Invalid username length\n"
     ]
    }
   ],
   "source": [
    "# Question 100: Check if username length between 5 and 15.\n",
    "\n",
    "username = \"praveenkumar123\"\n",
    "length = len(username)\n",
    "\n",
    "if 5 < length < 15:\n",
    "    print(\"Valid username length\")\n",
    "else:\n",
    "    print(\"Invalid username length\")"
   ]
  }
 ],
 "metadata": {
  "kernelspec": {
   "display_name": "Python 3",
   "language": "python",
   "name": "python3"
  },
  "language_info": {
   "codemirror_mode": {
    "name": "ipython",
    "version": 3
   },
   "file_extension": ".py",
   "mimetype": "text/x-python",
   "name": "python",
   "nbconvert_exporter": "python",
   "pygments_lexer": "ipython3",
   "version": "3.13.0"
  }
 },
 "nbformat": 4,
 "nbformat_minor": 5
}
