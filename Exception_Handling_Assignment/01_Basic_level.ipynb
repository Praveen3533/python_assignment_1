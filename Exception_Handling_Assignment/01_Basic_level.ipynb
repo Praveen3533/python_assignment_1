{
 "cells": [
  {
   "cell_type": "code",
   "execution_count": 1,
   "id": "fce69ce4",
   "metadata": {},
   "outputs": [
    {
     "name": "stdout",
     "output_type": "stream",
     "text": [
      "Error: Division by zero is not allowed.\n"
     ]
    }
   ],
   "source": [
    "# 1.Write a program to handle division by zero using try-except.\n",
    "\n",
    "try:\n",
    "    a = 2\n",
    "    b = 0\n",
    "    result = a/b\n",
    "    print(\"The result is:\", result)\n",
    "except ZeroDivisionError:\n",
    "    print(\"Error: Division by zero is not allowed.\")\n"
   ]
  },
  {
   "cell_type": "code",
   "execution_count": 17,
   "id": "289ecbf8",
   "metadata": {},
   "outputs": [
    {
     "name": "stdout",
     "output_type": "stream",
     "text": [
      "Error: Invalid input. Please enter a valid integer number.\n"
     ]
    }
   ],
   "source": [
    "#2.Write a program to handle invalid user input (string instead of number).\n",
    "try:\n",
    "    num = int(input(\"Enter a number: \"))\n",
    "    print(\"You entered:\",num)\n",
    "except ValueError:\n",
    "    print(\"Error: Invalid input. Please enter a valid integer number.\")"
   ]
  },
  {
   "cell_type": "code",
   "execution_count": 14,
   "id": "983423ab",
   "metadata": {},
   "outputs": [
    {
     "name": "stdout",
     "output_type": "stream",
     "text": [
      "Error list index out of range\n"
     ]
    }
   ],
   "source": [
    "#3.Write a program that catches IndexError when accessing a list element.\n",
    "try:\n",
    "    num = [10,20,30,40,50,60,70,80,90]\n",
    "    print(num[20])\n",
    "\n",
    "except IndexError as e:\n",
    "    print(\"Error\",e)\n"
   ]
  },
  {
   "cell_type": "code",
   "execution_count": 15,
   "id": "66b2dc69",
   "metadata": {},
   "outputs": [
    {
     "name": "stdout",
     "output_type": "stream",
     "text": [
      "Error: The file 'data.txt' was not found. Please check the name and try again.\n"
     ]
    }
   ],
   "source": [
    "#4.Write a program to open a file and handle FileNotFoundError.\n",
    "try:\n",
    "    file_name = input(\"Enter the file name: \")\n",
    "    with open(file_name, \"r\") as file:\n",
    "        content = file.read()\n",
    "        print(\"File Content:\\n\", content)\n",
    "except FileNotFoundError:\n",
    "   print(f\"Error: The file '{file_name}' was not found. Please check the name and try again.\")"
   ]
  },
  {
   "cell_type": "code",
   "execution_count": 23,
   "id": "1737147b",
   "metadata": {},
   "outputs": [
    {
     "name": "stdout",
     "output_type": "stream",
     "text": [
      "Error: Invalid input. Please enter numbers only.\n"
     ]
    }
   ],
   "source": [
    "try:\n",
    "    a = int(input(\"Enter the number: \"))\n",
    "    b = int(input(\"Enter the number: \"))\n",
    "    result = a / b\n",
    "    print(\"Result:\", result)\n",
    "\n",
    "except ZeroDivisionError:\n",
    "    print(\"Error: Cannot divide by zero.\")\n",
    "\n",
    "except ValueError:\n",
    "    print(\"Error: Invalid input. Please enter numbers only.\")"
   ]
  },
  {
   "cell_type": "code",
   "execution_count": null,
   "id": "5795ab6b",
   "metadata": {},
   "outputs": [
    {
     "name": "stdout",
     "output_type": "stream",
     "text": [
      "Number is Even\n"
     ]
    }
   ],
   "source": [
    "#6.Write a program using try-except-else to check if a number is even.\n",
    "\n",
    "try:\n",
    "    number = int(input(\"Enter a Number: \"))\n",
    "except ValueError as e:\n",
    "    print(\"Error\",e)\n",
    "else:\n",
    "    if number%2 ==0:\n",
    "        print(\"Number is Even\")\n",
    "    else:\n",
    "        print(\"Number is Odd\")\n"
   ]
  },
  {
   "cell_type": "code",
   "execution_count": null,
   "id": "0ebdb355",
   "metadata": {},
   "outputs": [
    {
     "name": "stdout",
     "output_type": "stream",
     "text": [
      "Converted: 14\n",
      "Execution Completed\n",
      "\n"
     ]
    }
   ],
   "source": [
    "#7.Write a program with finally block to always display \"Execution Completed\".\n",
    "\n",
    "try:\n",
    "    num1 = int(\"7\")\n",
    "except ValueError:\n",
    "    print(\"Invalid integer\")\n",
    "else:\n",
    "    print(\"Converted:\", num1+ 7)\n",
    "finally:\n",
    "    print(\"Execution Completed\\n\")"
   ]
  },
  {
   "cell_type": "code",
   "execution_count": 40,
   "id": "1341ffbb",
   "metadata": {},
   "outputs": [
    {
     "name": "stdout",
     "output_type": "stream",
     "text": [
      "Outer try block started\n",
      "Inner Error: Invalid input. Please enter numbers only.\n",
      "Inner try-except completed\n"
     ]
    }
   ],
   "source": [
    "#8.Write a program to demonstrate nested try-except blocks.\n",
    "\n",
    "try:\n",
    "    print(\"Outer try block started\")\n",
    "\n",
    "    try:\n",
    "        a = int(input(\"Enter numerator: \"))\n",
    "        b = int(input(\"Enter denominator: \"))\n",
    "        result = a / b\n",
    "        print(\"Result:\", result)\n",
    "\n",
    "    except ZeroDivisionError:\n",
    "        print(\"Inner Error: Cannot divide by zero.\")\n",
    "    except ValueError:\n",
    "        print(\"Inner Error: Invalid input. Please enter numbers only.\")\n",
    "\n",
    "    print(\"Inner try-except completed\")\n",
    "\n",
    "except Exception as e:\n",
    "    print(\"Outer Error:\", e)\n",
    "\n"
   ]
  },
  {
   "cell_type": "code",
   "execution_count": 48,
   "id": "f4b65e9f",
   "metadata": {},
   "outputs": [
    {
     "name": "stdout",
     "output_type": "stream",
     "text": [
      "Error division by zero\n"
     ]
    }
   ],
   "source": [
    "#9.Write a program that asks for two numbers and handles both division and conversion errors.\n",
    "\n",
    "try:\n",
    "    num2= int(input(\"Enter a number: \"))\n",
    "    num3= int(input(\"Enter a number: \"))\n",
    "    result = num2/num3\n",
    "except ValueError as e:\n",
    "    print(\"Error\",e)\n",
    "except ZeroDivisionError as e:\n",
    "    print(\"Error\",e)\n",
    "else:\n",
    "    print(result)"
   ]
  },
  {
   "cell_type": "code",
   "execution_count": 50,
   "id": "c493d3cb",
   "metadata": {},
   "outputs": [
    {
     "name": "stdout",
     "output_type": "stream",
     "text": [
      "You entered: 786\n"
     ]
    }
   ],
   "source": [
    "#10.Write a program that raises and handles a TypeError.\n",
    "try:\n",
    "    a = input(\"Enter a number: \")\n",
    "    if not a.isdigit():\n",
    "        raise TypeError(\"Input must be a number.\")\n",
    "    a = int(a)\n",
    "    print(\"You entered:\", a)\n",
    "\n",
    "except TypeError as e:\n",
    "    print(\"TypeError:\", e)"
   ]
  }
 ],
 "metadata": {
  "kernelspec": {
   "display_name": "Python 3",
   "language": "python",
   "name": "python3"
  },
  "language_info": {
   "codemirror_mode": {
    "name": "ipython",
    "version": 3
   },
   "file_extension": ".py",
   "mimetype": "text/x-python",
   "name": "python",
   "nbconvert_exporter": "python",
   "pygments_lexer": "ipython3",
   "version": "3.13.0"
  }
 },
 "nbformat": 4,
 "nbformat_minor": 5
}
