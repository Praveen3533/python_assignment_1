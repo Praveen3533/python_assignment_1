{
 "cells": [
  {
   "cell_type": "code",
   "execution_count": 37,
   "id": "1f11cc40",
   "metadata": {},
   "outputs": [
    {
     "name": "stdout",
     "output_type": "stream",
     "text": [
      "Exception caught in main(): ZeroDivisionError - Division by zero occurred in function_c()\n"
     ]
    }
   ],
   "source": [
    "# 1.Write a program that demonstrates exception propagation across multiple functions.\n",
    "\n",
    "def function_c():\n",
    "    raise ZeroDivisionError(\"Division by zero occurred in function_c()\")\n",
    "\n",
    "def function_b():\n",
    "    function_c()\n",
    "\n",
    "def function_a():\n",
    "    function_b()\n",
    "\n",
    "def main():\n",
    "    try:\n",
    "        function_a()\n",
    "    except ZeroDivisionError as e:\n",
    "        print(\"Exception caught in main():\",type(e).__name__,  \"-\", e)\n",
    "        \n",
    "main()\n"
   ]
  },
  {
   "cell_type": "code",
   "execution_count": 38,
   "id": "8f239876",
   "metadata": {},
   "outputs": [
    {
     "name": "stdout",
     "output_type": "stream",
     "text": [
      "Chained exception: Cannot parse amount from '12.8.99'\n",
      "Original cause: ValueError - could not convert string to float: '12.8.99'\n"
     ]
    }
   ],
   "source": [
    "# 2.Write a program using exception chaining (raise ... from ...).\n",
    "\n",
    "class InvalidAmountError(Exception):\n",
    "    pass\n",
    "\n",
    "def parse_amount(s):\n",
    "    try:\n",
    "        return float(s)\n",
    "    except ValueError as e:\n",
    "        # chain the low-level ValueError into a domain-specific exception\n",
    "        raise InvalidAmountError(f\"Cannot parse amount from '{s}'\") from e\n",
    "\n",
    "try:\n",
    "    amt = parse_amount(\"12.8.99\") \n",
    "except InvalidAmountError as e:\n",
    "    print(\"Chained exception:\", e)\n",
    "    # show original exception via __cause__\n",
    "    print(\"Original cause:\", type(e.__cause__).__name__, \"-\", e.__cause__)"
   ]
  },
  {
   "cell_type": "code",
   "execution_count": 39,
   "id": "2f1df21f",
   "metadata": {},
   "outputs": [
    {
     "name": "stdout",
     "output_type": "stream",
     "text": [
      "DB error: ERROR! Unable to connect to DB\n"
     ]
    }
   ],
   "source": [
    "# 3.Write a program that simulates database connection and raises custom exceptions.\n",
    "\n",
    "class DatabaseConnectionError(Exception):\n",
    "    pass\n",
    "\n",
    "class QueryExecutionError(Exception):\n",
    "    pass\n",
    "\n",
    "try:\n",
    "    connected = False  # simulate DB is not connected\n",
    "    if not connected:\n",
    "        raise DatabaseConnectionError(\"ERROR! Unable to connect to DB\")\n",
    "    query = \"DROP TABLE users\"\n",
    "    if \"DROP\" in query.upper():\n",
    "        raise QueryExecutionError(\"ERROR! Dangerous query detected\")\n",
    "    print(\"Query executed successfully!\")\n",
    "\n",
    "except (DatabaseConnectionError, QueryExecutionError) as e:\n",
    "    print(\"DB error:\", e)"
   ]
  },
  {
   "cell_type": "code",
   "execution_count": 40,
   "id": "7ca92de8",
   "metadata": {},
   "outputs": [
    {
     "name": "stdout",
     "output_type": "stream",
     "text": [
      "File not found: data.txt\n"
     ]
    }
   ],
   "source": [
    "# 4.Write a program that reads from a file using with statement and handles errors.\n",
    "\n",
    "filename = \"data.txt\"\n",
    "try:\n",
    "    with open(filename, \"r\", encoding=\"utf-8\") as f:\n",
    "        for i, line in enumerate(f, 1):\n",
    "            print(i, line.strip())\n",
    "except FileNotFoundError:\n",
    "    print(\"File not found:\", filename)\n",
    "except UnicodeDecodeError:\n",
    "    print(\"Could not decode file (wrong encoding).\")\n",
    "except Exception as e:\n",
    "    print(\"Unexpected error while reading file:\", type(e).__name__, e)"
   ]
  },
  {
   "cell_type": "code",
   "execution_count": null,
   "id": "f05cd016",
   "metadata": {},
   "outputs": [
    {
     "name": "stdout",
     "output_type": "stream",
     "text": [
      "ERROR! Csv file not found\n",
      "Good rows: []\n",
      "Skipped rows: 0\n"
     ]
    }
   ],
   "source": [
    "# 5.Write a program that skips bad data rows in a CSV file using exception handling.\n",
    "\n",
    "import csv\n",
    "\n",
    "\n",
    "good_rows = []\n",
    "bad_count = 0\n",
    "try:\n",
    "    with open(\"people.csv\", newline=\"\") as f:\n",
    "        reader =csv.DictReader(f)\n",
    "        for row in reader:\n",
    "            try:\n",
    "                if not row[\"name\"].strip():\n",
    "                    raise ValueError(\"Name is empty\")\n",
    "                row[\"age\"] = int(row[\"age\"])\n",
    "                row[\"salary\"] = float(row[\"salary\"])\n",
    "                good_rows.append(row)\n",
    "            except Exception:\n",
    "                bad_count += 1\n",
    "                print(\"Skipping bad row:\", row)\n",
    "except FileNotFoundError:\n",
    "    print(\"ERROR! Csv file not found\")\n",
    "\n",
    "print(\"Good rows:\", good_rows)\n",
    "print(\"Skipped rows:\", bad_count)"
   ]
  },
  {
   "cell_type": "code",
   "execution_count": 42,
   "id": "97370b8d",
   "metadata": {},
   "outputs": [
    {
     "name": "stdout",
     "output_type": "stream",
     "text": [
      "Request timed out (server too slow).\n"
     ]
    }
   ],
   "source": [
    "\n",
    "# 6. Write a program that handles timeout error when connecting to a server (use requests).\n",
    "\n",
    "import requests\n",
    "\n",
    "url = \"https://httpbin.org/delay/5\"  # endpoint that delays response for demo\n",
    "\n",
    "try:\n",
    "    # timeout can be a single float (seconds) or a tuple (connect_timeout, read_timeout)\n",
    "\n",
    "    resp = requests.get(url, timeout=0.5)  # half a second timeout\n",
    "    resp.raise_for_status()  # raise HTTPError for 4xx/5xx\n",
    "    print(\"Response length:\", len(resp.text))\n",
    "\n",
    "except requests.Timeout:\n",
    "    print(\"Request timed out (server too slow).\")\n",
    "\n",
    "except requests.HTTPError as e:\n",
    "    print(\"HTTP error:\", e)\n",
    "\n",
    "except requests.RequestException as e:\n",
    "    print(\"Other requests error:\", e)"
   ]
  },
  {
   "cell_type": "code",
   "execution_count": 43,
   "id": "67fbbe7a",
   "metadata": {},
   "outputs": [
    {
     "name": "stdout",
     "output_type": "stream",
     "text": [
      "factorial(5) = 120\n",
      "factorial(0) = 1\n",
      "factorial(7) = 5040\n",
      "Error: factorial not defined for negative numbers\n",
      "Error: factorial expects an integer\n"
     ]
    }
   ],
   "source": [
    "# 7.Write a program that handles exceptions in a recursive factorial function.\n",
    "\n",
    "def factorial(n):\n",
    "    if not isinstance(n, int):\n",
    "        raise TypeError(\"factorial expects an integer\")\n",
    "    if n < 0:\n",
    "        raise ValueError(\"factorial not defined for negative numbers\")\n",
    "    if n == 0:\n",
    "        return 1\n",
    "    return n * factorial(n - 1)\n",
    "\n",
    "try:\n",
    "    print(\"factorial(5) =\", factorial(5))   # 120\n",
    "    print(\"factorial(0) =\", factorial(0))   # 1\n",
    "    print(\"factorial(7) =\", factorial(7))   # 5040\n",
    "    print(\"factorial(-2) =\", factorial(-2))  # raises ValueError\n",
    "except Exception as e:\n",
    "    print(\"Error:\", e)\n",
    "\n",
    "try:\n",
    "    print(\"factorial(3.5) =\", factorial(3.5))  # raises TypeError\n",
    "except Exception as e:\n",
    "    print(\"Error:\", e)\n",
    "\n"
   ]
  },
  {
   "cell_type": "code",
   "execution_count": 49,
   "id": "0093af9f",
   "metadata": {},
   "outputs": [
    {
     "name": "stdout",
     "output_type": "stream",
     "text": [
      "balance at start: 5000\n",
      "During transaction, Balance: 4200\n",
      "Error occurred: Something went wrong during withdrawal!\n",
      "Transaction rolled back\n",
      "After: 5000\n"
     ]
    }
   ],
   "source": [
    "# 8.Write a program that simulates transaction rollback in a banking system using exceptions.\n",
    "\n",
    "class TransactionError(Exception):\n",
    "    pass\n",
    "# Initial account balance\n",
    "balance = 5000\n",
    "print(\"balance at start:\", balance)\n",
    "# Take a \"snapshot\" of balance before transaction\n",
    "snapshot = balance\n",
    "try:\n",
    "    # Start transaction\n",
    "    # withdraw 80\n",
    "    balance -= 800  \n",
    "    print(\"During transaction, Balance:\", balance)\n",
    "    # Simulate a problem\n",
    "    raise TransactionError(\"Something went wrong during withdrawal!\") \n",
    "except TransactionError as e:\n",
    "    # Rollback to snapshot if error occurs\n",
    "    print(\"Error occurred:\", e)\n",
    "    # rollback\n",
    "    balance = snapshot  \n",
    "    print(\"Transaction rolled back\")\n",
    "print(\"After:\", balance)"
   ]
  },
  {
   "cell_type": "code",
   "execution_count": 68,
   "id": "8fb0f4ba",
   "metadata": {},
   "outputs": [
    {
     "name": "stdout",
     "output_type": "stream",
     "text": [
      "39781234567892340 is invalid: Invalid card length.\n",
      "3572089392958 is valid!\n"
     ]
    }
   ],
   "source": [
    "# 9.Write a program to validate credit card numbers and raise exceptions for invalid inputs.\n",
    "\n",
    "class InvalidCardError(Exception):\n",
    "    pass\n",
    "\n",
    "def validate_card(number):\n",
    "    # check digits only\n",
    "    if not number.isdigit():\n",
    "        raise InvalidCardError(\"Card must contain only digits.\")\n",
    "    # check length\n",
    "    if len(number) not in (12, 13, 16, 20):\n",
    "        raise InvalidCardError(\"Invalid card length.\")\n",
    "cards = [\"39781234567892340\", \"3572089392958\"]\n",
    "for card in cards:\n",
    "    try:\n",
    "        validate_card(card)\n",
    "        print(card, \"is valid!\")\n",
    "    except InvalidCardError as e:\n",
    "        print(card, \"is invalid:\", e)"
   ]
  },
  {
   "cell_type": "code",
   "execution_count": 83,
   "id": "aa40c81d",
   "metadata": {},
   "outputs": [
    {
     "name": "stderr",
     "output_type": "stream",
     "text": [
      "WARNING: Memory usage high: 381.49 MB exceeded 10 MB\n"
     ]
    },
    {
     "name": "stdout",
     "output_type": "stream",
     "text": [
      "Current memory usage: 381.49 MB (threshold 10 MB)\n"
     ]
    }
   ],
   "source": [
    "# 10.Write a program that raises an exception if memory usage goes beyond a threshold.\n",
    "import tracemalloc\n",
    "import logging\n",
    "\n",
    "# Configure logging\n",
    "logging.basicConfig(level=logging.WARNING, format=\"%(levelname)s: %(message)s\")\n",
    "\n",
    "THRESHOLD_MB = 10  # set small for demo\n",
    "\n",
    "# start tracking memory\n",
    "tracemalloc.start()\n",
    "\n",
    "# simulate memory usage by creating a large list\n",
    "data = [0] * 5_0000_000\n",
    "\n",
    "# get current and peak memory usage (in bytes)\n",
    "current, peak = tracemalloc.get_traced_memory()\n",
    "current_mb = peak / (1024 * 1024)\n",
    "\n",
    "print(f\"Current memory usage: {current_mb:.2f} MB (threshold {THRESHOLD_MB} MB)\")\n",
    "\n",
    "if current_mb > THRESHOLD_MB:\n",
    "    logging.warning(\n",
    "        f\"Memory usage high: {current_mb:.2f} MB exceeded {THRESHOLD_MB} MB\")\n",
    "else:\n",
    "    logging.info(\"Memory usage is within safe limits.\")\n",
    "\n",
    "# stop tracking\n",
    "tracemalloc.stop()\n"
   ]
  }
 ],
 "metadata": {
  "kernelspec": {
   "display_name": "Python 3",
   "language": "python",
   "name": "python3"
  },
  "language_info": {
   "codemirror_mode": {
    "name": "ipython",
    "version": 3
   },
   "file_extension": ".py",
   "mimetype": "text/x-python",
   "name": "python",
   "nbconvert_exporter": "python",
   "pygments_lexer": "ipython3",
   "version": "3.13.0"
  }
 },
 "nbformat": 4,
 "nbformat_minor": 5
}
