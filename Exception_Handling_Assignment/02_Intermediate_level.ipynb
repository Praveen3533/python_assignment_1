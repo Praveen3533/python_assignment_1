{
 "cells": [
  {
   "cell_type": "code",
   "execution_count": 21,
   "id": "89e709f9",
   "metadata": {},
   "outputs": [
    {
     "name": "stdout",
     "output_type": "stream",
     "text": [
      "Error: Cannot withdrawal 1200. Available balance is 1000.\n"
     ]
    }
   ],
   "source": [
    "#1.Write a function to withdraw money and raise an exception if balance < withdrawal.\n",
    "\n",
    "class InsufficientBalanceError(Exception):\n",
    "    pass\n",
    "\n",
    "def amount(balance, withdraw):\n",
    "\n",
    "    if withdraw > balance:\n",
    "        raise InsufficientBalanceError(f\"Cannot withdrawal {withdraw}. Available balance is {balance}.\")\n",
    "    \n",
    "    balance -= withdraw\n",
    "    return balance\n",
    "try:\n",
    "    balance = 1000\n",
    "    balance = amount(balance, 1200)\n",
    "    print(f\"Withdrawal successful. New balance: {balance}\")\n",
    "except InsufficientBalanceError as e:\n",
    "    print(f\"Error: {e}\")\n"
   ]
  },
  {
   "cell_type": "code",
   "execution_count": 28,
   "id": "95b74628",
   "metadata": {},
   "outputs": [
    {
     "name": "stdout",
     "output_type": "stream",
     "text": [
      "Age is valid.\n"
     ]
    }
   ],
   "source": [
    "#2.Write a function that validates age and raises an exception if age < 18.\n",
    "\n",
    "class Agevalidationerror(Exception):\n",
    "    pass\n",
    "\n",
    "def age_validate(age):\n",
    "    if age < 18:\n",
    "        raise Agevalidationerror (\"Age must be at least 18.\")\n",
    "    return \"Age is valid.\"\n",
    "try:\n",
    "    age = int(input(\"Enter your age: \"))\n",
    "    result = age_validate(age)\n",
    "    print(result)\n",
    "except Agevalidationerror as e:\n",
    "    print(\"Error:\", e)\n",
    "except ValueError:\n",
    "    print(\"Error: Please enter a valid number.\")\n"
   ]
  },
  {
   "cell_type": "code",
   "execution_count": 29,
   "id": "6b64bccc",
   "metadata": {},
   "outputs": [
    {
     "name": "stdout",
     "output_type": "stream",
     "text": [
      "Email is valid.\n"
     ]
    }
   ],
   "source": [
    "#3.Write a program to validate email format and raise a custom exception.\n",
    "\n",
    "class Emailvalidationerror(Exception):\n",
    "    pass\n",
    "\n",
    "def email_validate(email):\n",
    "    if not email.endswith(\"@praveen.com\"):\n",
    "        raise Emailvalidationerror(\"Email is not valid.It should end with '@praveen.com'.\")\n",
    "    return \"Email is valid.\"\n",
    "try:\n",
    "    email = input(\"Enter your email: \")\n",
    "    result = email_validate(email)\n",
    "    print(result)\n",
    "except Emailvalidationerror as e:\n",
    "    print(\"Error\",e)\n"
   ]
  },
  {
   "cell_type": "code",
   "execution_count": 35,
   "id": "55434aed",
   "metadata": {},
   "outputs": [
    {
     "name": "stdout",
     "output_type": "stream",
     "text": [
      "Error Cannot take the square root of a negative number\n"
     ]
    }
   ],
   "source": [
    "#4.Write a custom exception NegativeNumberError and use it in a square root function.\n",
    "\n",
    "class NegativeNumberError(Exception):\n",
    "  pass\n",
    "\n",
    "def squareroot(num):\n",
    "  if num<0:\n",
    "    raise NegativeNumberError(\"Cannot take the square root of a negative number\")\n",
    "  else:\n",
    "    return num**0.5\n",
    "try:\n",
    "    num = float(input(\"Enter a number: \"))\n",
    "    result = squareroot(num)\n",
    "    print(f\"square root:{result}\")\n",
    "except NegativeNumberError as e:\n",
    "    print(\"Error\",e)\n",
    "except ValueError as e:\n",
    "    print(\"Error\",e)"
   ]
  },
  {
   "cell_type": "code",
   "execution_count": null,
   "id": "b0755fc8",
   "metadata": {},
   "outputs": [
    {
     "name": "stdout",
     "output_type": "stream",
     "text": [
      "Withdrawal of 1000 successful! Remaining balance: 49000\n",
      "Withdrawal of 3000 successful! Remaining balance: 47000\n"
     ]
    }
   ],
   "source": [
    "#5.Write a custom exception for InsufficientFundsError in a banking system.\n",
    "\n",
    "class InsufficientFundsError(Exception):\n",
    "    pass\n",
    "\n",
    "def withdraw(balance, amount):\n",
    "    if amount > balance:\n",
    "        raise InsufficientFundsError(f\"Withdrawal of {amount} failed! Available balance: {balance}\")\n",
    "    balance -= amount\n",
    "    return f\"Withdrawal of {amount} successful! Remaining balance: {balance}\"\n",
    "\n",
    "balance = 50000\n",
    "\n",
    "try:\n",
    "    print(withdraw(balance, 1000))\n",
    "except InsufficientFundsError as e:\n",
    "    print(\"Handled:\", e)\n",
    "\n",
    "try:\n",
    "    print(withdraw(balance, 3000))\n",
    "except InsufficientFundsError as e:\n",
    "    print(\"Handled:\", e)\n"
   ]
  },
  {
   "cell_type": "code",
   "execution_count": null,
   "id": "8034fdb7",
   "metadata": {},
   "outputs": [
    {
     "name": "stdout",
     "output_type": "stream",
     "text": [
      "JSON parsed successfully: {'name': 'praveen yadav', 'age': 25}\n"
     ]
    },
    {
     "data": {
      "text/plain": [
       "{'name': 'praveen yadav', 'age': 25}"
      ]
     },
     "execution_count": 38,
     "metadata": {},
     "output_type": "execute_result"
    }
   ],
   "source": [
    "#6.Write a program that handles exceptions while parsing JSON.\n",
    "import json\n",
    "\n",
    "def parse_json(json_string):\n",
    "\n",
    "    try:\n",
    "        data = json.loads(json_string)\n",
    "        print(\"JSON parsed successfully:\", data)\n",
    "        return data\n",
    "    except json.JSONDecodeError as e:\n",
    "        print(\"Error: Invalid JSON format.\", e)\n",
    "\n",
    "json_input = input(\"Enter a JSON string: \")\n",
    "parse_json(json_input)\n"
   ]
  },
  {
   "cell_type": "code",
   "execution_count": 47,
   "id": "a6172820",
   "metadata": {},
   "outputs": [
    {
     "name": "stdout",
     "output_type": "stream",
     "text": [
      "Error: Please enter valid numbers.\n",
      "Attempt 1 of 3 failed.\n",
      "\n",
      "Error: Please enter valid numbers.\n",
      "Attempt 2 of 3 failed.\n",
      "\n",
      "The result is: 0.6716417910447762\n"
     ]
    }
   ],
   "source": [
    "#7.Write a program to retry dividing two numbers 3 times if an error occurs.\n",
    "\n",
    "attempts = 0\n",
    "max_attempts = 3\n",
    "\n",
    "while attempts < max_attempts:\n",
    "\n",
    "    try:\n",
    "        a = float(input(\"Enter a number: \"))\n",
    "        b = float(input(\"Enter a number: \"))\n",
    "        result = a / b \n",
    "\n",
    "    except ZeroDivisionError:\n",
    "        print(\"Error: Division by zero is not allowed.\")\n",
    "\n",
    "    except ValueError:\n",
    "        print(\"Error: Please enter valid numbers.\")\n",
    "\n",
    "    else:\n",
    "        print(f\"The result is: {result}\")\n",
    "        break \n",
    "    \n",
    "    attempts += 1\n",
    "    print(f\"Attempt {attempts} of {max_attempts} failed.\\n\")\n",
    "\n",
    "if attempts == max_attempts:\n",
    "    print(\"Maximum attempts reached. Please try again later.\")"
   ]
  },
  {
   "cell_type": "code",
   "execution_count": 53,
   "id": "6cbcdaa0",
   "metadata": {},
   "outputs": [
    {
     "name": "stdout",
     "output_type": "stream",
     "text": [
      "Entered a valid number: 100.0\n"
     ]
    }
   ],
   "source": [
    "#8.Write a program that uses assert to validate positive numbers and handle AssertionError.\n",
    "\n",
    "try:\n",
    "    num = float(input(\"Enter a positive number: \"))\n",
    "    assert num > 0, \"The number must be positive\"\n",
    "    print(\"Entered a valid number:\", num)\n",
    "    \n",
    "except AssertionError as e:\n",
    "    print(\"Error:\", e)\n",
    "except ValueError as e:\n",
    "    print(\"Error: Please enter a valid number.\")"
   ]
  },
  {
   "cell_type": "code",
   "execution_count": null,
   "id": "931d71cb",
   "metadata": {},
   "outputs": [
    {
     "name": "stdout",
     "output_type": "stream",
     "text": [
      "Error: Please enter valid numbers.\n"
     ]
    }
   ],
   "source": [
    "#9.Write a program that logs exceptions to a file using logging module.\n",
    "\n",
    "import logging\n",
    "\n",
    "# Configure logging\n",
    "logging.basicConfig(\n",
    "    filename='error_log.txt',  # Log file name\n",
    "    level=logging.ERROR,       # Log only errors and above\n",
    "    format='%(asctime)s - %(levelname)s - %(message)s'\n",
    ")\n",
    "\n",
    "def divide_numbers(a, b):\n",
    "\n",
    "    try:\n",
    "        result = a / b\n",
    "        print(\"Result:\", result)\n",
    "        return result\n",
    "    \n",
    "    except ZeroDivisionError as e:\n",
    "        logging.error(\"Division by zero error: %s\", e)\n",
    "        print(\"Error: Cannot divide by zero.\")\n",
    "\n",
    "    except Exception as e:\n",
    "        logging.error(\"An unexpected error occurred: %s\", e)\n",
    "        print(\"Error: Something went wrong.\")\n",
    "\n",
    "# Example usage\n",
    "try:\n",
    "    x = float(input(\"Enter numerator: \"))\n",
    "    y = float(input(\"Enter denominator: \"))\n",
    "    divide_numbers(x, y)\n",
    "    \n",
    "except ValueError as e:\n",
    "    logging.error(\"Invalid input: %s\", e)\n",
    "    print(\"Error: Please enter valid numbers.\")"
   ]
  },
  {
   "cell_type": "code",
   "execution_count": 57,
   "id": "c357afef",
   "metadata": {},
   "outputs": [
    {
     "name": "stdout",
     "output_type": "stream",
     "text": [
      "Login Successful\n"
     ]
    }
   ],
   "source": [
    "#10.Write a program that raises multiple custom exceptions (InvalidPasswordError, InvalidUsernameError).\n",
    "\n",
    "class InvalidUsernameError(Exception):\n",
    "    pass\n",
    "\n",
    "class InvalidPasswordError(Exception):\n",
    "    pass\n",
    "\n",
    "def login(username, password):\n",
    "   \n",
    "    if len(username) < 5 or not username.isalnum():\n",
    "        raise InvalidUsernameError(\"Username must be at least 5 characters long and contain only letters and numbers.\")\n",
    "    \n",
    "    if len(password) < 8 or password.isalpha() or password.isdigit():\n",
    "        raise InvalidPasswordError(\"Password must be at least 8 characters long and contain both letters and numbers.\")\n",
    "    return \"Login Successful\"\n",
    "\n",
    "try:\n",
    "    username = input(\"Enter Username: \")\n",
    "    password = input(\"Enter Password: \")\n",
    "    result = login(username, password)\n",
    "    print(result)\n",
    "\n",
    "except InvalidUsernameError as e:\n",
    "    print(\"Username Error:\", e)\n",
    "    \n",
    "except InvalidPasswordError as e:\n",
    "    print(\"Password Error:\", e)\n"
   ]
  }
 ],
 "metadata": {
  "kernelspec": {
   "display_name": "Python 3",
   "language": "python",
   "name": "python3"
  },
  "language_info": {
   "codemirror_mode": {
    "name": "ipython",
    "version": 3
   },
   "file_extension": ".py",
   "mimetype": "text/x-python",
   "name": "python",
   "nbconvert_exporter": "python",
   "pygments_lexer": "ipython3",
   "version": "3.13.0"
  }
 },
 "nbformat": 4,
 "nbformat_minor": 5
}
