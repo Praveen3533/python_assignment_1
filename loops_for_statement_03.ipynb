{
 "cells": [
  {
   "cell_type": "code",
   "execution_count": 26,
   "id": "1a991ea3",
   "metadata": {},
   "outputs": [
    {
     "name": "stdout",
     "output_type": "stream",
     "text": [
      "3 6 9 12 15 18 21 24 27 30 33 36 39 42 45 48 51 54 57 60 63 66 69 72 75 78 81 84 87 90 93 96 99 "
     ]
    }
   ],
   "source": [
    "# Question 61: Print numbers divisible by 3 up to 100.\n",
    "\n",
    "for i in range(1,100):\n",
    "    if i % 3 == 0:\n",
    "      print(i, end=\" \")"
   ]
  },
  {
   "cell_type": "code",
   "execution_count": 27,
   "id": "4b670b93",
   "metadata": {},
   "outputs": [
    {
     "name": "stdout",
     "output_type": "stream",
     "text": [
      "7 14 21 28 35 42 49 56 63 70 77 84 91 98 "
     ]
    }
   ],
   "source": [
    "# Question 62: Print numbers divisible by 7 up to 100.\n",
    "\n",
    "for i in range(1,100):\n",
    "    if i % 7 == 0:\n",
    "      print(i, end=\" \")"
   ]
  },
  {
   "cell_type": "code",
   "execution_count": 32,
   "id": "1ac88ce6",
   "metadata": {},
   "outputs": [
    {
     "name": "stdout",
     "output_type": "stream",
     "text": [
      "2 3 5 7 11 13 17 19 23 29 31 37 41 43 47 "
     ]
    }
   ],
   "source": [
    "# Question 63: Print prime numbers from 1–50.\n",
    "\n",
    "for num in range(2,51):\n",
    "    for i in range(2,num):\n",
    "        if num % i == 0:\n",
    "             break\n",
    "    else:\n",
    "         print(num,end=\" \")"
   ]
  },
  {
   "cell_type": "code",
   "execution_count": 38,
   "id": "eafce217",
   "metadata": {},
   "outputs": [
    {
     "name": "stdout",
     "output_type": "stream",
     "text": [
      "4 6 8 9 10 12 14 15 16 18 20 21 22 24 25 26 27 28 30 32 33 34 35 36 38 39 40 42 44 45 46 48 49 50 "
     ]
    }
   ],
   "source": [
    "# Question 64: Print composite numbers 1–50.\n",
    "\n",
    "for num in range(2,51):\n",
    "    for i in range(2,num):\n",
    "        if num % i == 0:\n",
    "         print(num,end=\" \")\n",
    "         break"
   ]
  },
  {
   "cell_type": "code",
   "execution_count": 42,
   "metadata": {},
   "outputs": [
    {
     "name": "stdout",
     "output_type": "stream",
     "text": [
      "1 2 4 7 8 14 28 56 "
     ]
    }
   ],
   "source": [
    "# Question 65: Print all factors of a number.\n",
    "num = 56\n",
    "for i in range(1, num + 1):\n",
    "    if num % i == 0:\n",
    "        print(i, end=\" \")"
   ]
  },
  {
   "cell_type": "code",
   "execution_count": 50,
   "id": "ec5fd42f",
   "metadata": {},
   "outputs": [
    {
     "name": "stdout",
     "output_type": "stream",
     "text": [
      "1080\n"
     ]
    }
   ],
   "source": [
    "# Question 66: Print sum of factors of a number.\n",
    "\n",
    "num = 568\n",
    "sum = 0\n",
    "for i in range(1, num + 1):\n",
    "    if num % i == 0:\n",
    "         sum += i\n",
    "print(sum)"
   ]
  },
  {
   "cell_type": "code",
   "execution_count": null,
   "id": "771cf338",
   "metadata": {},
   "outputs": [
    {
     "name": "stdout",
     "output_type": "stream",
     "text": [
      "10 20 30 40 50 60 70 80 90 "
     ]
    }
   ],
   "source": [
    "# Question 67: Print numbers divisible by both 2 and 5.\n",
    "\n",
    "for i in range(1,101):\n",
    "    if i % 2 == 0 and i % 5 == 0 :\n",
    "     print(i, end=\" \")"
   ]
  },
  {
   "cell_type": "code",
   "execution_count": 54,
   "id": "a44ce407",
   "metadata": {},
   "outputs": [
    {
     "name": "stdout",
     "output_type": "stream",
     "text": [
      "2 4 5 6 8 10 12 14 15 16 18 20 22 24 25 26 28 30 32 34 35 36 38 40 42 44 45 46 48 50 52 54 55 56 58 60 62 64 65 66 68 70 72 74 75 76 78 80 82 84 85 86 88 90 92 94 95 96 98 100 "
     ]
    }
   ],
   "source": [
    "# Question 68: Print numbers divisible by either 2 or 5.\n",
    "\n",
    "for i in range(1,101):\n",
    "    if i % 2 == 0 or i % 5 == 0 :\n",
    "     print(i, end=\" \")"
   ]
  },
  {
   "cell_type": "code",
   "execution_count": 60,
   "id": "db4513a7",
   "metadata": {},
   "outputs": [
    {
     "name": "stdout",
     "output_type": "stream",
     "text": [
      "1 5 7 11 13 17 19 23 25 29 31 35 37 41 43 47 49 53 55 59 61 65 67 71 73 77 79 83 85 89 91 95 97 "
     ]
    }
   ],
   "source": [
    "# Question 69: Print numbers not divisible by 2 or 3.\n",
    "\n",
    "for i in range(1,101):\n",
    "    if i % 2 != 0 and i % 3 != 0 :\n",
    "         print(i, end=\" \")"
   ]
  },
  {
   "cell_type": "code",
   "execution_count": 75,
   "id": "96a646c6",
   "metadata": {},
   "outputs": [
    {
     "name": "stdout",
     "output_type": "stream",
     "text": [
      "1 2 3 \n",
      "1 2 3 \n",
      "1 2 3 \n"
     ]
    }
   ],
   "source": [
    "# Question 70: Use nested for to print matrix 3x3.\n",
    "\n",
    "for i in range(1,4):        \n",
    "    for j in range(1, 4):      \n",
    "        print(j, end=\" \")\n",
    "    print()   \n"
   ]
  },
  {
   "cell_type": "code",
   "execution_count": 85,
   "id": "81912b21",
   "metadata": {},
   "outputs": [
    {
     "name": "stdout",
     "output_type": "stream",
     "text": [
      "*\n",
      "**\n",
      "***\n",
      "****\n",
      "*****\n"
     ]
    }
   ],
   "source": [
    "# Question 71: Print pattern of stars (triangle).\n",
    "\n",
    "for i in range(1,6):\n",
    " print(\"*\" * i)"
   ]
  },
  {
   "cell_type": "code",
   "execution_count": 87,
   "id": "eea9b497",
   "metadata": {},
   "outputs": [
    {
     "name": "stdout",
     "output_type": "stream",
     "text": [
      "*****\n",
      "****\n",
      "***\n",
      "**\n",
      "*\n"
     ]
    }
   ],
   "source": [
    "# Question 72: Print inverted triangle pattern.\n",
    "\n",
    "for i in range(5,0,-1):\n",
    " print(\"*\" * i)"
   ]
  },
  {
   "cell_type": "code",
   "execution_count": 90,
   "id": "da1cabac",
   "metadata": {},
   "outputs": [
    {
     "name": "stdout",
     "output_type": "stream",
     "text": [
      "****\n",
      "****\n",
      "****\n",
      "****\n"
     ]
    }
   ],
   "source": [
    "# Question 73: Print square pattern with stars.\n",
    "s = 4\n",
    "for i in range(s):\n",
    " print(\"*\" * s)\n"
   ]
  },
  {
   "cell_type": "code",
   "execution_count": 121,
   "id": "9ea5dd6c",
   "metadata": {},
   "outputs": [
    {
     "name": "stdout",
     "output_type": "stream",
     "text": [
      "    *\n",
      "   ***\n",
      "  *****\n",
      " *******\n",
      "*********\n"
     ]
    }
   ],
   "source": [
    "# Question 74: Print pyramid pattern with stars.\n",
    "\n",
    "p = 5\n",
    "\n",
    "for i in range(1, p + 1):\n",
    "    print(\" \" * (p - i) +\"*\" * (2 * i - 1))\n"
   ]
  },
  {
   "cell_type": "code",
   "execution_count": 117,
   "id": "e41316bc",
   "metadata": {},
   "outputs": [
    {
     "name": "stdout",
     "output_type": "stream",
     "text": [
      " * \n",
      " *  * \n",
      " *  *  * \n",
      " *  *  *  * \n",
      " *  *  *  *  * \n"
     ]
    }
   ],
   "source": [
    "# Question 75: Print right-aligned triangle pattern.\n",
    "\n",
    "t = 5\n",
    "for i in range(1, t + 1):\n",
    "    print(\"\" * (t - i) + \" * \" * i)\n"
   ]
  },
  {
   "cell_type": "code",
   "execution_count": 106,
   "id": "7eea956d",
   "metadata": {},
   "outputs": [
    {
     "name": "stdout",
     "output_type": "stream",
     "text": [
      " *  *  *  *  * \n",
      " *           * \n",
      " *           * \n",
      " *           * \n",
      " *  *  *  *  * \n"
     ]
    }
   ],
   "source": [
    "# Question 76: Print hollow square pattern.\n",
    "\n",
    "s = 5\n",
    "\n",
    "for i in range(s):\n",
    "    for j in range(s):\n",
    "        if i == 0 or i == s-1 or j == 0 or j == s-1:\n",
    "            print(\" * \", end=\"\")\n",
    "        else:\n",
    "            print(\"   \", end=\"\")\n",
    "    print()\n"
   ]
  },
  {
   "cell_type": "code",
   "execution_count": 127,
   "metadata": {},
   "outputs": [
    {
     "name": "stdout",
     "output_type": "stream",
     "text": [
      "     *\n",
      "    ***\n",
      "   *****\n",
      "  *******\n",
      " *********\n",
      " *********\n",
      "  *******\n",
      "   *****\n",
      "    ***\n",
      "     *\n"
     ]
    }
   ],
   "source": [
    "# Question 77: Print diamond pattern.\n",
    "\n",
    "for i in range(1, 6, 1):\n",
    "    print(\" \" * (6 - i) + \"*\" * (2 * i - 1))\n",
    "for i in range(5, 0, -1):\n",
    "    print(\" \" * (6 - i) + \"*\" * (2 * i - 1))\n"
   ]
  },
  {
   "cell_type": "code",
   "execution_count": 128,
   "id": "f43cc92d",
   "metadata": {},
   "outputs": [
    {
     "name": "stdout",
     "output_type": "stream",
     "text": [
      "     1 \n",
      "    1 1 \n",
      "   1 2 1 \n",
      "  1 3 3 1 \n",
      " 1 4 6 4 1 \n"
     ]
    }
   ],
   "source": [
    "# Question 78: Print Pascal's triangle (first 5 rows).\n",
    "\n",
    "from math import comb\n",
    "rows = 5\n",
    "for i in range(rows):\n",
    "    print(\" \" * (rows - i), end=\"\")\n",
    "    for j in range(i + 1):\n",
    "        print(comb(i, j), end=\" \")\n",
    "    print()\n"
   ]
  },
  {
   "cell_type": "code",
   "execution_count": 133,
   "id": "e178d424",
   "metadata": {},
   "outputs": [
    {
     "name": "stdout",
     "output_type": "stream",
     "text": [
      "    1     2     3     4     5     6     7     8     9    10 \n",
      "    2     4     6     8    10    12    14    16    18    20 \n",
      "    3     6     9    12    15    18    21    24    27    30 \n",
      "    4     8    12    16    20    24    28    32    36    40 \n",
      "    5    10    15    20    25    30    35    40    45    50 \n",
      "    6    12    18    24    30    36    42    48    54    60 \n",
      "    7    14    21    28    35    42    49    56    63    70 \n",
      "    8    16    24    32    40    48    56    64    72    80 \n",
      "    9    18    27    36    45    54    63    72    81    90 \n",
      "   10    20    30    40    50    60    70    80    90   100 \n"
     ]
    }
   ],
   "source": [
    "# Question 79: Print multiplication tables 1 to 10.\n",
    "\n",
    "for i in range(1, 11):\n",
    "    for j in range(1, 11):\n",
    "\n",
    "        print(f\" {i*j:4} \", end=\"\")\n",
    "    print()\n"
   ]
  },
  {
   "cell_type": "code",
   "execution_count": 142,
   "id": "ee1f6f3b",
   "metadata": {},
   "outputs": [
    {
     "name": "stdout",
     "output_type": "stream",
     "text": [
      "30\n"
     ]
    }
   ],
   "source": [
    "# Question 80: Print sum of diagonals of matrix.\n",
    "\n",
    "\n",
    "matrix = [\n",
    "    [1,2,3],\n",
    "    [4,5,6],\n",
    "    [7,8,9]\n",
    "]\n",
    "n = len(matrix)\n",
    "sum_diag = 0\n",
    "for i in range(n):\n",
    "    sum_diag += matrix[i][i]           # primary diagonal\n",
    "    sum_diag += matrix[i][n-1-i]       # secondary diagonal\n",
    "print(sum_diag)\n",
    "\n",
    "\n"
   ]
  },
  {
   "cell_type": "code",
   "execution_count": 143,
   "id": "33f03e01",
   "metadata": {},
   "outputs": [
    {
     "name": "stdout",
     "output_type": "stream",
     "text": [
      "[[1, 4], [2, 5], [3, 6]]\n"
     ]
    }
   ],
   "source": [
    "# Question 81: Transpose matrix using for loop.\n",
    "\n",
    "matrix = [\n",
    "    [1,2,3],\n",
    "    [4,5,6]\n",
    "]\n",
    "rows = len(matrix)\n",
    "cols = len(matrix[0])\n",
    "transpose = []\n",
    "for i in range(cols):\n",
    "    row = []\n",
    "    for j in range(rows):\n",
    "        row.append(matrix[j][i])\n",
    "    transpose.append(row)\n",
    "print(transpose)\n"
   ]
  },
  {
   "cell_type": "code",
   "execution_count": 144,
   "id": "af3f6438",
   "metadata": {},
   "outputs": [
    {
     "name": "stdout",
     "output_type": "stream",
     "text": [
      "3\n"
     ]
    }
   ],
   "source": [
    "# Question 82: Count zeros in a matrix.\n",
    "matrix = [\n",
    "    [0,1,2],\n",
    "    [3,0,4],\n",
    "    [5,6,0]\n",
    "]\n",
    "count = 0\n",
    "for row in matrix:\n",
    "    for val in row:\n",
    "        if val == 0:\n",
    "            count += 1\n",
    "print(count)\n"
   ]
  },
  {
   "cell_type": "code",
   "execution_count": 145,
   "id": "054e27ea",
   "metadata": {},
   "outputs": [
    {
     "name": "stdout",
     "output_type": "stream",
     "text": [
      "9\n"
     ]
    }
   ],
   "source": [
    "# Question 83: Find largest number in matrix.\n",
    "\n",
    "matrix = [\n",
    "    [1,2,3],\n",
    "    [4,5,6],\n",
    "    [7,8,9]\n",
    "]\n",
    "largest = matrix[0][0]\n",
    "for row in matrix:\n",
    "    for val in row:\n",
    "        if val > largest:\n",
    "            largest = val\n",
    "print(largest)\n"
   ]
  },
  {
   "cell_type": "code",
   "execution_count": 146,
   "id": "f7f8c6a0",
   "metadata": {},
   "outputs": [
    {
     "name": "stdout",
     "output_type": "stream",
     "text": [
      "6\n",
      "15\n",
      "24\n"
     ]
    }
   ],
   "source": [
    "# Question 84: Sum of each row of matrix.\n",
    "\n",
    "matrix = [\n",
    "    [1,2,3],\n",
    "    [4,5,6],\n",
    "    [7,8,9]\n",
    "]\n",
    "for row in matrix:\n",
    "    print(sum(row))\n"
   ]
  },
  {
   "cell_type": "code",
   "execution_count": 147,
   "id": "efe159d1",
   "metadata": {},
   "outputs": [
    {
     "name": "stdout",
     "output_type": "stream",
     "text": [
      "12\n",
      "15\n",
      "18\n"
     ]
    }
   ],
   "source": [
    "# Question 85: Sum of each column of matrix.\n",
    "\n",
    "matrix = [\n",
    "    [1,2,3],\n",
    "    [4,5,6],\n",
    "    [7,8,9]\n",
    "]\n",
    "cols = len(matrix[0])\n",
    "for j in range(cols):\n",
    "    col_sum = 0\n",
    "    for i in range(len(matrix)):\n",
    "        col_sum += matrix[i][j]\n",
    "    print(col_sum)\n"
   ]
  },
  {
   "cell_type": "code",
   "execution_count": 148,
   "metadata": {},
   "outputs": [
    {
     "name": "stdout",
     "output_type": "stream",
     "text": [
      "[1, 2, 3, 4, 5, 6]\n"
     ]
    }
   ],
   "source": [
    "# Question 86: Flatten matrix into single list.\n",
    "\n",
    "matrix = [\n",
    "    [1,2,3],\n",
    "    [4,5,6]\n",
    "]\n",
    "flat = []\n",
    "for row in matrix:\n",
    "    for val in row:\n",
    "        flat.append(val)\n",
    "print(flat)\n"
   ]
  },
  {
   "cell_type": "code",
   "execution_count": 149,
   "id": "e8483a12",
   "metadata": {},
   "outputs": [
    {
     "name": "stdout",
     "output_type": "stream",
     "text": [
      "[1, 4, 9, 16, 25, 36, 49, 64, 81, 100]\n"
     ]
    }
   ],
   "source": [
    "# Question 87: Generate list of first 10 squares.\n",
    "\n",
    "squares = []\n",
    "for i in range(1, 11):\n",
    "    squares.append(i**2)\n",
    "print(squares)\n"
   ]
  },
  {
   "cell_type": "code",
   "execution_count": 150,
   "id": "670ba945",
   "metadata": {},
   "outputs": [
    {
     "name": "stdout",
     "output_type": "stream",
     "text": [
      "[1, 8, 27, 64, 125, 216, 343, 512, 729, 1000]\n"
     ]
    }
   ],
   "source": [
    "# Question 88: Generate list of first 10 cubes.\n",
    "\n",
    "cubes = []\n",
    "for i in range(1, 11):\n",
    "    cubes.append(i**3)\n",
    "print(cubes)\n"
   ]
  },
  {
   "cell_type": "code",
   "execution_count": 151,
   "id": "49fe404d",
   "metadata": {},
   "outputs": [
    {
     "name": "stdout",
     "output_type": "stream",
     "text": [
      "[2, 4, 6, 8, 10, 12, 14, 16, 18, 20]\n"
     ]
    }
   ],
   "source": [
    "# Question 89: Generate list of even numbers.\n",
    "\n",
    "evens = []\n",
    "for i in range(1, 21):\n",
    "    if i % 2 == 0:\n",
    "        evens.append(i)\n",
    "print(evens)\n"
   ]
  },
  {
   "cell_type": "code",
   "execution_count": 153,
   "id": "268bfa73",
   "metadata": {},
   "outputs": [
    {
     "name": "stdout",
     "output_type": "stream",
     "text": [
      "[1, 3, 5, 7, 9, 11, 13, 15, 17, 19]\n"
     ]
    }
   ],
   "source": [
    "# Question 90: Generate list of odd numbers.\n",
    "\n",
    "odds = []\n",
    "for i in range(1, 21):\n",
    "    if i % 2 != 0:\n",
    "        odds.append(i)\n",
    "print(odds)\n"
   ]
  },
  {
   "cell_type": "code",
   "execution_count": 152,
   "id": "f1512336",
   "metadata": {},
   "outputs": [
    {
     "name": "stdout",
     "output_type": "stream",
     "text": [
      "[2, 3, 5, 7, 11, 13, 17, 19]\n"
     ]
    }
   ],
   "source": [
    "# Question 91: Generate list of prime numbers.\n",
    "\n",
    "primes = []\n",
    "for num in range(2, 21):\n",
    "    for i in range(2, num):\n",
    "        if num % i == 0:\n",
    "            break\n",
    "    else:\n",
    "        primes.append(num)\n",
    "print(primes)\n"
   ]
  },
  {
   "cell_type": "code",
   "execution_count": 154,
   "id": "312351c8",
   "metadata": {},
   "outputs": [
    {
     "name": "stdout",
     "output_type": "stream",
     "text": [
      "[1, 2, 6, 24, 120]\n"
     ]
    }
   ],
   "source": [
    "# Question 92: Generate list of factorials.\n",
    "factorials = []\n",
    "for i in range(1, 6):\n",
    "    fact = 1\n",
    "    for j in range(1, i+1):\n",
    "        fact *= j\n",
    "    factorials.append(fact)\n",
    "print(factorials)\n"
   ]
  },
  {
   "cell_type": "code",
   "execution_count": 155,
   "id": "054d0de7",
   "metadata": {},
   "outputs": [
    {
     "name": "stdout",
     "output_type": "stream",
     "text": [
      "[5, 6, 6]\n"
     ]
    }
   ],
   "source": [
    "# Question 93: Generate list of string lengths.\n",
    "\n",
    "words = [\"apple\", \"banana\", \"cherry\"]\n",
    "lengths = []\n",
    "for word in words:\n",
    "    lengths.append(len(word))\n",
    "print(lengths)\n"
   ]
  },
  {
   "cell_type": "code",
   "execution_count": 156,
   "id": "788262f9",
   "metadata": {},
   "outputs": [
    {
     "name": "stdout",
     "output_type": "stream",
     "text": [
      "[5, 4, 3, 2, 1]\n"
     ]
    }
   ],
   "source": [
    "# Question 94: Reverse list using for.\n",
    "\n",
    "lst = [1,2,3,4,5]\n",
    "rev = []\n",
    "for i in range(len(lst)-1, -1, -1):\n",
    "    rev.append(lst[i])\n",
    "print(rev)\n"
   ]
  },
  {
   "cell_type": "code",
   "execution_count": 157,
   "id": "1e84b045",
   "metadata": {},
   "outputs": [
    {
     "name": "stdout",
     "output_type": "stream",
     "text": [
      "97\n",
      "98\n",
      "99\n"
     ]
    }
   ],
   "source": [
    "# Question 95: Print ASCII values of characters.\n",
    "\n",
    "chars = ['a','b','c']\n",
    "for ch in chars:\n",
    "    print(ord(ch))\n"
   ]
  },
  {
   "cell_type": "code",
   "execution_count": 158,
   "id": "ce019088",
   "metadata": {},
   "outputs": [
    {
     "name": "stdout",
     "output_type": "stream",
     "text": [
      "A B C D E F G H I J K L M N O P Q R S T U V W X Y Z "
     ]
    }
   ],
   "source": [
    "# Question 96: Print characters from ASCII 65–90.\n",
    "\n",
    "for i in range(65, 91):\n",
    "    print(chr(i), end=\" \")\n"
   ]
  },
  {
   "cell_type": "code",
   "execution_count": 160,
   "id": "d81513fb",
   "metadata": {},
   "outputs": [
    {
     "name": "stdout",
     "output_type": "stream",
     "text": [
      "a b c d e f g h i j k l m n o p q r s t u v w x y z "
     ]
    }
   ],
   "source": [
    "# Question 97: Print characters from ASCII 97–122.\n",
    "\n",
    "for i in range(97, 123):\n",
    "    print(chr(i), end=\" \")\n"
   ]
  },
  {
   "cell_type": "code",
   "execution_count": 173,
   "id": "2e1abafb",
   "metadata": {},
   "outputs": [
    {
     "name": "stdout",
     "output_type": "stream",
     "text": [
      "0 1 2 3 4 "
     ]
    }
   ],
   "source": [
    "# Question 98: Loop over range(5) and print numbers.\n",
    "for i in range(5):\n",
    "    print(i, end=\" \")\n"
   ]
  },
  {
   "cell_type": "code",
   "execution_count": 172,
   "id": "574d4040",
   "metadata": {},
   "outputs": [
    {
     "name": "stdout",
     "output_type": "stream",
     "text": [
      "2 4 6 8 10 12 14 16 18 "
     ]
    }
   ],
   "source": [
    "# Question 99: Loop over range(2, 20, 2).\n",
    "\n",
    "for i in range(2, 20, 2):\n",
    "    print(i, end=\" \")\n"
   ]
  },
  {
   "cell_type": "code",
   "execution_count": 171,
   "id": "6d8aef8e",
   "metadata": {},
   "outputs": [
    {
     "name": "stdout",
     "output_type": "stream",
     "text": [
      "10 9 8 7 6 5 4 3 2 1 "
     ]
    }
   ],
   "source": [
    "# Question 100: Loop backwards using range(10, 0, -1).\n",
    "\n",
    "for i in range(10, 0, -1):\n",
    "    print(i, end=\" \")\n"
   ]
  }
 ],
 "metadata": {
  "kernelspec": {
   "display_name": "Python 3",
   "language": "python",
   "name": "python3"
  },
  "language_info": {
   "codemirror_mode": {
    "name": "ipython",
    "version": 3
   },
   "file_extension": ".py",
   "mimetype": "text/x-python",
   "name": "python",
   "nbconvert_exporter": "python",
   "pygments_lexer": "ipython3",
   "version": "3.13.0"
  }
 },
 "nbformat": 4,
 "nbformat_minor": 5
}
