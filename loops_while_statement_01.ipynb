{
 "cells": [
  {
   "cell_type": "code",
   "execution_count": 51,
   "id": "f8a06484",
   "metadata": {},
   "outputs": [
    {
     "name": "stdout",
     "output_type": "stream",
     "text": [
      "1 2 3 4 5 6 7 8 9 10 "
     ]
    }
   ],
   "source": [
    "# Question 201: Print numbers from 1 to 10 using while.\n",
    "\n",
    "i = 1\n",
    "while i <= 10:\n",
    "    print(i,end=\" \")\n",
    "    i += 1"
   ]
  },
  {
   "cell_type": "code",
   "execution_count": 50,
   "id": "28d1fef5",
   "metadata": {},
   "outputs": [
    {
     "name": "stdout",
     "output_type": "stream",
     "text": [
      "10 9 8 7 6 5 4 3 2 1 "
     ]
    }
   ],
   "source": [
    "# Question 202: Print numbers 10–1.\n",
    "\n",
    "i = 10\n",
    "while i >= 1:\n",
    "    print(i,end=\" \")\n",
    "    i -= 1"
   ]
  },
  {
   "cell_type": "code",
   "execution_count": 49,
   "id": "c56a4f9e",
   "metadata": {},
   "outputs": [
    {
     "name": "stdout",
     "output_type": "stream",
     "text": [
      "2 4 6 8 10 12 14 16 18 20 "
     ]
    }
   ],
   "source": [
    "# Question 203: Print first 10 even numbers.\n",
    "\n",
    "i = 2\n",
    "count = 1\n",
    "while count <= 10:\n",
    "    print(i,end=\" \")\n",
    "    i += 2\n",
    "    count += 1"
   ]
  },
  {
   "cell_type": "code",
   "execution_count": 48,
   "id": "ec93f4bc",
   "metadata": {},
   "outputs": [
    {
     "name": "stdout",
     "output_type": "stream",
     "text": [
      "1 3 5 7 9 11 13 15 17 19 "
     ]
    }
   ],
   "source": [
    "# Question 204: Print first 10 odd numbers.\n",
    "\n",
    "i = 1\n",
    "count = 1\n",
    "while count <= 10:\n",
    "    print(i,end=\" \")\n",
    "    i += 2\n",
    "    count += 1\n"
   ]
  },
  {
   "cell_type": "code",
   "execution_count": 7,
   "id": "81eca540",
   "metadata": {},
   "outputs": [
    {
     "name": "stdout",
     "output_type": "stream",
     "text": [
      "Sum: 5050\n"
     ]
    }
   ],
   "source": [
    "# Question 205: Print sum of numbers 1–100.\n",
    "\n",
    "i = 1\n",
    "s = 0\n",
    "while i <= 100:\n",
    "    s += i\n",
    "    i += 1\n",
    "print(\"Sum:\", s)"
   ]
  },
  {
   "cell_type": "code",
   "execution_count": 8,
   "id": "a0adc3ae",
   "metadata": {},
   "outputs": [
    {
     "name": "stdout",
     "output_type": "stream",
     "text": [
      "Factorial: 120\n"
     ]
    }
   ],
   "source": [
    "# Question 206: Print factorial of 5 using while.\n",
    "\n",
    "i = 1\n",
    "fact = 1\n",
    "while i <= 5:\n",
    "    fact *= i\n",
    "    i += 1\n",
    "print(\"Factorial:\", fact)"
   ]
  },
  {
   "cell_type": "code",
   "execution_count": 9,
   "id": "d2ba6a86",
   "metadata": {},
   "outputs": [
    {
     "name": "stdout",
     "output_type": "stream",
     "text": [
      "Reverse: 4321\n"
     ]
    }
   ],
   "source": [
    "# Question 207: Reverse a number using while.\n",
    "\n",
    "n = 1234\n",
    "rev = 0\n",
    "while n > 0:\n",
    "    d = n % 10\n",
    "    rev = rev*10 + d\n",
    "    n //= 10\n",
    "print(\"Reverse:\", rev)\n"
   ]
  },
  {
   "cell_type": "code",
   "execution_count": 10,
   "id": "25d4d957",
   "metadata": {},
   "outputs": [
    {
     "name": "stdout",
     "output_type": "stream",
     "text": [
      "Sum of digits: 10\n"
     ]
    }
   ],
   "source": [
    "# Question 208: Sum of digits of a number using while.\n",
    "\n",
    "n = 1234\n",
    "s = 0\n",
    "while n > 0:\n",
    "    d = n % 10\n",
    "    s += d\n",
    "    n //= 10\n",
    "print(\"Sum of digits:\", s)"
   ]
  },
  {
   "cell_type": "code",
   "execution_count": 11,
   "id": "b51935c5",
   "metadata": {},
   "outputs": [
    {
     "name": "stdout",
     "output_type": "stream",
     "text": [
      "Digits: 5\n"
     ]
    }
   ],
   "source": [
    "# Question 209: Count digits of a number using while.\n",
    "\n",
    "n = 12345\n",
    "count = 0\n",
    "while n > 0:\n",
    "    count += 1\n",
    "    n //= 10\n",
    "print(\"Digits:\", count)"
   ]
  },
  {
   "cell_type": "code",
   "execution_count": 47,
   "id": "7fe6742d",
   "metadata": {},
   "outputs": [
    {
     "name": "stdout",
     "output_type": "stream",
     "text": [
      "0 1 1 2 3 5 8 13 21 34 "
     ]
    }
   ],
   "source": [
    "# Question 210: Print Fibonacci series up to 50.\n",
    "\n",
    "a, b = 0, 1\n",
    "while a <= 50:\n",
    "    print(a,end=\" \")\n",
    "    a, b = b, a+b"
   ]
  },
  {
   "cell_type": "code",
   "execution_count": 13,
   "id": "8520d9e0",
   "metadata": {},
   "outputs": [
    {
     "name": "stdout",
     "output_type": "stream",
     "text": [
      "8 x 1 = 8\n",
      "8 x 2 = 16\n",
      "8 x 3 = 24\n",
      "8 x 4 = 32\n",
      "8 x 5 = 40\n",
      "8 x 6 = 48\n",
      "8 x 7 = 56\n",
      "8 x 8 = 64\n",
      "8 x 9 = 72\n",
      "8 x 10 = 80\n"
     ]
    }
   ],
   "source": [
    "# Question 211: Print multiplication table of 8.\n",
    "i = 1\n",
    "while i <= 10:\n",
    "    print(\"8 x\", i, \"=\", 8*i)\n",
    "    i += 1"
   ]
  },
  {
   "cell_type": "code",
   "execution_count": 46,
   "id": "c48bf286",
   "metadata": {},
   "outputs": [
    {
     "name": "stdout",
     "output_type": "stream",
     "text": [
      "2 3 5 7 11 13 17 19 23 29 31 37 41 43 47 "
     ]
    }
   ],
   "source": [
    "# Question 212: Print prime numbers up to 50.\n",
    "n = 2\n",
    "while n <= 50:\n",
    "    i = 2\n",
    "    prime = True\n",
    "    while i <= n//2:\n",
    "        if n % i == 0:\n",
    "            prime = False\n",
    "            break\n",
    "        i += 1\n",
    "    if prime:\n",
    "        print(n,end=\" \")\n",
    "    n += 1\n"
   ]
  },
  {
   "cell_type": "code",
   "execution_count": 15,
   "id": "1920cbaf",
   "metadata": {},
   "outputs": [
    {
     "name": "stdout",
     "output_type": "stream",
     "text": [
      "4\n",
      "6\n",
      "8\n",
      "9\n",
      "10\n",
      "12\n",
      "14\n",
      "15\n",
      "16\n",
      "18\n",
      "20\n",
      "21\n",
      "22\n",
      "24\n",
      "25\n",
      "26\n",
      "27\n",
      "28\n",
      "30\n",
      "32\n",
      "33\n",
      "34\n",
      "35\n",
      "36\n",
      "38\n",
      "39\n",
      "40\n",
      "42\n",
      "44\n",
      "45\n",
      "46\n",
      "48\n",
      "49\n",
      "50\n"
     ]
    }
   ],
   "source": [
    "# Question 213: Print composite numbers up to 50.\n",
    "n = 4\n",
    "while n <= 50:\n",
    "    i = 2\n",
    "    composite = False\n",
    "    while i <= n//2:\n",
    "        if n % i == 0:\n",
    "            composite = True\n",
    "            break\n",
    "        i += 1\n",
    "    if composite:\n",
    "        print(n)\n",
    "    n += 1"
   ]
  },
  {
   "cell_type": "code",
   "execution_count": 45,
   "id": "3fe20b34",
   "metadata": {},
   "outputs": [
    {
     "name": "stdout",
     "output_type": "stream",
     "text": [
      "7 14 21 28 35 42 49 56 63 70 77 84 91 98 "
     ]
    }
   ],
   "source": [
    "# Question 214: Print numbers divisible by 7.\n",
    "i = 1\n",
    "while i <= 100:\n",
    "    if i % 7 == 0:\n",
    "        print(i,end=\" \")\n",
    "    i += 1"
   ]
  },
  {
   "cell_type": "code",
   "execution_count": 17,
   "id": "4588bdaf",
   "metadata": {},
   "outputs": [
    {
     "name": "stdout",
     "output_type": "stream",
     "text": [
      "1\n",
      "2\n",
      "3\n",
      "4\n",
      "5\n",
      "6\n",
      "8\n",
      "9\n",
      "10\n",
      "11\n",
      "12\n",
      "13\n",
      "15\n",
      "16\n",
      "17\n",
      "18\n",
      "19\n",
      "20\n",
      "22\n",
      "23\n",
      "24\n",
      "25\n",
      "26\n",
      "27\n",
      "29\n",
      "30\n",
      "31\n",
      "32\n",
      "33\n",
      "34\n",
      "36\n",
      "37\n",
      "38\n",
      "39\n",
      "40\n",
      "41\n",
      "43\n",
      "44\n",
      "45\n",
      "46\n",
      "47\n",
      "48\n",
      "50\n"
     ]
    }
   ],
   "source": [
    "# Question 215: Print numbers not divisible by 7.\n",
    "\n",
    "i = 1\n",
    "while i <= 50:\n",
    "    if i % 7 != 0:\n",
    "        print(i)\n",
    "    i += 1"
   ]
  },
  {
   "cell_type": "code",
   "execution_count": 44,
   "id": "4d26e00b",
   "metadata": {},
   "outputs": [
    {
     "name": "stdout",
     "output_type": "stream",
     "text": [
      "1 4 9 16 25 36 49 64 81 100 "
     ]
    }
   ],
   "source": [
    "# Question 216: Print squares up to 100.\n",
    "\n",
    "i = 1\n",
    "while i <= 10:\n",
    "    print(i*i,end=\" \")\n",
    "    i += 1"
   ]
  },
  {
   "cell_type": "code",
   "execution_count": 19,
   "id": "cb8c2252",
   "metadata": {},
   "outputs": [
    {
     "name": "stdout",
     "output_type": "stream",
     "text": [
      "1\n",
      "8\n",
      "27\n",
      "64\n"
     ]
    }
   ],
   "source": [
    "# Question 217: Print cubes up to 100.\n",
    "i = 1\n",
    "while i**3 <= 100:\n",
    "    print(i**3)\n",
    "    i += 1"
   ]
  },
  {
   "cell_type": "code",
   "execution_count": 43,
   "id": "aa0359c9",
   "metadata": {},
   "outputs": [
    {
     "name": "stdout",
     "output_type": "stream",
     "text": [
      "3 13 23 33 43 53 63 73 83 93 "
     ]
    }
   ],
   "source": [
    "# Question 218: Print numbers ending with digit 3.\n",
    "i = 1\n",
    "while i <= 100:\n",
    "    if i % 10 == 3:\n",
    "        print(i,end=\" \")\n",
    "    i += 1"
   ]
  },
  {
   "cell_type": "code",
   "execution_count": 42,
   "id": "9b9589c0",
   "metadata": {},
   "outputs": [
    {
     "name": "stdout",
     "output_type": "stream",
     "text": [
      "20 21 22 23 24 25 26 27 28 29 "
     ]
    }
   ],
   "source": [
    "# Question 219: Print numbers starting with digit 2.\n",
    "i = 20\n",
    "while i < 30:\n",
    "    print(i,end=\" \")\n",
    "    i += 1"
   ]
  },
  {
   "cell_type": "code",
   "execution_count": 41,
   "id": "56a539a3",
   "metadata": {},
   "outputs": [
    {
     "name": "stdout",
     "output_type": "stream",
     "text": [
      "1 2 3 4 5 6 7 8 9 11 22 33 44 55 66 77 88 99 101 111 121 131 141 151 161 171 181 191 "
     ]
    }
   ],
   "source": [
    "# Question 220: Print palindrome numbers between 1–200.\n",
    "\n",
    "i = 1\n",
    "while i <= 200:\n",
    "    n = i\n",
    "    rev = 0\n",
    "    while n > 0:\n",
    "        d = n % 10\n",
    "        rev = rev*10 + d\n",
    "        n //= 10\n",
    "    if i == rev:\n",
    "        print(i,end=\" \")\n",
    "    i += 1\n"
   ]
  },
  {
   "cell_type": "code",
   "execution_count": 23,
   "id": "9788c32e",
   "metadata": {},
   "outputs": [
    {
     "name": "stdout",
     "output_type": "stream",
     "text": [
      "153\n",
      "370\n",
      "371\n",
      "407\n"
     ]
    }
   ],
   "source": [
    "# Question 221: Print Armstrong numbers between 100–999.\n",
    "\n",
    "i = 100\n",
    "while i <= 999:\n",
    "    n = i\n",
    "    s = 0\n",
    "    while n > 0:\n",
    "        d = n % 10\n",
    "        s += d**3\n",
    "        n //= 10\n",
    "    if s == i:\n",
    "        print(i)\n",
    "    i += 1"
   ]
  },
  {
   "cell_type": "code",
   "execution_count": 40,
   "id": "b8e9a1e5",
   "metadata": {},
   "outputs": [
    {
     "name": "stdout",
     "output_type": "stream",
     "text": [
      "6 28 496 "
     ]
    }
   ],
   "source": [
    "# Question 222: Print perfect numbers up to 1000.\n",
    "i = 1\n",
    "while i <= 1000:\n",
    "    s = 0\n",
    "    j = 1\n",
    "    while j < i:\n",
    "        if i % j == 0:\n",
    "            s += j\n",
    "        j += 1\n",
    "    if s == i:\n",
    "        print(i,end=\" \")\n",
    "    i += 1"
   ]
  },
  {
   "cell_type": "code",
   "execution_count": 39,
   "id": "e3d173ef",
   "metadata": {},
   "outputs": [
    {
     "name": "stdout",
     "output_type": "stream",
     "text": [
      "1 2 3 4 5 6 7 8 9 10 12 18 20 21 24 27 30 36 40 42 45 48 50 54 60 63 70 72 80 81 84 90 100 "
     ]
    }
   ],
   "source": [
    "# Question 223: Print Harshad numbers up to 100.\n",
    "\n",
    "i = 1\n",
    "while i <= 100:\n",
    "    n = i\n",
    "    s = 0\n",
    "    while n > 0:\n",
    "        d = n % 10\n",
    "        s += d\n",
    "        n //= 10\n",
    "    if i % s == 0:\n",
    "        print(i,end=\" \")\n",
    "    i += 1"
   ]
  },
  {
   "cell_type": "code",
   "execution_count": 26,
   "id": "8e77b55e",
   "metadata": {},
   "outputs": [
    {
     "name": "stdout",
     "output_type": "stream",
     "text": [
      "Access granted\n"
     ]
    }
   ],
   "source": [
    "# Question 224: Keep asking for password until correct.\n",
    "\n",
    "password = \"\"\n",
    "while password != \"1234\":\n",
    "    password = input(\"Enter password: \")\n",
    "print(\"Access granted\")"
   ]
  },
  {
   "cell_type": "code",
   "execution_count": 28,
   "id": "8a99f90a",
   "metadata": {},
   "outputs": [
    {
     "name": "stdout",
     "output_type": "stream",
     "text": [
      "Even entered\n"
     ]
    }
   ],
   "source": [
    "# Question 225: Keep asking for number until even number entered.\n",
    "\n",
    "num = 1\n",
    "while num % 2 != 0:\n",
    "    num = int(input(\"Enter number: \"))\n",
    "print(\"Even entered\")"
   ]
  },
  {
   "cell_type": "code",
   "execution_count": 30,
   "id": "b569eda8",
   "metadata": {},
   "outputs": [
    {
     "name": "stdout",
     "output_type": "stream",
     "text": [
      "Negative entered\n"
     ]
    }
   ],
   "source": [
    "# Question 226: Keep asking for number until negative entered.\n",
    "num = 0\n",
    "while num >= 0:\n",
    "    num = int(input(\"Enter number: \"))\n",
    "print(\"Negative entered\")\n"
   ]
  },
  {
   "cell_type": "code",
   "execution_count": 35,
   "id": "bd3e5b24",
   "metadata": {},
   "outputs": [],
   "source": [
    "# Question 227: Keep asking for string until \"exit\" entered.\n",
    "\n",
    "word = \"\"\n",
    "while word != \"exit\":\n",
    "    word = input(\"Enter word: \")"
   ]
  },
  {
   "cell_type": "code",
   "execution_count": 32,
   "id": "d5cf2e74",
   "metadata": {},
   "outputs": [
    {
     "name": "stdout",
     "output_type": "stream",
     "text": [
      "Valid PIN\n"
     ]
    }
   ],
   "source": [
    "# Question 228: Keep asking for PIN until length is 4.\n",
    "\n",
    "pin = \"\"\n",
    "while len(pin) != 4:\n",
    "    pin = input(\"Enter PIN: \")\n",
    "print(\"Valid PIN\")\n"
   ]
  },
  {
   "cell_type": "code",
   "execution_count": 33,
   "id": "25f73522",
   "metadata": {},
   "outputs": [
    {
     "name": "stdout",
     "output_type": "stream",
     "text": [
      "Palindrome entered\n"
     ]
    }
   ],
   "source": [
    "# Question 229: Keep asking for word until palindrome entered.\n",
    "word = \"\"\n",
    "while True:\n",
    "    word = input(\"Enter word: \")\n",
    "    if word == word[::-1]:\n",
    "        print(\"Palindrome entered\")\n",
    "        break"
   ]
  },
  {
   "cell_type": "code",
   "execution_count": null,
   "id": "c2a14fcf",
   "metadata": {},
   "outputs": [
    {
     "name": "stdout",
     "output_type": "stream",
     "text": [
      "1 2 3 4 5 6 7 8 9 10 11 12 13 14 "
     ]
    }
   ],
   "source": [
    "# Question 230: Keep printing numbers until sum exceeds 100.\n",
    "\n",
    "i = 1\n",
    "s = 0\n",
    "while s <= 100:\n",
    "    print(i,end=\" \")\n",
    "    s += i\n",
    "    i += 1"
   ]
  }
 ],
 "metadata": {
  "kernelspec": {
   "display_name": "Python 3",
   "language": "python",
   "name": "python3"
  },
  "language_info": {
   "codemirror_mode": {
    "name": "ipython",
    "version": 3
   },
   "file_extension": ".py",
   "mimetype": "text/x-python",
   "name": "python",
   "nbconvert_exporter": "python",
   "pygments_lexer": "ipython3",
   "version": "3.13.0"
  }
 },
 "nbformat": 4,
 "nbformat_minor": 5
}
