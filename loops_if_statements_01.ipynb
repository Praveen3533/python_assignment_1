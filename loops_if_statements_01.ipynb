{
 "cells": [
  {
   "cell_type": "code",
   "execution_count": 12,
   "id": "cb76a06b",
   "metadata": {},
   "outputs": [
    {
     "name": "stdout",
     "output_type": "stream",
     "text": [
      "The number is positive\n"
     ]
    }
   ],
   "source": [
    "# Question 1: Write an if statement to check if a number is positive.\n",
    "num = 99\n",
    "if num >= 0:\n",
    "    print(\"The number is positive\")\n",
    "else:\n",
    "    print(\"The number is negative\")\n",
    "\n"
   ]
  },
  {
   "cell_type": "code",
   "execution_count": 15,
   "id": "84fc1b47",
   "metadata": {},
   "outputs": [
    {
     "name": "stdout",
     "output_type": "stream",
     "text": [
      "Even\n"
     ]
    }
   ],
   "source": [
    "# Question 2: Write an if statement to print \"Even\" if a number is divisible by 2.\n",
    "\n",
    "num1 = 68\n",
    "if num1 % 2 == 0:\n",
    "    print(\"Even\")\n",
    "else:\n",
    "    print(\"odd\")"
   ]
  },
  {
   "cell_type": "code",
   "execution_count": null,
   "id": "e90ae5e6",
   "metadata": {},
   "outputs": [
    {
     "name": "stdout",
     "output_type": "stream",
     "text": [
      "The string is not empty\n"
     ]
    }
   ],
   "source": [
    "# Question 3: Write an if statement to check if a string is empty.\n",
    "str = \"\"\n",
    "if not str:\n",
    "    print(\"The string is empty\")\n",
    "else:\n",
    "    print(\"The string is not empty\")"
   ]
  },
  {
   "cell_type": "code",
   "execution_count": 33,
   "id": "5535c0f1",
   "metadata": {},
   "outputs": [
    {
     "name": "stdout",
     "output_type": "stream",
     "text": [
      "2028 is a leap year\n"
     ]
    }
   ],
   "source": [
    "# Question 4: Use if to check if a given year is a leap year.\n",
    "\n",
    "year = 2028\n",
    "if year % 400 == 0:\n",
    "    print(f\"{year} is a leap year\")\n",
    "elif year % 100 == 0:\n",
    "    print(f\"{year} is not a leap year\")\n",
    "elif year % 4 == 0:\n",
    "    print(f\"{year} is a leap year\")\n",
    "else:\n",
    "    print(f\"{year} is not a leap year\")"
   ]
  },
  {
   "cell_type": "code",
   "execution_count": 34,
   "id": "2b2b1604",
   "metadata": {},
   "outputs": [
    {
     "name": "stdout",
     "output_type": "stream",
     "text": [
      "101 is greater than 100\n"
     ]
    }
   ],
   "source": [
    "# Question 5: Write an if to check if a number is greater than 100.\n",
    "\n",
    "num2 = 101\n",
    "\n",
    "if num2 > 100:\n",
    "    print(f\"{num2} is greater than 100\")\n",
    "else:\n",
    "    print(f\"{num2} is not greater than 100\")"
   ]
  },
  {
   "cell_type": "code",
   "execution_count": 38,
   "id": "2727080a",
   "metadata": {},
   "outputs": [
    {
     "name": "stdout",
     "output_type": "stream",
     "text": [
      "E is a vowel\n"
     ]
    }
   ],
   "source": [
    "# Question 6: Use if to check if a character is a vowel.\n",
    "\n",
    "char = \"E\"\n",
    "\n",
    "if char in 'aeiouAEIOU':\n",
    "    print(f\"{char} is a vowel\")\n",
    "else:\n",
    "    print(f\"{char} is not a vowel\")"
   ]
  },
  {
   "cell_type": "code",
   "execution_count": 39,
   "id": "3097e5eb",
   "metadata": {},
   "outputs": [
    {
     "name": "stdout",
     "output_type": "stream",
     "text": [
      "Teenager\n"
     ]
    }
   ],
   "source": [
    "# Question 7: Write an if statement to print \"Teenager\" if age is between 13 and 19.\n",
    "\n",
    "age = 19\n",
    "if 13 <= age <= 19:\n",
    "    print(\"Teenager\")\n",
    "else:\n",
    "    print(\"Not a teenager\")"
   ]
  },
  {
   "cell_type": "code",
   "execution_count": 100,
   "id": "80bdfe2b",
   "metadata": {},
   "outputs": [
    {
     "name": "stdout",
     "output_type": "stream",
     "text": [
      "The list has more than 5 elements\n"
     ]
    }
   ],
   "source": [
    "# Question 8: Use if to check if a list has more than 5 elements.\n",
    "\n",
    "list = [1,3,5,7,9,11]\n",
    "length = len(list)\n",
    "if length > 5:\n",
    "    print(\"The list has more than 5 elements\")\n",
    "else:\n",
    "    print(\"The list has 5 or fewer elements\")\n"
   ]
  },
  {
   "cell_type": "code",
   "execution_count": 42,
   "id": "0568a731",
   "metadata": {},
   "outputs": [
    {
     "name": "stdout",
     "output_type": "stream",
     "text": [
      "file name is ends with .txt\n"
     ]
    }
   ],
   "source": [
    "# Question 9: Write an if statement to check if a file name ends with .txt.\n",
    "\n",
    "file_name = \"praveen.txt\"\n",
    "\n",
    "if file_name.endswith(\".txt\"):\n",
    "    print(\"file name is ends with .txt\")\n",
    "else:\n",
    "    print(\"file name does not ends with .txt\")"
   ]
  },
  {
   "cell_type": "code",
   "execution_count": 44,
   "id": "a3203780",
   "metadata": {},
   "outputs": [
    {
     "name": "stdout",
     "output_type": "stream",
     "text": [
      "33 and 33 are equal\n"
     ]
    }
   ],
   "source": [
    "# Question 10: Use if to check if two numbers are equal.\n",
    "\n",
    "num3 = 33\n",
    "num4 = 33\n",
    "if num3 == num4 :\n",
    "    print(f\"{num3} and {num4} are equal\")\n",
    "else:\n",
    "    print(f\"{num3} and {num4} are not equal\")"
   ]
  },
  {
   "cell_type": "code",
   "execution_count": 45,
   "id": "744333ab",
   "metadata": {},
   "outputs": [
    {
     "name": "stdout",
     "output_type": "stream",
     "text": [
      "The dictionary contains the key 'name'\n"
     ]
    }
   ],
   "source": [
    "# Question 11: Check if a dictionary contains a key \"name\".\n",
    "\n",
    "dict = { \"name\" : \"praveen\" , \"age\" : 24}\n",
    "if \"name\" in dict :\n",
    "    print(\"The dictionary contains the key 'name'\")\n",
    "else:\n",
    "    print(\"The dictionary does not contain the key 'name'\")"
   ]
  },
  {
   "cell_type": "code",
   "execution_count": 46,
   "id": "ba825afe",
   "metadata": {},
   "outputs": [
    {
     "name": "stdout",
     "output_type": "stream",
     "text": [
      "The sum of two numbers is greater than 50\n"
     ]
    }
   ],
   "source": [
    "# Question 12: Check if the sum of two numbers is greater than 50.\n",
    "num1 = 30\n",
    "num2 = 25\n",
    "\n",
    "if num1 + num2 > 50:\n",
    "    print(\"The sum of two numbers is greater than 50\")\n",
    "else:\n",
    "    print(\"The sum of two numbers is samller than 50')\")"
   ]
  },
  {
   "cell_type": "code",
   "execution_count": 47,
   "id": "216c780d",
   "metadata": {},
   "outputs": [
    {
     "name": "stdout",
     "output_type": "stream",
     "text": [
      "The first character of the string is uppercase\n"
     ]
    }
   ],
   "source": [
    "# Question 13: Check if the first character of a string is uppercase.\n",
    "\n",
    "string = \"Praveen\"\n",
    "\n",
    "if string[0].isupper():\n",
    "    print(\"The first character of the string is uppercase\")\n",
    "else:\n",
    "    print(\"The first character of the string is not uppercase\")\n",
    "\n",
    "\n"
   ]
  },
  {
   "cell_type": "code",
   "execution_count": null,
   "id": "b36a9fc7",
   "metadata": {},
   "outputs": [
    {
     "name": "stdout",
     "output_type": "stream",
     "text": [
      "The temperature is below freezing\n"
     ]
    }
   ],
   "source": [
    "# Question 14: Check if temperature is below freezing (0°C).\n",
    "\n",
    "temp = -5\n",
    "\n",
    "if temp < 0:\n",
    "    print(\"The temperature is below freezing\")\n",
    "else:\n",
    "    print(\"The temperature is above freezing\")"
   ]
  },
  {
   "cell_type": "code",
   "execution_count": null,
   "id": "1bdaa4be",
   "metadata": {},
   "outputs": [
    {
     "name": "stdout",
     "output_type": "stream",
     "text": [
      "17 is a prime number\n"
     ]
    }
   ],
   "source": [
    "# Question 15: Use if to check if a number is prime.\n",
    "\n",
    "num = 17\n",
    "\n",
    "if num > 1:\n",
    "\n",
    "    for i in range(2 , num):\n",
    "        if num % i == 0:\n",
    "            print(f\"{num} is not a prime number\")\n",
    "            break\n",
    "        else:\n",
    "            print(f\"{num} is a prime number\")\n",
    "            break\n",
    "else:\n",
    "    print(f\"{num} is not a prime number\")"
   ]
  },
  {
   "cell_type": "code",
   "execution_count": null,
   "id": "ef3dd37f",
   "metadata": {},
   "outputs": [
    {
     "name": "stdout",
     "output_type": "stream",
     "text": [
      "Grade A\n"
     ]
    }
   ],
   "source": [
    "# Question 16: Use if to check if marks are >= 90 and print \"Grade A\".\n",
    "\n",
    "marks = 95\n",
    "\n",
    "if marks >= 90:\n",
    "    print(\"Grade A\")\n",
    "else:\n",
    "    print(\"Grade is below A\")"
   ]
  },
  {
   "cell_type": "code",
   "execution_count": null,
   "id": "794faa88",
   "metadata": {},
   "outputs": [
    {
     "name": "stdout",
     "output_type": "stream",
     "text": [
      "The password length is less than 8\n"
     ]
    }
   ],
   "source": [
    "# Question 17: Use if to check if password length is less than 8.\n",
    "\n",
    "password = input(\"Enter your password: \")\n",
    "\n",
    "if len(password) < 8:\n",
    "     print(\"The password length is less than 8\")\n",
    "else:\n",
    "        print(\"The password length is 8 or more\")"
   ]
  },
  {
   "cell_type": "code",
   "execution_count": null,
   "id": "57d843cc",
   "metadata": {},
   "outputs": [
    {
     "name": "stdout",
     "output_type": "stream",
     "text": [
      "The tuple is empty\n"
     ]
    }
   ],
   "source": [
    "# Question 18: Check if a tuple is empty.\n",
    "\n",
    "my_tuple = ()\n",
    "\n",
    "if len(my_tuple) == 0:\n",
    "    print(\"The tuple is empty\")\n",
    "else:\n",
    "    print(\"The tuple is not empty\")"
   ]
  },
  {
   "cell_type": "code",
   "execution_count": 119,
   "id": "4b87ac2f",
   "metadata": {},
   "outputs": [
    {
     "name": "stdout",
     "output_type": "stream",
     "text": [
      "The list contains duplicates\n"
     ]
    }
   ],
   "source": [
    "# Question 19: Check if a list contains duplicates.\n",
    "\n",
    "my_list = [1,2,3,4,2]\n",
    "seen =[]\n",
    "\n",
    "for iteam in my_list:\n",
    "    if iteam in seen:\n",
    "        print(\"The list contains duplicates\")\n",
    "        break\n",
    "    seen.append(iteam)\n",
    "else:\n",
    "     print(\"The list does not contain duplicates\")\n",
    "    "
   ]
  },
  {
   "cell_type": "code",
   "execution_count": 126,
   "id": "0a36fa8d",
   "metadata": {},
   "outputs": [
    {
     "name": "stdout",
     "output_type": "stream",
     "text": [
      "The string contain substring: I love python \n"
     ]
    }
   ],
   "source": [
    "# Question 20: Use if to check if string contains substring \"Python\".\n",
    "\n",
    "text = input(\"Enter the string:\")\n",
    "\n",
    "if \"python\" in text:\n",
    "    print(f\"The string contain substring: {text}\")\n",
    "else:\n",
    "    print(f\"The string doesnot contain substring: {text}.\")\n",
    "\n",
    "\n"
   ]
  },
  {
   "cell_type": "code",
   "execution_count": 131,
   "id": "738df801",
   "metadata": {},
   "outputs": [
    {
     "name": "stdout",
     "output_type": "stream",
     "text": [
      "The user input is numeric:34562819\n"
     ]
    }
   ],
   "source": [
    "# Question 21: Check if user input is numeric.\n",
    "\n",
    "user_input = input(\"Enter the input\")\n",
    "\n",
    "if user_input.isnumeric():\n",
    "     print(f\"The user input is numeric:{user_input}\")\n",
    "else:\n",
    "     print(f\"The user input is not a numeric:{user_input} \") "
   ]
  },
  {
   "cell_type": "code",
   "execution_count": 133,
   "id": "c5547021",
   "metadata": {},
   "outputs": [
    {
     "name": "stdout",
     "output_type": "stream",
     "text": [
      "30 is a multiple of both 3 and 5\n"
     ]
    }
   ],
   "source": [
    "# Question 22: Write if to check if number is multiple of both 3 and 5.\n",
    "\n",
    "num = 30\n",
    "\n",
    "if num % 3 == 0 and num % 5 == 0:\n",
    "    print(f\"{num} is a multiple of both 3 and 5\")\n",
    "else:\n",
    "    print(f\"{num} is not multiple of both 3 and 5\")\n",
    "  "
   ]
  },
  {
   "cell_type": "code",
   "execution_count": 140,
   "id": "1e72e04f",
   "metadata": {},
   "outputs": [
    {
     "name": "stdout",
     "output_type": "stream",
     "text": [
      "'listen' and 'silent' are anagrams\n"
     ]
    }
   ],
   "source": [
    "# Question 23: Check if two strings are anagrams.\n",
    "\n",
    "str1 = \"listen\"\n",
    "str2 = \"silent\"\n",
    "\n",
    "s1 = str1.replace(\" \", \"\").lower()\n",
    "s2 = str2.replace(\" \", \"\").lower()\n",
    "\n",
    "if sorted(s1) == sorted(s2):\n",
    "    print(f\"'{str1}' and '{str2}' are anagrams\")\n",
    "else:\n",
    "    print(f\"'{str1}' and '{str2}' are not anagrams\")\n"
   ]
  },
  {
   "cell_type": "code",
   "execution_count": 141,
   "id": "f11379dc",
   "metadata": {},
   "outputs": [
    {
     "name": "stdout",
     "output_type": "stream",
     "text": [
      "A is a subset of B\n"
     ]
    }
   ],
   "source": [
    "# Question 24: Use if to check if a set is subset of another.\n",
    "\n",
    "A = {1, 2, 3}\n",
    "B = {1, 2, 3, 4, 5}\n",
    "\n",
    "if A.issubset(B):\n",
    "    print(\"A is a subset of B\")\n",
    "else:\n",
    "    print(\"A is not a subset of B\")\n"
   ]
  },
  {
   "cell_type": "code",
   "execution_count": 147,
   "id": "823ea467",
   "metadata": {},
   "outputs": [
    {
     "name": "stdout",
     "output_type": "stream",
     "text": [
      "It is PM\n"
     ]
    }
   ],
   "source": [
    "# Question 25: Check if current time is AM or PM.\n",
    "\n",
    "from datetime import datetime\n",
    "\n",
    "now = datetime.now()\n",
    "\n",
    "if now.hour < 12:\n",
    "    print(\"It is AM\")\n",
    "else:\n",
    "    print(\"It is PM\")\n"
   ]
  },
  {
   "cell_type": "code",
   "execution_count": null,
   "id": "fc915dc4",
   "metadata": {},
   "outputs": [
    {
     "name": "stdout",
     "output_type": "stream",
     "text": [
      "123454321 is a palindrome\n"
     ]
    }
   ],
   "source": [
    "# Question 26: Use if to check if given number is palindrome.\n",
    "\n",
    "del str\n",
    "\n",
    "num = int(input(\"Enter a number: \"))\n",
    "\n",
    "if str(num) == str(num)[::-1]:\n",
    "    print(f\"{num} is a palindrome\")\n",
    "else:\n",
    "    print(f\"{num} is not a palindrome\")\n"
   ]
  },
  {
   "cell_type": "code",
   "execution_count": 163,
   "id": "38e9e392",
   "metadata": {},
   "outputs": [
    {
     "name": "stdout",
     "output_type": "stream",
     "text": [
      "The file 'C:/Users/YourName/Desktop/example.txt' does not exist on disk\n"
     ]
    }
   ],
   "source": [
    "# Question 27: Write if to check if file exists on disk.\n",
    "\n",
    "import os\n",
    "\n",
    "filename = \"C:/Users/YourName/Desktop/example.txt\"\n",
    "\n",
    "if os.path.exists(filename):\n",
    "    print(f\"The file '{filename}' exists on disk\")\n",
    "else:\n",
    "    print(f\"The file '{filename}' does not exist on disk\")\n"
   ]
  },
  {
   "cell_type": "code",
   "execution_count": null,
   "id": "d87385f5",
   "metadata": {},
   "outputs": [
    {
     "name": "stdout",
     "output_type": "stream",
     "text": [
      "Email contains '@'\n"
     ]
    }
   ],
   "source": [
    "# Question 28: Check if email contains \"@\".\n",
    "\n",
    "email = \"praveen@gamil.com\"\n",
    "\n",
    "if \"@\" in email:\n",
    "    print(\"Email contains '@'\")\n",
    "else:\n",
    "    print(\"Email does not contain '@'\")\n",
    "\n",
    "\n"
   ]
  },
  {
   "cell_type": "code",
   "execution_count": 166,
   "id": "fcfbb22a",
   "metadata": {},
   "outputs": [
    {
     "name": "stdout",
     "output_type": "stream",
     "text": [
      "Senior Citizen\n"
     ]
    }
   ],
   "source": [
    "# Question 29: Check if age is above 60 and print \"Senior Citizen\".\n",
    "\n",
    "age1 = 62\n",
    "\n",
    "if age < 60:\n",
    "    print(\"Senior Citizen\")\n",
    "else:\n",
    "    print(\"young man\")"
   ]
  },
  {
   "cell_type": "code",
   "execution_count": 168,
   "id": "18a09704",
   "metadata": {},
   "outputs": [
    {
     "name": "stdout",
     "output_type": "stream",
     "text": [
      "The number is negative or zero\n"
     ]
    }
   ],
   "source": [
    "# Question 30: Use if to check if number is negative or zero.\n",
    "\n",
    "num = -1\n",
    "if num > 0:\n",
    "    print(\"The number is positive\")\n",
    "else:\n",
    "    print(\"The number is negative or zero\")"
   ]
  }
 ],
 "metadata": {
  "kernelspec": {
   "display_name": "Python 3",
   "language": "python",
   "name": "python3"
  },
  "language_info": {
   "codemirror_mode": {
    "name": "ipython",
    "version": 3
   },
   "file_extension": ".py",
   "mimetype": "text/x-python",
   "name": "python",
   "nbconvert_exporter": "python",
   "pygments_lexer": "ipython3",
   "version": "3.13.0"
  }
 },
 "nbformat": 4,
 "nbformat_minor": 5
}
