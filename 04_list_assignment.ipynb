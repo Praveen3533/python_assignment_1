{
 "cells": [
  {
   "cell_type": "code",
   "execution_count": 1,
   "id": "6f07f94a",
   "metadata": {},
   "outputs": [
    {
     "name": "stdout",
     "output_type": "stream",
     "text": [
      "The first 10 square numbers are: [1, 4, 9, 16, 25, 36, 49, 64, 81, 100]\n"
     ]
    }
   ],
   "source": [
    "# Question 1: Create a list of first 10 square numbers\n",
    "squares = [i**2 for i in range(1, 11)]\n",
    "print(f'The first 10 square numbers are: {squares}')"
   ]
  },
  {
   "cell_type": "code",
   "execution_count": null,
   "id": "0dea8fa6",
   "metadata": {},
   "outputs": [],
   "source": [
    "# Question 2: Find the sum of all even numbers in [1, 2, 3, 4, 5, 6, 7, 8, 9, 10]\n",
    "\n",
    "even_sum = sum(i for i in range(1, 11) if i % 2 == 0)\n",
    "print(f'The sum of all even numbers from 1 to 10 is: {even_sum}')"
   ]
  },
  {
   "cell_type": "code",
   "execution_count": 2,
   "id": "adb0f0b5",
   "metadata": {},
   "outputs": [
    {
     "name": "stdout",
     "output_type": "stream",
     "text": [
      "The list after removing duplicates is: [1, 2, 3, 4, 5, 6, 7]\n"
     ]
    }
   ],
   "source": [
    "# Question 3: Remove duplicates from [1, 2, 2, 3, 4, 4, 5, 6, 6, 7]\n",
    "unique_numbers = list(set([1, 2, 2, 3, 4, 4, 5, 6, 6, 7]))\n",
    "print(f'The list after removing duplicates is: {unique_numbers}')"
   ]
  },
  {
   "cell_type": "code",
   "execution_count": 3,
   "id": "36931d9a",
   "metadata": {},
   "outputs": [
    {
     "name": "stdout",
     "output_type": "stream",
     "text": [
      "The sorted list in descending order is: [90, 64, 34, 25, 22, 12, 11]\n"
     ]
    }
   ],
   "source": [
    "# Question 4: Sort the list [64, 34, 25, 12, 22, 11, 90] in descending order\n",
    "\n",
    "numbers = [64, 34, 25, 12, 22, 11, 90]\n",
    "sorted_numbers = sorted(numbers, reverse=True)\n",
    "print(f'The sorted list in descending order is: {sorted_numbers}')"
   ]
  },
  {
   "cell_type": "code",
   "execution_count": 6,
   "id": "be0fe883",
   "metadata": {},
   "outputs": [
    {
     "name": "stdout",
     "output_type": "stream",
     "text": [
      "The average of the numbers is: 48.0\n"
     ]
    }
   ],
   "source": [
    "# Question 5: Find the average of numbers in [15, 23, 31, 42, 56, 78, 91]\n",
    "numbers = [15, 23, 31, 42, 56, 78, 91]\n",
    "average = sum(numbers) / len(numbers)\n",
    "print(f'The average of the numbers is: {average}')"
   ]
  },
  {
   "cell_type": "code",
   "execution_count": 5,
   "id": "23eff0ef",
   "metadata": {},
   "outputs": [
    {
     "name": "stdout",
     "output_type": "stream",
     "text": [
      "The first 15 Fibonacci numbers are: [0, 1, 1, 2, 3, 5, 8, 13, 21, 34, 55, 89, 144, 233, 377]\n"
     ]
    }
   ],
   "source": [
    "# Question 6: Create a list of first 15 Fibonacci numbers\n",
    "\n",
    "def fibonacci(n):\n",
    "    fib_sequence = [0, 1]\n",
    "    for i in range(2, n):\n",
    "        fib_sequence.append(fib_sequence[i-1] + fib_sequence[i-2])\n",
    "    return fib_sequence\n",
    "fibonacci_numbers = fibonacci(15)\n",
    "print(f'The first 15 Fibonacci numbers are: {fibonacci_numbers}')"
   ]
  },
  {
   "cell_type": "code",
   "execution_count": 7,
   "id": "62416463",
   "metadata": {},
   "outputs": [
    {
     "name": "stdout",
     "output_type": "stream",
     "text": [
      "The second largest number is: 78\n"
     ]
    }
   ],
   "source": [
    "# Question 7: Find the second largest number in [45, 67, 23, 89, 12, 34, 78]\n",
    "\n",
    "second_largest =[45, 67, 23, 89, 12, 34, 78]\n",
    "second_largest.sort()\n",
    "print(f'The second largest number is: {second_largest[-2]}')"
   ]
  },
  {
   "cell_type": "code",
   "execution_count": 8,
   "id": "adc136b6",
   "metadata": {},
   "outputs": [
    {
     "name": "stdout",
     "output_type": "stream",
     "text": [
      "The reversed list is: [10, 9, 8, 7, 6, 5, 4, 3, 2, 1]\n"
     ]
    }
   ],
   "source": [
    "# Question 8: Reverse the list [1, 2, 3, 4, 5, 6, 7, 8, 9, 10]\n",
    "\n",
    "numbers = [1, 2, 3, 4, 5, 6, 7, 8, 9, 10]\n",
    "reversed_numbers = numbers[::-1]\n",
    "print(f'The reversed list is: {reversed_numbers}')"
   ]
  },
  {
   "cell_type": "code",
   "execution_count": 10,
   "id": "62985ec2",
   "metadata": {},
   "outputs": [
    {
     "data": {
      "text/plain": [
       "4"
      ]
     },
     "execution_count": 10,
     "metadata": {},
     "output_type": "execute_result"
    }
   ],
   "source": [
    "# Question 9: Count how many times 5 appears in [1, 5, 2, 5, 3, 5, 4, 5, 6]\n",
    "\n",
    "list = [1, 5, 2, 5, 3, 5, 4, 5, 6]\n",
    "list.count(5)"
   ]
  },
  {
   "cell_type": "code",
   "execution_count": 13,
   "id": "7b836fc5",
   "metadata": {},
   "outputs": [
    {
     "name": "stdout",
     "output_type": "stream",
     "text": [
      "The prime numbers between 1 and 50 are: [2, 3, 5, 7, 11, 13, 17, 19, 23, 29, 31, 37, 41, 43, 47]\n"
     ]
    }
   ],
   "source": [
    "# Question 10: Create a list of prime numbers between 1 and 50\n",
    "\n",
    "primes = []\n",
    "\n",
    "for num in range(2, 51):\n",
    "    is_prime = True\n",
    "    for i in range(2, int(num**0.5) + 1):\n",
    "        if num % i == 0:\n",
    "            is_prime = False\n",
    "            break\n",
    "    if is_prime:\n",
    "        primes.append(num)\n",
    "print(f'The prime numbers between 1 and 50 are: {primes}')"
   ]
  },
  {
   "cell_type": "code",
   "execution_count": 14,
   "id": "d7aeb88c",
   "metadata": {},
   "outputs": [
    {
     "name": "stdout",
     "output_type": "stream",
     "text": [
      "The flattened list is: [1, 2, 3, 4, 5, 6, 7, 8, 9]\n"
     ]
    }
   ],
   "source": [
    "# Question 11: Flatten nested list [[1, 2, 3], [4, 5, 6], [7, 8, 9]]\n",
    "\n",
    "nested_list = [[1, 2, 3], [4, 5, 6], [7, 8, 9]]\n",
    "flattened_list = [item for sublist in nested_list for item in sublist]\n",
    "print(f'The flattened list is: {flattened_list}')\n"
   ]
  },
  {
   "cell_type": "code",
   "execution_count": 3,
   "id": "85b05e38",
   "metadata": {},
   "outputs": [
    {
     "name": "stdout",
     "output_type": "stream",
     "text": [
      "[4, 5]\n"
     ]
    }
   ],
   "source": [
    "# Question 12: Find common elements between [1, 2, 3, 4, 5] and [4, 5, 6, 7, 8]\n",
    "\n",
    "list1 = [1,2,3,4,5]\n",
    "list2 = [4,5,6,7,8]\n",
    "common =list(set(list1)& set(list2))\n",
    "print(common)"
   ]
  },
  {
   "cell_type": "code",
   "execution_count": 5,
   "id": "46aef9cb",
   "metadata": {},
   "outputs": [
    {
     "name": "stdout",
     "output_type": "stream",
     "text": [
      "[[1, 2], [3, 4], [5, 6]]\n"
     ]
    }
   ],
   "source": [
    "# Question 13: Create a list of lists: [[1, 2], [3, 4], [5, 6]]\n",
    "\n",
    "list_of_lists = [[1,2],[3,4],[5,6]]\n",
    "print(list_of_lists)"
   ]
  },
  {
   "cell_type": "code",
   "execution_count": 6,
   "id": "0c33256e",
   "metadata": {},
   "outputs": [
    {
     "name": "stdout",
     "output_type": "stream",
     "text": [
      "[6, 15, 24]\n"
     ]
    }
   ],
   "source": [
    "# Question 14: Find the sum of each sublist in [[1, 2, 3], [4, 5, 6], [7, 8, 9]]\n",
    "sub_list = [[1, 2, 3], [4, 5, 6], [7, 8, 9]]\n",
    "\n",
    "def sum_each_sublist(data):\n",
    "    result = []\n",
    "    for sublist in data:\n",
    "        total = 0\n",
    "        for num in sublist:\n",
    "            total += num\n",
    "        result.append(total)\n",
    "    return result\n",
    "\n",
    "data = [[1, 2, 3], [4, 5, 6], [7, 8, 9]]\n",
    "sums = sum_each_sublist(data)\n",
    "print(sums)"
   ]
  },
  {
   "cell_type": "code",
   "execution_count": 7,
   "id": "baf80166",
   "metadata": {},
   "outputs": [
    {
     "name": "stdout",
     "output_type": "stream",
     "text": [
      "[[1, 4, 7], [2, 5, 8], [3, 6, 9]]\n"
     ]
    }
   ],
   "source": [
    "# Question 15: Transpose the matrix [[1, 2, 3], [4, 5, 6], [7, 8, 9]]\n",
    "\n",
    "a = [[1, 2, 3], [4, 5, 6], [7, 8, 9]]\n",
    "transposed = []\n",
    "\n",
    "for i in range(len(a[0])):\n",
    "    row = []\n",
    "    \n",
    "    for j in range(len(a)):\n",
    "        row.append(a[j][i])\n",
    "    transposed.append(row)\n",
    "\n",
    "print(transposed)"
   ]
  },
  {
   "cell_type": "code",
   "execution_count": 48,
   "id": "ca8170b6",
   "metadata": {},
   "outputs": [
    {
     "name": "stdout",
     "output_type": "stream",
     "text": [
      "[5, 9, 8]\n"
     ]
    }
   ],
   "source": [
    "# Question 16: Find the maximum value in each sublist of [[1, 5, 3], [9, 2, 7], [4, 8, 6]]\n",
    "\n",
    "sub_list1 = [[1, 5, 3], [9, 2, 7], [4, 8, 6]]\n",
    "max_values = []\n",
    "\n",
    "for sublist in sub_list1 :\n",
    "    max_val = sublist[0]\n",
    "    for num in sublist:\n",
    "        if num > max_val:\n",
    "            max_val = num\n",
    "    max_values.append(max_val)\n",
    "\n",
    "print(max_values)"
   ]
  },
  {
   "cell_type": "code",
   "execution_count": 10,
   "id": "235aebaa",
   "metadata": {},
   "outputs": [
    {
     "name": "stdout",
     "output_type": "stream",
     "text": [
      "[[[1, 2], [3, 4]], [[5, 6], [7, 8]]]\n"
     ]
    }
   ],
   "source": [
    "# Question 17: Create a 3D list: [[[1, 2], [3, 4]], [[5, 6], [7, 8]]]\n",
    "list3 = [[[1, 2], [3, 4]], [[5, 6], [7, 8]]]\n",
    "print(list3)"
   ]
  },
  {
   "cell_type": "code",
   "execution_count": 11,
   "id": "33f1e503",
   "metadata": {},
   "outputs": [
    {
     "name": "stdout",
     "output_type": "stream",
     "text": [
      "Total sum: 36\n"
     ]
    }
   ],
   "source": [
    "# Question 18: Find the sum of all elements in 3D list [[[1, 2], [3, 4]], [[5, 6], [7, 8]]]\n",
    "list3 = [[[1, 2], [3, 4]], [[5, 6], [7, 8]]]\n",
    "\n",
    "total = 0\n",
    "\n",
    "for block in list3:\n",
    "    for row in block:\n",
    "        for num in row:\n",
    "            total += num\n",
    "\n",
    "print(\"Total sum:\", total)"
   ]
  },
  {
   "cell_type": "code",
   "execution_count": 12,
   "id": "dcf4a678",
   "metadata": {},
   "outputs": [
    {
     "name": "stdout",
     "output_type": "stream",
     "text": [
      "Even numbers: [2, 4, 6, 8]\n"
     ]
    }
   ],
   "source": [
    "# Question 19: Extract all even numbers from nested list [[1, 2, 3], [4, 5, 6], [7, 8, 9]]\n",
    "list4 = data = [[1, 2, 3], [4, 5, 6], [7, 8, 9]]\n",
    "\n",
    "even_numbers = []\n",
    "\n",
    "for sublist in list4:\n",
    "    for num in sublist:\n",
    "        if num % 2 == 0:\n",
    "            even_numbers.append(num)\n",
    "\n",
    "print(\"Even numbers:\", even_numbers)"
   ]
  },
  {
   "cell_type": "code",
   "execution_count": 13,
   "id": "3873fda9",
   "metadata": {},
   "outputs": [
    {
     "name": "stdout",
     "output_type": "stream",
     "text": [
      "[1, 'hello', 3.14, True, [1, 2, 3]]\n"
     ]
    }
   ],
   "source": [
    "# Question 20: Create a list of mixed data types: [1, \"hello\", 3.14, True, [1, 2, 3]]\n",
    "mixed_list =  [1, \"hello\", 3.14, True, [1, 2, 3]]\n",
    "print(mixed_list)"
   ]
  },
  {
   "cell_type": "code",
   "execution_count": 15,
   "id": "bb651433",
   "metadata": {},
   "outputs": [
    {
     "name": "stdout",
     "output_type": "stream",
     "text": [
      "[5, 6, 6, 4]\n"
     ]
    }
   ],
   "source": [
    "# Question 21: Find the length of each string in [\"apple\", \"banana\", \"cherry\", \"date\"]\n",
    "\n",
    "string = [\"apple\", \"banana\", \"cherry\", \"date\"]\n",
    "length = []\n",
    "for string in string:\n",
    "    length.append(len(string))\n",
    "\n",
    "print(length)"
   ]
  },
  {
   "cell_type": "code",
   "execution_count": 16,
   "id": "8b70748b",
   "metadata": {},
   "outputs": [
    {
     "name": "stdout",
     "output_type": "stream",
     "text": [
      "[(1, 'a'), (2, 'b'), (3, 'c')]\n"
     ]
    }
   ],
   "source": [
    "# Question 22: Create a list of tuples: [(1, 'a'), (2, 'b'), (3, 'c')]\n",
    "tuple_list = [(1, 'a'), (2, 'b'), (3, 'c')]\n",
    "print(tuple_list)"
   ]
  },
  {
   "cell_type": "code",
   "execution_count": 17,
   "id": "cdac815a",
   "metadata": {},
   "outputs": [
    {
     "name": "stdout",
     "output_type": "stream",
     "text": [
      "[1, 2, 3]\n"
     ]
    }
   ],
   "source": [
    "# Question 23: Extract first element from each tuple in [(1, 'a'), (2, 'b'), (3, 'c')]\n",
    "\n",
    "tuple_list= [(1, 'a'), (2, 'b'), (3, 'c')]\n",
    "first_element=[]\n",
    "for i in tuple_list:\n",
    "    first_element.append(i[0])\n",
    "print(first_element)"
   ]
  },
  {
   "cell_type": "code",
   "execution_count": 18,
   "id": "d9815660",
   "metadata": {},
   "outputs": [
    {
     "name": "stdout",
     "output_type": "stream",
     "text": [
      "[{'name': 'Alice', 'age': 25}, {'name': 'Bob', 'age': 30}]\n"
     ]
    }
   ],
   "source": [
    "# Question 24: Create a list of dictionaries: [{'name': 'Alice', 'age': 25}, {'name': 'Bob', 'age': 30}]\n",
    "\n",
    "dict_list =([{'name': 'Alice', 'age': 25}, {'name': 'Bob', 'age': 30}])\n",
    "print(dict_list)"
   ]
  },
  {
   "cell_type": "code",
   "execution_count": 19,
   "id": "84230db3",
   "metadata": {},
   "outputs": [
    {
     "name": "stdout",
     "output_type": "stream",
     "text": [
      "['Alice', 'Bob']\n"
     ]
    }
   ],
   "source": [
    "# Question 25: Extract all 'name' values from list of dictionaries\n",
    "\n",
    "dict_list=([{'name': 'Alice', 'age': 25}, {'name': 'Bob', 'age': 30}])\n",
    "names=[]\n",
    "for person in dict_list:\n",
    "    names.append(person['name'])\n",
    "print(names)"
   ]
  },
  {
   "cell_type": "code",
   "execution_count": 20,
   "id": "05f7d793",
   "metadata": {},
   "outputs": [
    {
     "name": "stdout",
     "output_type": "stream",
     "text": [
      "Person with max age: Bob\n",
      "Age: 30\n"
     ]
    }
   ],
   "source": [
    "# Question 26: Find the person with maximum age in list of dictionaries\n",
    "\n",
    "dict_list=([{'name': 'Alice', 'age': 25}, {'name': 'Bob', 'age': 30}])\n",
    "\n",
    "max_age = dict_list[0]['age']\n",
    "person = dict_list[0]['name']\n",
    "\n",
    "for entry in dict_list:\n",
    "    if entry['age'] > max_age:\n",
    "        max_age = entry['age']\n",
    "        person = entry['name']\n",
    "\n",
    "print(\"Person with max age:\", person)\n",
    "print(\"Age:\", max_age)"
   ]
  },
  {
   "cell_type": "code",
   "execution_count": 21,
   "id": "47ecf8ed",
   "metadata": {},
   "outputs": [
    {
     "name": "stdout",
     "output_type": "stream",
     "text": [
      "[[[[1, 2], [3, 4]], [[5, 6], [7, 8]]], [[[9, 10], [11, 12]], [[13, 14], [15, 16]]]]\n"
     ]
    }
   ],
   "source": [
    "\n",
    "# Question 27: Create a 4D list: [[[[1, 2], [3, 4]], [[5, 6], [7, 8]]], [[[9, 10], [11, 12]], [[13, 14], [15, 16]]]]\n",
    "list4d = list([\n",
    "    list([\n",
    "        list([list([1, 2]), list([3, 4])]),\n",
    "        list([list([5, 6]), list([7, 8])])\n",
    "    ]),\n",
    "    list([\n",
    "        list([list([9, 10]), list([11, 12])]),\n",
    "        list([list([13, 14]), list([15, 16])])\n",
    "    ])\n",
    "])\n",
    "\n",
    "print(list4d)"
   ]
  },
  {
   "cell_type": "code",
   "execution_count": null,
   "id": "11e364db",
   "metadata": {},
   "outputs": [
    {
     "name": "stdout",
     "output_type": "stream",
     "text": [
      "Maximum value: 16\n"
     ]
    }
   ],
   "source": [
    "# Question 28: Find the maximum value in 4D list\n",
    "\n",
    "list4d  = [[[[1, 2], [3, 4]], [[5, 6], [7, 8]]],\n",
    "        [[[9, 10], [11, 12]], [[13, 14], [15, 16]]]]\n",
    "\n",
    "\n",
    "max_val = list4d[0][0][0][0] \n",
    "\n",
    "for block1 in list4d:\n",
    "    for block2 in block1:\n",
    "        for row in block2:\n",
    "            for num in row:\n",
    "                if num > max_val:\n",
    "                    max_val = num\n",
    "\n",
    "print(\"Maximum value:\", max_val)"
   ]
  },
  {
   "cell_type": "code",
   "execution_count": 24,
   "id": "7b53f8f4",
   "metadata": {},
   "outputs": [
    {
     "name": "stdout",
     "output_type": "stream",
     "text": [
      "[{1, 2, 3}, {4, 5, 6}, {8, 9, 7}]\n"
     ]
    }
   ],
   "source": [
    "\n",
    "# Question 29: Create a list of sets: [{1, 2, 3}, {4, 5, 6}, {7, 8, 9}]\n",
    "set_list = list([\n",
    "    set([1, 2, 3]),\n",
    "    set([4, 5, 6]),\n",
    "    set([7, 8, 9])\n",
    "])\n",
    "\n",
    "print(set_list)"
   ]
  },
  {
   "cell_type": "code",
   "execution_count": 25,
   "id": "4f0d1f95",
   "metadata": {},
   "outputs": [
    {
     "name": "stdout",
     "output_type": "stream",
     "text": [
      "{1, 2, 3, 4, 5, 6, 7, 8, 9}\n"
     ]
    }
   ],
   "source": [
    "\n",
    "# Question 30: Find the union of all sets in list of sets\n",
    "\n",
    "result = set()          \n",
    "for s in a:\n",
    "    result = result.union(s)\n",
    "\n",
    "print(result)"
   ]
  },
  {
   "cell_type": "code",
   "execution_count": 26,
   "id": "8cca9cc0",
   "metadata": {},
   "outputs": [
    {
     "name": "stdout",
     "output_type": "stream",
     "text": [
      "[(1+2j), (3+4j), (5+6j)]\n"
     ]
    }
   ],
   "source": [
    "# Question 31: Create a list of complex numbers: [1+2j, 3+4j, 5+6j]\n",
    "\n",
    "complex_list = [1+2j, 3+4j, 5+6j]\n",
    "print(complex_list)"
   ]
  },
  {
   "cell_type": "code",
   "execution_count": null,
   "id": "d68fa3a8",
   "metadata": {},
   "outputs": [
    {
     "name": "stdout",
     "output_type": "stream",
     "text": [
      "[2.23606797749979, 5.0, 7.810249675906654]\n"
     ]
    }
   ],
   "source": [
    "# Question 32: Find the magnitude of each complex number in list\n",
    "\n",
    "complex_list = [1+2j, 3+4j, 5+6j]\n",
    "\n",
    "magnitudes = [abs(z) for z in complex_list]\n",
    "\n",
    "print(magnitudes)"
   ]
  },
  {
   "cell_type": "code",
   "execution_count": 28,
   "id": "b47d8d0d",
   "metadata": {},
   "outputs": [
    {
     "name": "stdout",
     "output_type": "stream",
     "text": [
      "[1, [2, 3], [4, [5, 6]], 7]\n"
     ]
    }
   ],
   "source": [
    "# Question 33: Create a nested list with different levels: [1, [2, 3], [4, [5, 6]], 7]\n",
    "\n",
    "nested_list = [1, [2, 3], [4, [5, 6]], 7]\n",
    "print(nested_list)"
   ]
  },
  {
   "cell_type": "code",
   "execution_count": 29,
   "id": "eae5b3a4",
   "metadata": {},
   "outputs": [
    {
     "name": "stdout",
     "output_type": "stream",
     "text": [
      "[<built-in function len>, <class 'str'>, <class 'int'>, <class 'float'>]\n"
     ]
    }
   ],
   "source": [
    "# Question 35: Create a list of functions: [len, str, int, float]\n",
    "\n",
    "function_list=[len,str,int,float]\n",
    "print(function_list)"
   ]
  },
  {
   "cell_type": "code",
   "execution_count": 30,
   "id": "159d66cc",
   "metadata": {},
   "outputs": [
    {
     "name": "stdout",
     "output_type": "stream",
     "text": [
      "[3, '123', 123, 123.0]\n"
     ]
    }
   ],
   "source": [
    "# Question 36: Apply each function in list to string \"123\"\n",
    "\n",
    "func_list_str = [len, str, int, float]\n",
    "s = \"123\"\n",
    "\n",
    "result = [f(s) for f in func_list_str]\n",
    "print(result)"
   ]
  },
  {
   "cell_type": "code",
   "execution_count": 31,
   "id": "a603914e",
   "metadata": {},
   "outputs": [
    {
     "name": "stdout",
     "output_type": "stream",
     "text": [
      "[<function <lambda> at 0x0000020022EF6660>, <function <lambda> at 0x0000020022EF6840>, <function <lambda> at 0x0000020022EF65C0>]\n"
     ]
    }
   ],
   "source": [
    "# Question 37: Create a list of lambda functions: [lambda x: x*2, lambda x: x**2, lambda x: x+1]\n",
    "\n",
    "functions_lambda =  [lambda x: x * 2,\n",
    "    lambda x: x ** 2,\n",
    "    lambda x: x + 1]\n",
    "print(functions_lambda)"
   ]
  },
  {
   "cell_type": "code",
   "execution_count": 33,
   "id": "f1f6ab41",
   "metadata": {},
   "outputs": [
    {
     "name": "stdout",
     "output_type": "stream",
     "text": [
      "[10, 25, 6]\n"
     ]
    }
   ],
   "source": [
    "# Question 38: Apply each lambda function to 5\n",
    "functions_lambda = [f(5) for f in functions_lambda]    #x=5\n",
    "print(functions_lambda)"
   ]
  },
  {
   "cell_type": "code",
   "execution_count": 34,
   "id": "719007c3",
   "metadata": {},
   "outputs": [
    {
     "name": "stdout",
     "output_type": "stream",
     "text": [
      "[<class 'list'>, <class 'dict'>, <class 'set'>, <class 'tuple'>]\n"
     ]
    }
   ],
   "source": [
    "# Question 39: Create a list of classes: [list, dict, set, tuple]\n",
    "\n",
    "classes_list =[list,dict,set,tuple]\n",
    "print(classes_list)"
   ]
  },
  {
   "cell_type": "code",
   "execution_count": 46,
   "id": "4627072e",
   "metadata": {},
   "outputs": [
    {
     "name": "stdout",
     "output_type": "stream",
     "text": [
      "[[], {}, set(), ()]\n"
     ]
    }
   ],
   "source": [
    "\n",
    "# Question 40: Create instances of each class in list\n",
    "\n",
    "classes = [list, dict, set, tuple]\n",
    "\n",
    "instances = [cls() for cls in classes]\n",
    "\n",
    "print(instances)\n",
    "\n"
   ]
  },
  {
   "cell_type": "code",
   "execution_count": 35,
   "id": "f9768579",
   "metadata": {},
   "outputs": [
    {
     "name": "stdout",
     "output_type": "stream",
     "text": [
      "[None, None, None, None]\n"
     ]
    }
   ],
   "source": [
    "# Question 41: Create a list of None values: [None, None, None, None]\n",
    "\n",
    "none_list = [None] * 4\n",
    "print(none_list)"
   ]
  },
  {
   "cell_type": "code",
   "execution_count": 36,
   "id": "1c9dd45d",
   "metadata": {},
   "outputs": [
    {
     "name": "stdout",
     "output_type": "stream",
     "text": [
      "[0, 0, 0, 0]\n"
     ]
    }
   ],
   "source": [
    "# Question 42: Replace all None values with 0 in list\n",
    "\n",
    "none_list=[None,None,None,None]\n",
    "result = [0 if x is None else x for x in none_list]\n",
    "print(result)"
   ]
  },
  {
   "cell_type": "code",
   "execution_count": 37,
   "id": "8d953d3d",
   "metadata": {},
   "outputs": [
    {
     "name": "stdout",
     "output_type": "stream",
     "text": [
      "[True, False, True, False]\n"
     ]
    }
   ],
   "source": [
    "# Question 43: Create a list of boolean values: [True, False, True, False]\n",
    "\n",
    "bool_list =[True, False, True, False]\n",
    "print(bool_list)\n"
   ]
  },
  {
   "cell_type": "code",
   "execution_count": 38,
   "id": "a0af6542",
   "metadata": {},
   "outputs": [
    {
     "name": "stdout",
     "output_type": "stream",
     "text": [
      "2\n"
     ]
    }
   ],
   "source": [
    "# Question 44: Count True values in boolean list\n",
    "\n",
    "bool_list=[True, False, True, False]\n",
    "count_true = sum(bool_list)\n",
    "print(count_true)"
   ]
  },
  {
   "cell_type": "code",
   "execution_count": 39,
   "id": "df5a9ddb",
   "metadata": {},
   "outputs": [
    {
     "name": "stdout",
     "output_type": "stream",
     "text": [
      "[range(0, 3), range(0, 5), range(0, 2)]\n"
     ]
    }
   ],
   "source": [
    "# Question 45: Create a list of ranges: [range(3), range(5), range(2)]\n",
    "\n",
    "range_list =[range(3),range(5),range(2)]\n",
    "print(range_list)"
   ]
  },
  {
   "cell_type": "code",
   "execution_count": null,
   "id": "7e832485",
   "metadata": {},
   "outputs": [
    {
     "name": "stdout",
     "output_type": "stream",
     "text": [
      "[[0, 1, 2], [0, 1, 2, 3, 4], [0, 1]]\n"
     ]
    }
   ],
   "source": [
    "# Question 46: Convert each range to list\n",
    "\n",
    "range_list = [range(3), range(5), range(2)]\n",
    "lists = [list(r) for r in range_list]\n",
    "print(lists)"
   ]
  },
  {
   "cell_type": "code",
   "execution_count": 42,
   "id": "aa1ee75b",
   "metadata": {},
   "outputs": [
    {
     "name": "stdout",
     "output_type": "stream",
     "text": [
      "[0, 1, 2]\n",
      "[0, 1, 2, 3, 4]\n"
     ]
    }
   ],
   "source": [
    "# Question 47: Create a list of generators: [(x for x in range(3)), (x for x in range(5))]\n",
    "\n",
    "generators = [(x for x in range(3)), (x for x in range(5))]\n",
    "for gen in generators:\n",
    "    print(list(gen))"
   ]
  },
  {
   "cell_type": "code",
   "execution_count": 43,
   "id": "0de486ef",
   "metadata": {},
   "outputs": [
    {
     "name": "stdout",
     "output_type": "stream",
     "text": [
      "[[], []]\n"
     ]
    }
   ],
   "source": [
    "# Question 48: Convert each generator to list\n",
    "\n",
    "converted = []\n",
    "\n",
    "for gen in generators:\n",
    "    converted.append(list(gen))\n",
    "\n",
    "print(converted)"
   ]
  },
  {
   "cell_type": "code",
   "execution_count": 44,
   "id": "53abe2e0",
   "metadata": {},
   "outputs": [
    {
     "name": "stdout",
     "output_type": "stream",
     "text": [
      "[<list_iterator object at 0x0000020022972E30>, <list_iterator object at 0x0000020022AA9570>]\n"
     ]
    }
   ],
   "source": [
    "# Question 49: Create a list of iterators: [iter([1, 2, 3]), iter([4, 5, 6])]\n",
    "\n",
    "iters_list = [iter([1, 2, 3]), iter([4, 5, 6])]\n",
    "print(iters_list)"
   ]
  },
  {
   "cell_type": "code",
   "execution_count": 47,
   "id": "33625619",
   "metadata": {},
   "outputs": [
    {
     "name": "stdout",
     "output_type": "stream",
     "text": [
      "[[1, 2, 3], [4, 5, 6]]\n"
     ]
    }
   ],
   "source": [
    "# Question 50: Extract all elements from each iterator\n",
    "\n",
    "iters_list = [iter([1, 2, 3]), iter([4, 5, 6])]\n",
    "\n",
    "result = [list(it) for it in iters_list]\n",
    "print(result)"
   ]
  }
 ],
 "metadata": {
  "kernelspec": {
   "display_name": "Python 3",
   "language": "python",
   "name": "python3"
  },
  "language_info": {
   "codemirror_mode": {
    "name": "ipython",
    "version": 3
   },
   "file_extension": ".py",
   "mimetype": "text/x-python",
   "name": "python",
   "nbconvert_exporter": "python",
   "pygments_lexer": "ipython3",
   "version": "3.13.0"
  }
 },
 "nbformat": 4,
 "nbformat_minor": 5
}
