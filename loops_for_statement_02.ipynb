{
 "cells": [
  {
   "cell_type": "code",
   "execution_count": 4,
   "id": "4747b6a9",
   "metadata": {},
   "outputs": [
    {
     "name": "stdout",
     "output_type": "stream",
     "text": [
      "3628800\n"
     ]
    }
   ],
   "source": [
    "# Question 31: Calculate product of first 10 numbers.\n",
    "\n",
    "product = 1\n",
    "for i in range(1,11):\n",
    "    product *= i\n",
    "print(product)"
   ]
  },
  {
   "cell_type": "code",
   "execution_count": 5,
   "id": "d5cab9b3",
   "metadata": {},
   "outputs": [
    {
     "name": "stdout",
     "output_type": "stream",
     "text": [
      "p\n",
      "r\n",
      "a\n",
      "v\n",
      "e\n",
      "e\n",
      "n\n",
      " \n",
      "k\n",
      "u\n",
      "m\n",
      "a\n",
      "r\n"
     ]
    }
   ],
   "source": [
    "# Question 32: Print characters of a string one by one.\n",
    "\n",
    "string = \"praveen kumar\"\n",
    "for i in string:\n",
    "    print(i)"
   ]
  },
  {
   "cell_type": "code",
   "execution_count": 12,
   "id": "1178ba5f",
   "metadata": {},
   "outputs": [
    {
     "name": "stdout",
     "output_type": "stream",
     "text": [
      "r\n",
      "a\n",
      "m\n",
      "u\n",
      "k\n",
      " \n",
      "n\n",
      "e\n",
      "e\n",
      "v\n",
      "a\n",
      "r\n",
      "p\n"
     ]
    }
   ],
   "source": [
    "# Question 33: Reverse a string using for.\n",
    "string = \"praveen kumar\"\n",
    "for i in string[::-1]:\n",
    " print(i)\n",
    "\n"
   ]
  },
  {
   "cell_type": "code",
   "execution_count": 27,
   "id": "85872bd0",
   "metadata": {},
   "outputs": [
    {
     "name": "stdout",
     "output_type": "stream",
     "text": [
      "5\n"
     ]
    }
   ],
   "source": [
    "# Question 34: Count vowels in a string.\n",
    "\n",
    "string = \"praveen kumar\"\n",
    "count = 0\n",
    "for i in string:\n",
    "    if i in \"aeiou\":\n",
    "     count += 1\n",
    "print(count)\n"
   ]
  },
  {
   "cell_type": "code",
   "execution_count": 29,
   "id": "efae44a4",
   "metadata": {},
   "outputs": [
    {
     "name": "stdout",
     "output_type": "stream",
     "text": [
      "8\n"
     ]
    }
   ],
   "source": [
    "# Question 35: Count consonants in a string.\n",
    "string = \"praveen kumar\"\n",
    "count = 0\n",
    "for i in string:\n",
    "    if i not  in \"aeiou\":\n",
    "     count += 1\n",
    "print(count)\n"
   ]
  },
  {
   "cell_type": "code",
   "execution_count": 33,
   "id": "acaf37aa",
   "metadata": {},
   "outputs": [
    {
     "name": "stdout",
     "output_type": "stream",
     "text": [
      "6\n"
     ]
    }
   ],
   "source": [
    "# Question 36: Count digits in a string.\n",
    "\n",
    "string = \"praveen 453785\"\n",
    "count = 0\n",
    "for i in string:\n",
    "    if i.isdigit():\n",
    "     count += 1\n",
    "print(count)"
   ]
  },
  {
   "cell_type": "code",
   "execution_count": 34,
   "id": "8496844d",
   "metadata": {},
   "outputs": [
    {
     "name": "stdout",
     "output_type": "stream",
     "text": [
      "1\n"
     ]
    }
   ],
   "source": [
    "# Question 37: Count spaces in a string.\n",
    "string = \"praveen kumar\"\n",
    "count = 0\n",
    "for i in string:\n",
    "    if i.isspace():\n",
    "     count += 1\n",
    "print(count)"
   ]
  },
  {
   "cell_type": "code",
   "execution_count": 35,
   "id": "85677f12",
   "metadata": {},
   "outputs": [
    {
     "name": "stdout",
     "output_type": "stream",
     "text": [
      "11\n",
      "22\n",
      "33\n",
      "44\n",
      "55\n"
     ]
    }
   ],
   "source": [
    "# Question 38: Print list elements one by one.\n",
    "\n",
    "lists = [11,22,33,44,55]\n",
    "for iteam in lists:\n",
    "    print(iteam)"
   ]
  },
  {
   "cell_type": "code",
   "execution_count": 36,
   "id": "a5f1e821",
   "metadata": {},
   "outputs": [
    {
     "name": "stdout",
     "output_type": "stream",
     "text": [
      "220\n"
     ]
    }
   ],
   "source": [
    "# Question 39: Find sum of all list elements.\n",
    "\n",
    "lists = [22,44,66,88]\n",
    "sum = 0\n",
    "for i in lists:\n",
    "    sum += i\n",
    "print(sum)"
   ]
  },
  {
   "cell_type": "code",
   "execution_count": 46,
   "id": "53f7d244",
   "metadata": {},
   "outputs": [
    {
     "name": "stdout",
     "output_type": "stream",
     "text": [
      "88\n"
     ]
    }
   ],
   "source": [
    "# Question 40: Find maximum in a list.\n",
    "\n",
    "lists = [22,44,66,88]\n",
    "maximum = lists[0]\n",
    "for i in lists:\n",
    "    if maximum < i:\n",
    "     maximum = i\n",
    "print(maximum)"
   ]
  },
  {
   "cell_type": "code",
   "execution_count": 47,
   "id": "98e2ea8f",
   "metadata": {},
   "outputs": [
    {
     "name": "stdout",
     "output_type": "stream",
     "text": [
      "22\n"
     ]
    }
   ],
   "source": [
    "# Question 41: Find minimum in a list.\n",
    "\n",
    "lists = [22,44,66,88]\n",
    "minimum= lists[0]\n",
    "for i in lists:\n",
    "    if minimum > i:\n",
    "     minimum = i\n",
    "print(minimum)"
   ]
  },
  {
   "cell_type": "code",
   "execution_count": 50,
   "id": "0cd4bda4",
   "metadata": {},
   "outputs": [
    {
     "name": "stdout",
     "output_type": "stream",
     "text": [
      "Index: 0, Value: 10\n",
      "Index: 1, Value: 20\n",
      "Index: 2, Value: 30\n",
      "Index: 3, Value: 40\n"
     ]
    }
   ],
   "source": [
    "# Question 42: Print index and value of list.\n",
    "\n",
    "lst = [10, 20, 30, 40]\n",
    "\n",
    "for i in range(len(lst)):\n",
    "    print(f\"Index: {i}, Value: {lst[i]}\")"
   ]
  },
  {
   "cell_type": "code",
   "execution_count": 52,
   "id": "3e8e619d",
   "metadata": {},
   "outputs": [
    {
     "name": "stdout",
     "output_type": "stream",
     "text": [
      "Index: 0, Value: 10\n",
      "Index: 2, Value: 30\n"
     ]
    }
   ],
   "source": [
    "# Question 43: Print elements at even indexes.\n",
    "\n",
    "lst = [10, 20, 30, 40]\n",
    "\n",
    "for i in range(0,len(lst),2):\n",
    "    print(f\"Index: {i}, Value: {lst[i]}\")"
   ]
  },
  {
   "cell_type": "code",
   "execution_count": 53,
   "id": "75795f14",
   "metadata": {},
   "outputs": [
    {
     "name": "stdout",
     "output_type": "stream",
     "text": [
      "Index: 1, Value: 20\n",
      "Index: 3, Value: 40\n"
     ]
    }
   ],
   "source": [
    "# Question 44: Print elements at odd indexes.\n",
    "\n",
    "lst = [10, 20, 30, 40]\n",
    "\n",
    "for i in range(1,len(lst),2):\n",
    "    print(f\"Index: {i}, Value: {lst[i]}\")"
   ]
  },
  {
   "cell_type": "code",
   "execution_count": 65,
   "id": "77d06e40",
   "metadata": {},
   "outputs": [
    {
     "name": "stdout",
     "output_type": "stream",
     "text": [
      "[20, 40, 60, 80]\n"
     ]
    }
   ],
   "source": [
    "# Question 45: Double every element in list.\n",
    "\n",
    "lst = [10, 20, 30, 40]\n",
    "double = []\n",
    "for i in lst:\n",
    "    double.append(i*2)\n",
    "print(double)"
   ]
  },
  {
   "cell_type": "code",
   "execution_count": 66,
   "id": "3dd897fb",
   "metadata": {},
   "outputs": [
    {
     "name": "stdout",
     "output_type": "stream",
     "text": [
      "[100, 400, 900, 1600]\n"
     ]
    }
   ],
   "source": [
    "# Question 46: Square every element in list.\n",
    "lst = [10, 20, 30, 40]\n",
    "Square = []\n",
    "for i in lst:\n",
    "    Square.append(i**2)\n",
    "print(Square)"
   ]
  },
  {
   "cell_type": "code",
   "execution_count": 99,
   "id": "77b9af26",
   "metadata": {},
   "outputs": [
    {
     "name": "stdout",
     "output_type": "stream",
     "text": [
      "[10, 20, 30, 40, 50]\n"
     ]
    }
   ],
   "source": [
    "# Question 47: Filter even numbers from list.\n",
    "\n",
    "lst = [10, 15, 20, 25, 30, 35, 40, 45, 50]\n",
    "evens = []  \n",
    "\n",
    "for i in lst:\n",
    "    if i % 2 == 0:  \n",
    "        evens.append(i)\n",
    "\n",
    "print(evens)\n"
   ]
  },
  {
   "cell_type": "code",
   "execution_count": null,
   "id": "d589fdc6",
   "metadata": {},
   "outputs": [
    {
     "name": "stdout",
     "output_type": "stream",
     "text": [
      "[15, 25]\n"
     ]
    }
   ],
   "source": [
    "# Question 48: Filter odd numbers from list.\n",
    "\n",
    "lst = [10, 15, 20, 25, 30]\n",
    "odd = []  \n",
    "\n",
    "for i in lst:\n",
    "    if i % 2 != 0: \n",
    "        odd.append(i)\n",
    "\n",
    "print(odd)\n"
   ]
  },
  {
   "cell_type": "code",
   "execution_count": 100,
   "id": "e13af39b",
   "metadata": {},
   "outputs": [
    {
     "name": "stdout",
     "output_type": "stream",
     "text": [
      "[3, 4, 5]\n"
     ]
    }
   ],
   "source": [
    "# Question 49: Print common elements in two lists.\n",
    "\n",
    "list1 = [1, 2, 3, 4, 5]\n",
    "list2 = [3, 4, 5, 6, 7]\n",
    "\n",
    "common = [] \n",
    "\n",
    "for i in list1:\n",
    "    if i in list2:\n",
    "        common.append(i)\n",
    "\n",
    "print(common)\n"
   ]
  },
  {
   "cell_type": "code",
   "execution_count": 101,
   "id": "e828cec7",
   "metadata": {},
   "outputs": [
    {
     "name": "stdout",
     "output_type": "stream",
     "text": [
      "[1, 2, 3, 4, 5]\n"
     ]
    }
   ],
   "source": [
    "# Question 50: Print unique elements from list.\n",
    "\n",
    "lst = [1, 2, 2, 3, 3, 4, 5, 5]\n",
    "unique = []  \n",
    "\n",
    "for i in lst:\n",
    "    if i not in unique:\n",
    "        unique.append(i)\n",
    "\n",
    "print(unique)\n"
   ]
  },
  {
   "cell_type": "code",
   "execution_count": 102,
   "id": "257991c9",
   "metadata": {},
   "outputs": [
    {
     "name": "stdout",
     "output_type": "stream",
     "text": [
      "[10, 20, 30, 40]\n"
     ]
    }
   ],
   "source": [
    "# Question 51: Copy list using for loop.\n",
    "\n",
    "original = [10, 20, 30, 40]\n",
    "copy = []  \n",
    "\n",
    "for item in original:\n",
    "    copy.append(item)\n",
    "\n",
    "print(copy)\n"
   ]
  },
  {
   "cell_type": "code",
   "execution_count": 104,
   "id": "3d4428d4",
   "metadata": {},
   "outputs": [
    {
     "name": "stdout",
     "output_type": "stream",
     "text": [
      "[1, 2, 3, 4, 5, 6]\n"
     ]
    }
   ],
   "source": [
    "# Question 52: Flatten 2D list using for.\n",
    "\n",
    "lst2d = [[1, 2], [3, 4], [5, 6]]\n",
    "flat = []  \n",
    "\n",
    "for sublist in lst2d:\n",
    "    for item in sublist: \n",
    "        flat.append(item)\n",
    "\n",
    "print(flat)\n"
   ]
  },
  {
   "cell_type": "code",
   "execution_count": 107,
   "id": "cf6a2146",
   "metadata": {},
   "outputs": [
    {
     "name": "stdout",
     "output_type": "stream",
     "text": [
      "a\n",
      "b\n",
      "c\n"
     ]
    }
   ],
   "source": [
    "# Question 53: Print all keys of dictionary.\n",
    "\n",
    "d = {\"a\": 1, \"b\": 2, \"c\": 3}\n",
    "\n",
    "for key in d.keys():\n",
    "    print(key)\n"
   ]
  },
  {
   "cell_type": "code",
   "execution_count": null,
   "id": "b9d9f9f9",
   "metadata": {},
   "outputs": [
    {
     "name": "stdout",
     "output_type": "stream",
     "text": [
      "1\n",
      "2\n",
      "3\n"
     ]
    }
   ],
   "source": [
    "# Question 54: Print all values of dictionary.\n",
    "\n",
    "d = {\"a\": 1, \"b\": 2, \"c\": 3}\n",
    "\n",
    "for values in d.values():\n",
    "    print(values)\n",
    "\n"
   ]
  },
  {
   "cell_type": "code",
   "execution_count": 115,
   "id": "3ded166f",
   "metadata": {},
   "outputs": [
    {
     "name": "stdout",
     "output_type": "stream",
     "text": [
      "Key: a, Value: 1\n",
      "Key: b, Value: 2\n",
      "Key: c, Value: 3\n"
     ]
    }
   ],
   "source": [
    "# Question 55: Print all key–value pairs.\n",
    "\n",
    "d = {\"a\": 1, \"b\": 2, \"c\": 3}\n",
    "\n",
    "for key, value in d.items():\n",
    "    print(f\"Key: {key}, Value: {value}\")"
   ]
  },
  {
   "cell_type": "code",
   "execution_count": 116,
   "id": "10ddc2bb",
   "metadata": {},
   "outputs": [
    {
     "name": "stdout",
     "output_type": "stream",
     "text": [
      "{'p': 1, 'r': 2, 'a': 2, 'v': 1, 'e': 2, 'n': 1, ' ': 1, 'k': 1, 'u': 1, 'm': 1}\n"
     ]
    }
   ],
   "source": [
    "# Question 56: Count frequency of each character in string.\n",
    "\n",
    "s = \"praveen kumar\"\n",
    "freq = {} \n",
    "\n",
    "for char in s:\n",
    "    if char in freq:\n",
    "        freq[char] += 1\n",
    "    else:\n",
    "        freq[char] = 1\n",
    "\n",
    "print(freq)\n"
   ]
  },
  {
   "cell_type": "code",
   "execution_count": 117,
   "id": "ac2a3771",
   "metadata": {},
   "outputs": [
    {
     "name": "stdout",
     "output_type": "stream",
     "text": [
      "{1: 1, 2: 2, 3: 3, 4: 1}\n"
     ]
    }
   ],
   "source": [
    "# Question 57: Count frequency of each element in list.\n",
    "\n",
    "lst = [1, 2, 2, 3, 3, 3, 4]\n",
    "freq = {}  \n",
    "\n",
    "for item in lst:\n",
    "    if item in freq:\n",
    "        freq[item] += 1\n",
    "    else:\n",
    "        freq[item] = 1\n",
    "\n",
    "print(freq)\n"
   ]
  },
  {
   "cell_type": "code",
   "execution_count": 118,
   "id": "b7927b6b",
   "metadata": {},
   "outputs": [
    {
     "name": "stdout",
     "output_type": "stream",
     "text": [
      "40\n",
      "10\n",
      "20\n",
      "30\n"
     ]
    }
   ],
   "source": [
    "# Question 58: Loop through set and print elements.\n",
    "\n",
    "s = {10, 20, 30, 40}\n",
    "\n",
    "for item in s:\n",
    "    print(item)\n"
   ]
  },
  {
   "cell_type": "code",
   "execution_count": 119,
   "id": "301186cd",
   "metadata": {},
   "outputs": [
    {
     "name": "stdout",
     "output_type": "stream",
     "text": [
      "10\n",
      "20\n",
      "30\n",
      "40\n"
     ]
    }
   ],
   "source": [
    "# Question 59: Loop through tuple and print.\n",
    "\n",
    "t = (10, 20, 30, 40)\n",
    "\n",
    "for item in t:\n",
    "    print(item)\n"
   ]
  },
  {
   "cell_type": "code",
   "execution_count": 120,
   "id": "afb24f37",
   "metadata": {},
   "outputs": [
    {
     "name": "stdout",
     "output_type": "stream",
     "text": [
      "0\n",
      "1\n",
      "1\n",
      "2\n",
      "3\n",
      "5\n",
      "8\n",
      "13\n",
      "21\n",
      "34\n"
     ]
    }
   ],
   "source": [
    "# Question 60: Print Fibonacci numbers up to 50.\n",
    "\n",
    "a, b = 0, 1\n",
    "\n",
    "while a <= 50:\n",
    "    print(a)\n",
    "    a, b = b, a + b\n"
   ]
  }
 ],
 "metadata": {
  "kernelspec": {
   "display_name": "Python 3",
   "language": "python",
   "name": "python3"
  },
  "language_info": {
   "codemirror_mode": {
    "name": "ipython",
    "version": 3
   },
   "file_extension": ".py",
   "mimetype": "text/x-python",
   "name": "python",
   "nbconvert_exporter": "python",
   "pygments_lexer": "ipython3",
   "version": "3.13.0"
  }
 },
 "nbformat": 4,
 "nbformat_minor": 5
}
