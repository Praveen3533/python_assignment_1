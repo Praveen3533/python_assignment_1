{
 "cells": [
  {
   "cell_type": "code",
   "execution_count": 2,
   "id": "8ac46926",
   "metadata": {},
   "outputs": [
    {
     "name": "stdout",
     "output_type": "stream",
     "text": [
      "Average: 2.01325\n"
     ]
    }
   ],
   "source": [
    "# Question 1: Calculate the average of 3.14, 2.718, 1.618, 0.577\n",
    "\n",
    "num_list = [3.14, 2.718, 1.618, 0.577]\n",
    "average = sum(num_list) / len(num_list) \n",
    "print(f\"Average: {average}\")"
   ]
  },
  {
   "cell_type": "code",
   "execution_count": 5,
   "id": "fbaa1bdb",
   "metadata": {},
   "outputs": [
    {
     "name": "stdout",
     "output_type": "stream",
     "text": [
      "98.6 Fahrenheit is 37.0 Celsius\n"
     ]
    }
   ],
   "source": [
    "# Question 2: Convert 98.6 Fahrenheit to Celsius (F = C * 9/5 + 32)\n",
    "\n",
    "fahrenheit = 98.6\n",
    "celsius = (fahrenheit - 32) * 5 / 9 \n",
    "print(f\"98.6 Fahrenheit is {celsius} Celsius\")"
   ]
  },
  {
   "cell_type": "code",
   "execution_count": 6,
   "id": "1ff56254",
   "metadata": {},
   "outputs": [
    {
     "name": "stdout",
     "output_type": "stream",
     "text": [
      "Compound Interest: 174.24137499999983\n"
     ]
    }
   ],
   "source": [
    "# Question 3: Calculate the compound interest on $1000 at 5.5% for 3 years\n",
    "\n",
    "principal = 1000\n",
    "interest_rate = 5.5\n",
    "time = 3\n",
    "compound_interest = principal * (1 + interest_rate / 100) ** time - principal\n",
    "print(f\"Compound Interest: {compound_interest}\")"
   ]
  },
  {
   "cell_type": "code",
   "execution_count": 7,
   "id": "4726b01e",
   "metadata": {},
   "outputs": [
    {
     "name": "stdout",
     "output_type": "stream",
     "text": [
      "Hypotenuse : 5.4671747731346585\n"
     ]
    }
   ],
   "source": [
    "# Question 4: Find the hypotenuse of a right triangle with sides 3.5 and 4.2\n",
    "\n",
    "import math\n",
    "side_a = 3.5\n",
    "side_b = 4.2\n",
    "hypotenuse = math.sqrt(side_a ** 2 + side_b ** 2)\n",
    "print(f\"Hypotenuse : {hypotenuse}\")"
   ]
  },
  {
   "cell_type": "code",
   "execution_count": 8,
   "id": "37e15d18",
   "metadata": {},
   "outputs": [
    {
     "name": "stdout",
     "output_type": "stream",
     "text": [
      "Volume of the sphere: 1987.798769261791\n"
     ]
    }
   ],
   "source": [
    "# Question 5: Calculate the volume of a sphere with radius 7.8\n",
    "\n",
    "import math\n",
    "radius = 7.8\n",
    "volume = (4/3) * math.pi * radius ** 3\n",
    "print(f\"Volume of the sphere: {volume}\")"
   ]
  },
  {
   "cell_type": "code",
   "execution_count": 9,
   "id": "d759cfa9",
   "metadata": {},
   "outputs": [
    {
     "name": "stdout",
     "output_type": "stream",
     "text": [
      "Rounded number: 3.142\n"
     ]
    }
   ],
   "source": [
    "# Question 6: Round 3.14159 to 3 decimal places\n",
    "\n",
    "number = 3.14159\n",
    "rounded_number = round(number, 3)   \n",
    "print(f\"Rounded number: {rounded_number}\")"
   ]
  },
  {
   "cell_type": "code",
   "execution_count": 13,
   "id": "75a430c5",
   "metadata": {},
   "outputs": [
    {
     "name": "stdout",
     "output_type": "stream",
     "text": [
      "Rounded Percentage: 67.16%\n"
     ]
    }
   ],
   "source": [
    "# Question 7: Calculate the percentage: 45 out of 67\n",
    "\n",
    "total = 67\n",
    "part = 45\n",
    "percentage = (part / total) * 100\n",
    "round_percentage = round(percentage, 2)\n",
    "print(f\"Rounded Percentage: {round_percentage}%\")\n"
   ]
  },
  {
   "cell_type": "code",
   "execution_count": 15,
   "id": "979ea4bf",
   "metadata": {},
   "outputs": [
    {
     "name": "stdout",
     "output_type": "stream",
     "text": [
      "Square root of 23.456 is 4.843139477652899\n"
     ]
    }
   ],
   "source": [
    "# Question 8: Find the square root of 23.456\n",
    "\n",
    "import math\n",
    "number = 23.456\n",
    "square_root = math.sqrt(number)\n",
    "print(f\"Square root of {number} is {square_root}\")\n"
   ]
  },
  {
   "cell_type": "code",
   "execution_count": 16,
   "id": "42186f46",
   "metadata": {},
   "outputs": [
    {
     "name": "stdout",
     "output_type": "stream",
     "text": [
      "Simple Interest: 406.25\n"
     ]
    }
   ],
   "source": [
    "# Question 9: Calculate the simple interest: Principal=2500, Rate=6.5%, Time=2.5 years\n",
    "\n",
    "principal = 2500\n",
    "rate_of_interest = 6.5\n",
    "time = 2.5\n",
    "simple_interest = (principal * rate_of_interest * time) / 100\n",
    "print(f\"Simple Interest: {simple_interest}\")"
   ]
  },
  {
   "cell_type": "code",
   "execution_count": 17,
   "id": "fc09c9d4",
   "metadata": {},
   "outputs": [
    {
     "name": "stdout",
     "output_type": "stream",
     "text": [
      "45.7 degrees is 0.7976154681614086 radians\n"
     ]
    }
   ],
   "source": [
    "# Question 10: Convert 45.7 degrees to radians\n",
    "\n",
    "import math\n",
    "degrees = 45.7\n",
    "radians = degrees * (math.pi / 180)\n",
    "print(f\"45.7 degrees is {radians} radians\") \n"
   ]
  }
 ],
 "metadata": {
  "kernelspec": {
   "display_name": "Python 3",
   "language": "python",
   "name": "python3"
  },
  "language_info": {
   "codemirror_mode": {
    "name": "ipython",
    "version": 3
   },
   "file_extension": ".py",
   "mimetype": "text/x-python",
   "name": "python",
   "nbconvert_exporter": "python",
   "pygments_lexer": "ipython3",
   "version": "3.13.0"
  }
 },
 "nbformat": 4,
 "nbformat_minor": 5
}
