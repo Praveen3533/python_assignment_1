{
 "cells": [
  {
   "cell_type": "code",
   "execution_count": 36,
   "id": "1be19150",
   "metadata": {},
   "outputs": [
    {
     "name": "stdout",
     "output_type": "stream",
     "text": [
      "Product of first 10 natural numbers is: 3628800\n"
     ]
    }
   ],
   "source": [
    "#Question 1: Calculate the product of first 10 natural numbers\n",
    "\n",
    "product = 1                      \n",
    "for i in range(1, 11):        \n",
    "  product*= i     \n",
    "\n",
    "print(\"Product of first 10 natural numbers is:\", product)  "
   ]
  },
  {
   "cell_type": "code",
   "execution_count": 158,
   "id": "5ca77a09",
   "metadata": {},
   "outputs": [
    {
     "name": "stdout",
     "output_type": "stream",
     "text": [
      "remainder when 156 is divided by 7 is: 2\n"
     ]
    }
   ],
   "source": [
    "# Question 2: Find the remainder when 156 is divided by 7\n",
    "\n",
    "remainder  = 156%7\n",
    "print(\"remainder when 156 is divided by 7 is:\",remainder )"
   ]
  },
  {
   "cell_type": "code",
   "execution_count": 38,
   "id": "d546aef0",
   "metadata": {},
   "outputs": [
    {
     "name": "stdout",
     "output_type": "stream",
     "text": [
      "square of 25 is : 625\n"
     ]
    }
   ],
   "source": [
    "# Question 3: Calculate the square of 25\n",
    "\n",
    "square = 25**2\n",
    "print(\"square of 25 is :\", square)"
   ]
  },
  {
   "cell_type": "code",
   "execution_count": 39,
   "id": "310a17ce",
   "metadata": {},
   "outputs": [
    {
     "name": "stdout",
     "output_type": "stream",
     "text": [
      "cube root of 125 is : 4.999999999999999\n"
     ]
    }
   ],
   "source": [
    "# Question 4: Find the cube root of 125\n",
    "\n",
    "cube_root = 125 ** (1/3)\n",
    "print(\"cube root of 125 is :\", cube_root)"
   ]
  },
  {
   "cell_type": "code",
   "execution_count": 120,
   "id": "5df27c44",
   "metadata": {},
   "outputs": [
    {
     "name": "stdout",
     "output_type": "stream",
     "text": [
      "Sum of digits in number is: 15\n"
     ]
    }
   ],
   "source": [
    "# Question 5: Calculate the sum of digits in number 12345\n",
    "\n",
    "n= [1,2,3,4,5]\n",
    "sum = 0\n",
    "for i in n:\n",
    "    sum += i\n",
    "print(\"Sum of digits in number is:\", sum)"
   ]
  },
  {
   "cell_type": "code",
   "execution_count": 153,
   "id": "019d3c14",
   "metadata": {},
   "outputs": [
    {
     "name": "stdout",
     "output_type": "stream",
     "text": [
      "97 is a prime number\n"
     ]
    }
   ],
   "source": [
    "# Question 6: Check if 97 is a prime number\n",
    "\n",
    "num = 97\n",
    "for i in range(2, num+1):\n",
    "    if num%i== 0:\n",
    "        if i == num:\n",
    "            print(num, \"is a prime number\")\n",
    "        else:   \n",
    "            print(num, \"is not a prime number\")\n"
   ]
  },
  {
   "cell_type": "code",
   "execution_count": 167,
   "id": "2eba394b",
   "metadata": {},
   "outputs": [
    {
     "name": "stdout",
     "output_type": "stream",
     "text": [
      "factorial of 8 is: 40320\n"
     ]
    }
   ],
   "source": [
    "# Question 7: Find the factorial of 8\n",
    "\n",
    "factorial = 1\n",
    "for i in range(1,9):\n",
    "    factorial *= i\n",
    "print(\"factorial of 8 is:\", factorial)\n",
    "\n"
   ]
  },
  {
   "cell_type": "code",
   "execution_count": 203,
   "id": "e8d485cb",
   "metadata": {},
   "outputs": [
    {
     "name": "stdout",
     "output_type": "stream",
     "text": [
      "Average of numbers is: 33.4\n"
     ]
    }
   ],
   "source": [
    "# Question 8: Calculate the average of numbers: 15, 23, 31, 42, 56\n",
    "total = 0\n",
    "count = 0\n",
    "numbers = [15, 23, 31, 42, 56]\n",
    "for i in numbers:\n",
    "    total += i\n",
    "    count += 1\n",
    "\n",
    "average = total / count\n",
    "print(\"Average of numbers is:\", average)"
   ]
  },
  {
   "cell_type": "code",
   "execution_count": 210,
   "id": "9e2c31c3",
   "metadata": {},
   "outputs": [
    {
     "name": "stdout",
     "output_type": "stream",
     "text": [
      "The GCD of 48 and 36 is: 12\n"
     ]
    }
   ],
   "source": [
    "# Question 9: Find the greatest common divisor (GCD) of 48 and 36\n",
    "import math\n",
    "num1 = 48\n",
    "num2 = 36\n",
    "gcd = math.gcd(num1,num2)\n",
    "print(f\"The GCD of {num1} and {num2} is: {gcd}\")\n",
    "\n"
   ]
  },
  {
   "cell_type": "code",
   "execution_count": 224,
   "id": "cd0338e8",
   "metadata": {},
   "outputs": [
    {
     "name": "stdout",
     "output_type": "stream",
     "text": [
      "Sum of first 20 odd numbers is: 400\n"
     ]
    }
   ],
   "source": [
    "# Question 10: Calculate the sum of first 20 odd numbers\n",
    "\n",
    "sum_odd = 0\n",
    "for i in range(1, 40, 2):\n",
    "    sum_odd += i    \n",
    "print(\"Sum of first 20 odd numbers is:\", sum_odd)"
   ]
  },
  {
   "cell_type": "code",
   "execution_count": null,
   "id": "71d645b5",
   "metadata": {},
   "outputs": [],
   "source": []
  },
  {
   "cell_type": "code",
   "execution_count": null,
   "id": "0000b15b",
   "metadata": {},
   "outputs": [],
   "source": []
  },
  {
   "cell_type": "code",
   "execution_count": null,
   "id": "15e81be0",
   "metadata": {},
   "outputs": [],
   "source": []
  },
  {
   "cell_type": "code",
   "execution_count": null,
   "id": "0242e148",
   "metadata": {},
   "outputs": [],
   "source": []
  }
 ],
 "metadata": {
  "kernelspec": {
   "display_name": "Python 3",
   "language": "python",
   "name": "python3"
  },
  "language_info": {
   "codemirror_mode": {
    "name": "ipython",
    "version": 3
   },
   "file_extension": ".py",
   "mimetype": "text/x-python",
   "name": "python",
   "nbconvert_exporter": "python",
   "pygments_lexer": "ipython3",
   "version": "3.13.0"
  }
 },
 "nbformat": 4,
 "nbformat_minor": 5
}
