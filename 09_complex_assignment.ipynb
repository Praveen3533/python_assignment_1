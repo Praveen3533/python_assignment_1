{
 "cells": [
  {
   "cell_type": "code",
   "execution_count": 2,
   "id": "e7f567b7",
   "metadata": {},
   "outputs": [
    {
     "name": "stdout",
     "output_type": "stream",
     "text": [
      "Complex number: (5+3j)\n"
     ]
    }
   ],
   "source": [
    "# Question 1: Create complex number 5 + 3j\n",
    "\n",
    "complex_number = 5 + 3j\n",
    "print(\"Complex number:\", complex_number)"
   ]
  },
  {
   "cell_type": "code",
   "execution_count": 3,
   "id": "7aa75111",
   "metadata": {},
   "outputs": [
    {
     "name": "stdout",
     "output_type": "stream",
     "text": [
      "Real part of 7 - 2j: 7.0\n"
     ]
    }
   ],
   "source": [
    "# Question 2: Find the real part of complex number 7 - 2j\n",
    "real_part = (7 - 2j).real\n",
    "print(\"Real part of 7 - 2j:\", real_part)"
   ]
  },
  {
   "cell_type": "code",
   "execution_count": 4,
   "id": "427a92bb",
   "metadata": {},
   "outputs": [
    {
     "name": "stdout",
     "output_type": "stream",
     "text": [
      "Imaginary part of 4 + 6j: 6.0\n"
     ]
    }
   ],
   "source": [
    "# Question 3: Find the imaginary part of complex number 4 + 6j\n",
    "imaginary_part = (4 + 6j).imag\n",
    "print(\"Imaginary part of 4 + 6j:\", imaginary_part)"
   ]
  },
  {
   "cell_type": "code",
   "execution_count": 5,
   "id": "2881128e",
   "metadata": {},
   "outputs": [
    {
     "name": "stdout",
     "output_type": "stream",
     "text": [
      "Sum of (3 + 2j) and (1 + 4j): (4+6j)\n"
     ]
    }
   ],
   "source": [
    "# Question 4: Add two complex numbers: (3 + 2j) and (1 + 4j)\n",
    "complex1 = 3 + 2j\n",
    "complex2 = 1 + 4j\n",
    "sum_complex = complex1 + complex2\n",
    "print(\"Sum of (3 + 2j) and (1 + 4j):\", sum_complex)"
   ]
  },
  {
   "cell_type": "code",
   "execution_count": 6,
   "id": "30c134b3",
   "metadata": {},
   "outputs": [
    {
     "name": "stdout",
     "output_type": "stream",
     "text": [
      "Product of (2 + 3j) and (1 + 2j): (-4+7j)\n"
     ]
    }
   ],
   "source": [
    "# Question 5: Multiply two complex numbers: (2 + 3j) and (1 + 2j)\n",
    "\n",
    "complex3 = 2 + 3j\n",
    "complex4 = 1 + 2j\n",
    "product_complex = complex3 * complex4\n",
    "print(\"Product of (2 + 3j) and (1 + 2j):\", product_complex)"
   ]
  },
  {
   "cell_type": "code",
   "execution_count": 7,
   "id": "dbbdc133",
   "metadata": {},
   "outputs": [
    {
     "name": "stdout",
     "output_type": "stream",
     "text": [
      "Magnitude of 6 + 8j: 10.0\n"
     ]
    }
   ],
   "source": [
    "# Question 6: Find the magnitude of complex number 6 + 8j\n",
    "\n",
    "import cmath    \n",
    "complex_number = 6 + 8j\n",
    "magnitude = abs(complex_number)\n",
    "print(\"Magnitude of 6 + 8j:\", magnitude)"
   ]
  },
  {
   "cell_type": "code",
   "execution_count": 8,
   "id": "3c2ff247",
   "metadata": {},
   "outputs": [
    {
     "name": "stdout",
     "output_type": "stream",
     "text": [
      "Conjugate of 5 - 7j: (5+7j)\n"
     ]
    }
   ],
   "source": [
    "# Question 7: Find the conjugate of complex number 5 - 7j\n",
    "conjugate_complex = (5 - 7j).conjugate()\n",
    "print(\"Conjugate of 5 - 7j:\", conjugate_complex)\n"
   ]
  },
  {
   "cell_type": "code",
   "execution_count": 9,
   "id": "92effacb",
   "metadata": {},
   "outputs": [
    {
     "name": "stdout",
     "output_type": "stream",
     "text": [
      "Difference of (10 + 5j) and (3 + 2j): (7+3j)\n"
     ]
    }
   ],
   "source": [
    "# Question 8: Subtract complex numbers: (10 + 5j) - (3 + 2j)\n",
    "complex5 = 10 + 5j\n",
    "complex6 = 3 + 2j\n",
    "difference_complex = complex5 - complex6\n",
    "print(\"Difference of (10 + 5j) and (3 + 2j):\", difference_complex)"
   ]
  },
  {
   "cell_type": "code",
   "execution_count": 10,
   "id": "9fbf16da",
   "metadata": {},
   "outputs": [
    {
     "name": "stdout",
     "output_type": "stream",
     "text": [
      "Division of (8 + 6j) by (2 + 1j): (4.4+0.8j)\n"
     ]
    }
   ],
   "source": [
    "# Question 9: Divide complex numbers: (8 + 6j) / (2 + 1j)\n",
    "complex7 = 8 + 6j\n",
    "complex8 = 2 + 1j\n",
    "division_complex = complex7 / complex8\n",
    "print(\"Division of (8 + 6j) by (2 + 1j):\", division_complex)"
   ]
  },
  {
   "cell_type": "code",
   "execution_count": 11,
   "id": "e07845f4",
   "metadata": {},
   "outputs": [
    {
     "name": "stdout",
     "output_type": "stream",
     "text": [
      "Phase angle of 1 + 1j: 0.7853981633974483\n"
     ]
    }
   ],
   "source": [
    "# Question 10: Find the phase angle of complex number 1 + 1j\n",
    "import cmath\n",
    "complex9 = 1 + 1j\n",
    "phase_angle = cmath.phase(complex9)\n",
    "print(\"Phase angle of 1 + 1j:\", phase_angle)\n"
   ]
  }
 ],
 "metadata": {
  "kernelspec": {
   "display_name": "Python 3",
   "language": "python",
   "name": "python3"
  },
  "language_info": {
   "codemirror_mode": {
    "name": "ipython",
    "version": 3
   },
   "file_extension": ".py",
   "mimetype": "text/x-python",
   "name": "python",
   "nbconvert_exporter": "python",
   "pygments_lexer": "ipython3",
   "version": "3.13.0"
  }
 },
 "nbformat": 4,
 "nbformat_minor": 5
}
